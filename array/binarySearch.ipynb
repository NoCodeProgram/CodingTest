{
  "nbformat": 4,
  "nbformat_minor": 0,
  "metadata": {
    "colab": {
      "name": "binarySearch.ipynb",
      "provenance": [],
      "collapsed_sections": [],
      "authorship_tag": "ABX9TyOzORyuhXWp5fbFvTBVqvnG",
      "include_colab_link": true
    },
    "kernelspec": {
      "name": "python3",
      "display_name": "Python 3"
    },
    "language_info": {
      "name": "python"
    }
  },
  "cells": [
    {
      "cell_type": "markdown",
      "metadata": {
        "id": "view-in-github",
        "colab_type": "text"
      },
      "source": [
        "<a href=\"https://colab.research.google.com/github/NoCodeProgram/CodingTest/blob/main/array/binarySearch.ipynb\" target=\"_parent\"><img src=\"https://colab.research.google.com/assets/colab-badge.svg\" alt=\"Open In Colab\"/></a>"
      ]
    },
    {
      "cell_type": "markdown",
      "source": [
        "Title : Binary Search\n",
        "\n",
        "Chapter : Array\n",
        "\n",
        "Link : \n",
        "\n",
        "ChapterLink :\n",
        "\n",
        "문제: 주어진 sorted array를 binary search 방법으로 index를 찾아라"
      ],
      "metadata": {
        "id": "aOJH7w3bDbRx"
      }
    },
    {
      "cell_type": "code",
      "execution_count": 5,
      "metadata": {
        "id": "P37IQznwDYnA"
      },
      "outputs": [],
      "source": [
        "from typing import List\n",
        "\n",
        "def binarySearch(nums: List[int], target: int) -> int:\n",
        "  leftIdx = 0\n",
        "  rightIdx = len(nums)-1\n",
        "  \n",
        "  idxDiff = rightIdx - leftIdx\n",
        "  while 0<=idxDiff:\n",
        "    centerIdx = (rightIdx + leftIdx) // 2\n",
        "    centerVal = nums[centerIdx]\n",
        "    \n",
        "    if target == centerVal:\n",
        "      return centerIdx\n",
        "    \n",
        "    if centerVal < target:\n",
        "      leftIdx = centerIdx + 1\n",
        "    else:\n",
        "      rightIdx = centerIdx - 1\n",
        "    idxDiff = rightIdx - leftIdx\n",
        "    \n",
        "  return -1\n",
        "      \n",
        "    \n"
      ]
    },
    {
      "cell_type": "code",
      "source": [
        "binarySearch(nums=[-1,1,3,5,9,18],target=9)\n"
      ],
      "metadata": {
        "colab": {
          "base_uri": "https://localhost:8080/"
        },
        "id": "5NNPvGSSDjO-",
        "outputId": "29369dab-3793-4baa-f7db-3f0824afcd34"
      },
      "execution_count": 6,
      "outputs": [
        {
          "output_type": "execute_result",
          "data": {
            "text/plain": [
              "4"
            ]
          },
          "metadata": {},
          "execution_count": 6
        }
      ]
    },
    {
      "cell_type": "code",
      "source": [
        ""
      ],
      "metadata": {
        "id": "2YA_a287Dw1f"
      },
      "execution_count": null,
      "outputs": []
    }
  ]
}