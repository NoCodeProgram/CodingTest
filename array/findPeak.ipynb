{
  "nbformat": 4,
  "nbformat_minor": 0,
  "metadata": {
    "colab": {
      "name": "findPeak.ipynb",
      "provenance": [],
      "authorship_tag": "ABX9TyOYGmwjHaEol/VrMS41gQGQ",
      "include_colab_link": true
    },
    "kernelspec": {
      "name": "python3",
      "display_name": "Python 3"
    },
    "language_info": {
      "name": "python"
    }
  },
  "cells": [
    {
      "cell_type": "markdown",
      "metadata": {
        "id": "view-in-github",
        "colab_type": "text"
      },
      "source": [
        "<a href=\"https://colab.research.google.com/github/NoCodeProgram/CodingTest/blob/main/array/findPeak.ipynb\" target=\"_parent\"><img src=\"https://colab.research.google.com/assets/colab-badge.svg\" alt=\"Open In Colab\"/></a>"
      ]
    },
    {
      "cell_type": "markdown",
      "metadata": {
        "id": "KA1wIEui9oef"
      },
      "source": [
        "Title : Find Peak\n",
        "\n",
        "Chapter : Array\n",
        "\n",
        "Link :\n",
        "\n",
        "ChapterLink :\n",
        "\n",
        "문제 : 주어진 Array의 Peak를 찾아라"
      ]
    },
    {
      "cell_type": "code",
      "metadata": {
        "id": "u8YMJ3LO9nbv"
      },
      "source": [
        "from typing import List\n",
        "\n",
        "def findPeak(nums: List[int]) -> int:\n",
        "  if len(nums) <= 1:\n",
        "    return 0  \n",
        "  \n",
        "  left = 0\n",
        "  right = len(nums)-1\n",
        "  \n",
        "  while left < right:\n",
        "    pivot = int ((left+right)/2)\n",
        "    num = nums[pivot]\n",
        "    nextNum = nums[pivot+1]\n",
        "    \n",
        "    if num < nextNum:\n",
        "      left = pivot+1\n",
        "    else:\n",
        "      right = pivot\n",
        "  \n",
        "  return left"
      ],
      "execution_count": 1,
      "outputs": []
    },
    {
      "cell_type": "code",
      "metadata": {
        "colab": {
          "base_uri": "https://localhost:8080/"
        },
        "id": "ct4ZSi8T-P_N",
        "outputId": "cb09c5d1-0edb-4942-efe9-2665492de9c7"
      },
      "source": [
        "print('peakIdx',findPeak([1,3,2,4,5,6,7,8]))\n"
      ],
      "execution_count": 3,
      "outputs": [
        {
          "output_type": "stream",
          "text": [
            "peakIdx 7\n"
          ],
          "name": "stdout"
        }
      ]
    }
  ]
}