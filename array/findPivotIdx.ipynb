{
  "nbformat": 4,
  "nbformat_minor": 0,
  "metadata": {
    "colab": {
      "name": "findPivotIdx.ipynb",
      "provenance": [],
      "authorship_tag": "ABX9TyOjpbwha04z/w2KNv0nE8ue",
      "include_colab_link": true
    },
    "kernelspec": {
      "name": "python3",
      "display_name": "Python 3"
    },
    "language_info": {
      "name": "python"
    }
  },
  "cells": [
    {
      "cell_type": "markdown",
      "metadata": {
        "id": "view-in-github",
        "colab_type": "text"
      },
      "source": [
        "<a href=\"https://colab.research.google.com/github/NoCodeProgram/CodingTest/blob/main/array/findPivotIdx.ipynb\" target=\"_parent\"><img src=\"https://colab.research.google.com/assets/colab-badge.svg\" alt=\"Open In Colab\"/></a>"
      ]
    },
    {
      "cell_type": "markdown",
      "metadata": {
        "id": "hyYgzhYFvKw7"
      },
      "source": [
        "Title : Find Pivot Index\n",
        "\n",
        "Chapter : Array\n",
        "\n",
        "Link :\n",
        "\n",
        "ChapterLink :\n",
        "\n",
        "문제 : Number Array에서 pivot의 왼쪽과 오른쪽의 합이 같아지는 pivot의 index를 구하여라\n"
      ]
    },
    {
      "cell_type": "code",
      "metadata": {
        "colab": {
          "base_uri": "https://localhost:8080/"
        },
        "id": "QcPyhXDsvQ_H",
        "outputId": "f246ce1e-293b-4da4-b789-16c661135ae9"
      },
      "source": [
        "from typing import List\n",
        "\n",
        "def pivotIndex(nums: List[int]) -> int:\n",
        "  total_sum = 0\n",
        "  \n",
        "  for num in nums:\n",
        "    total_sum += num\n",
        "\n",
        "  right_sum = total_sum\n",
        "  left_sum = 0\n",
        "  tmp_num = 0\n",
        "  for idx,num in enumerate(nums):    \n",
        "    left_sum += tmp_num\n",
        "    tmp_num = num\n",
        "    right_sum -= num    \n",
        "    if left_sum == right_sum:\n",
        "      return idx         \n",
        "      \n",
        "  return -1\n",
        "\n",
        "print(\"[1,8,2,9,2,3,6] , pivot idx: \", pivotIndex([1,8,2,9,2,3,6]))"
      ],
      "execution_count": 2,
      "outputs": [
        {
          "output_type": "stream",
          "text": [
            "[1,8,2,9,2,3,6] , pivot idx:  3\n"
          ],
          "name": "stdout"
        }
      ]
    },
    {
      "cell_type": "code",
      "metadata": {
        "id": "haZdutlFvJAC"
      },
      "source": [
        ""
      ],
      "execution_count": null,
      "outputs": []
    }
  ]
}