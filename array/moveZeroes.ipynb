{
  "nbformat": 4,
  "nbformat_minor": 0,
  "metadata": {
    "colab": {
      "name": "moveZeroes.ipynb",
      "provenance": [],
      "authorship_tag": "ABX9TyP9tr8w6a7U7RDNMM+11gRa",
      "include_colab_link": true
    },
    "kernelspec": {
      "name": "python3",
      "display_name": "Python 3"
    },
    "language_info": {
      "name": "python"
    }
  },
  "cells": [
    {
      "cell_type": "markdown",
      "metadata": {
        "id": "view-in-github",
        "colab_type": "text"
      },
      "source": [
        "<a href=\"https://colab.research.google.com/github/NoCodeProgram/CodingTest/blob/main/array/moveZeroes.ipynb\" target=\"_parent\"><img src=\"https://colab.research.google.com/assets/colab-badge.svg\" alt=\"Open In Colab\"/></a>"
      ]
    },
    {
      "cell_type": "markdown",
      "source": [
        "Title : Move Zeros\n",
        "\n",
        "Chapter : Array\n",
        "\n",
        "Link : \n",
        "\n",
        "ChapterLink :\n",
        "\n",
        "문제: array 안의 zero들을 우측 끝으로 옮겨라"
      ],
      "metadata": {
        "id": "dAdmTPAwST4F"
      }
    },
    {
      "cell_type": "code",
      "source": [
        "from typing import List\n",
        "\n",
        "def moveZeroes(nums: List[int]) -> None:\n",
        "  idxFrom = 0\n",
        "  idxTo = 0\n",
        "\n",
        "  while idxFrom < len(nums):\n",
        "    if nums[idxFrom] is 0:\n",
        "      idxFrom += 1;\n",
        "    elif nums[idxFrom] is not 0:\n",
        "      nums[idxTo] = nums[idxFrom]\n",
        "      idxFrom += 1;\n",
        "      idxTo += 1;\n",
        "  while idxTo < len(nums):\n",
        "    nums[idxTo] = 0\n",
        "    idxTo += 1\n",
        "  "
      ],
      "metadata": {
        "id": "eY1aiBn0STgm"
      },
      "execution_count": 4,
      "outputs": []
    },
    {
      "cell_type": "code",
      "execution_count": 5,
      "metadata": {
        "colab": {
          "base_uri": "https://localhost:8080/"
        },
        "id": "z3WkrPL4SSx9",
        "outputId": "b29159a3-10e2-4e1c-9e9e-8c0b9018e8eb"
      },
      "outputs": [
        {
          "output_type": "stream",
          "name": "stdout",
          "text": [
            "[1, 3, 12, 0, 0]\n"
          ]
        }
      ],
      "source": [
        "a = [0,1,0,3,12]\n",
        "moveZeroes(nums=a)\n",
        "print(a)"
      ]
    },
    {
      "cell_type": "code",
      "source": [
        ""
      ],
      "metadata": {
        "id": "biLpZNHXWbLx"
      },
      "execution_count": null,
      "outputs": []
    }
  ]
}