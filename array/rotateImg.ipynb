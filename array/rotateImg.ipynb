{
  "nbformat": 4,
  "nbformat_minor": 0,
  "metadata": {
    "colab": {
      "name": "rotateImg.ipynb",
      "provenance": [],
      "authorship_tag": "ABX9TyPFGdVy7qxdYSS7ZPb7FTQ3",
      "include_colab_link": true
    },
    "kernelspec": {
      "name": "python3",
      "display_name": "Python 3"
    }
  },
  "cells": [
    {
      "cell_type": "markdown",
      "metadata": {
        "id": "view-in-github",
        "colab_type": "text"
      },
      "source": [
        "<a href=\"https://colab.research.google.com/github/NoCodeProgram/CodingTest/blob/main/array/rotateImg.ipynb\" target=\"_parent\"><img src=\"https://colab.research.google.com/assets/colab-badge.svg\" alt=\"Open In Colab\"/></a>"
      ]
    },
    {
      "cell_type": "markdown",
      "metadata": {
        "id": "9eSXjbnVtjtA"
      },
      "source": [
        "주어진 matrix를 시계방향으로 90도 inPlace rotate하여라\n",
        "\n",
        "예제 :\n",
        "\n",
        "\n",
        "[1, 2, 3, 4]\\\n",
        "[5, 6, 7, 8]\\\n",
        "[9, 10, 11, 12]\\\n",
        "[13, 14, 15, 16]\n",
        "\n",
        "\n",
        "결과 : \n",
        "\n",
        "[13, 9, 5, 1]\\\n",
        "[14, 10, 6, 2]\\\n",
        "[15, 11, 7, 3]\\\n",
        "[16, 12, 8, 4]\n",
        "\n"
      ]
    },
    {
      "cell_type": "code",
      "metadata": {
        "colab": {
          "base_uri": "https://localhost:8080/"
        },
        "id": "_nqn_pYVtxf7",
        "outputId": "089684ee-853b-47fa-86e4-d1465f8d7220"
      },
      "source": [
        "from typing import List\n",
        "matrix = [[1,2,3,4],[5,6,7,8],[9,10,11,12],[13,14,15,16]]\n",
        "def printMatrix(matrix: List[List[int]]) -> None:\n",
        "  for row in matrix:\n",
        "    print(row)\n",
        "\n",
        "printMatrix(matrix)"
      ],
      "execution_count": 5,
      "outputs": [
        {
          "output_type": "stream",
          "text": [
            "[1, 2, 3, 4]\n",
            "[5, 6, 7, 8]\n",
            "[9, 10, 11, 12]\n",
            "[13, 14, 15, 16]\n"
          ],
          "name": "stdout"
        }
      ]
    },
    {
      "cell_type": "code",
      "metadata": {
        "id": "FF63r5sItgX3"
      },
      "source": [
        "\n",
        "class RotateMatrix:\n",
        "  def rotate(self, matrix: List[List[int]]) -> None:\n",
        "    self._length = len(matrix)\n",
        "    \n",
        "    for y in range(0,int(self._length/2)):\n",
        "      for x in range(0,int((self._length+1)/2)):\n",
        "        newX1,newY1 = self._newCoord(x,y)\n",
        "        newX2,newY2 = self._newCoord(newX1,newY1)\n",
        "        newX3,newY3 = self._newCoord(newX2,newY2)\n",
        "\n",
        "\n",
        "        tmpPixel = matrix[y][x]\n",
        "        matrix[y][x] = matrix[newY3][newX3]\n",
        "        matrix[newY3][newX3] = matrix[newY2][newX2]\n",
        "        matrix[newY2][newX2] = matrix[newY1][newX1]\n",
        "        matrix[newY1][newX1] = tmpPixel        \n",
        "                    \n",
        "    \n",
        "  def _newCoord(self,oldX,oldY):\n",
        "    newX = -oldY + self._length -1\n",
        "    newY = oldX\n",
        "    return newX,newY\n",
        "    \n",
        "rotateMatrix = RotateMatrix()"
      ],
      "execution_count": 6,
      "outputs": []
    },
    {
      "cell_type": "code",
      "metadata": {
        "colab": {
          "base_uri": "https://localhost:8080/"
        },
        "id": "zCqT7Vc6t-Bi",
        "outputId": "f7525fed-f7de-4adf-8a6a-aac19ba59c7a"
      },
      "source": [
        "rotateMatrix.rotate(matrix)\n",
        "printMatrix(matrix)"
      ],
      "execution_count": 7,
      "outputs": [
        {
          "output_type": "stream",
          "text": [
            "[13, 9, 5, 1]\n",
            "[14, 10, 6, 2]\n",
            "[15, 11, 7, 3]\n",
            "[16, 12, 8, 4]\n"
          ],
          "name": "stdout"
        }
      ]
    },
    {
      "cell_type": "code",
      "metadata": {
        "id": "5lynVzN2uXNl"
      },
      "source": [
        ""
      ],
      "execution_count": null,
      "outputs": []
    }
  ]
}