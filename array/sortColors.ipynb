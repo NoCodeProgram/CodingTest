{
  "nbformat": 4,
  "nbformat_minor": 0,
  "metadata": {
    "colab": {
      "name": "sortColors.ipynb",
      "provenance": [],
      "collapsed_sections": [],
      "authorship_tag": "ABX9TyMl9S3D20TQrheD2snVocNK",
      "include_colab_link": true
    },
    "kernelspec": {
      "name": "python3",
      "display_name": "Python 3"
    },
    "language_info": {
      "name": "python"
    }
  },
  "cells": [
    {
      "cell_type": "markdown",
      "metadata": {
        "id": "view-in-github",
        "colab_type": "text"
      },
      "source": [
        "<a href=\"https://colab.research.google.com/github/NoCodeProgram/CodingTest/blob/main/array/sortColors.ipynb\" target=\"_parent\"><img src=\"https://colab.research.google.com/assets/colab-badge.svg\" alt=\"Open In Colab\"/></a>"
      ]
    },
    {
      "cell_type": "markdown",
      "metadata": {
        "id": "jcPnY-fYImH7"
      },
      "source": [
        "Title : Sort Colors\n",
        "\n",
        "Chapter : Arrays\n",
        "\n",
        "Link : [YouTube](https://youtu.be/VJWUWolxHu0)\n",
        " \n",
        "ChapterLink : [PlayList](https://www.youtube.com/playlist?list=PLDV-cCQnUlIYFOXYzqLoXnEye4WxDa_30)\n",
        "\n",
        "문제: [0,1,2]만으로 구성되어있는 input 을 sort하여라\n"
      ]
    },
    {
      "cell_type": "code",
      "metadata": {
        "colab": {
          "base_uri": "https://localhost:8080/"
        },
        "id": "Q_NnH6SZIj1m",
        "outputId": "72b242c4-48b4-46d3-db71-886a4cd4deb4"
      },
      "source": [
        "from typing import List \n",
        "def sortColors(nums:List[int]):\n",
        "  leftIdx = 0\n",
        "  rightIdx = len(nums)-1\n",
        "  idx = 0\n",
        "\n",
        "  while idx <= rightIdx:\n",
        "    if nums[idx] == 0:\n",
        "      nums[idx],nums[leftIdx] = nums[leftIdx],nums[idx]\n",
        "      leftIdx += 1\n",
        "      idx +=1\n",
        "\n",
        "    elif nums[idx] == 2:\n",
        "      nums[idx],nums[rightIdx] = nums[rightIdx],nums[idx]\n",
        "      rightIdx -= 1\n",
        "\n",
        "    else:\n",
        "      idx += 1\n",
        "\n",
        "nums = [0,0,1,2,0,1,2,1,2]\n",
        "sortColors(nums)\n",
        "print(nums)"
      ],
      "execution_count": 8,
      "outputs": [
        {
          "output_type": "stream",
          "name": "stdout",
          "text": [
            "[0, 0, 0, 1, 1, 1, 2, 2, 2]\n"
          ]
        }
      ]
    },
    {
      "cell_type": "code",
      "metadata": {
        "id": "2L152NfLSaPM"
      },
      "source": [
        ""
      ],
      "execution_count": null,
      "outputs": []
    }
  ]
}