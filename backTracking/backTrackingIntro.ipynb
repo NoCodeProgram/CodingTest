{
  "nbformat": 4,
  "nbformat_minor": 0,
  "metadata": {
    "colab": {
      "name": "backTrackingIntro.ipynb",
      "provenance": [],
      "authorship_tag": "ABX9TyOksVMsJ17R8W5ibnFU0lCR",
      "include_colab_link": true
    },
    "kernelspec": {
      "name": "python3",
      "display_name": "Python 3"
    },
    "language_info": {
      "name": "python"
    }
  },
  "cells": [
    {
      "cell_type": "markdown",
      "metadata": {
        "id": "view-in-github",
        "colab_type": "text"
      },
      "source": [
        "<a href=\"https://colab.research.google.com/github/NoCodeProgram/CodingTest/blob/main/backTracking/backTrackingIntro.ipynb\" target=\"_parent\"><img src=\"https://colab.research.google.com/assets/colab-badge.svg\" alt=\"Open In Colab\"/></a>"
      ]
    },
    {
      "cell_type": "markdown",
      "metadata": {
        "id": "HHM1yiuNm7ZA"
      },
      "source": [
        "Title : Letter Combinations of a Phone Number\n",
        "\n",
        "Chapter : BackTracking\n",
        "\n",
        "Link : [YouTube](https://youtu.be/Ar40zcPoKEI)\n",
        "\n",
        "ChapterLink : [PlayList](https://youtube.com/playlist?list=PLDV-cCQnUlIaAKZbfdkMU01MrMkeTvVgP)\n",
        "\n",
        "문제: 숫자 패드로 조합할수있는 모든 문자를 return하여라"
      ]
    },
    {
      "cell_type": "code",
      "metadata": {
        "id": "scU1sYepm5Zo"
      },
      "source": [
        "from typing import List   \n",
        "\n",
        "class LetterCombinations:\n",
        "  def solutions(self, digits: str) -> List[str]:\n",
        "    self._keypad = ['','','abc','def','ghi','jkl','mno','pqrs','tuv','wxyz']\n",
        "    \n",
        "    if len(digits) == 0 :\n",
        "      return []   \n",
        "    \n",
        "    self._digits = digits\n",
        "    self._comb = []    \n",
        "    self._BT(index=0,crntStr=[])\n",
        "    return self._comb\n",
        "    \n",
        "  def _BT(self, index:int, crntStr: List[str]):\n",
        "    if index == len(self._digits):\n",
        "      comb = ''.join(crntStr)\n",
        "      self._comb.append(comb)\n",
        "      return\n",
        "    \n",
        "    num = int(self._digits[index])\n",
        "    chars = self._keypad[num]\n",
        "    for char in chars:\n",
        "      crntStr.append(char)\n",
        "      self._BT(index+1, crntStr)      \n",
        "      crntStr.pop()"
      ],
      "execution_count": 4,
      "outputs": []
    },
    {
      "cell_type": "code",
      "metadata": {
        "colab": {
          "base_uri": "https://localhost:8080/"
        },
        "id": "EQmzCfs7nVjZ",
        "outputId": "5491e949-56f7-4fd5-d7ea-3441bbd0a0a6"
      },
      "source": [
        "letterComb = LetterCombinations()\n",
        "print(letterComb.solutions(digits='259'))"
      ],
      "execution_count": 7,
      "outputs": [
        {
          "output_type": "stream",
          "text": [
            "['ajw', 'ajx', 'ajy', 'ajz', 'akw', 'akx', 'aky', 'akz', 'alw', 'alx', 'aly', 'alz', 'bjw', 'bjx', 'bjy', 'bjz', 'bkw', 'bkx', 'bky', 'bkz', 'blw', 'blx', 'bly', 'blz', 'cjw', 'cjx', 'cjy', 'cjz', 'ckw', 'ckx', 'cky', 'ckz', 'clw', 'clx', 'cly', 'clz']\n"
          ],
          "name": "stdout"
        }
      ]
    },
    {
      "cell_type": "code",
      "metadata": {
        "id": "gihzWHEXndYK"
      },
      "source": [
        ""
      ],
      "execution_count": null,
      "outputs": []
    }
  ]
}