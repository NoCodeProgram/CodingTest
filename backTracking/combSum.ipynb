{
  "nbformat": 4,
  "nbformat_minor": 0,
  "metadata": {
    "colab": {
      "name": "combSum.ipynb",
      "provenance": [],
      "authorship_tag": "ABX9TyPJwxq+IC6E8CD61ni6scjR",
      "include_colab_link": true
    },
    "kernelspec": {
      "name": "python3",
      "display_name": "Python 3"
    }
  },
  "cells": [
    {
      "cell_type": "markdown",
      "metadata": {
        "id": "view-in-github",
        "colab_type": "text"
      },
      "source": [
        "<a href=\"https://colab.research.google.com/github/NoCodeProgram/CodingTest/blob/main/backTracking/combSum.ipynb\" target=\"_parent\"><img src=\"https://colab.research.google.com/assets/colab-badge.svg\" alt=\"Open In Colab\"/></a>"
      ]
    },
    {
      "cell_type": "markdown",
      "metadata": {
        "id": "AuF9DxOgre4h"
      },
      "source": [
        "\n",
        "\n",
        "Chapter : Backtracking\n",
        "\n",
        "Title : Combination sum implementation\n",
        "\n",
        "Link : \n",
        "\n",
        "ChapterLink : \n",
        "\n",
        "문제 : [1,2,3] 으로 합이 5가 되는 모든 combination 조합을 찾아라.\n",
        "\n",
        "답 : [[1,1,1,1,1],[1,1,1,2],[1,2,2],[1,1,3],[2,3]]\n",
        "\n"
      ]
    },
    {
      "cell_type": "code",
      "metadata": {
        "id": "EPWogMKqqgm9"
      },
      "source": [
        "from typing import List\n",
        "\n",
        "class CombSum:\n",
        "  def solution(self, input: List[int], target: int) -> List[List[int]]:\n",
        "    result = []\n",
        "\n",
        "    result.append(input)\n",
        "\n",
        "    return result\n",
        "\n",
        "\n",
        "combSum = CombSum()"
      ],
      "execution_count": 28,
      "outputs": []
    },
    {
      "cell_type": "code",
      "metadata": {
        "id": "vPm1f-Fktywg",
        "colab": {
          "base_uri": "https://localhost:8080/"
        },
        "outputId": "d8ca1388-a07a-4438-89de-56822ff12a98"
      },
      "source": [
        "\n",
        "combSum.solution(input=[1,2,3],target=5)"
      ],
      "execution_count": 29,
      "outputs": [
        {
          "output_type": "execute_result",
          "data": {
            "text/plain": [
              "[[1, 2, 3]]"
            ]
          },
          "metadata": {
            "tags": []
          },
          "execution_count": 29
        }
      ]
    },
    {
      "cell_type": "code",
      "metadata": {
        "id": "blxvDd55uwUr"
      },
      "source": [
        ""
      ],
      "execution_count": null,
      "outputs": []
    }
  ]
}