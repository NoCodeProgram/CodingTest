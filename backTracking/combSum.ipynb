{
  "nbformat": 4,
  "nbformat_minor": 0,
  "metadata": {
    "colab": {
      "name": "combSum.ipynb",
      "provenance": [],
      "authorship_tag": "ABX9TyOTGtZST4gKW0yAg6WFvS1e",
      "include_colab_link": true
    },
    "kernelspec": {
      "name": "python3",
      "display_name": "Python 3"
    }
  },
  "cells": [
    {
      "cell_type": "markdown",
      "metadata": {
        "id": "view-in-github",
        "colab_type": "text"
      },
      "source": [
        "<a href=\"https://colab.research.google.com/github/NoCodeProgram/CodingTest/blob/main/backTracking/combSum.ipynb\" target=\"_parent\"><img src=\"https://colab.research.google.com/assets/colab-badge.svg\" alt=\"Open In Colab\"/></a>"
      ]
    },
    {
      "cell_type": "markdown",
      "metadata": {
        "id": "AuF9DxOgre4h"
      },
      "source": [
        "\n",
        "\n",
        "Chapter : Backtracking\n",
        "\n",
        "Title : Combination sum implementation\n",
        "\n",
        "Link : [YouTube](https://youtu.be/C6vZH6hnzJg)\n",
        "\n",
        "ChapterLink : \n",
        "\n",
        "문제 : 주어진 array의 합이 sum이 되는 모든 combination 조합을 찾아라\n",
        "\n",
        "예제: [1,2,3] sum = 5\n",
        "\n",
        "답 : [[1,1,1,1,1],[1,1,1,2],[1,2,2],[1,1,3],[2,3]]\n",
        "\n"
      ]
    },
    {
      "cell_type": "code",
      "metadata": {
        "id": "EPWogMKqqgm9"
      },
      "source": [
        "from typing import List\n",
        "\n",
        "class CombSum:\n",
        "  def solution(self, in_list: List[int], target: int) -> List[List[int]]:\n",
        "    if len(in_list)==0:\n",
        "      return []\n",
        "\n",
        "    #set init member Vars\n",
        "    self.__result = []\n",
        "    self.__in_list = in_list\n",
        "    comb = []\n",
        "    self.__bt(0,target,comb) #backtracking\n",
        "    return self.__result\n",
        "\n",
        "\n",
        "  def __bt(self, prevIdx:int, targetSum:int, comb:List[int]):\n",
        "    #exit conditions\n",
        "    if targetSum==0:\n",
        "      self.__result.append(comb.copy())\n",
        "    elif targetSum < 0:\n",
        "      return\n",
        "    \n",
        "    #process(candidates filtering)\n",
        "    for idx in range(prevIdx,len(self.__in_list)):\n",
        "      num = self.__in_list[idx] \n",
        "\n",
        "      #recusion call\n",
        "      comb.append(num)       \n",
        "      self.__bt(idx,targetSum-num,comb)\n",
        "      comb.pop()\n",
        "    return\n",
        "\n",
        "combSum = CombSum()"
      ],
      "execution_count": 1,
      "outputs": []
    },
    {
      "cell_type": "code",
      "metadata": {
        "id": "vPm1f-Fktywg",
        "colab": {
          "base_uri": "https://localhost:8080/"
        },
        "outputId": "3966b052-1ae9-4ff4-951c-8ff285a14b7a"
      },
      "source": [
        "combSum.solution(in_list=[1,2,3],target=5)"
      ],
      "execution_count": 2,
      "outputs": [
        {
          "output_type": "execute_result",
          "data": {
            "text/plain": [
              "[[1, 1, 1, 1, 1], [1, 1, 1, 2], [1, 1, 3], [1, 2, 2], [2, 3]]"
            ]
          },
          "metadata": {
            "tags": []
          },
          "execution_count": 2
        }
      ]
    },
    {
      "cell_type": "code",
      "metadata": {
        "id": "blxvDd55uwUr"
      },
      "source": [
        ""
      ],
      "execution_count": 2,
      "outputs": []
    }
  ]
}