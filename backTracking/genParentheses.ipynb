{
  "nbformat": 4,
  "nbformat_minor": 0,
  "metadata": {
    "colab": {
      "name": "genParentheses.ipynb",
      "provenance": [],
      "authorship_tag": "ABX9TyMLQwtqygAp0YUfxjITuv9P",
      "include_colab_link": true
    },
    "kernelspec": {
      "name": "python3",
      "display_name": "Python 3"
    }
  },
  "cells": [
    {
      "cell_type": "markdown",
      "metadata": {
        "id": "view-in-github",
        "colab_type": "text"
      },
      "source": [
        "<a href=\"https://colab.research.google.com/github/NoCodeProgram/CodingTest/blob/main/backTracking/genParentheses.ipynb\" target=\"_parent\"><img src=\"https://colab.research.google.com/assets/colab-badge.svg\" alt=\"Open In Colab\"/></a>"
      ]
    },
    {
      "cell_type": "markdown",
      "metadata": {
        "id": "EGLHijmpbI_O"
      },
      "source": [
        "Title : 괄호만들기, Generate Parentheses\n",
        "\n",
        "Chapter : Backtracking\n",
        "\n",
        "Link : [Youtube](https://youtu.be/58wqHwJoNn0)\n",
        "\n",
        "ChapterLink :\n",
        "\n",
        "문제 : n쌍의 괄호로 만들어낼수있는 valid한 괄호 조합을 모두 return해라\n",
        "\n",
        "예 : n = 2\n",
        "\n",
        "답 : [“(())”,”()()”]\n"
      ]
    },
    {
      "cell_type": "code",
      "metadata": {
        "id": "w51YD7tCbHUO"
      },
      "source": [
        "from typing import List\n",
        "\n",
        "class GenParenthesis:\n",
        "  def solutions(self, n: int) -> List[str]:\n",
        "    open_count = n\n",
        "    close_count = n\n",
        "    \n",
        "    self.__result = []\n",
        "    self.__bt(open_count,close_count,'')\n",
        "    \n",
        "    return self.__result\n",
        "    \n",
        "  def __bt(self, open_count:int, close_count:int, letters:str ):\n",
        "    if open_count == 0 and close_count == 0:\n",
        "      self.__result.append(letters)\n",
        "      return\n",
        "    \n",
        "    # open whenever we have open\n",
        "    if 0<open_count:\n",
        "      self.__bt(open_count-1,close_count,letters+'(')\n",
        "    \n",
        "    # close when we cannot open\n",
        "    if open_count < close_count:\n",
        "      self.__bt(open_count,close_count-1,letters+')')\n",
        "\n",
        "gen = GenParenthesis()"
      ],
      "execution_count": 2,
      "outputs": []
    },
    {
      "cell_type": "code",
      "metadata": {
        "colab": {
          "base_uri": "https://localhost:8080/"
        },
        "id": "QYavt_Pibgnw",
        "outputId": "27d0fd8d-cec5-460e-9ab5-fe1f44262dd4"
      },
      "source": [
        "gen.solutions(n=4)"
      ],
      "execution_count": 3,
      "outputs": [
        {
          "output_type": "execute_result",
          "data": {
            "text/plain": [
              "['(((())))',\n",
              " '((()()))',\n",
              " '((())())',\n",
              " '((()))()',\n",
              " '(()(()))',\n",
              " '(()()())',\n",
              " '(()())()',\n",
              " '(())(())',\n",
              " '(())()()',\n",
              " '()((()))',\n",
              " '()(()())',\n",
              " '()(())()',\n",
              " '()()(())',\n",
              " '()()()()']"
            ]
          },
          "metadata": {
            "tags": []
          },
          "execution_count": 3
        }
      ]
    },
    {
      "cell_type": "code",
      "metadata": {
        "id": "uuhBN5mObqCo"
      },
      "source": [
        ""
      ],
      "execution_count": null,
      "outputs": []
    }
  ]
}