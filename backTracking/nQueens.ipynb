{
  "nbformat": 4,
  "nbformat_minor": 0,
  "metadata": {
    "colab": {
      "name": "nQueens.ipynb",
      "provenance": [],
      "authorship_tag": "ABX9TyPwyrIs+OtAxM60o4XK+sQP",
      "include_colab_link": true
    },
    "kernelspec": {
      "name": "python3",
      "display_name": "Python 3"
    }
  },
  "cells": [
    {
      "cell_type": "markdown",
      "metadata": {
        "id": "view-in-github",
        "colab_type": "text"
      },
      "source": [
        "<a href=\"https://colab.research.google.com/github/NoCodeProgram/CodingTest/blob/main/backTracking/nQueens.ipynb\" target=\"_parent\"><img src=\"https://colab.research.google.com/assets/colab-badge.svg\" alt=\"Open In Colab\"/></a>"
      ]
    },
    {
      "cell_type": "markdown",
      "metadata": {
        "id": "chpf5mRqXU0X"
      },
      "source": [
        "Title : N-Queens problem\n",
        "\n",
        "Chapter : Backtracking\n",
        "\n",
        "Link :\n",
        "\n",
        "ChapterLink :\n",
        "\n",
        "문제 : 주어진 n을 기반으로 n * n size의 matrix board가 만들어진다. 이 board에 n개의 Queen이 서로를 공격하지 못하는 상태를 모두 return 하여라\n",
        "\n",
        "예제: n = 4\n",
        "\n",
        "답: [[\".Q..\",\"...Q\",\"Q...\",\"..Q.\"],[\"..Q.\",\"Q...\",\"...Q\",\".Q..\"]]\n",
        "\n"
      ]
    },
    {
      "cell_type": "code",
      "metadata": {
        "id": "TpAc0ItWXSgk"
      },
      "source": [
        "from typing import List\n",
        "\n",
        "\n",
        "class NQueens:\n",
        "  def solve(self, n: int) -> List[List[str]]:\n",
        "    self.__results = []\n",
        "    self.__col_set = set()  #column duplicates\n",
        "    self.__diag_set1 = set() #row-col duplicates\n",
        "    self.__diag_set2 = set() #row+col duplicates\n",
        "    self.__n = n  #length\n",
        "    \n",
        "    for x in range(n):\n",
        "      self.__bt(0,x,[])\n",
        "    \n",
        "    return self.__results\n",
        "    \n",
        "  #python str is immutable\n",
        "  def __create_str_row(self, col:int) -> str:    \n",
        "    str_list = ['.']* self.__n\n",
        "    str_list[col] = 'Q'    \n",
        "    return ''.join(str_list)  \n",
        "  \n",
        "  def __bt(self, row:int, col:int, board:List[str]):    \n",
        "    #exit conditions\n",
        "    if row==self.__n or col==self.__n:\n",
        "      return\n",
        "    if col in self.__col_set:\n",
        "      return\n",
        "    diag1_info = row-col\n",
        "    diag2_info = row+col\n",
        "    if diag1_info in self.__diag_set1:\n",
        "      return\n",
        "    if diag2_info in self.__diag_set2:\n",
        "      return \n",
        "    \n",
        "    #process\n",
        "    str_line = self.__create_str_row(col)\n",
        "    board.append(str_line)\n",
        "    \n",
        "    if len(board) == self.__n:\n",
        "      self.__results.append(board.copy())\n",
        "      board.pop()\n",
        "      return\n",
        "    \n",
        "    #duplicates sets\n",
        "    self.__col_set.add(col)\n",
        "    self.__diag_set1.add(diag1_info)\n",
        "    self.__diag_set2.add(diag2_info)\n",
        "    \n",
        "    #recursive calls\n",
        "    for x in range(self.__n):\n",
        "      self.__bt(row+1,x,board)      \n",
        "    \n",
        "    #duplicates sets pop\n",
        "    self.__diag_set2.remove(diag2_info)\n",
        "    self.__diag_set1.remove(diag1_info)\n",
        "    self.__col_set.remove(col)\n",
        "    board.pop()\n",
        "\n",
        "nQsolver = NQueens()"
      ],
      "execution_count": 1,
      "outputs": []
    },
    {
      "cell_type": "code",
      "metadata": {
        "colab": {
          "base_uri": "https://localhost:8080/"
        },
        "id": "iTmfw7xOYUMJ",
        "outputId": "94aa5e37-07db-4c6f-f855-030cae2801af"
      },
      "source": [
        "nQsolver.solve(6)"
      ],
      "execution_count": 2,
      "outputs": [
        {
          "output_type": "execute_result",
          "data": {
            "text/plain": [
              "[['.Q....', '...Q..', '.....Q', 'Q.....', '..Q...', '....Q.'],\n",
              " ['..Q...', '.....Q', '.Q....', '....Q.', 'Q.....', '...Q..'],\n",
              " ['...Q..', 'Q.....', '....Q.', '.Q....', '.....Q', '..Q...'],\n",
              " ['....Q.', '..Q...', 'Q.....', '.....Q', '...Q..', '.Q....']]"
            ]
          },
          "metadata": {
            "tags": []
          },
          "execution_count": 2
        }
      ]
    },
    {
      "cell_type": "code",
      "metadata": {
        "id": "ElFZIPZ_YV7Z"
      },
      "source": [
        ""
      ],
      "execution_count": 2,
      "outputs": []
    }
  ]
}