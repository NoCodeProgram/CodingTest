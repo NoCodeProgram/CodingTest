{
  "nbformat": 4,
  "nbformat_minor": 0,
  "metadata": {
    "colab": {
      "name": "palindromePartition.ipynb",
      "provenance": [],
      "authorship_tag": "ABX9TyOCkwPEZ4hM1zDsRvALPaHh",
      "include_colab_link": true
    },
    "kernelspec": {
      "name": "python3",
      "display_name": "Python 3"
    }
  },
  "cells": [
    {
      "cell_type": "markdown",
      "metadata": {
        "id": "view-in-github",
        "colab_type": "text"
      },
      "source": [
        "<a href=\"https://colab.research.google.com/github/NoCodeProgram/CodingTest/blob/main/backTracking/palindromePartition.ipynb\" target=\"_parent\"><img src=\"https://colab.research.google.com/assets/colab-badge.svg\" alt=\"Open In Colab\"/></a>"
      ]
    },
    {
      "cell_type": "markdown",
      "metadata": {
        "id": "Mn0cSn8_v5gk"
      },
      "source": [
        "Title : Palindrome Partitioning\n",
        "\n",
        "Chapter : Backtracking\n",
        "\n",
        "Link : \n",
        "\n",
        "ChapterLink :\n",
        "\n",
        "문제 : 주어진 string을 palindromic한 알파벳들로 쪼개라\n",
        "\n",
        "예 : s = aabb\n",
        "\n",
        "답 : [['a', 'a', 'b', 'b'], ['a', 'a', 'bb'], ['aa', 'b', 'b'], ['aa', 'bb']]"
      ]
    },
    {
      "cell_type": "code",
      "metadata": {
        "id": "ZYxsN4qReo9w"
      },
      "source": [
        "from typing import List\n",
        "\n",
        "class PalindromePartition:\n",
        "  def find_solutions(self, s: str) -> List[List[str]]:\n",
        "    if len(s) == 0:\n",
        "      return []\n",
        "    \n",
        "    self.__s = s    \n",
        "    self.__results = [] \n",
        "  \n",
        "    for idx in range(0,len(s)):\n",
        "      self.__bt(0,idx,[])    \n",
        "    \n",
        "    return self.__results\n",
        "    \n",
        "  def __is_palindrome(self,begin:int,last:int) -> bool:\n",
        "    while(begin<last):\n",
        "      if self.__s[begin] != self.__s[last]:\n",
        "        return False      \n",
        "      begin += 1\n",
        "      last -= 1\n",
        "    return True\n",
        "    \n",
        "    \n",
        "  def __bt(self, begin:int, last:int, letters : List[str]):\n",
        "    is_palindrome = self.__is_palindrome(begin,last)\n",
        "    #exit conditions\n",
        "    if not is_palindrome:\n",
        "      return\n",
        "    \n",
        "    letters.append(self.__s[begin:last+1])\n",
        "    if len(self.__s) == last+1:\n",
        "      self.__results.append(letters.copy())\n",
        "      letters.pop()\n",
        "      return    \n",
        "    \n",
        "    #recursive calls\n",
        "    for idx in range(last+1,len(self.__s)):\n",
        "      self.__bt(last+1,idx,letters)\n",
        "    \n",
        "    letters.pop()\n",
        "    return\n",
        "\n",
        "\n",
        "partition = PalindromePartition()"
      ],
      "execution_count": 1,
      "outputs": []
    },
    {
      "cell_type": "code",
      "metadata": {
        "id": "ECksq6c4e9Ta",
        "colab": {
          "base_uri": "https://localhost:8080/"
        },
        "outputId": "cdb2c000-5c3d-4a95-a36a-2544b16608f9"
      },
      "source": [
        "partition.find_solutions(s=\"aabb\")"
      ],
      "execution_count": 2,
      "outputs": [
        {
          "output_type": "execute_result",
          "data": {
            "text/plain": [
              "[['a', 'a', 'b', 'b'], ['a', 'a', 'bb'], ['aa', 'b', 'b'], ['aa', 'bb']]"
            ]
          },
          "metadata": {
            "tags": []
          },
          "execution_count": 2
        }
      ]
    },
    {
      "cell_type": "code",
      "metadata": {
        "id": "zsv28LbFwfCT"
      },
      "source": [
        ""
      ],
      "execution_count": null,
      "outputs": []
    }
  ]
}