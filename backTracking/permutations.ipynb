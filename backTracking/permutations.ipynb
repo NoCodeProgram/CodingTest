{
  "nbformat": 4,
  "nbformat_minor": 0,
  "metadata": {
    "colab": {
      "name": "permutations.ipynb",
      "provenance": [],
      "collapsed_sections": [],
      "authorship_tag": "ABX9TyPiR7h0D9iO+f875mbx5KjF",
      "include_colab_link": true
    },
    "kernelspec": {
      "name": "python3",
      "display_name": "Python 3"
    },
    "language_info": {
      "name": "python"
    }
  },
  "cells": [
    {
      "cell_type": "markdown",
      "metadata": {
        "id": "view-in-github",
        "colab_type": "text"
      },
      "source": [
        "<a href=\"https://colab.research.google.com/github/NoCodeProgram/CodingTest/blob/main/backTracking/permutations.ipynb\" target=\"_parent\"><img src=\"https://colab.research.google.com/assets/colab-badge.svg\" alt=\"Open In Colab\"/></a>"
      ]
    },
    {
      "cell_type": "markdown",
      "metadata": {
        "id": "smPGzQWH87ZU"
      },
      "source": [
        "Title : Permutations\n",
        "\n",
        "Chapter : BackTracking\n",
        "\n",
        "Link : [YouTube](https://youtu.be/lhy9mtUqZGc)\n",
        "\n",
        "ChapterLink : [PlayList](https://youtube.com/playlist?list=PLDV-cCQnUlIaAKZbfdkMU01MrMkeTvVgP)\n",
        "\n",
        "문제: nums로 주어진 숫자로 만들수 있는 모든 permutation들을 return 하여라"
      ]
    },
    {
      "cell_type": "code",
      "metadata": {
        "id": "YcUOoLys86dk"
      },
      "source": [
        "from typing import List   \n",
        "\n",
        "class Perm:\n",
        "  def permute(self, nums: List[int]) -> List[List[int]]:\n",
        "\n",
        "    self._nums = nums\n",
        "    self._perms = []\n",
        "    self._BT([])\n",
        "    return self._perms  \n",
        "  \n",
        "  def _BT(self, crnt_sets):\n",
        "    if len(crnt_sets) == len(self._nums):\n",
        "      self._perms.append(crnt_sets.copy())\n",
        "      return  \n",
        "\n",
        "    for num in self._nums:\n",
        "      if num in crnt_sets:\n",
        "        continue\n",
        "        \n",
        "      crnt_sets.append(num)\n",
        "      self._BT(crnt_sets)\n",
        "      crnt_sets.pop()\n",
        "\n"
      ],
      "execution_count": null,
      "outputs": []
    },
    {
      "cell_type": "code",
      "metadata": {
        "colab": {
          "base_uri": "https://localhost:8080/"
        },
        "id": "RTyXDkvJ_Gri",
        "outputId": "76150460-471b-44bb-96bd-6da575370bc2"
      },
      "source": [
        "perm = Perm()\n",
        "perm.permute(nums=[1,2,3])"
      ],
      "execution_count": null,
      "outputs": [
        {
          "output_type": "execute_result",
          "data": {
            "text/plain": [
              "[[1, 2, 3], [1, 3, 2], [2, 1, 3], [2, 3, 1], [3, 1, 2], [3, 2, 1]]"
            ]
          },
          "metadata": {
            "tags": []
          },
          "execution_count": 5
        }
      ]
    },
    {
      "cell_type": "code",
      "metadata": {
        "id": "c78XDV_0_aaL",
        "colab": {
          "base_uri": "https://localhost:8080/"
        },
        "outputId": "0dff4dd3-6154-4049-f5a8-22867c59a8b2"
      },
      "source": [
        "#(optional)\n",
        "#hashSet find implementation\n",
        "\n",
        "from typing import List   \n",
        "\n",
        "class Perm:\n",
        "  def permute(self, nums: List[int]) -> List[List[int]]:\n",
        "\n",
        "    self._nums = nums\n",
        "    self._perms = []\n",
        "    self._BT([],set())\n",
        "    return self._perms  \n",
        "  \n",
        "  def _BT(self, crnt_list, crnt_set):\n",
        "    if len(crnt_list) == len(self._nums):\n",
        "      self._perms.append(crnt_list.copy())\n",
        "      return  \n",
        "\n",
        "    for num in self._nums:\n",
        "      if num in crnt_set:\n",
        "        continue\n",
        "        \n",
        "      crnt_list.append(num)\n",
        "      crnt_set.add(num)\n",
        "      self._BT(crnt_list,crnt_set)\n",
        "      crnt_set.remove(num)\n",
        "      crnt_list.pop()\n",
        "\n",
        "\n",
        "perm = Perm()\n",
        "perm.permute(nums=[1,2,3])\n"
      ],
      "execution_count": 1,
      "outputs": [
        {
          "output_type": "execute_result",
          "data": {
            "text/plain": [
              "[[1, 2, 3], [1, 3, 2], [2, 1, 3], [2, 3, 1], [3, 1, 2], [3, 2, 1]]"
            ]
          },
          "metadata": {
            "tags": []
          },
          "execution_count": 1
        }
      ]
    },
    {
      "cell_type": "code",
      "metadata": {
        "id": "FX77Vkn-K1P1"
      },
      "source": [
        ""
      ],
      "execution_count": null,
      "outputs": []
    }
  ]
}