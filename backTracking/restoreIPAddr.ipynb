{
  "nbformat": 4,
  "nbformat_minor": 0,
  "metadata": {
    "colab": {
      "name": "restoreIPAddr.ipynb",
      "provenance": [],
      "authorship_tag": "ABX9TyNjkh1KQALVycYNbj/kWwYs",
      "include_colab_link": true
    },
    "kernelspec": {
      "name": "python3",
      "display_name": "Python 3"
    }
  },
  "cells": [
    {
      "cell_type": "markdown",
      "metadata": {
        "id": "view-in-github",
        "colab_type": "text"
      },
      "source": [
        "<a href=\"https://colab.research.google.com/github/NoCodeProgram/CodingTest/blob/main/backTracking/restoreIPAddr.ipynb\" target=\"_parent\"><img src=\"https://colab.research.google.com/assets/colab-badge.svg\" alt=\"Open In Colab\"/></a>"
      ]
    },
    {
      "cell_type": "markdown",
      "metadata": {
        "id": "nFbeQPHzQxCQ"
      },
      "source": [
        "Title : Restore IP addr\n",
        "\n",
        "Chapter : Backtracking\n",
        "\n",
        "Link : \n",
        "\n",
        "ChapterLink :\n",
        "\n",
        "문제 : 주어진 str으로 조합가능한 모든 IP Address를 찾아라\n",
        "\n",
        "예제: \"222523125\"\n",
        "\n",
        "답 : \n",
        "*   '2.225.23.125'\n",
        "*   '2.225.231.25'\n",
        "*   '22.25.23.125'\n",
        "*   '22.25.231.25'\n",
        "*   '22.252.3.125'\n",
        "*   '22.252.31.25'\n",
        "*   '222.5.23.125'\n",
        "*   '222.5.231.25'\n",
        "*   '222.52.3.125'\n",
        "*   '222.52.31.25'\n",
        "\n"
      ]
    },
    {
      "cell_type": "code",
      "metadata": {
        "id": "B7KcqhahPj3D"
      },
      "source": [
        "from typing import List\n",
        "\n",
        "class RestoreIP:\n",
        "  def restore(self, in_str: str) -> List[str]:\n",
        "    if len(in_str)<4:\n",
        "      return []\n",
        "    \n",
        "    #init member objects\n",
        "    self.__result = []\n",
        "    self.__in_str = in_str\n",
        "    IPs = []\n",
        "    self.__bt(0,IPs)   #backtracking call\n",
        "    return self.__result\n",
        "\n",
        "  #check 0<=num_str<=255,correct str for candidates filtering\n",
        "  def __valid(self,num_str:str) -> bool:\n",
        "    if len(num_str) == 1:\n",
        "        return True\n",
        "    if num_str[0] == '0':\n",
        "        return False\n",
        "    if 255< int(num_str):\n",
        "        return False\n",
        "    return True\n",
        "\n",
        "  #backtracking\n",
        "  def __bt(self, idx:int, IPs : List[str]):\n",
        "    #exit conditions\n",
        "    if 4<len(IPs):\n",
        "      return\n",
        "    elif idx==len(self.__in_str) and len(IPs)==4:\n",
        "      IP = '.'.join(IPs)\n",
        "      self.__result.append(IP)\n",
        "      return\n",
        "\n",
        "    in_str_length = len(self.__in_str)\n",
        "    idx_p3 = idx + 3 \n",
        "    for end_idx in range(idx,min(in_str_length,idx_p3)):\n",
        "      num_str = self.__in_str[idx:end_idx+1]\n",
        "      if self.__valid(num_str): #candidates filtering\n",
        "        IPs.append(num_str)     \n",
        "        self.__bt(idx+len(num_str),IPs) #recursive call\n",
        "        IPs.pop()\n",
        "    return\n",
        "\n",
        "rstIP = RestoreIP()"
      ],
      "execution_count": 1,
      "outputs": []
    },
    {
      "cell_type": "code",
      "metadata": {
        "id": "zgYG3GYAgAQZ",
        "outputId": "ee003653-1a9d-4e1c-afb1-65ed3d8e15e3",
        "colab": {
          "base_uri": "https://localhost:8080/"
        }
      },
      "source": [
        "rstIP.restore(in_str='200023125')"
      ],
      "execution_count": 2,
      "outputs": [
        {
          "output_type": "execute_result",
          "data": {
            "text/plain": [
              "['200.0.23.125', '200.0.231.25']"
            ]
          },
          "metadata": {
            "tags": []
          },
          "execution_count": 2
        }
      ]
    },
    {
      "cell_type": "code",
      "metadata": {
        "id": "WNvH8e9jflSD",
        "outputId": "e2d421ed-5eee-4877-ce23-0efaf1a547b8",
        "colab": {
          "base_uri": "https://localhost:8080/"
        }
      },
      "source": [
        "rstIP.restore(in_str='222523125')"
      ],
      "execution_count": 3,
      "outputs": [
        {
          "output_type": "execute_result",
          "data": {
            "text/plain": [
              "['2.225.23.125',\n",
              " '2.225.231.25',\n",
              " '22.25.23.125',\n",
              " '22.25.231.25',\n",
              " '22.252.3.125',\n",
              " '22.252.31.25',\n",
              " '222.5.23.125',\n",
              " '222.5.231.25',\n",
              " '222.52.3.125',\n",
              " '222.52.31.25']"
            ]
          },
          "metadata": {
            "tags": []
          },
          "execution_count": 3
        }
      ]
    },
    {
      "cell_type": "code",
      "metadata": {
        "id": "Dk7e-E2LhtLm"
      },
      "source": [
        ""
      ],
      "execution_count": 3,
      "outputs": []
    }
  ]
}