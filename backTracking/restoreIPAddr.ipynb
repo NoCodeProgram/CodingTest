{
  "nbformat": 4,
  "nbformat_minor": 0,
  "metadata": {
    "colab": {
      "name": "restoreIPAddr.ipynb",
      "provenance": [],
      "authorship_tag": "ABX9TyMjCqHzAcOLYIP4gLi0DYb7",
      "include_colab_link": true
    },
    "kernelspec": {
      "name": "python3",
      "display_name": "Python 3"
    }
  },
  "cells": [
    {
      "cell_type": "markdown",
      "metadata": {
        "id": "view-in-github",
        "colab_type": "text"
      },
      "source": [
        "<a href=\"https://colab.research.google.com/github/NoCodeProgram/CodingTest/blob/main/backTracking/restoreIPAddr.ipynb\" target=\"_parent\"><img src=\"https://colab.research.google.com/assets/colab-badge.svg\" alt=\"Open In Colab\"/></a>"
      ]
    },
    {
      "cell_type": "markdown",
      "metadata": {
        "id": "nFbeQPHzQxCQ"
      },
      "source": [
        "Title : Restore IP addr\n",
        "\n",
        "Chapter : Backtracking\n",
        "\n",
        "Link : \n",
        "\n",
        "ChapterLink :\n",
        "\n",
        "문제 : 주어진 str으로 조합가능한 모든 IP Address를 찾아라\n",
        "\n",
        "예제: \"222523125\"\n",
        "\n",
        "답 : \n",
        " (실행 후에 찾아서 넣자)\n",
        "1.   2.225.2.2.2\n",
        "2.   List item"
      ]
    },
    {
      "cell_type": "code",
      "metadata": {
        "id": "B7KcqhahPj3D"
      },
      "source": [
        "class RestoreIP:\n",
        "    def restore(self, s: str) -> List[str]:\n",
        "        "
      ],
      "execution_count": null,
      "outputs": []
    }
  ]
}