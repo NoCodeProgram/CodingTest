{
  "nbformat": 4,
  "nbformat_minor": 0,
  "metadata": {
    "colab": {
      "name": "solveSudoku.ipynb",
      "provenance": [],
      "authorship_tag": "ABX9TyP4i449Po1KABfD8FphqXQA",
      "include_colab_link": true
    },
    "kernelspec": {
      "name": "python3",
      "display_name": "Python 3"
    }
  },
  "cells": [
    {
      "cell_type": "markdown",
      "metadata": {
        "id": "view-in-github",
        "colab_type": "text"
      },
      "source": [
        "<a href=\"https://colab.research.google.com/github/NoCodeProgram/CodingTest/blob/main/backTracking/solveSudoku.ipynb\" target=\"_parent\"><img src=\"https://colab.research.google.com/assets/colab-badge.svg\" alt=\"Open In Colab\"/></a>"
      ]
    },
    {
      "cell_type": "markdown",
      "metadata": {
        "id": "IgVkEu9kPwQo"
      },
      "source": [
        ""
      ]
    },
    {
      "cell_type": "code",
      "metadata": {
        "id": "Iq2FVfvsPj2R"
      },
      "source": [
        "from typing import List\n",
        "class SudokuSolver:\n",
        "  def solve(self, sudoku_board: List[List[str]]) -> None:\n",
        "\n",
        "    #shallow copy\n",
        "    self.__board = sudoku_board\n",
        "    \n",
        "    next_row,next_col = self.__find_next_empty()\n",
        "    if next_row == 9 and next_col == 9:\n",
        "      return\n",
        "    \n",
        "    for i in range(1,9):\n",
        "      self.__bt(next_row,next_col,str(i))\n",
        "    \n",
        "    \n",
        "  def __check_row(self, row:int, num:str) -> bool:\n",
        "    for x in range(0,9):\n",
        "      if self.__board[row][x]==num:\n",
        "        return False\n",
        "    return True\n",
        "  \n",
        "  def __check_col(self, col:int, num:str) -> bool:\n",
        "    for y in range(0,9):\n",
        "      if self.__board[y][col]==num:\n",
        "        return False    \n",
        "    return True\n",
        "  \n",
        "  def __check_33(self, row:int, col:int, num:str) -> bool:\n",
        "    box_x = int(col/3)*3\n",
        "    box_y = int(row/3)*3\n",
        "    for y in range (box_y, box_y+3):\n",
        "      for x in range (box_x, box_x+3):\n",
        "        if self.__board[y][x]==num:\n",
        "          return False     \n",
        "    return True\n",
        "  \n",
        "  def __find_next_empty(self):\n",
        "    for y in range(0,9):\n",
        "      for x in range(0,9):\n",
        "        if self.__board[y][x] == '.':\n",
        "          return [y,x]        \n",
        "    return [9,9]\n",
        "    \n",
        "  def __bt(self, row:int, col:int, num:str) -> bool:\n",
        "    #negative exit conditions \n",
        "    #check validities of the new number\n",
        "    if not self.__check_row(row,num):\n",
        "      return False\n",
        "    elif not self.__check_col(col,num):\n",
        "      return False\n",
        "    elif not self.__check_33(row,col,num):\n",
        "      return False\n",
        "    \n",
        "    #process\n",
        "    self.__board[row][col] = str(num)\n",
        "    next_row,next_col = self.__find_next_empty()\n",
        "    \n",
        "    #Sudoku solved!\n",
        "    if next_row == 9 and next_col == 9:\n",
        "      return True\n",
        "    \n",
        "    #next funtion call\n",
        "    for next_num in range(1,10):\n",
        "      if self.__bt(next_row,next_col,str(next_num)):\n",
        "        return True\n",
        "\n",
        "    #rollback when all cadidates returned False\n",
        "    self.__board[row][col] = '.'\n",
        "    return False\n",
        "\n",
        "\n",
        "solver = SudokuSolver()"
      ],
      "execution_count": 2,
      "outputs": []
    },
    {
      "cell_type": "code",
      "metadata": {
        "id": "NxSX0H0dP5AI",
        "outputId": "ca94e366-1de6-4cd3-a04f-20c0e6532b34",
        "colab": {
          "base_uri": "https://localhost:8080/",
          "height": 182
        }
      },
      "source": [
        "\n",
        "solver.solve()"
      ],
      "execution_count": 3,
      "outputs": [
        {
          "output_type": "error",
          "ename": "TypeError",
          "evalue": "ignored",
          "traceback": [
            "\u001b[0;31m---------------------------------------------------------------------------\u001b[0m",
            "\u001b[0;31mTypeError\u001b[0m                                 Traceback (most recent call last)",
            "\u001b[0;32m<ipython-input-3-932fa8c481ea>\u001b[0m in \u001b[0;36m<module>\u001b[0;34m()\u001b[0m\n\u001b[1;32m      1\u001b[0m \u001b[0;34m\u001b[0m\u001b[0m\n\u001b[0;32m----> 2\u001b[0;31m \u001b[0msolver\u001b[0m\u001b[0;34m.\u001b[0m\u001b[0msolve\u001b[0m\u001b[0;34m(\u001b[0m\u001b[0;34m)\u001b[0m\u001b[0;34m\u001b[0m\u001b[0;34m\u001b[0m\u001b[0m\n\u001b[0m",
            "\u001b[0;31mTypeError\u001b[0m: solve() missing 1 required positional argument: 'sudoku_board'"
          ]
        }
      ]
    },
    {
      "cell_type": "code",
      "metadata": {
        "id": "ROS8AWi3QN-p"
      },
      "source": [
        ""
      ],
      "execution_count": null,
      "outputs": []
    }
  ]
}