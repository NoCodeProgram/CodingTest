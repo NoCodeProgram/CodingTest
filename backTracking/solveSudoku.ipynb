{
  "nbformat": 4,
  "nbformat_minor": 0,
  "metadata": {
    "colab": {
      "name": "solveSudoku.ipynb",
      "provenance": [],
      "authorship_tag": "ABX9TyPVVm26meJHVGXLodXuHc6q",
      "include_colab_link": true
    },
    "kernelspec": {
      "name": "python3",
      "display_name": "Python 3"
    }
  },
  "cells": [
    {
      "cell_type": "markdown",
      "metadata": {
        "id": "view-in-github",
        "colab_type": "text"
      },
      "source": [
        "<a href=\"https://colab.research.google.com/github/NoCodeProgram/CodingTest/blob/main/backTracking/solveSudoku.ipynb\" target=\"_parent\"><img src=\"https://colab.research.google.com/assets/colab-badge.svg\" alt=\"Open In Colab\"/></a>"
      ]
    },
    {
      "cell_type": "markdown",
      "metadata": {
        "id": "IgVkEu9kPwQo"
      },
      "source": [
        "\n",
        "Title : Sudoku 풀이\n",
        "\n",
        "Chapter : Backtracking\n",
        "\n",
        "Link :\n",
        "\n",
        "ChapterLink :\n",
        "\n",
        "문제 : 주어진 sudoku를 풀어라 (inplace로서 input object에 답을 넣어라)\n",
        "\n",
        "[['. ','5','1','3','. ','9','. ','. ','6'],\\\n",
        "['. ','2','. ','8','7','1','3','4','5'],\\\n",
        "['. ','. ','. ','2','. ','. ','. ','. ','. '],\\\n",
        "['2','1','9','7','6','4','. ','3','. '],\\\n",
        "['. ','. ','. ','1','3','. ','. ','. ','. '],\\\n",
        "['7','3','. ','. ','. ','8','. ','6','2'],\\\n",
        "['5','. ','. ','4','2','. ','. ','. ','3'],\\\n",
        "['. ','. ','. ','9','1','5','. ','. ','7'],\\\n",
        "['1','9','. ','. ','. ','. ','2','. ','. ']]\n",
        "\n",
        "\n",
        "\n",
        "답:\\\n",
        "['8', '5', '1', '3', '4', '9', '7', '2', '6']\\\n",
        "['9', '2', '6', '8', '7', '1', '3', '4', '5']\\\n",
        "['4', '7', '3', '2', '5', '6', '8', '9', '1']\\\n",
        "['2', '1', '9', '7', '6', '4', '5', '3', '8']\\\n",
        "['6', '8', '5', '1', '3', '2', '4', '7', '9']\\\n",
        "['7', '3', '4', '5', '9', '8', '1', '6', '2']\\\n",
        "['5', '6', '8', '4', '2', '7', '9', '1', '3']\\\n",
        "['3', '4', '2', '9', '1', '5', '6', '8', '7']\\\n",
        "['1', '9', '7', '6', '8', '3', '2', '5', '4']\\\n",
        "\n",
        "\n"
      ]
    },
    {
      "cell_type": "code",
      "metadata": {
        "id": "Iq2FVfvsPj2R"
      },
      "source": [
        "from typing import List\n",
        "class SudokuSolver:\n",
        "  def solve(self, sudoku_board: List[List[str]]) -> None:\n",
        "\n",
        "    #shallow copy\n",
        "    self.__board = sudoku_board\n",
        "    \n",
        "    next_row,next_col = self.__find_next_empty()\n",
        "    if next_row == 9 and next_col == 9:\n",
        "      return\n",
        "    \n",
        "    for i in range(1,9):\n",
        "      self.__bt(next_row,next_col,str(i))\n",
        "    \n",
        "    \n",
        "  def __check_row(self, row:int, num:str) -> bool:\n",
        "    for x in range(0,9):\n",
        "      if self.__board[row][x]==num:\n",
        "        return False\n",
        "    return True\n",
        "  \n",
        "  def __check_col(self, col:int, num:str) -> bool:\n",
        "    for y in range(0,9):\n",
        "      if self.__board[y][col]==num:\n",
        "        return False    \n",
        "    return True\n",
        "  \n",
        "  def __check_33(self, row:int, col:int, num:str) -> bool:\n",
        "    box_x = int(col/3)*3\n",
        "    box_y = int(row/3)*3\n",
        "    for y in range (box_y, box_y+3):\n",
        "      for x in range (box_x, box_x+3):\n",
        "        if self.__board[y][x]==num:\n",
        "          return False     \n",
        "    return True\n",
        "  \n",
        "  def __find_next_empty(self):\n",
        "    for y in range(0,9):\n",
        "      for x in range(0,9):\n",
        "        if self.__board[y][x] == '.':\n",
        "          return [y,x]        \n",
        "    return [9,9]\n",
        "    \n",
        "  def __bt(self, row:int, col:int, num:str) -> bool:\n",
        "    #negative exit conditions \n",
        "    #check validities of the new number\n",
        "    if not self.__check_row(row,num):\n",
        "      return False\n",
        "    elif not self.__check_col(col,num):\n",
        "      return False\n",
        "    elif not self.__check_33(row,col,num):\n",
        "      return False\n",
        "    \n",
        "    #process\n",
        "    self.__board[row][col] = str(num)\n",
        "    next_row,next_col = self.__find_next_empty()\n",
        "    \n",
        "    #Sudoku solved!\n",
        "    if next_row == 9 and next_col == 9:\n",
        "      return True\n",
        "    \n",
        "    #next funtion call\n",
        "    for next_num in range(1,10):\n",
        "      if self.__bt(next_row,next_col,str(next_num)):\n",
        "        return True\n",
        "\n",
        "    #rollback when all cadidates returned False\n",
        "    self.__board[row][col] = '.'\n",
        "    return False\n",
        "\n",
        "\n",
        "solver = SudokuSolver()"
      ],
      "execution_count": 2,
      "outputs": []
    },
    {
      "cell_type": "code",
      "metadata": {
        "colab": {
          "base_uri": "https://localhost:8080/"
        },
        "id": "NxSX0H0dP5AI",
        "outputId": "3e213687-1347-4f4f-d2d1-e5da741b0289"
      },
      "source": [
        "sudoku_quiz = \\\n",
        "[['.','5','1','3','.','9','.','.','6'],\\\n",
        "['.','2','.','8','7','1','3','4','5'],\\\n",
        "['.','.','.','2','.','.','.','.','.'],\\\n",
        "['2','1','9','7','6','4','.','3','.'],\\\n",
        "['.','.','.','1','3','.','.','.','.'],\\\n",
        "['7','3','.','.','.','8','.','6','2'],\\\n",
        "['5','.','.','4','2','.','.','.','3'],\\\n",
        "['.','.','.','9','1','5','.','.','7'],\\\n",
        "['1','9','.','.','.','.','2','.','.']]\n",
        "solver.solve(sudoku_quiz)\n",
        "\n",
        "for row in range ( 0, 9):\n",
        "  print(sudoku_quiz[row])"
      ],
      "execution_count": 10,
      "outputs": [
        {
          "output_type": "stream",
          "text": [
            "['8', '5', '1', '3', '4', '9', '7', '2', '6']\n",
            "['9', '2', '6', '8', '7', '1', '3', '4', '5']\n",
            "['4', '7', '3', '2', '5', '6', '8', '9', '1']\n",
            "['2', '1', '9', '7', '6', '4', '5', '3', '8']\n",
            "['6', '8', '5', '1', '3', '2', '4', '7', '9']\n",
            "['7', '3', '4', '5', '9', '8', '1', '6', '2']\n",
            "['5', '6', '8', '4', '2', '7', '9', '1', '3']\n",
            "['3', '4', '2', '9', '1', '5', '6', '8', '7']\n",
            "['1', '9', '7', '6', '8', '3', '2', '5', '4']\n"
          ],
          "name": "stdout"
        }
      ]
    },
    {
      "cell_type": "code",
      "metadata": {
        "id": "ROS8AWi3QN-p"
      },
      "source": [
        ""
      ],
      "execution_count": null,
      "outputs": []
    }
  ]
}