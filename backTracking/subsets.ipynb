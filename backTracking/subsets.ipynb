{
  "nbformat": 4,
  "nbformat_minor": 0,
  "metadata": {
    "colab": {
      "name": "subsets.ipynb",
      "provenance": [],
      "authorship_tag": "ABX9TyN53751DrUt9GONmyTqQaOI",
      "include_colab_link": true
    },
    "kernelspec": {
      "name": "python3",
      "display_name": "Python 3"
    },
    "language_info": {
      "name": "python"
    }
  },
  "cells": [
    {
      "cell_type": "markdown",
      "metadata": {
        "id": "view-in-github",
        "colab_type": "text"
      },
      "source": [
        "<a href=\"https://colab.research.google.com/github/NoCodeProgram/CodingTest/blob/main/backTracking/subsets.ipynb\" target=\"_parent\"><img src=\"https://colab.research.google.com/assets/colab-badge.svg\" alt=\"Open In Colab\"/></a>"
      ]
    },
    {
      "cell_type": "markdown",
      "metadata": {
        "id": "JBFSA9Wci43r"
      },
      "source": [
        "Title : Subsets\n",
        "\n",
        "Chapter : BackTracking\n",
        "\n",
        "Link : [YouTube](https://youtu.be/gVijWUHWzAU)\n",
        "\n",
        "ChapterLink : [PlayList](https://youtube.com/playlist?list=PLDV-cCQnUlIaAKZbfdkMU01MrMkeTvVgP)\n",
        "\n",
        "문제: nums로 주어진 숫자로 만들수 있는 subsets들을 return하여라"
      ]
    },
    {
      "cell_type": "code",
      "metadata": {
        "colab": {
          "base_uri": "https://localhost:8080/"
        },
        "id": "hxiBSMfUipbY",
        "outputId": "59a45ae7-74ee-4426-cec0-16513b66f324"
      },
      "source": [
        "from typing import List   \n",
        "\n",
        "class Subsets:\n",
        "  def getSubsets(self, nums: List[int]) -> List[List[int]]:\n",
        "    self._nums = nums\n",
        "    self._subsets = []\n",
        "    \n",
        "    self._BT(0,[])\n",
        "    \n",
        "    return self._subsets\n",
        "    \n",
        "  def _BT(self, index :int, crnt_set : List[int]):\n",
        "    if index == len(self._nums):\n",
        "      self._subsets.append(crnt_set.copy())\n",
        "      return\n",
        "    \n",
        "    num = self._nums[index]\n",
        "    \n",
        "    self._BT(index+1,crnt_set)\n",
        "    \n",
        "    crnt_set.append(num)\n",
        "    self._BT(index+1,crnt_set)\n",
        "    crnt_set.pop()\n",
        "    \n",
        "    \n",
        "    \n",
        "subsets = Subsets()\n",
        "subsets.getSubsets(nums=[1,2,3])\n",
        "    "
      ],
      "execution_count": 1,
      "outputs": [
        {
          "output_type": "execute_result",
          "data": {
            "text/plain": [
              "[[], [3], [2], [2, 3], [1], [1, 3], [1, 2], [1, 2, 3]]"
            ]
          },
          "metadata": {
            "tags": []
          },
          "execution_count": 1
        }
      ]
    },
    {
      "cell_type": "code",
      "metadata": {
        "id": "t2ohxQYdmbcx"
      },
      "source": [
        ""
      ],
      "execution_count": null,
      "outputs": []
    }
  ]
}