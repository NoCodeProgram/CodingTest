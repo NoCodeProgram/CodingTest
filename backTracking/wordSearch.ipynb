{
  "nbformat": 4,
  "nbformat_minor": 0,
  "metadata": {
    "colab": {
      "name": "wordSearch.ipynb",
      "provenance": [],
      "include_colab_link": true
    },
    "kernelspec": {
      "name": "python3",
      "display_name": "Python 3"
    }
  },
  "cells": [
    {
      "cell_type": "markdown",
      "metadata": {
        "id": "view-in-github",
        "colab_type": "text"
      },
      "source": [
        "<a href=\"https://colab.research.google.com/github/NoCodeProgram/CodingTest/blob/main/backTracking/wordSearch.ipynb\" target=\"_parent\"><img src=\"https://colab.research.google.com/assets/colab-badge.svg\" alt=\"Open In Colab\"/></a>"
      ]
    },
    {
      "cell_type": "markdown",
      "metadata": {
        "id": "sfh5aRyzon6N"
      },
      "source": [
        "\n",
        "Title : Word Search\n",
        "\n",
        "Chapter : Backtracking\n",
        "\n",
        "Link :\n",
        "\n",
        "ChapterLink :\n",
        "\n",
        "문제 : 주어진 alphabet Matrix에서 연결되는 word가 있는지를 찾아라\n",
        "\n",
        "예제: word = [SBDCB]\n",
        "\n",
        "\n",
        "[A B D]\n",
        "\n",
        "\n",
        "[B D C]\n",
        "\n",
        "[S A B]\n",
        "\n",
        "답 :  True"
      ]
    },
    {
      "cell_type": "code",
      "metadata": {
        "id": "_HLW8SfMk5Wb"
      },
      "source": [
        "from typing import List\n",
        "\n",
        "class WordSearch:\n",
        "  def find(self, matrix: List[List[str]], word: str) -> bool:\n",
        "    if len(word) == 0:\n",
        "      True\n",
        "    rows = len(matrix)\n",
        "    if rows == 0:\n",
        "      return False\n",
        "    cols = len(matrix[0])\n",
        "    if cols == 0:\n",
        "      return False\n",
        "    \n",
        "    #copy to member objects\n",
        "    self.__word = word\n",
        "    self.__matrix = matrix\n",
        "    self.__mark = [[False for x in range(cols)] for y in range(rows)]\n",
        "    \n",
        "    for y in range(rows):\n",
        "      for x in range(cols):\n",
        "        ret = self.__bt(y,x,0)\n",
        "        if ret == True:\n",
        "          return True\n",
        "      \n",
        "    return False\n",
        "  \n",
        "  \n",
        "  def __bt(self, y:int, x:int , idx:int):\n",
        "    #exit conditions\n",
        "    if idx == len(self.__word):\n",
        "      return True\n",
        "    elif y<0 or y==len(self.__matrix): #out of range\n",
        "      return False\n",
        "    elif x<0 or x==len(self.__matrix[0]): #out of range\n",
        "      return False    \n",
        "    elif self.__mark[y][x]==True: #marked elem\n",
        "      return False\n",
        "    elif self.__matrix[y][x] != self.__word[idx]: #not matched\n",
        "      return False\n",
        "    \n",
        "    #process\n",
        "    self.__mark[y][x]= True\n",
        "    \n",
        "    if self.__bt(y-1,x,idx+1):\n",
        "      return True\n",
        "    elif self.__bt(y,x+1,idx+1):\n",
        "      return True\n",
        "    elif self.__bt(y+1,x,idx+1):\n",
        "      return True\n",
        "    elif self.__bt(y,x-1,idx+1):\n",
        "      return True   \n",
        "  \n",
        "    self.__mark[y][x]=False  #unmark\n",
        "    \n",
        "    return False\n",
        "\n",
        "wrdSearch = WordSearch()"
      ],
      "execution_count": 1,
      "outputs": []
    },
    {
      "cell_type": "code",
      "metadata": {
        "id": "pRnyjtu5pxUl",
        "outputId": "4bb78f99-df0e-44cf-dc6c-3249195fcdbf",
        "colab": {
          "base_uri": "https://localhost:8080/"
        }
      },
      "source": [
        "matrix = [['A','B','D'],['B','D','C'],['S','A','B']]\n",
        "word = \"SBDCB\"\n",
        "\n",
        "wrdSearch.find(matrix=matrix,word=word)"
      ],
      "execution_count": 2,
      "outputs": [
        {
          "output_type": "execute_result",
          "data": {
            "text/plain": [
              "True"
            ]
          },
          "metadata": {
            "tags": []
          },
          "execution_count": 2
        }
      ]
    },
    {
      "cell_type": "code",
      "metadata": {
        "id": "xt-6lipfqM7-"
      },
      "source": [
        ""
      ],
      "execution_count": 2,
      "outputs": []
    }
  ]
}