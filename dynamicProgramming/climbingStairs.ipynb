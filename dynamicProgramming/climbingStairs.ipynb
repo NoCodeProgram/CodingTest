{
  "nbformat": 4,
  "nbformat_minor": 0,
  "metadata": {
    "colab": {
      "name": "climbingStairs.ipynb",
      "provenance": [],
      "collapsed_sections": [],
      "authorship_tag": "ABX9TyOf/OUO0MiBieg4BhfSjHEb",
      "include_colab_link": true
    },
    "kernelspec": {
      "name": "python3",
      "display_name": "Python 3"
    },
    "language_info": {
      "name": "python"
    }
  },
  "cells": [
    {
      "cell_type": "markdown",
      "metadata": {
        "id": "view-in-github",
        "colab_type": "text"
      },
      "source": [
        "<a href=\"https://colab.research.google.com/github/NoCodeProgram/CodingTest/blob/main/dynamicProgramming/climbingStairs.ipynb\" target=\"_parent\"><img src=\"https://colab.research.google.com/assets/colab-badge.svg\" alt=\"Open In Colab\"/></a>"
      ]
    },
    {
      "cell_type": "markdown",
      "metadata": {
        "id": "aXEYYRNapez0"
      },
      "source": [
        "Title : 계단오르기 문제\n",
        "\n",
        "Chapter : Dynamic Programming\n",
        "\n",
        "Link : [YouTube](https://youtu.be/lhZTYwHgrDM)\n",
        " \n",
        "ChapterLink : [PlayList](https://youtube.com/playlist?list=PLDV-cCQnUlIa0owhTLK-VT994Qh6XTy4v)\n",
        "\n",
        "문제: n개의 계단을 오르고자 한다. 한번에 1개, 2개씩의 계단을 오를수 있을때 총 몇가지 방벙으로 계단을 오를 수 있는가?"
      ]
    },
    {
      "cell_type": "code",
      "metadata": {
        "id": "yMwbYIShpXjV"
      },
      "source": [
        "from typing import List  \n",
        "  \n",
        "def climbStairs(n: int) -> int:\n",
        "  dp_array = [0,1,2]\n",
        "\n",
        "  if n < len(dp_array):\n",
        "    return dp_array[n]\n",
        "\n",
        "  for i in range(3, n+1):\n",
        "    ith_way = dp_array[i-1] + dp_array[i-2]\n",
        "    dp_array.append(ith_way)\n",
        "  return dp_array[n]"
      ],
      "execution_count": 1,
      "outputs": []
    },
    {
      "cell_type": "code",
      "metadata": {
        "colab": {
          "base_uri": "https://localhost:8080/"
        },
        "id": "1KVWalMUzqRg",
        "outputId": "e9b48acd-3964-4d23-b073-bff94fcfa22a"
      },
      "source": [
        "print(climbStairs(7),'ways')"
      ],
      "execution_count": 4,
      "outputs": [
        {
          "output_type": "stream",
          "text": [
            "21 ways\n"
          ],
          "name": "stdout"
        }
      ]
    },
    {
      "cell_type": "markdown",
      "metadata": {
        "id": "PbC8fYKrpsIx"
      },
      "source": [
        "Title : 최소비용 계단오르기 문제\n",
        "\n",
        "Chapter : Dynamic Programming\n",
        "\n",
        "Link : [YouTube](https://youtu.be/lhZTYwHgrDM)\n",
        " \n",
        "ChapterLink : [PlayList](https://youtube.com/playlist?list=PLDV-cCQnUlIa0owhTLK-VT994Qh6XTy4v)\n",
        "\n",
        "문제: i번째 계단을 오르는 비용이 cost[i]로 주어졌다. 계단을 한번에 한칸 혹은 두칸씩만 오를수 있을때,  전체 계단을 오르는 최소 비용은 얼마인가."
      ]
    },
    {
      "cell_type": "code",
      "metadata": {
        "id": "f5q92JK_puby"
      },
      "source": [
        "def minCostStairs(cost: List[int]) -> int:\n",
        "    total_count = len(cost)\n",
        "    min_cost = [0] * (total_count + 1)\n",
        "    \n",
        "    for i in range(2, total_count + 1):\n",
        "      one_step = min_cost[i - 1] + cost[i - 1]\n",
        "      two_step = min_cost[i - 2] + cost[i - 2]\n",
        "      min_cost[i] = min(one_step, two_step)\n",
        "\n",
        "    return min_cost[total_count]"
      ],
      "execution_count": 6,
      "outputs": []
    },
    {
      "cell_type": "code",
      "metadata": {
        "colab": {
          "base_uri": "https://localhost:8080/"
        },
        "id": "Y_ZLcV858-RW",
        "outputId": "4ccca1e6-c38b-4209-cc15-8e990b70a21c"
      },
      "source": [
        "stair_cost = [1,2,4,6,2,4,6,1]\n",
        "print(minCostStairs(cost=stair_cost))"
      ],
      "execution_count": 7,
      "outputs": [
        {
          "output_type": "stream",
          "text": [
            "12\n"
          ],
          "name": "stdout"
        }
      ]
    }
  ]
}