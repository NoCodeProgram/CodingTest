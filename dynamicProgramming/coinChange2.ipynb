{
  "nbformat": 4,
  "nbformat_minor": 0,
  "metadata": {
    "colab": {
      "name": "coinChange2.ipynb",
      "provenance": [],
      "authorship_tag": "ABX9TyOEvovqODobFizdtaa3+26X",
      "include_colab_link": true
    },
    "kernelspec": {
      "name": "python3",
      "display_name": "Python 3"
    },
    "language_info": {
      "name": "python"
    }
  },
  "cells": [
    {
      "cell_type": "markdown",
      "metadata": {
        "id": "view-in-github",
        "colab_type": "text"
      },
      "source": [
        "<a href=\"https://colab.research.google.com/github/NoCodeProgram/CodingTest/blob/main/dynamicProgramming/coinChange2.ipynb\" target=\"_parent\"><img src=\"https://colab.research.google.com/assets/colab-badge.svg\" alt=\"Open In Colab\"/></a>"
      ]
    },
    {
      "cell_type": "markdown",
      "metadata": {
        "id": "SFBR8t1vO0UF"
      },
      "source": [
        "Title : Coin Change 2\n",
        "\n",
        "Chapter : Dynamic Programming\n",
        "\n",
        "Link : [YouTube](https://youtu.be/hGEch2x1DyE)\n",
        "\n",
        "ChapterLink : [PlayList](https://youtube.com/playlist?list=PLDV-cCQnUlIa0owhTLK-VT994Qh6XTy4v)\n",
        "\n",
        "문제: coins에 들어있는 종류의 갯수가 무제한 있을때, amount를 만들수있는 조합의 갯수를 구하여라"
      ]
    },
    {
      "cell_type": "code",
      "metadata": {
        "id": "skcKdZAcOhwq"
      },
      "source": [
        "from typing import List   \n",
        "\n",
        "def coinChange(amount: int, coins: List[int]) -> int:\n",
        "  dp_table = [[0]*(amount+1) for j in range(len(coins)+1)]\n",
        "  \n",
        "  for rowIdx in range(len(dp_table)):\n",
        "    dp_table[rowIdx][0] = 1\n",
        "    \n",
        "  for rowIdx in range(1,len(dp_table)):\n",
        "    coin = coins[rowIdx-1]\n",
        "    prev_row = rowIdx - 1\n",
        "    for colIdx in range(1,len(dp_table[rowIdx])):\n",
        "      dp0 = 0\n",
        "      prev_col = colIdx-coin\n",
        "      if 0 <= prev_col:\n",
        "        dp0 = dp_table[rowIdx][prev_col]\n",
        "      dp1 = dp_table[prev_row][colIdx]\n",
        "\n",
        "      dp = dp0 + dp1\n",
        "      dp_table[rowIdx][colIdx] = dp\n",
        "  \n",
        "  return dp_table[-1][-1]  #return last dp table elem \n"
      ],
      "execution_count": 2,
      "outputs": []
    },
    {
      "cell_type": "code",
      "metadata": {
        "colab": {
          "base_uri": "https://localhost:8080/"
        },
        "id": "duUcePT_O41j",
        "outputId": "4328c036-0f57-4894-e665-9919faa62f84"
      },
      "source": [
        "print(coinChange(amount=5,coins=[1,2,3]))"
      ],
      "execution_count": 3,
      "outputs": [
        {
          "output_type": "stream",
          "text": [
            "5\n"
          ],
          "name": "stdout"
        }
      ]
    },
    {
      "cell_type": "code",
      "metadata": {
        "id": "uD1Q34UrPP0B"
      },
      "source": [
        ""
      ],
      "execution_count": null,
      "outputs": []
    }
  ]
}