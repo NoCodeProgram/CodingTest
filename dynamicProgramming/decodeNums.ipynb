{
  "nbformat": 4,
  "nbformat_minor": 0,
  "metadata": {
    "colab": {
      "name": "decodeNums.ipynb",
      "provenance": [],
      "authorship_tag": "ABX9TyOGS/36kZWyrXf6HgSXc0SX",
      "include_colab_link": true
    },
    "kernelspec": {
      "name": "python3",
      "display_name": "Python 3"
    },
    "language_info": {
      "name": "python"
    }
  },
  "cells": [
    {
      "cell_type": "markdown",
      "metadata": {
        "id": "view-in-github",
        "colab_type": "text"
      },
      "source": [
        "<a href=\"https://colab.research.google.com/github/NoCodeProgram/CodingTest/blob/main/dynamicProgramming/decodeNums.ipynb\" target=\"_parent\"><img src=\"https://colab.research.google.com/assets/colab-badge.svg\" alt=\"Open In Colab\"/></a>"
      ]
    },
    {
      "cell_type": "markdown",
      "metadata": {
        "id": "LTErBmnf8_Gb"
      },
      "source": [
        "Title : Decode Ways\n",
        "\n",
        "Chapter : Dynamic Programming\n",
        "\n",
        "Link : [YouTube](https://youtu.be/SGicalYx4wE)\n",
        "\n",
        "ChapterLink : [PlayList](https://www.youtube.com/playlist?list=PLDV-cCQnUlIa0owhTLK-VT994Qh6XTy4v)\n",
        "\n",
        "문제 : 숫자열을 디코딩 하는 방법의 갯수를 계산하여라\n",
        "\n"
      ]
    },
    {
      "cell_type": "code",
      "metadata": {
        "id": "V2GybQyU89lu"
      },
      "source": [
        "\n",
        "def decodingBtmUp(s: str) -> int:\n",
        "  str_length = len(s)\n",
        "  if str_length == 0 :\n",
        "    return 0    \n",
        "  \n",
        "  dp = [None]*(str_length+1)\n",
        "  dp[-1] = 1\n",
        "  \n",
        "  last_char = s[-1]\n",
        "  if int(last_char) == 0:\n",
        "    dp[str_length-1] = 0\n",
        "  else:\n",
        "    dp[str_length-1] = 1\n",
        "\n",
        "  for idx in range(str_length-2,-1,-1):\n",
        "    single_num = int(s[idx])\n",
        "    single_count = 0\n",
        "    if 0<single_num:\n",
        "      single_count = dp[idx+1]      \n",
        "    \n",
        "    double_num = int(s[idx:idx+2])\n",
        "    double_count = 0\n",
        "    if 10<=double_num<=26:\n",
        "      double_count = dp[idx+2]\n",
        "    \n",
        "    count = single_count + double_count\n",
        "    dp[idx] = count\n",
        "          \n",
        "    \n",
        "  return dp[0]"
      ],
      "execution_count": 3,
      "outputs": []
    },
    {
      "cell_type": "code",
      "metadata": {
        "colab": {
          "base_uri": "https://localhost:8080/"
        },
        "id": "nEwQpUVe-WQV",
        "outputId": "720fd368-1ca1-412c-99b5-8c173a2a22db"
      },
      "source": [
        "decodingBtmUp(\"212325\")"
      ],
      "execution_count": 4,
      "outputs": [
        {
          "output_type": "execute_result",
          "data": {
            "text/plain": [
              "10"
            ]
          },
          "metadata": {
            "tags": []
          },
          "execution_count": 4
        }
      ]
    }
  ]
}