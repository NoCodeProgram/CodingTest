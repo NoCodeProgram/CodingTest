{
  "nbformat": 4,
  "nbformat_minor": 0,
  "metadata": {
    "colab": {
      "name": "decodeNums.ipynb",
      "provenance": [],
      "authorship_tag": "ABX9TyP9hh9y9h13Xc/SsKnLW+6B",
      "include_colab_link": true
    },
    "kernelspec": {
      "name": "python3",
      "display_name": "Python 3"
    },
    "language_info": {
      "name": "python"
    }
  },
  "cells": [
    {
      "cell_type": "markdown",
      "metadata": {
        "id": "view-in-github",
        "colab_type": "text"
      },
      "source": [
        "<a href=\"https://colab.research.google.com/github/NoCodeProgram/CodingTest/blob/main/dynamicProgramming/decodeNums.ipynb\" target=\"_parent\"><img src=\"https://colab.research.google.com/assets/colab-badge.svg\" alt=\"Open In Colab\"/></a>"
      ]
    },
    {
      "cell_type": "markdown",
      "metadata": {
        "id": "LTErBmnf8_Gb"
      },
      "source": [
        "Title : Decode Ways\n",
        "\n",
        "Chapter : Dynamic Programming\n",
        "\n",
        "Link : [YouTube](https://youtu.be/SGicalYx4wE)\n",
        "\n",
        "ChapterLink : \n",
        "\n",
        "문제 : 각 Room 마다 다른 room을 위한 key들이 준비되어있다. Room 0번에 접근 할 수 있을때 모든 Room에 접근할수있는지 T/F로 return 하여라"
      ]
    },
    {
      "cell_type": "code",
      "metadata": {
        "id": "V2GybQyU89lu"
      },
      "source": [
        ""
      ],
      "execution_count": null,
      "outputs": []
    }
  ]
}