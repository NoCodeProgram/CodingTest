{
  "nbformat": 4,
  "nbformat_minor": 0,
  "metadata": {
    "colab": {
      "name": "equalSubsetSum",
      "provenance": [],
      "collapsed_sections": [],
      "authorship_tag": "ABX9TyN4wqPubDfj1EhXBPm+rhCl",
      "include_colab_link": true
    },
    "kernelspec": {
      "name": "python3",
      "display_name": "Python 3"
    },
    "language_info": {
      "name": "python"
    }
  },
  "cells": [
    {
      "cell_type": "markdown",
      "metadata": {
        "id": "view-in-github",
        "colab_type": "text"
      },
      "source": [
        "<a href=\"https://colab.research.google.com/github/NoCodeProgram/CodingTest/blob/main/dynamicProgramming/equalSubsetSum.ipynb\" target=\"_parent\"><img src=\"https://colab.research.google.com/assets/colab-badge.svg\" alt=\"Open In Colab\"/></a>"
      ]
    },
    {
      "cell_type": "markdown",
      "metadata": {
        "id": "yMbg-N_bPsLV"
      },
      "source": [
        "Title : Partition Equal Subset Sum\n",
        "\n",
        "Chapter : Dynamic Programming\n",
        "\n",
        "Link : [YouTube](https://youtu.be/1wOdeCksiRE)\n",
        "\n",
        "ChapterLink : [PlayList](https://youtube.com/playlist?list=PLDV-cCQnUlIa0owhTLK-VT994Qh6XTy4v)\n",
        "\n",
        "문제: 양의 정수만으로 이루어진 숫자들을 합이 같은 두 subset으로 분류가 가능한지 판별하여라. "
      ]
    },
    {
      "cell_type": "code",
      "metadata": {
        "id": "1Awo3AW-IqII"
      },
      "source": [
        "from typing import List  \n",
        "\n",
        "def canPartition( nums: List[int]) -> bool:\n",
        "  total = sum(nums)\n",
        "  if total % 2 == 1:\n",
        "    return False\n",
        "  \n",
        "  half_sum = int(total/2)\n",
        "  \n",
        "  dp_table = [[False]*(half_sum+1) for j in range(len(nums)+1)]\n",
        "  \n",
        "  for rowIdx in range(len(dp_table)):\n",
        "    dp_table[rowIdx][0] = True\n",
        "    \n",
        "  for rowIdx in range(1,len(dp_table)):\n",
        "    nth_num = nums[rowIdx-1]\n",
        "    prev_row = rowIdx - 1\n",
        "    for colIdx in range(1,len(dp_table[rowIdx])):\n",
        "      dp0 = False\n",
        "      prev_col = colIdx-nth_num\n",
        "      if 0 <= prev_col:\n",
        "        dp0 = dp_table[prev_row][prev_col]\n",
        "      dp1 = dp_table[prev_row][colIdx]\n",
        "      \n",
        "      dp = dp0 or dp1\n",
        "      dp_table[rowIdx][colIdx] = dp\n",
        "      \n",
        "      \n",
        "  return dp_table[-1][-1]  #return last dp table elem\n",
        "\n"
      ],
      "execution_count": 1,
      "outputs": []
    },
    {
      "cell_type": "code",
      "metadata": {
        "colab": {
          "base_uri": "https://localhost:8080/"
        },
        "id": "Fjq0bhz5RTH-",
        "outputId": "0b5e8953-a7ca-4b85-fa47-fa068a76e1e9"
      },
      "source": [
        "print(canPartition(nums=[2,1,2,3,4]))"
      ],
      "execution_count": 2,
      "outputs": [
        {
          "output_type": "stream",
          "text": [
            "True\n"
          ],
          "name": "stdout"
        }
      ]
    },
    {
      "cell_type": "code",
      "metadata": {
        "id": "T1lQVl6CRaME"
      },
      "source": [
        ""
      ],
      "execution_count": null,
      "outputs": []
    }
  ]
}