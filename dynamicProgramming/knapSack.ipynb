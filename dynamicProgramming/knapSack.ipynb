{
  "nbformat": 4,
  "nbformat_minor": 0,
  "metadata": {
    "colab": {
      "name": "knapSack.ipynb",
      "provenance": [],
      "include_colab_link": true
    },
    "kernelspec": {
      "name": "python3",
      "display_name": "Python 3"
    }
  },
  "cells": [
    {
      "cell_type": "markdown",
      "metadata": {
        "id": "view-in-github",
        "colab_type": "text"
      },
      "source": [
        "<a href=\"https://colab.research.google.com/github/NoCodeProgram/CodingTest/blob/main/dynamicProgramming/knapSack.ipynb\" target=\"_parent\"><img src=\"https://colab.research.google.com/assets/colab-badge.svg\" alt=\"Open In Colab\"/></a>"
      ]
    },
    {
      "cell_type": "markdown",
      "metadata": {
        "id": "gE9gNWJzWKsD"
      },
      "source": [
        "knapsack problem\r\n"
      ]
    },
    {
      "cell_type": "code",
      "metadata": {
        "id": "kWdVtgC4WrXK"
      },
      "source": [
        "class ObjectVal:\r\n",
        "  def __init__(self, weight:int, value:int):\r\n",
        "    self.weight = weight\r\n",
        "    self.value = value"
      ],
      "execution_count": 1,
      "outputs": []
    },
    {
      "cell_type": "code",
      "metadata": {
        "id": "sUWrLM9qWILe"
      },
      "source": [
        "from typing import List\r\n",
        "\r\n",
        "class KnapSack:\r\n",
        "  def __init__(self, objects:List[ObjectVal]):\r\n",
        "    self._objects = objects\r\n",
        "\r\n",
        "  def _initDPTable(self,object_count:int, weight_limit:int):\r\n",
        "    #init dp table\r\n",
        "    self._dp = [[None for i in range(weight_limit+1)] for j in range(object_count+1)]\r\n",
        "    for rowIdx in range(len(self._dp)):\r\n",
        "      self._dp[rowIdx][0] = 0\r\n",
        "\r\n",
        "    for colIdx in range(weight_limit+1):      \r\n",
        "      self._dp[0][colIdx] = 0 \r\n",
        "\r\n",
        "  def topDown(self, weight_limit:int) -> int:\r\n",
        "    obj_endIdx = len(self._objects)\r\n",
        "    self._initDPTable(obj_endIdx,weight_limit)    \r\n",
        "    max_val = self._recurTopDown(obj_endIdx,weight_limit)\r\n",
        "    return max_val    \r\n",
        "\r\n",
        "  def _recurTopDown(self,object_idx:int,weight_limit:int) -> int:\r\n",
        "    if object_idx < 0 or weight_limit < 0:\r\n",
        "      return 0\r\n",
        "    dp_val = self._dp[object_idx][weight_limit]\r\n",
        "    if dp_val is None:\r\n",
        "      prev_obj_idx = object_idx - 1\r\n",
        "      not_taking_val = self._recurTopDown(prev_obj_idx,weight_limit)\r\n",
        "\r\n",
        "      weight = self._objects[object_idx-1].weight\r\n",
        "      value = self._objects[object_idx-1].value\r\n",
        "      taking_val = self._recurTopDown(prev_obj_idx,weight_limit-weight)+value\r\n",
        "\r\n",
        "      max_value = max(not_taking_val,taking_val)\r\n",
        "      self._dp[object_idx][weight_limit] = max_value\r\n",
        "      return max_value\r\n",
        "    return dp_val    \r\n",
        "    \r\n",
        "\r\n",
        "  def bottomUp(self, weight_limit:int) -> int:\r\n",
        "    obj_endIdx = len(self._objects)\r\n",
        "    self._initDPTable(obj_endIdx,weight_limit)\r\n",
        "\r\n",
        "    for rowIdx in range(1,len(self._dp)):\r\n",
        "      for colIdx in range(1,weight_limit+1):      \r\n",
        "        prev_obj_idx = rowIdx - 1\r\n",
        "        not_taking_val = self._dp[prev_obj_idx][colIdx]\r\n",
        "        \r\n",
        "        weight = self._objects[rowIdx-1].weight\r\n",
        "        value = self._objects[rowIdx-1].value\r\n",
        "        \r\n",
        "        taking_val = 0\r\n",
        "        prev_weight_limit = colIdx-weight\r\n",
        "        if prev_weight_limit<0:\r\n",
        "          taking_val = 0\r\n",
        "        else:\r\n",
        "          taking_val = self._dp[prev_obj_idx][prev_weight_limit] + value\r\n",
        "\r\n",
        "        max_val = max(not_taking_val,taking_val)\r\n",
        "        self._dp[rowIdx][colIdx] = max_val\r\n",
        "\r\n",
        "    return self._dp[obj_endIdx][weight_limit]     \r\n",
        "\r\n"
      ],
      "execution_count": 2,
      "outputs": []
    },
    {
      "cell_type": "code",
      "metadata": {
        "id": "QACOgYHRWbpV",
        "colab": {
          "base_uri": "https://localhost:8080/"
        },
        "outputId": "a623d719-28ab-4968-f0ea-6266962a9e51"
      },
      "source": [
        "objects = [ObjectVal(1,30),ObjectVal(2,20),ObjectVal(3,40),ObjectVal(4,10)]\r\n",
        "knapSack = KnapSack(objects)\r\n",
        "print(knapSack.topDown(5))\r\n",
        "print(knapSack.bottomUp(5))"
      ],
      "execution_count": 3,
      "outputs": [
        {
          "output_type": "stream",
          "text": [
            "70\n",
            "70\n"
          ],
          "name": "stdout"
        }
      ]
    },
    {
      "cell_type": "code",
      "metadata": {
        "id": "sPT-smLW02T0"
      },
      "source": [
        ""
      ],
      "execution_count": null,
      "outputs": []
    }
  ]
}