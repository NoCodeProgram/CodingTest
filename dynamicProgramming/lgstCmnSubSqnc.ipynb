{
  "nbformat": 4,
  "nbformat_minor": 0,
  "metadata": {
    "colab": {
      "name": "lgstCmnSubSqnc.ipynb",
      "provenance": [],
      "authorship_tag": "ABX9TyMR9Z7Jt5FvCHpA9uOFottb",
      "include_colab_link": true
    },
    "kernelspec": {
      "name": "python3",
      "display_name": "Python 3"
    },
    "language_info": {
      "name": "python"
    }
  },
  "cells": [
    {
      "cell_type": "markdown",
      "metadata": {
        "id": "view-in-github",
        "colab_type": "text"
      },
      "source": [
        "<a href=\"https://colab.research.google.com/github/NoCodeProgram/CodingTest/blob/main/dynamicProgramming/lgstCmnSubSqnc.ipynb\" target=\"_parent\"><img src=\"https://colab.research.google.com/assets/colab-badge.svg\" alt=\"Open In Colab\"/></a>"
      ]
    },
    {
      "cell_type": "markdown",
      "metadata": {
        "id": "wKVEWS4RVbCL"
      },
      "source": [
        "Title :  Longest Common Subsequence\n",
        "\n",
        "Chapter : Dynamic Programming\n",
        "\n",
        "Link : [YouTube](https://youtu.be/CVqX4alPS4M)\n",
        "\n",
        "ChapterLink : [PlayList](https://youtube.com/playlist?list=PLDV-cCQnUlIa0owhTLK-VT994Qh6XTy4v)\n",
        "\n",
        "문제: text1과 text2의 longest common subsequence의 길이를 구하여라"
      ]
    },
    {
      "cell_type": "code",
      "metadata": {
        "id": "hDvyl4ncUvKW"
      },
      "source": [
        "from typing import List   \n",
        "\n",
        "def longestCommonSubsequence(text1: str, text2: str) -> int:\n",
        "  dp_table = [[0]*(len(text1)+1) for j in range(len(text2)+1)]\n",
        "  \n",
        "  for rowIdx in range(1,len(dp_table)):\n",
        "    prev_row = rowIdx - 1\n",
        "    char2 = text2[rowIdx-1]\n",
        "    for colIdx in range(1,len(dp_table[rowIdx])):\n",
        "      prev_col = colIdx-1\n",
        "      char1 = text1[colIdx-1]\n",
        "      \n",
        "      dp = 0\n",
        "      if char1 == char2:\n",
        "        dp = dp_table[prev_row][prev_col] + 1\n",
        "      else:\n",
        "        dp = max(dp_table[prev_row][colIdx], dp_table[rowIdx][prev_col])        \n",
        "      dp_table[rowIdx][colIdx] = dp\n",
        "  return dp_table[-1][-1]  #return last dp table elem "
      ],
      "execution_count": 2,
      "outputs": []
    },
    {
      "cell_type": "code",
      "metadata": {
        "colab": {
          "base_uri": "https://localhost:8080/"
        },
        "id": "SCCUg-ZVVRee",
        "outputId": "44fee29e-b2de-4f6d-e9ff-1ba52f1fc677"
      },
      "source": [
        "print(longestCommonSubsequence(text1='abdcg',text2='bdag'))"
      ],
      "execution_count": 4,
      "outputs": [
        {
          "output_type": "stream",
          "text": [
            "3\n"
          ],
          "name": "stdout"
        }
      ]
    },
    {
      "cell_type": "code",
      "metadata": {
        "id": "sNR00M14VrqP"
      },
      "source": [
        ""
      ],
      "execution_count": null,
      "outputs": []
    }
  ]
}