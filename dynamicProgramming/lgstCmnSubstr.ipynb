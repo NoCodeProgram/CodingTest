{
  "nbformat": 4,
  "nbformat_minor": 0,
  "metadata": {
    "colab": {
      "name": "lgstCmnSubstr.ipynb",
      "provenance": [],
      "collapsed_sections": [],
      "authorship_tag": "ABX9TyMblNomH5IlAw2cr5L+rRLO",
      "include_colab_link": true
    },
    "kernelspec": {
      "name": "python3",
      "display_name": "Python 3"
    },
    "language_info": {
      "name": "python"
    }
  },
  "cells": [
    {
      "cell_type": "markdown",
      "metadata": {
        "id": "view-in-github",
        "colab_type": "text"
      },
      "source": [
        "<a href=\"https://colab.research.google.com/github/NoCodeProgram/CodingTest/blob/main/dynamicProgramming/lgstCmnSubstr.ipynb\" target=\"_parent\"><img src=\"https://colab.research.google.com/assets/colab-badge.svg\" alt=\"Open In Colab\"/></a>"
      ]
    },
    {
      "cell_type": "markdown",
      "metadata": {
        "id": "a5ePZmPHhPY0"
      },
      "source": [
        "Title :  Longest Common Substring\n",
        "\n",
        "Chapter : Dynamic Programming\n",
        "\n",
        "Link : \n",
        "\n",
        "ChapterLink : [PlayList](https://youtube.com/playlist?list=PLDV-cCQnUlIa0owhTLK-VT994Qh6XTy4v)\n",
        "\n",
        "문제: text1과 text2의 longest common substring 과 그 길이를 구하여라"
      ]
    },
    {
      "cell_type": "code",
      "metadata": {
        "colab": {
          "base_uri": "https://localhost:8080/"
        },
        "id": "l2xrebVAhNk2",
        "outputId": "92d824e3-b087-49ef-c3c0-595ede5b94b1"
      },
      "source": [
        "\n",
        "def longestCommonSubstr(text1:str, text2:str):\n",
        "  dp_table = [[0]*(len(text1)+1) for j in range(len(text2)+1)]\n",
        "\n",
        "  max_dp = -1\n",
        "  max_loc = [-1,-1]\n",
        "\n",
        "  for rowIdx in range(1,len(dp_table)):\n",
        "    prev_row = rowIdx - 1\n",
        "    char2 = text2[rowIdx-1]\n",
        "    for colIdx in range(1,len(dp_table[rowIdx])):\n",
        "      prev_col = colIdx-1\n",
        "      char1 = text1[colIdx-1]\n",
        "      \n",
        "      dp = 0\n",
        "      if char1 == char2:\n",
        "        dp = dp_table[prev_row][prev_col] + 1\n",
        "      else:\n",
        "        dp = 0\n",
        "      \n",
        "      if max_dp < dp:\n",
        "        max_dp = dp\n",
        "        max_loc = [rowIdx,colIdx]              \n",
        "      dp_table[rowIdx][colIdx] = dp\n",
        "\n",
        "  lcs_length = max_dp\n",
        "  lcs_end = max_loc[0] #text2, rowIdx of dptable\n",
        "  lcs_begin = lcs_end-lcs_length\n",
        "  lcs = text2[lcs_begin:lcs_end]\n",
        "\n",
        "  return (lcs_length,lcs)\n",
        " \n",
        "\n",
        "text1 = 'yeshowmuchiloveyoumydearmotherreallyicannotbelieveit'\n",
        "text2 = 'yeaphowmuchiloveyoumydearmother'\n",
        "print(longestCommonSubstr(text1,text2))\n"
      ],
      "execution_count": 15,
      "outputs": [
        {
          "output_type": "stream",
          "name": "stdout",
          "text": [
            "(27, 'howmuchiloveyoumydearmother')\n"
          ]
        }
      ]
    },
    {
      "cell_type": "code",
      "metadata": {
        "id": "Lpxjsp5qhgB_"
      },
      "source": [
        ""
      ],
      "execution_count": null,
      "outputs": []
    }
  ]
}