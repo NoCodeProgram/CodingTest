{
  "nbformat": 4,
  "nbformat_minor": 0,
  "metadata": {
    "colab": {
      "name": "lgstPalSubstring.ipynb",
      "provenance": [],
      "collapsed_sections": [],
      "authorship_tag": "ABX9TyNkChYOB6hGOZ/hiV/RCGag",
      "include_colab_link": true
    },
    "kernelspec": {
      "name": "python3",
      "display_name": "Python 3"
    },
    "language_info": {
      "name": "python"
    }
  },
  "cells": [
    {
      "cell_type": "markdown",
      "metadata": {
        "id": "view-in-github",
        "colab_type": "text"
      },
      "source": [
        "<a href=\"https://colab.research.google.com/github/NoCodeProgram/CodingTest/blob/main/dynamicProgramming/lgstPalSubstring.ipynb\" target=\"_parent\"><img src=\"https://colab.research.google.com/assets/colab-badge.svg\" alt=\"Open In Colab\"/></a>"
      ]
    },
    {
      "cell_type": "markdown",
      "metadata": {
        "id": "XHvLdOt1aYye"
      },
      "source": [
        "Title : Longest Palindromic Substring\n",
        "\n",
        "Chapter : Dynamic Programming\n",
        "\n",
        "Link : [YouTube](https://youtu.be/LYHFaO1lgYM)\n",
        "\n",
        "ChapterLink : [PlayList](https://youtube.com/playlist?list=PLDV-cCQnUlIa0owhTLK-VT994Qh6XTy4v)\n",
        "\n",
        "문제: 주어진 string s에서, 가장 긴 palindromic substring을 return하여라[링크 텍스트](https://)"
      ]
    },
    {
      "cell_type": "code",
      "metadata": {
        "id": "PRu6kdIPaTz4"
      },
      "source": [
        "def longestPalindrome(s: str) -> str:\n",
        "  str_length = len(s)\n",
        "  dp_table = [[0] * str_length for i in range(str_length)]\n",
        "  \n",
        "  for idx in range (str_length):\n",
        "    dp_table[idx][idx] = 1\n",
        "  \n",
        "  for idx in range (str_length -1):\n",
        "    start_char = s[idx]\n",
        "    end_char = s[idx+1]\n",
        "    if start_char == end_char:\n",
        "      dp_table[idx][idx+1] = 2\n",
        "\n",
        "  for idx in range (2, str_length):\n",
        "    row = 0\n",
        "    col = idx\n",
        "    while col < str_length:        \n",
        "      start_char = s[row]\n",
        "      end_char = s[col]\n",
        "      prev_count = dp_table[row+1][col-1]\n",
        "      if start_char == end_char and prev_count != 0:\n",
        "        dp_table[row][col] = prev_count + 2          \n",
        "      row += 1\n",
        "      col += 1\n",
        "      \n",
        "  \n",
        "  max_length = 0\n",
        "  start_idx = 0\n",
        "  end_idx = 0\n",
        "  for row in range (str_length):\n",
        "    for col in range (str_length):\n",
        "      crnt_length = dp_table[row][col]\n",
        "      if max_length < crnt_length:\n",
        "        max_length = crnt_length\n",
        "        start_idx = row\n",
        "        end_idx = col\n",
        "        \n",
        "  sub_str = s[start_idx:end_idx+1]\n",
        "\n",
        "  return sub_str"
      ],
      "execution_count": 1,
      "outputs": []
    },
    {
      "cell_type": "code",
      "metadata": {
        "colab": {
          "base_uri": "https://localhost:8080/"
        },
        "id": "QcRt6gnJnUu7",
        "outputId": "3862fa17-bf6a-4af3-ce48-f3380251324a"
      },
      "source": [
        "print(longestPalindrome(s='baabc'))"
      ],
      "execution_count": 2,
      "outputs": [
        {
          "output_type": "stream",
          "text": [
            "baab\n"
          ],
          "name": "stdout"
        }
      ]
    },
    {
      "cell_type": "code",
      "metadata": {
        "id": "pJKSKH0SnY9L"
      },
      "source": [
        ""
      ],
      "execution_count": null,
      "outputs": []
    }
  ]
}