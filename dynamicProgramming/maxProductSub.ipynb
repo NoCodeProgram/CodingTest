{
  "nbformat": 4,
  "nbformat_minor": 0,
  "metadata": {
    "colab": {
      "name": "maxProductSub.ipynb",
      "provenance": [],
      "authorship_tag": "ABX9TyMsygsaGyAMhguP7hoHwEjt",
      "include_colab_link": true
    },
    "kernelspec": {
      "name": "python3",
      "display_name": "Python 3"
    },
    "language_info": {
      "name": "python"
    }
  },
  "cells": [
    {
      "cell_type": "markdown",
      "metadata": {
        "id": "view-in-github",
        "colab_type": "text"
      },
      "source": [
        "<a href=\"https://colab.research.google.com/github/NoCodeProgram/CodingTest/blob/main/dynamicProgramming/maxProductSub.ipynb\" target=\"_parent\"><img src=\"https://colab.research.google.com/assets/colab-badge.svg\" alt=\"Open In Colab\"/></a>"
      ]
    },
    {
      "cell_type": "markdown",
      "metadata": {
        "id": "Oz05-AAmZKEA"
      },
      "source": [
        "Title : Maximum Product Subarray\n",
        "\n",
        "Chapter : Dynamic Programming\n",
        "\n",
        "Link : [YouTube](https://youtu.be/RY5f8ESnXLc)\n",
        "\n",
        "ChapterLink : [PlayList](https://youtube.com/playlist?list=PLDV-cCQnUlIa0owhTLK-VT994Qh6XTy4v)\n",
        "\n",
        "문제: 주어진 Array에서 최대곱from typing import List  Maximum Subarray를 계산하여라"
      ]
    },
    {
      "cell_type": "code",
      "metadata": {
        "colab": {
          "base_uri": "https://localhost:8080/"
        },
        "id": "N188MnSLZJJN",
        "outputId": "e7ef19a0-7b10-46c5-8046-67dca4770cab"
      },
      "source": [
        "from typing import List \n",
        "\n",
        "def maxProduct(nums: List[int]) -> int:\n",
        "  max_dp = [nums[0]]\n",
        "  min_dp = [nums[0]]\n",
        "  \n",
        "  for idx in range(1,len(nums)):\n",
        "    prev_idx = idx - 1\n",
        "    \n",
        "    num = nums[idx]\n",
        "    cand0 = num\n",
        "    cand1 = max_dp[prev_idx] * num\n",
        "    cand2 = min_dp[prev_idx] * num\n",
        "    \n",
        "    max_val = max(cand0,cand1,cand2)\n",
        "    min_val = min(cand0,cand1,cand2)\n",
        "    \n",
        "    max_dp.append(max_val)\n",
        "    min_dp.append(min_val)\n",
        "  \n",
        "  max_product = max(max_dp)\n",
        "  return max_product\n",
        "\n",
        "print(maxProduct(nums=[3,-2,1,0,-8,-9]))"
      ],
      "execution_count": 2,
      "outputs": [
        {
          "output_type": "stream",
          "text": [
            "72\n"
          ],
          "name": "stdout"
        }
      ]
    },
    {
      "cell_type": "code",
      "metadata": {
        "id": "QtL-_BE0Zffd"
      },
      "source": [
        ""
      ],
      "execution_count": 2,
      "outputs": []
    }
  ]
}