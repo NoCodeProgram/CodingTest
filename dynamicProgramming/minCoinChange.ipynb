{
  "nbformat": 4,
  "nbformat_minor": 0,
  "metadata": {
    "colab": {
      "name": "minCoinChange.ipynb",
      "provenance": [],
      "authorship_tag": "ABX9TyOD1E/SXHVyU86lNsCxMGxu",
      "include_colab_link": true
    },
    "kernelspec": {
      "name": "python3",
      "display_name": "Python 3"
    },
    "language_info": {
      "name": "python"
    }
  },
  "cells": [
    {
      "cell_type": "markdown",
      "metadata": {
        "id": "view-in-github",
        "colab_type": "text"
      },
      "source": [
        "<a href=\"https://colab.research.google.com/github/NoCodeProgram/CodingTest/blob/main/dynamicProgramming/minCoinChange.ipynb\" target=\"_parent\"><img src=\"https://colab.research.google.com/assets/colab-badge.svg\" alt=\"Open In Colab\"/></a>"
      ]
    },
    {
      "cell_type": "markdown",
      "metadata": {
        "id": "_V9ztp3PAoXD"
      },
      "source": [
        "Title : 최소 갯수 동전바꾸기\n",
        "\n",
        "Chapter : Dynamic Programming\n",
        "\n",
        "Link : [YouTube](https://youtu.be/N7m44HWa39o)\n",
        "\n",
        "ChapterLink : [PlayList](https://youtube.com/playlist?list=PLDV-cCQnUlIa0owhTLK-VT994Qh6XTy4v)\n",
        "\n",
        "문제: 주어진 동전 coins로 금액의 합 amount를 만들기 위한 최소한의 동전의 갯수는 몇개인가?"
      ]
    },
    {
      "cell_type": "code",
      "metadata": {
        "colab": {
          "base_uri": "https://localhost:8080/"
        },
        "id": "HLzCpCagAnR7",
        "outputId": "74a7bacc-ac7f-4c9b-c6c4-b31f6db46b96"
      },
      "source": [
        "from typing import List  \n",
        "\n",
        "def coinChange(coins: List[int], amount: int) -> int:\n",
        "  MAX_COST = 999999999\n",
        "  dp_array = [-1] * (amount+1)\n",
        "  dp_array[0] = 0\n",
        "        \n",
        "  for idx in range(amount+1):\n",
        "    if dp_array[idx] != -1:\n",
        "      continue\n",
        "    \n",
        "    crnt_min = MAX_COST\n",
        "    for coin in coins:\n",
        "      last_idx = idx - coin\n",
        "      if last_idx < 0:\n",
        "        continue\n",
        "      last_cost = dp_array[last_idx]\n",
        "      if last_cost == -1:\n",
        "        continue\n",
        "      cost = last_cost + 1\n",
        "      crnt_min = min(cost,crnt_min)\n",
        "      \n",
        "    dp_array[idx] = -1 if crnt_min==MAX_COST else crnt_min\n",
        "      \n",
        "  return dp_array[amount]\n",
        "\n",
        "print(coinChange(coins=[2,3,5], amount = 10))"
      ],
      "execution_count": null,
      "outputs": [
        {
          "output_type": "stream",
          "text": [
            "2\n"
          ],
          "name": "stdout"
        }
      ]
    }
  ]
}