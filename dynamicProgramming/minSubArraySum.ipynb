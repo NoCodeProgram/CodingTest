{
  "nbformat": 4,
  "nbformat_minor": 0,
  "metadata": {
    "colab": {
      "name": "minSubArraySum.ipynb",
      "provenance": [],
      "authorship_tag": "ABX9TyN5hh4YXsKFDLQ+/AVl09Qi",
      "include_colab_link": true
    },
    "kernelspec": {
      "name": "python3",
      "display_name": "Python 3"
    },
    "language_info": {
      "name": "python"
    }
  },
  "cells": [
    {
      "cell_type": "markdown",
      "metadata": {
        "id": "view-in-github",
        "colab_type": "text"
      },
      "source": [
        "<a href=\"https://colab.research.google.com/github/NoCodeProgram/CodingTest/blob/main/dynamicProgramming/minSubArraySum.ipynb\" target=\"_parent\"><img src=\"https://colab.research.google.com/assets/colab-badge.svg\" alt=\"Open In Colab\"/></a>"
      ]
    },
    {
      "cell_type": "markdown",
      "metadata": {
        "id": "yAw94MNPOcD8"
      },
      "source": [
        "Title : Maximum Subarray\n",
        "\n",
        "Chapter : Dynamic Programming\n",
        "\n",
        "Link : [YouTube](https://youtu.be/ED_tYo47Mgs)\n",
        "\n",
        "ChapterLink : [PlayList](https://youtube.com/playlist?list=PLDV-cCQnUlIa0owhTLK-VT994Qh6XTy4v)\n",
        "\n",
        "문제: 주어진 Array에서 최대 Maximum Subarray를 계산하여라"
      ]
    },
    {
      "cell_type": "code",
      "metadata": {
        "colab": {
          "base_uri": "https://localhost:8080/"
        },
        "id": "xpub_468OU-7",
        "outputId": "2477f993-5f55-4d1b-b7e1-f0d18f1f4778"
      },
      "source": [
        "from typing import List  \n",
        "\n",
        "def maxSubArray(nums: List[int]) -> int:\n",
        "  if len(nums) == 0:\n",
        "    return 0\n",
        "  \n",
        "  if len(nums) == 1:\n",
        "    return nums[0]\n",
        "  \n",
        "  dp_array = [0] * len(nums)\n",
        "  dp_array[0] = nums[0]\n",
        "  \n",
        "  for idx in range(1,len(nums)):\n",
        "    prev_max = dp_array[idx-1]\n",
        "    crnt_val = nums[idx]\n",
        "    \n",
        "    connected_sum = prev_max + crnt_val\n",
        "    max_sub = max(connected_sum , crnt_val)\n",
        "    dp_array[idx] = max_sub\n",
        "    \n",
        "  max_sum = max(dp_array)\n",
        "  return max_sum\n",
        "\n",
        "print(maxSubArray(nums = [5,-1,9,-15,8]))"
      ],
      "execution_count": 1,
      "outputs": [
        {
          "output_type": "stream",
          "text": [
            "13\n"
          ],
          "name": "stdout"
        }
      ]
    },
    {
      "cell_type": "code",
      "metadata": {
        "id": "5KBfcET7RK1T"
      },
      "source": [
        ""
      ],
      "execution_count": null,
      "outputs": []
    }
  ]
}