{
  "nbformat": 4,
  "nbformat_minor": 0,
  "metadata": {
    "colab": {
      "name": "minSumPath.ipynb",
      "provenance": [],
      "authorship_tag": "ABX9TyNYFfGGNEzj1BO3nWYblG4H",
      "include_colab_link": true
    },
    "kernelspec": {
      "name": "python3",
      "display_name": "Python 3"
    },
    "language_info": {
      "name": "python"
    }
  },
  "cells": [
    {
      "cell_type": "markdown",
      "metadata": {
        "id": "view-in-github",
        "colab_type": "text"
      },
      "source": [
        "<a href=\"https://colab.research.google.com/github/NoCodeProgram/CodingTest/blob/main/dynamicProgramming/minSumPath.ipynb\" target=\"_parent\"><img src=\"https://colab.research.google.com/assets/colab-badge.svg\" alt=\"Open In Colab\"/></a>"
      ]
    },
    {
      "cell_type": "markdown",
      "metadata": {
        "id": "qdmTIzZFzygj"
      },
      "source": [
        "\n",
        "Title : 최소비용 길찾기\n",
        "\n",
        "Chapter : Dynamic Programming\n",
        "\n",
        "Link : [YouTube](https://youtu.be/11oqpRgDF9Q)\n",
        "\n",
        "ChapterLink : [PlayList](https://youtube.com/playlist?list=PLDV-cCQnUlIa0owhTLK-VT994Qh6XTy4v)\n",
        "\n",
        "문제: 2d array로 길을 가기 위한 비용이 주어진다. 왼쪽 위에서 오른족 아래까지 도달하기 위한 최소 비용은 얼마인가?"
      ]
    },
    {
      "cell_type": "code",
      "metadata": {
        "id": "0NUiIyUtyTxY"
      },
      "source": [
        "from typing import List  \n",
        "\n",
        "def minPathSum(grid: List[List[int]]) -> int:\n",
        "    rows = len(grid)\n",
        "    cols = len(grid[0])\n",
        "    minCost2d = a = [[0] * cols for i in range(rows)]\n",
        "    \n",
        "    #initialize 2d cost map\n",
        "    minCost2d[0][0] = grid[0][0]\n",
        "    for colIdx in range(1,cols):\n",
        "      minCost2d[0][colIdx] = grid[0][colIdx] + minCost2d[0][colIdx-1]\n",
        "    for rowIdx in range(1,rows):\n",
        "      minCost2d[rowIdx][0] = grid[rowIdx][0] + minCost2d[rowIdx-1][0]\n",
        "    \n",
        "    #bottom up DP\n",
        "    for rowIdx in range (1,rows):\n",
        "      for colIdx in range (1,cols):\n",
        "        prevCol = colIdx - 1\n",
        "        prevRow = rowIdx - 1\n",
        "        \n",
        "        upCost = 0 if (prevRow < 0) else minCost2d[prevRow][colIdx]\n",
        "        leftCost = 0 if (prevCol < 0 ) else minCost2d[rowIdx][prevCol]\n",
        "        \n",
        "        prevCost = min(upCost,leftCost)\n",
        "        cost = prevCost + grid[rowIdx][colIdx]        \n",
        "        minCost2d[rowIdx][colIdx] = cost\n",
        "                \n",
        "    minCost = minCost2d[rows-1][cols-1]    \n",
        "    return minCost"
      ],
      "execution_count": 1,
      "outputs": []
    },
    {
      "cell_type": "code",
      "metadata": {
        "colab": {
          "base_uri": "https://localhost:8080/"
        },
        "id": "UD9sxU490D-4",
        "outputId": "7d79e928-55aa-4cee-b1b4-6dbdb45741cd"
      },
      "source": [
        "grid = [[1,3,1,2],[2,4,5,2],[3,4,5,6],[1,5,6,2]]\n",
        "print('minCost=',minPathSum(grid=grid))"
      ],
      "execution_count": 2,
      "outputs": [
        {
          "output_type": "stream",
          "text": [
            "minCost= 17\n"
          ],
          "name": "stdout"
        }
      ]
    },
    {
      "cell_type": "code",
      "metadata": {
        "id": "3wgCGJNU0Qfa"
      },
      "source": [
        ""
      ],
      "execution_count": null,
      "outputs": []
    }
  ]
}