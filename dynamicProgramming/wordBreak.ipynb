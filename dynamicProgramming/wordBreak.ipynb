{
  "nbformat": 4,
  "nbformat_minor": 0,
  "metadata": {
    "colab": {
      "name": "wordBreak.ipynb",
      "provenance": [],
      "collapsed_sections": [],
      "authorship_tag": "ABX9TyMXoQuvDluNipcabHljI/bo",
      "include_colab_link": true
    },
    "kernelspec": {
      "name": "python3",
      "display_name": "Python 3"
    },
    "language_info": {
      "name": "python"
    }
  },
  "cells": [
    {
      "cell_type": "markdown",
      "metadata": {
        "id": "view-in-github",
        "colab_type": "text"
      },
      "source": [
        "<a href=\"https://colab.research.google.com/github/NoCodeProgram/CodingTest/blob/main/dynamicProgramming/wordBreak.ipynb\" target=\"_parent\"><img src=\"https://colab.research.google.com/assets/colab-badge.svg\" alt=\"Open In Colab\"/></a>"
      ]
    },
    {
      "cell_type": "markdown",
      "metadata": {
        "id": "ViNitnltkn_W"
      },
      "source": [
        "Title : Word Break\n",
        "\n",
        "Chapter : Dynamic Programming\n",
        "\n",
        "Link : [YouTube](https://youtu.be/RotYWv_ao3E)\n",
        "\n",
        "ChapterLink : [PlayList](https://youtube.com/playlist?list=PLDV-cCQnUlIa0owhTLK-VT994Qh6XTy4v)\n",
        "\n",
        "문제: 주어진 string s를 wordDict 만으로 만들 수 있는지 판별하여라"
      ]
    },
    {
      "cell_type": "code",
      "metadata": {
        "id": "e3W7as0oeBvX"
      },
      "source": [
        "from typing import List  \n",
        "\n",
        "def wordBreak(s: str, wordDict: List[str]) -> bool:\n",
        "  word_set = set()\n",
        "  for word in wordDict:\n",
        "    word_set.add(word)\n",
        "  \n",
        "  str_length = len(s)\n",
        "  dp_arry = [False] * (str_length + 1)\n",
        "  dp_arry[0] = True\n",
        "  \n",
        "  for idx in range(1,len(dp_arry)):\n",
        "    for word in word_set:\n",
        "      word_length = len(word)\n",
        "      prev_idx = idx - word_length\n",
        "      if prev_idx < 0:\n",
        "        continue\n",
        "      \n",
        "      if dp_arry[prev_idx] == False:\n",
        "        continue\n",
        "        \n",
        "      if s[prev_idx:idx] == word:\n",
        "        dp_arry[idx] = True\n",
        "        break\n",
        "  \n",
        "  return dp_arry[-1] #return last elem\n",
        "        "
      ],
      "execution_count": 2,
      "outputs": []
    },
    {
      "cell_type": "code",
      "metadata": {
        "colab": {
          "base_uri": "https://localhost:8080/"
        },
        "id": "5o2m3EmOQFzU",
        "outputId": "d6551bf2-dc68-4384-9d18-3b6cec9edbd3"
      },
      "source": [
        "print(wordBreak(s='nocodeprogram', wordDict=['noc','cod','code','program']))\n",
        "print(wordBreak(s='nocope', wordDict=['e','no','cop']))"
      ],
      "execution_count": 4,
      "outputs": [
        {
          "output_type": "stream",
          "text": [
            "False\n",
            "True\n"
          ],
          "name": "stdout"
        }
      ]
    },
    {
      "cell_type": "code",
      "metadata": {
        "id": "ZB3QU_SeQ95w"
      },
      "source": [
        ""
      ],
      "execution_count": null,
      "outputs": []
    }
  ]
}