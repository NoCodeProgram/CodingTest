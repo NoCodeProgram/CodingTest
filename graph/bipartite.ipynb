{
  "nbformat": 4,
  "nbformat_minor": 0,
  "metadata": {
    "colab": {
      "name": "bipartite.ipynb",
      "provenance": [],
      "authorship_tag": "ABX9TyP/KyRzs8NDWV/e0bPM9D1c",
      "include_colab_link": true
    },
    "kernelspec": {
      "name": "python3",
      "display_name": "Python 3"
    },
    "language_info": {
      "name": "python"
    }
  },
  "cells": [
    {
      "cell_type": "markdown",
      "metadata": {
        "id": "view-in-github",
        "colab_type": "text"
      },
      "source": [
        "<a href=\"https://colab.research.google.com/github/NoCodeProgram/CodingTest/blob/main/graph/bipartite.ipynb\" target=\"_parent\"><img src=\"https://colab.research.google.com/assets/colab-badge.svg\" alt=\"Open In Colab\"/></a>"
      ]
    },
    {
      "cell_type": "markdown",
      "metadata": {
        "id": "puVJSGT0Lezw"
      },
      "source": [
        "Title : Bipartite Graph\n",
        "\n",
        "Chapter : Graph\n",
        "\n",
        "Link :\n",
        "\n",
        "ChapterLink :\n",
        "\n",
        "문제 : 주어진 graph가 bipartite인지 체크하여라\n"
      ]
    },
    {
      "cell_type": "code",
      "metadata": {
        "id": "qaM9aqIVLddu"
      },
      "source": [
        "from typing import List\n",
        "\n",
        "def isBipartiteDFS(graph: List[List[int]]) -> bool:\n",
        "  vertex_num = len(graph)\n",
        "  colors = [0] * vertex_num       #0:None, 1:GroupA, -1:GroupB \n",
        "  seen = set()\n",
        "      \n",
        "  for start_idx in range(vertex_num):\n",
        "    if start_idx in seen:\n",
        "      continue\n",
        "    \n",
        "    stack = []\n",
        "    stack.append(start_idx)\n",
        "    seen.add(start_idx)\n",
        "    colors[start_idx] = 1\n",
        "    \n",
        "    while stack:\n",
        "      idx = stack.pop()\n",
        "      conn_idxs = graph[idx]\n",
        "      color = colors[idx]\n",
        "\n",
        "      for conn_idx in conn_idxs:\n",
        "        if conn_idx not in seen:\n",
        "          seen.add(conn_idx)\n",
        "          stack.append(conn_idx)\n",
        "          colors[conn_idx] = -1 * color\n",
        "          continue\n",
        "\n",
        "        if colors[conn_idx] * color != -1:\n",
        "          return False\n",
        "      \n",
        "  return True\n",
        "    "
      ],
      "execution_count": 6,
      "outputs": []
    },
    {
      "cell_type": "code",
      "metadata": {
        "colab": {
          "base_uri": "https://localhost:8080/"
        },
        "id": "ZePguKuyLsig",
        "outputId": "ee4f6659-3179-4a92-a332-62699a33e94d"
      },
      "source": [
        "print(isBipartiteDFS([[1,3],[0,2],[1,3],[0,2]]))\n",
        "print(isBipartiteDFS([[1,2,3],[0,2],[0,1,3],[0,2]]))"
      ],
      "execution_count": 5,
      "outputs": [
        {
          "output_type": "stream",
          "text": [
            "True\n",
            "False\n"
          ],
          "name": "stdout"
        }
      ]
    },
    {
      "cell_type": "code",
      "metadata": {
        "id": "OAPKelsXL0KV"
      },
      "source": [
        ""
      ],
      "execution_count": null,
      "outputs": []
    }
  ]
}