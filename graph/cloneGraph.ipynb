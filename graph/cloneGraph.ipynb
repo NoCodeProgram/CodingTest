{
  "nbformat": 4,
  "nbformat_minor": 0,
  "metadata": {
    "colab": {
      "name": "cloneGraph.ipynb",
      "provenance": [],
      "collapsed_sections": [],
      "authorship_tag": "ABX9TyO1XZ01xA9kiE1X2hNB4Bmy",
      "include_colab_link": true
    },
    "kernelspec": {
      "name": "python3",
      "display_name": "Python 3"
    },
    "language_info": {
      "name": "python"
    }
  },
  "cells": [
    {
      "cell_type": "markdown",
      "metadata": {
        "id": "view-in-github",
        "colab_type": "text"
      },
      "source": [
        "<a href=\"https://colab.research.google.com/github/NoCodeProgram/CodingTest/blob/main/graph/cloneGraph.ipynb\" target=\"_parent\"><img src=\"https://colab.research.google.com/assets/colab-badge.svg\" alt=\"Open In Colab\"/></a>"
      ]
    },
    {
      "cell_type": "markdown",
      "metadata": {
        "id": "TN_wro83ztIE"
      },
      "source": [
        "Title : Clone Graph\n",
        "\n",
        "Chapter : Graph\n",
        "\n",
        "Link :\n",
        "\n",
        "ChapterLink :\n",
        "\n",
        "문제 : 주어진 Graph를 Deep Copy 하여라\n"
      ]
    },
    {
      "cell_type": "code",
      "metadata": {
        "id": "d_PZrl-wzx0t"
      },
      "source": [
        "class Node:\n",
        "  def __init__(self, val = 0):\n",
        "    self.val = val\n",
        "    self.adjs = []\n",
        "\n",
        "node0 = Node(0)\n",
        "node1 = Node(1)\n",
        "node2 = Node(2)\n",
        "node3 = Node(3)\n",
        "node4 = Node(4)\n",
        "\n",
        "node0.adjs.append(node1)\n",
        "node1.adjs.append(node0)\n",
        "node0.adjs.append(node3)\n",
        "node3.adjs.append(node0)\n",
        "\n",
        "node1.adjs.append(node2)\n",
        "node2.adjs.append(node1)\n",
        "node1.adjs.append(node4)\n",
        "node4.adjs.append(node1)\n",
        "\n",
        "node2.adjs.append(node4)\n",
        "node4.adjs.append(node2)\n",
        "node2.adjs.append(node3)\n",
        "node3.adjs.append(node2)"
      ],
      "execution_count": 3,
      "outputs": []
    },
    {
      "cell_type": "code",
      "metadata": {
        "id": "Odo1wb93zq-f"
      },
      "source": [
        "from collections import deque\n",
        "\n",
        "def cloneGraph(node: Node) -> Node:\n",
        "  if node is None:\n",
        "    return None  \n",
        "  \n",
        "  seen = set()    #for BFS\n",
        "  queue = deque() #for BFS\n",
        "  node_map = {}   #Mapping to new nodes\n",
        "  \n",
        "  seen.add(node)\n",
        "  queue.append(node)\n",
        "  \n",
        "  while queue:\n",
        "    crnt_node = queue.popleft()\n",
        "    new_node = Node(crnt_node.val)  #create new node\n",
        "    node_map[crnt_node] = new_node  #mapping\n",
        "    \n",
        "    print(crnt_node.val, end=' ')\n",
        "    \n",
        "    adjs = crnt_node.adjs\n",
        "    for adj in adjs:\n",
        "      if adj not in seen: #BFS\n",
        "        seen.add(adj)\n",
        "        queue.append(adj)\n",
        "      \n",
        "      elif adj in node_map: #edge creation \n",
        "        copy_adj = node_map[adj]\n",
        "        new_node.adjs.append(copy_adj)\n",
        "        copy_adj.adjs.append(new_node)\n",
        "\n",
        "  ret_node = node_map[node]\n",
        "  return ret_node\n",
        "    "
      ],
      "execution_count": 14,
      "outputs": []
    },
    {
      "cell_type": "code",
      "metadata": {
        "colab": {
          "base_uri": "https://localhost:8080/"
        },
        "id": "SFNOmYSD3FT_",
        "outputId": "3cd58d44-278c-44f0-a198-fb2004c8c7f9"
      },
      "source": [
        "cloned_graph = cloneGraph(node0)"
      ],
      "execution_count": 13,
      "outputs": [
        {
          "output_type": "stream",
          "text": [
            "0 1 3 2 4 "
          ],
          "name": "stdout"
        }
      ]
    },
    {
      "cell_type": "code",
      "metadata": {
        "id": "bPcNKXu73IVf"
      },
      "source": [
        ""
      ],
      "execution_count": null,
      "outputs": []
    }
  ]
}