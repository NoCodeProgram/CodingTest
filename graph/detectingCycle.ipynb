{
  "nbformat": 4,
  "nbformat_minor": 0,
  "metadata": {
    "colab": {
      "name": "detectingCycle.ipynb",
      "provenance": [],
      "collapsed_sections": [],
      "authorship_tag": "ABX9TyM3Fq6XaBXX67hsnLLiJfSp",
      "include_colab_link": true
    },
    "kernelspec": {
      "name": "python3",
      "display_name": "Python 3"
    },
    "language_info": {
      "name": "python"
    }
  },
  "cells": [
    {
      "cell_type": "markdown",
      "metadata": {
        "id": "view-in-github",
        "colab_type": "text"
      },
      "source": [
        "<a href=\"https://colab.research.google.com/github/NoCodeProgram/CodingTest/blob/main/graph/detectingCycle.ipynb\" target=\"_parent\"><img src=\"https://colab.research.google.com/assets/colab-badge.svg\" alt=\"Open In Colab\"/></a>"
      ]
    },
    {
      "cell_type": "markdown",
      "metadata": {
        "id": "TaBSmCVCJ5k6"
      },
      "source": [
        "\n",
        "Title : Detecting Cycle\n",
        "\n",
        "Chapter : Graph\n",
        "\n",
        "Link :\n",
        "\n",
        "ChapterLink :\n",
        "\n",
        "문제 : 주어진 Directed Graph에서 Cycle이 있는지 확인해보아라\n"
      ]
    },
    {
      "cell_type": "code",
      "metadata": {
        "colab": {
          "base_uri": "https://localhost:8080/"
        },
        "id": "lHsF-U7HJ5B5",
        "outputId": "92449f6b-ec16-49ad-895b-31f280d04ac2"
      },
      "source": [
        "from typing import List\n",
        "class HasCycle:\n",
        "  def recurDFS(self, graph:List[List[int]]) -> bool:\n",
        "   \n",
        "    self._graph = graph\n",
        "    self._seen = set()\n",
        "    for idx, _ in enumerate(graph):\n",
        "      loop_track = set()\n",
        "      ret = self._recurDFS(idx,loop_track)\n",
        "      if ret is True:\n",
        "        return True   #found a cycle\n",
        "        \n",
        "    return False\n",
        "      \n",
        "  def _recurDFS(self,idx,loop_track) -> bool:\n",
        "    if idx in self._seen: #visited already\n",
        "      return False\n",
        "    if idx in loop_track: #found a cycle\n",
        "      return True\n",
        "    \n",
        "    loop_track.add(idx) #path add\n",
        "    nexts = self._graph[idx]\n",
        "    for adj_idx in nexts:  \n",
        "      ret = self._recurDFS(adj_idx,loop_track)\n",
        "      if ret is True:\n",
        "        return True    \n",
        "    loop_track.remove(idx) #path removal\n",
        "\n",
        "    self._seen.add(idx)   #mark as visited\n",
        "    return False\n",
        "\n",
        "hasCycle = HasCycle()\n",
        "hasCycle.recurDFS([[1],[],[0],[0,4],[1,6],[4],[5]])\n",
        "      "
      ],
      "execution_count": 4,
      "outputs": [
        {
          "output_type": "execute_result",
          "data": {
            "text/plain": [
              "True"
            ]
          },
          "metadata": {
            "tags": []
          },
          "execution_count": 4
        }
      ]
    },
    {
      "cell_type": "code",
      "metadata": {
        "id": "HFc0JkEXMbI7"
      },
      "source": [
        ""
      ],
      "execution_count": null,
      "outputs": []
    }
  ]
}