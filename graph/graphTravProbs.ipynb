{
  "nbformat": 4,
  "nbformat_minor": 0,
  "metadata": {
    "colab": {
      "name": "graphTravProbs.ipynb",
      "provenance": [],
      "authorship_tag": "ABX9TyNOdXH0WV809e36D6iJurez",
      "include_colab_link": true
    },
    "kernelspec": {
      "name": "python3",
      "display_name": "Python 3"
    },
    "language_info": {
      "name": "python"
    }
  },
  "cells": [
    {
      "cell_type": "markdown",
      "metadata": {
        "id": "view-in-github",
        "colab_type": "text"
      },
      "source": [
        "<a href=\"https://colab.research.google.com/github/NoCodeProgram/CodingTest/blob/main/graph/graphTravProbs.ipynb\" target=\"_parent\"><img src=\"https://colab.research.google.com/assets/colab-badge.svg\" alt=\"Open In Colab\"/></a>"
      ]
    },
    {
      "cell_type": "markdown",
      "metadata": {
        "id": "00Ez64SvHil9"
      },
      "source": [
        "Title : The Number of Connected Components\n",
        "\n",
        "Chapter : Graph\n",
        "\n",
        "Link :\n",
        "\n",
        "ChapterLink :\n",
        "\n",
        "문제 : 주어진 graph의 Connected Components의 갯수를 구하여라. 여기서 graph는 vertex의 갯수와 edge로만 주어진다\n"
      ]
    },
    {
      "cell_type": "code",
      "metadata": {
        "id": "6BGUJZ-MHhi2"
      },
      "source": [
        "from typing import List\n",
        "\n",
        "def countComponents(n: int, edges: List[List[int]]) -> int:\n",
        "  vertices = [[] for _ in range(n)]\n",
        "  \n",
        "  #build a graph\n",
        "  for edge in edges:\n",
        "    v0, v1 = edge\n",
        "    vertices[v0].append(v1)\n",
        "    vertices[v1].append(v0)\n",
        "  \n",
        "  #Process\n",
        "  visited = set()   \n",
        "  comp_count = 0\n",
        "  for idx in range(n):\n",
        "    if idx not in visited:\n",
        "      comp_count = comp_count + 1\n",
        "              \n",
        "      #DFS\n",
        "      seen = set()\n",
        "      stack = [idx]\n",
        "      seen.add(idx)\n",
        "      \n",
        "      while stack:        \n",
        "        crnt_idx = stack.pop()\n",
        "        visited.add(crnt_idx)\n",
        "        next_vertices = vertices[crnt_idx]\n",
        "        for next_idx in next_vertices:\n",
        "          if next_idx not in seen:\n",
        "            seen.add(next_idx)\n",
        "            stack.append(next_idx)\n",
        "                  \n",
        "        \n",
        "  return comp_count"
      ],
      "execution_count": 1,
      "outputs": []
    },
    {
      "cell_type": "code",
      "metadata": {
        "colab": {
          "base_uri": "https://localhost:8080/"
        },
        "id": "I9ZDLMQoK9_l",
        "outputId": "beb83050-77d3-4eed-eef3-26406cf01f99"
      },
      "source": [
        "print(countComponents(6,[[0,1],[1,2],[2,0],[3,4]]))"
      ],
      "execution_count": 2,
      "outputs": [
        {
          "output_type": "stream",
          "text": [
            "3\n"
          ],
          "name": "stdout"
        }
      ]
    },
    {
      "cell_type": "markdown",
      "metadata": {
        "id": "x0pi7M0-LVbD"
      },
      "source": [
        "Title : The Number of Island\n",
        "\n",
        "Chapter : Graph\n",
        "\n",
        "Link :\n",
        "\n",
        "ChapterLink :\n",
        "\n",
        "문제 : 2D로 주어진 matrix에서 1은 땅을, 0은 물을 의미한다. 이때 matrix안의 섬의 갯수를 구하여라"
      ]
    },
    {
      "cell_type": "code",
      "metadata": {
        "id": "Sqy6Cq2cLFbo"
      },
      "source": [
        "from typing import List\n",
        "\n",
        "class NumIslands:\n",
        "  def count(self, grid: List[List[str]]) -> int:\n",
        "    rows = len(grid)\n",
        "    if rows == 0:\n",
        "      return 0\n",
        "    \n",
        "    cols = len(grid[0])\n",
        "    if cols == 0:\n",
        "      return 0\n",
        "    \n",
        "    \n",
        "    self._grid = grid\n",
        "    self._rows = rows\n",
        "    self._cols = cols\n",
        "    \n",
        "    numIslands = 0\n",
        "    \n",
        "    for y in range(rows):\n",
        "      for x in range(cols):\n",
        "        if self._grid[y][x] == \"1\":\n",
        "          numIslands = numIslands+1\n",
        "          self._dfs(y,x)\n",
        "                \n",
        "    return numIslands\n",
        "  \n",
        "  def _filter(self, idx2d ) -> bool:\n",
        "    y, x = idx2d\n",
        "    if y<0 or x<0 or self._rows<=y or self._cols<= x:\n",
        "      return False    \n",
        "    elif self._grid[y][x] == \"1\":\n",
        "      return True\n",
        "    return False\n",
        "    \n",
        "  def _dfs(self, row:int, col:int) -> None:\n",
        "    seen = set()\n",
        "    stack = []\n",
        "    \n",
        "    stack.append((row,col))\n",
        "    seen.add((row,col))\n",
        "    \n",
        "    while stack:\n",
        "      y,x = stack.pop()\n",
        "      self._grid[y][x] = \"0\"\n",
        "      \n",
        "      idx_pairs = [[y-1,x],[y,x+1],[y+1,x],[y,x-1]] #index candidates\n",
        "      idx_pairs = list(filter(self._filter, idx_pairs)) #filtering\n",
        "      \n",
        "      for idx_pair in idx_pairs:\n",
        "        next_y, next_x = idx_pair\n",
        "        if (next_y, next_x) not in seen:\n",
        "          stack.append((next_y, next_x))\n",
        "          seen.add((next_y, next_x))\n",
        "        \n",
        "numIslands = NumIslands()"
      ],
      "execution_count": 3,
      "outputs": []
    },
    {
      "cell_type": "code",
      "metadata": {
        "colab": {
          "base_uri": "https://localhost:8080/"
        },
        "id": "eyylwCgqLm6p",
        "outputId": "d57c2d20-0fcc-4d7f-ffa5-4c36ea06a776"
      },
      "source": [
        "matrix = [\n",
        "  [\"1\",\"1\",\"0\",\"0\",\"1\"],\n",
        "  [\"1\",\"1\",\"0\",\"1\",\"1\"],\n",
        "  [\"0\",\"0\",\"1\",\"0\",\"0\"],\n",
        "  [\"0\",\"0\",\"0\",\"1\",\"1\"]\n",
        "]\n",
        "print(numIslands.count(matrix))"
      ],
      "execution_count": 4,
      "outputs": [
        {
          "output_type": "stream",
          "text": [
            "4\n"
          ],
          "name": "stdout"
        }
      ]
    },
    {
      "cell_type": "code",
      "metadata": {
        "id": "smfNDGeuLwDc"
      },
      "source": [
        ""
      ],
      "execution_count": 4,
      "outputs": []
    }
  ]
}