{
  "nbformat": 4,
  "nbformat_minor": 0,
  "metadata": {
    "colab": {
      "name": "keyRoom.ipynb",
      "provenance": [],
      "collapsed_sections": [],
      "authorship_tag": "ABX9TyPcpdxV6442g+ul9fA7jpV3",
      "include_colab_link": true
    },
    "kernelspec": {
      "name": "python3",
      "display_name": "Python 3"
    },
    "language_info": {
      "name": "python"
    }
  },
  "cells": [
    {
      "cell_type": "markdown",
      "metadata": {
        "id": "view-in-github",
        "colab_type": "text"
      },
      "source": [
        "<a href=\"https://colab.research.google.com/github/NoCodeProgram/CodingTest/blob/main/graph/keyRoom.ipynb\" target=\"_parent\"><img src=\"https://colab.research.google.com/assets/colab-badge.svg\" alt=\"Open In Colab\"/></a>"
      ]
    },
    {
      "cell_type": "markdown",
      "metadata": {
        "id": "OaMLIcQyLbbO"
      },
      "source": [
        "Title : Visit All Rooms\n",
        "\n",
        "Chapter : Graph\n",
        "\n",
        "Link :\n",
        "\n",
        "ChapterLink :\n",
        "\n",
        "문제 : 각 Room 마다 다른 room을 위한 key들이 준비되어있다. Room 0번에 접근 할 수 있을때 모든 Room에 접근할수있는지 T/F로 return 하여라\n"
      ]
    },
    {
      "cell_type": "code",
      "metadata": {
        "id": "K2RSCoptLSuU"
      },
      "source": [
        "from typing import List\n",
        "from collections import deque\n",
        "\n",
        "class VisitAllRooms:\n",
        "  def recurDFS(self, rooms: List[List[int]]) -> bool:\n",
        "    self._rooms = rooms\n",
        "    self._seen = set()\n",
        "    \n",
        "    self._recurDFS(0)   \n",
        "    \n",
        "    if len(self._rooms) == len(self._seen):\n",
        "      return True    \n",
        "    else:\n",
        "      return False\n",
        "  \n",
        "  def _recurDFS(self, room_idx:int) -> None:\n",
        "    print(room_idx, end=' ')\n",
        "    self._seen.add(room_idx)\n",
        "    keys = self._rooms[room_idx]\n",
        "    \n",
        "    for key in keys:\n",
        "      if key not in self._seen:\n",
        "        self._recurDFS(key)\n",
        "\n",
        "\n",
        "  def iterDFS(self, rooms: List[List[int]]) -> bool:\n",
        "    seen = set()\n",
        "    stack = []    \n",
        "    stack.append(0)\n",
        "    seen.add(0)\n",
        "    print(0, end=' ')\n",
        "\n",
        "    while stack:\n",
        "      room_idx = stack.pop()\n",
        "      keys = rooms[room_idx]\n",
        "      for key in keys:\n",
        "        if key not in seen:\n",
        "          stack.append(key)\n",
        "          seen.add(key)\n",
        "          print(key, end=' ')\n",
        "          \n",
        "    if len(rooms) == len(seen):\n",
        "      return True    \n",
        "    else:\n",
        "      return False\n",
        "\n",
        "  def BFS(self, rooms: List[List[int]]) -> bool:    \n",
        "    seen = set()\n",
        "    queue = deque()    \n",
        "    queue.append(0)\n",
        "    seen.add(0)\n",
        "    print(0, end=' ')\n",
        "\n",
        "    while queue:\n",
        "      room_idx = queue.popleft()\n",
        "      keys = rooms[room_idx]\n",
        "      for key in keys:\n",
        "        if key not in seen:\n",
        "          queue.append(key)\n",
        "          seen.add(key)\n",
        "          print(key, end=' ')\n",
        "          \n",
        "    if len(rooms) == len(seen):\n",
        "      return True    \n",
        "    else:\n",
        "      return False\n",
        "      \n",
        "\n",
        "visitAllRooms = VisitAllRooms()"
      ],
      "execution_count": 5,
      "outputs": []
    },
    {
      "cell_type": "code",
      "metadata": {
        "colab": {
          "base_uri": "https://localhost:8080/"
        },
        "id": "63CtkIAHMHY_",
        "outputId": "9df64ccc-34ad-449a-df79-a12e62e7b2c8"
      },
      "source": [
        "print(visitAllRooms.recurDFS([[1,3],[3,0,1,5],[2,4],[0,2],[],[]]))\n",
        "print(visitAllRooms.iterDFS([[1,3],[3,0,1,5],[2,4],[0,2],[],[]]))\n",
        "print(visitAllRooms.BFS([[1,3],[3,0,1,5],[2,4],[0,2],[],[]]))"
      ],
      "execution_count": 6,
      "outputs": [
        {
          "output_type": "stream",
          "text": [
            "0 1 3 2 4 5 True\n",
            "0 1 3 2 4 5 True\n",
            "0 1 3 5 2 4 True\n"
          ],
          "name": "stdout"
        }
      ]
    },
    {
      "cell_type": "code",
      "metadata": {
        "id": "DKqMqiLHXST3"
      },
      "source": [
        ""
      ],
      "execution_count": null,
      "outputs": []
    }
  ]
}