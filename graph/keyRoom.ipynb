{
  "nbformat": 4,
  "nbformat_minor": 0,
  "metadata": {
    "colab": {
      "name": "keyRoom.ipynb",
      "provenance": [],
      "collapsed_sections": [],
      "authorship_tag": "ABX9TyNt9HMsUfo/SWXIIIfYB2KQ",
      "include_colab_link": true
    },
    "kernelspec": {
      "name": "python3",
      "display_name": "Python 3"
    },
    "language_info": {
      "name": "python"
    }
  },
  "cells": [
    {
      "cell_type": "markdown",
      "metadata": {
        "id": "view-in-github",
        "colab_type": "text"
      },
      "source": [
        "<a href=\"https://colab.research.google.com/github/NoCodeProgram/CodingTest/blob/main/graph/keyRoom.ipynb\" target=\"_parent\"><img src=\"https://colab.research.google.com/assets/colab-badge.svg\" alt=\"Open In Colab\"/></a>"
      ]
    },
    {
      "cell_type": "markdown",
      "metadata": {
        "id": "OaMLIcQyLbbO"
      },
      "source": [
        "Title : Visit All Rooms\n",
        "\n",
        "Chapter : Graph\n",
        "\n",
        "Link :\n",
        "\n",
        "ChapterLink :\n",
        "\n",
        "문제 : 각 Room 마다 다른 room을 위한 key들이 준비되어있다. Room 0번에 접근 할 수 있을때 모든 Room에 접근할수있는지 T/F로 return 하여라\n"
      ]
    },
    {
      "cell_type": "code",
      "metadata": {
        "id": "K2RSCoptLSuU"
      },
      "source": [
        "from typing import List\n",
        "from collections import deque\n",
        "\n",
        "class VisitAllRooms:\n",
        "  def recurDFS(self, rooms: List[List[int]]) -> bool:\n",
        "    self._rooms = rooms\n",
        "    self._visited = set()\n",
        "    \n",
        "    self._recurDFS(0)   \n",
        "    \n",
        "    if len(self._rooms) == len(self._visited):\n",
        "      return True    \n",
        "    else:\n",
        "      return False\n",
        "  \n",
        "  def _recurDFS(self, room_idx:int) -> None:\n",
        "    print(room_idx, end=' ')\n",
        "    self._visited.add(room_idx)\n",
        "    keys = self._rooms[room_idx]\n",
        "    \n",
        "    for key in keys:\n",
        "      if key not in self._visited:\n",
        "        self._recurDFS(key)\n",
        "\n",
        "\n",
        "  def iterDFS(self, rooms: List[List[int]]) -> bool:\n",
        "    visited = set()\n",
        "    stack = []\n",
        "    \n",
        "    stack.append(0)\n",
        "    \n",
        "    while stack:\n",
        "      room_idx = stack.pop()\n",
        "      print(room_idx, end=' ')\n",
        "      visited.add(room_idx)\n",
        "      keys = rooms[room_idx]\n",
        "      for key in keys:\n",
        "        if key not in visited:\n",
        "          stack.append(key)\n",
        "          \n",
        "    if len(rooms) == len(visited):\n",
        "      return True    \n",
        "    else:\n",
        "      return False\n",
        "\n",
        "  def BFS(self, rooms: List[List[int]]) -> bool:    \n",
        "    visited = set()\n",
        "    queue = deque()\n",
        "    \n",
        "    queue.append(0)\n",
        "    \n",
        "    while queue:\n",
        "      room_idx = queue.popleft()\n",
        "      if room_idx in visited:\n",
        "        continue\n",
        "      print(room_idx, end=' ')\n",
        "      visited.add(room_idx)\n",
        "      keys = rooms[room_idx]\n",
        "      for key in keys:\n",
        "        if key not in visited:\n",
        "          # print(room_idx, key)\n",
        "          queue.append(key)\n",
        "          \n",
        "    if len(rooms) == len(visited):\n",
        "      return True    \n",
        "    else:\n",
        "      return False\n",
        "      \n",
        "\n",
        "\n",
        "visitAllRooms = VisitAllRooms()"
      ],
      "execution_count": null,
      "outputs": []
    },
    {
      "cell_type": "code",
      "metadata": {
        "colab": {
          "base_uri": "https://localhost:8080/"
        },
        "id": "63CtkIAHMHY_",
        "outputId": "9ba833e4-95c4-495d-f3a7-0e32975cd6c0"
      },
      "source": [
        "print(visitAllRooms.recurDFS([[1,3],[3,0,1,5],[2,4],[0,2],[],[]]))\n",
        "print(visitAllRooms.iterDFS([[1,3],[3,0,1,5],[2,4],[0,2],[],[]]))\n",
        "print(visitAllRooms.BFS([[1,3],[3,0,1,5],[2,4],[0,2],[],[]]))"
      ],
      "execution_count": null,
      "outputs": [
        {
          "output_type": "stream",
          "text": [
            "0 1 3 2 4 5 True\n",
            "0 3 2 4 1 5 True\n",
            "0 1 3 5 2 4 True\n"
          ],
          "name": "stdout"
        }
      ]
    },
    {
      "cell_type": "code",
      "metadata": {
        "id": "DKqMqiLHXST3"
      },
      "source": [
        ""
      ],
      "execution_count": null,
      "outputs": []
    }
  ]
}