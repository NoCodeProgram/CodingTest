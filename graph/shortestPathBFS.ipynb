{
  "nbformat": 4,
  "nbformat_minor": 0,
  "metadata": {
    "colab": {
      "name": "shortestPathBFS.ipynb",
      "provenance": [],
      "authorship_tag": "ABX9TyO6BYUk0kOzXCtAKHfXEUHr",
      "include_colab_link": true
    },
    "kernelspec": {
      "name": "python3",
      "display_name": "Python 3"
    },
    "language_info": {
      "name": "python"
    }
  },
  "cells": [
    {
      "cell_type": "markdown",
      "metadata": {
        "id": "view-in-github",
        "colab_type": "text"
      },
      "source": [
        "<a href=\"https://colab.research.google.com/github/NoCodeProgram/CodingTest/blob/main/graph/shortestPathBFS.ipynb\" target=\"_parent\"><img src=\"https://colab.research.google.com/assets/colab-badge.svg\" alt=\"Open In Colab\"/></a>"
      ]
    },
    {
      "cell_type": "markdown",
      "metadata": {
        "id": "wifBtF8sMmzD"
      },
      "source": [
        "Title : Shortest Path (BFS)\n",
        "\n",
        "Chapter : Graph\n",
        "\n",
        "Link :\n",
        "\n",
        "ChapterLink :\n",
        "\n",
        "문제 : 주어진 graph의 왼쪽 위 에서 아랫쪽 끝까지의 shortest path의 길이를 return 하여라. path는 matrix cell의 8방향으로 이어져 있다.\n"
      ]
    },
    {
      "cell_type": "code",
      "metadata": {
        "id": "cYzlx4e2MhK2"
      },
      "source": [
        "from typing import List\n",
        "from collections import deque\n",
        "\n",
        "class ShortestPath:\n",
        "  def BFS(self, grid: List[List[int]]) -> int:\n",
        "    rows = len(grid)\n",
        "    if rows == 0:\n",
        "      return -1\n",
        "    \n",
        "    cols = len(grid[0])\n",
        "    if cols == 0:\n",
        "      return -1\n",
        "    \n",
        "    if grid[0][0] != 0:\n",
        "      return -1\n",
        "    \n",
        "    self._rows = rows\n",
        "    self._cols = cols\n",
        "    self._grid = grid\n",
        "    \n",
        "    queue = deque()\n",
        "    countQ = deque()\n",
        "    seen = set()\n",
        "    queue.append((0,0))\n",
        "    countQ.append(1)\n",
        "    seen.add((0,0))\n",
        "    \n",
        "    while queue:\n",
        "      y, x = queue.popleft()\n",
        "      count = countQ.popleft()\n",
        "      self._grid[y][x] = count\n",
        "      \n",
        "      if y == self._rows-1 and x == self._cols-1:\n",
        "        return count\n",
        "      \n",
        "      idx_pairs = [[y-1,x-1],[y-1,x],[y-1,x+1],[y,x+1],[y+1,x+1],[y+1,x],[y+1,x-1],[y,x-1]] #index candidates\n",
        "      idx_pairs = list(filter(self._filter, idx_pairs)) #filtering\n",
        "      \n",
        "      for idx_pair in idx_pairs:\n",
        "        next_y, next_x = idx_pair\n",
        "        if (next_y, next_x) not in seen:\n",
        "          queue.append((next_y, next_x))\n",
        "          countQ.append(count+1)\n",
        "          seen.add((next_y, next_x))\n",
        "          \n",
        "    return -1\n",
        "          \n",
        "          \n",
        "  def _filter(self, idx2d ) -> bool:\n",
        "    y, x = idx2d\n",
        "    if y<0 or x<0 or self._rows<=y or self._cols<= x:\n",
        "      return False    \n",
        "    elif self._grid[y][x] == 0:\n",
        "      return True\n",
        "    return False\n",
        "      \n",
        "      \n",
        "stp = ShortestPath()"
      ],
      "execution_count": 8,
      "outputs": []
    },
    {
      "cell_type": "code",
      "metadata": {
        "colab": {
          "base_uri": "https://localhost:8080/"
        },
        "id": "n9Zsh41cM6ee",
        "outputId": "8bcc8427-216e-4de7-a692-4d9631a7b0c0"
      },
      "source": [
        "matrix = [[0,1,0,0,0],[0,1,0,0,0],[1,0,0,1,0],[0,0,1,1,0]]\n",
        "\n",
        "print(stp.BFS(matrix))"
      ],
      "execution_count": 9,
      "outputs": [
        {
          "output_type": "stream",
          "text": [
            "7\n"
          ],
          "name": "stdout"
        }
      ]
    },
    {
      "cell_type": "code",
      "metadata": {
        "id": "-OdCM3M2NUuN"
      },
      "source": [
        ""
      ],
      "execution_count": null,
      "outputs": []
    }
  ]
}