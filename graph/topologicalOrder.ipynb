{
  "nbformat": 4,
  "nbformat_minor": 0,
  "metadata": {
    "colab": {
      "name": "topologicalOrder.ipynb",
      "provenance": [],
      "collapsed_sections": [],
      "authorship_tag": "ABX9TyMLcIlZ9rWjfQE3uRd/b9l7",
      "include_colab_link": true
    },
    "kernelspec": {
      "name": "python3",
      "display_name": "Python 3"
    },
    "language_info": {
      "name": "python"
    }
  },
  "cells": [
    {
      "cell_type": "markdown",
      "metadata": {
        "id": "view-in-github",
        "colab_type": "text"
      },
      "source": [
        "<a href=\"https://colab.research.google.com/github/NoCodeProgram/CodingTest/blob/main/graph/topologicalOrder.ipynb\" target=\"_parent\"><img src=\"https://colab.research.google.com/assets/colab-badge.svg\" alt=\"Open In Colab\"/></a>"
      ]
    },
    {
      "cell_type": "markdown",
      "metadata": {
        "id": "pciexCYuB844"
      },
      "source": [
        "Title : Topological Order\n",
        "\n",
        "Chapter : Graph\n",
        "\n",
        "Link :\n",
        "\n",
        "ChapterLink :\n",
        "\n",
        "문제 : 주어진 DAG(Directed Acyclic Graph)를 Topological Order로 출력하여라"
      ]
    },
    {
      "cell_type": "code",
      "metadata": {
        "id": "t_v4YfWSB6KJ"
      },
      "source": [
        "graph = [[1,3],[2,5],[],[2],[1],[]]"
      ],
      "execution_count": 12,
      "outputs": []
    },
    {
      "cell_type": "code",
      "metadata": {
        "colab": {
          "base_uri": "https://localhost:8080/"
        },
        "id": "5gCrWmd8CQmp",
        "outputId": "585d7497-9912-4bd1-dc4d-1c8c4ea09a82"
      },
      "source": [
        "from typing import List\n",
        "from collections import deque\n",
        "\n",
        "def topologicalOrder(graph: List[List[int]]) -> List[int]:\n",
        "  vertex_num = len(graph)\n",
        "  indegs = [0]* vertex_num\n",
        "  for vertex in graph:\n",
        "    for to_idx in vertex:\n",
        "      indegs[to_idx] += 1 \n",
        "  \n",
        "  deg0s = deque()\n",
        "\n",
        "  for idx,in_deg in enumerate(indegs):\n",
        "    if in_deg == 0:\n",
        "      deg0s.append(idx)\n",
        "\n",
        "  topo_order = []\n",
        "\n",
        "  while deg0s:\n",
        "    vtx0indeg = deg0s.popleft()\n",
        "    topo_order.append(vtx0indeg)\n",
        "    vertex = graph[vtx0indeg]\n",
        "    for to_idx in vertex:\n",
        "      indegs[to_idx] -= 1 \n",
        "      if indegs[to_idx]==0:\n",
        "        deg0s.append(to_idx)\n",
        "\n",
        "  return topo_order\n",
        "\n",
        "print(topologicalOrder(graph))"
      ],
      "execution_count": 21,
      "outputs": [
        {
          "output_type": "stream",
          "text": [
            "[0, 4, 3, 1, 2, 5]\n"
          ],
          "name": "stdout"
        }
      ]
    },
    {
      "cell_type": "markdown",
      "metadata": {
        "id": "m26kVXXvG9v_"
      },
      "source": [
        "Title : Alien Dictionary\n",
        "\n",
        "Chapter : Graph\n",
        "\n",
        "Link :\n",
        "\n",
        "ChapterLink :\n",
        "\n",
        "문제 : 주어진 graph가 bipartite인지 체크하여라"
      ]
    },
    {
      "cell_type": "code",
      "metadata": {
        "id": "x7qbyWFvDRM2"
      },
      "source": [
        ""
      ],
      "execution_count": null,
      "outputs": []
    }
  ]
}