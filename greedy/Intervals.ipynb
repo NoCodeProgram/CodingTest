{
  "nbformat": 4,
  "nbformat_minor": 0,
  "metadata": {
    "colab": {
      "name": "Intervals.ipynb",
      "provenance": [],
      "authorship_tag": "ABX9TyM6z/qR50BCb3hqfeBXhb47",
      "include_colab_link": true
    },
    "kernelspec": {
      "name": "python3",
      "display_name": "Python 3"
    },
    "language_info": {
      "name": "python"
    }
  },
  "cells": [
    {
      "cell_type": "markdown",
      "metadata": {
        "id": "view-in-github",
        "colab_type": "text"
      },
      "source": [
        "<a href=\"https://colab.research.google.com/github/NoCodeProgram/CodingTest/blob/main/greedy/Intervals.ipynb\" target=\"_parent\"><img src=\"https://colab.research.google.com/assets/colab-badge.svg\" alt=\"Open In Colab\"/></a>"
      ]
    },
    {
      "cell_type": "markdown",
      "metadata": {
        "id": "KVLY_yVDm5AL"
      },
      "source": [
        "Title : Non-overlapping Intervals\n",
        "\n",
        "Chapter : Greedy\n",
        "\n",
        "Link :\n",
        "\n",
        "ChapterLink :\n",
        "\n",
        "문제 : 여러 interval들이 interval[i] = [start,end] 형식으로 주어진다. interval들끼리 겹치는 구간이 존재하는데, 최소한 몇개의 interval들을 삭제하면 겹치는 구간이 사라지는가?"
      ]
    },
    {
      "cell_type": "code",
      "metadata": {
        "id": "Sq0HvMlem3YO"
      },
      "source": [
        "from typing import List\n",
        "\n",
        "def eraseOverlapIntervals(intervals: List[List[int]]) -> int:   \n",
        "  intervals.sort(key=lambda interval: interval[1])\n",
        "  \n",
        "  last_end = -999999  #smallest int\n",
        "  interval_count = 0\n",
        "\n",
        "  for interval in intervals:\n",
        "    start = interval[0]\n",
        "    end = interval[1]\n",
        "    \n",
        "    if start < last_end:\n",
        "      continue\n",
        "    \n",
        "    if last_end <= end:\n",
        "      interval_count += 1\n",
        "      last_end = end\n",
        "      \n",
        "  return len(intervals) - interval_count"
      ],
      "execution_count": 2,
      "outputs": []
    },
    {
      "cell_type": "code",
      "metadata": {
        "colab": {
          "base_uri": "https://localhost:8080/"
        },
        "id": "HGUfDfmVpwnz",
        "outputId": "8e2318c3-e10f-4640-d0a5-01322f15a868"
      },
      "source": [
        "print(eraseOverlapIntervals([[1,2],[2,3],[3,4],[1,3]]))"
      ],
      "execution_count": 4,
      "outputs": [
        {
          "output_type": "stream",
          "text": [
            "1\n"
          ],
          "name": "stdout"
        }
      ]
    },
    {
      "cell_type": "markdown",
      "metadata": {
        "id": "V1sgiTj1p8FR"
      },
      "source": [
        "Title :  Interval Scheduling Maximization\n",
        "\n",
        "Chapter : Greedy\n",
        "\n",
        "Link :\n",
        "\n",
        "ChapterLink :\n",
        "\n",
        "문제 : 여러 interval들이 interval[i] = [start,end] 형식으로 주어진다. interval들끼리 겹치는 구간이 존재하는데, 최대 몇개의 interval들이 겹치는 구간 없이 선택될 수 있는가?"
      ]
    },
    {
      "cell_type": "code",
      "metadata": {
        "id": "-UYOrDYxp5Iy"
      },
      "source": [
        "from typing import List\n",
        "\n",
        "def maxNonOverlapIntervals(intervals: List[List[int]]) -> int:   \n",
        "  intervals.sort(key=lambda interval: interval[1])\n",
        "  \n",
        "  last_end = -999999  #smallest int\n",
        "  interval_count = 0\n",
        "\n",
        "  for interval in intervals:\n",
        "    start = interval[0]\n",
        "    end = interval[1]\n",
        "    \n",
        "    if start < last_end:\n",
        "      continue\n",
        "    \n",
        "    if last_end <= end:\n",
        "      interval_count += 1\n",
        "      last_end = end\n",
        "      \n",
        "  return interval_count"
      ],
      "execution_count": 5,
      "outputs": []
    },
    {
      "cell_type": "code",
      "metadata": {
        "colab": {
          "base_uri": "https://localhost:8080/"
        },
        "id": "UatjjRX4qMGF",
        "outputId": "80e5c521-d4f4-456e-aafc-b1326ea6ce93"
      },
      "source": [
        "print(maxNonOverlapIntervals([[1,2],[2,3],[3,4],[1,3]]))"
      ],
      "execution_count": 6,
      "outputs": [
        {
          "output_type": "stream",
          "text": [
            "3\n"
          ],
          "name": "stdout"
        }
      ]
    },
    {
      "cell_type": "code",
      "metadata": {
        "id": "H8-bi1HsqNM_"
      },
      "source": [
        ""
      ],
      "execution_count": null,
      "outputs": []
    }
  ]
}