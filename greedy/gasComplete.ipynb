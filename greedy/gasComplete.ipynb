{
  "nbformat": 4,
  "nbformat_minor": 0,
  "metadata": {
    "colab": {
      "name": "gasComplete.ipynb",
      "provenance": [],
      "authorship_tag": "ABX9TyNzdxwydzjMcx84zbQzKPxK",
      "include_colab_link": true
    },
    "kernelspec": {
      "name": "python3",
      "display_name": "Python 3"
    },
    "language_info": {
      "name": "python"
    }
  },
  "cells": [
    {
      "cell_type": "markdown",
      "metadata": {
        "id": "view-in-github",
        "colab_type": "text"
      },
      "source": [
        "<a href=\"https://colab.research.google.com/github/NoCodeProgram/CodingTest/blob/main/greedy/gasComplete.ipynb\" target=\"_parent\"><img src=\"https://colab.research.google.com/assets/colab-badge.svg\" alt=\"Open In Colab\"/></a>"
      ]
    },
    {
      "cell_type": "markdown",
      "metadata": {
        "id": "y1v-AS3GQiwR"
      },
      "source": [
        "Title : Gas Stations\n",
        "\n",
        "Chapter : Greedy\n",
        "\n",
        "Link :\n",
        "\n",
        "ChapterLink :\n",
        "\n",
        "문제 : 주유소와 길에 대한 Array들이 주어진다. Gas[i]는 i번째 주유소에서 채울수있는 기름의 양이고, cost[i]는 i번째 주유소에서 i+1번째 주유소까지 가는데 필요한 기름의 양이다. 기름이 빈 차량에서 몇번째 주유소에서 출발해야, 시계방향으로 한바퀴 돌수있는지 return 하여라. 만약 불가능하다면 -1를 return 하여라.\n"
      ]
    },
    {
      "cell_type": "code",
      "metadata": {
        "id": "h1GCzAiIQhxO"
      },
      "source": [
        "from typing import List\n",
        "\n",
        "def canComplete(gas: List[int], cost: List[int]) -> int:\n",
        "  crnt_gas = 0\n",
        "  \n",
        "  for idx, new_gas in enumerate(gas):\n",
        "    crnt_cost = cost[idx]\n",
        "    diff = new_gas - crnt_cost\n",
        "    crnt_gas += diff\n",
        "    \n",
        "  if crnt_gas < 0:\n",
        "    return -1\n",
        "  \n",
        "  start_idx = 0\n",
        "  crnt_gas = 0\n",
        "  for idx, new_gas in enumerate(gas):\n",
        "    crnt_cost = cost[idx]\n",
        "    diff = new_gas - crnt_cost\n",
        "    crnt_gas += diff\n",
        "    if crnt_gas < 0:\n",
        "      crnt_gas = 0\n",
        "      start_idx = idx + 1\n",
        "  \n",
        "  \n",
        "  return start_idx\n",
        "\n"
      ],
      "execution_count": 1,
      "outputs": []
    },
    {
      "cell_type": "code",
      "metadata": {
        "colab": {
          "base_uri": "https://localhost:8080/"
        },
        "id": "em0N4LGkUZ2r",
        "outputId": "cc09645d-70ad-432f-971a-85ae5ecfac79"
      },
      "source": [
        "gas = [5,1,2,3,4]\n",
        "cost = [2,3,4,5,1]\n",
        "\n",
        "print(canComplete(gas=gas, cost = cost))"
      ],
      "execution_count": 2,
      "outputs": [
        {
          "output_type": "stream",
          "text": [
            "4\n"
          ],
          "name": "stdout"
        }
      ]
    },
    {
      "cell_type": "code",
      "metadata": {
        "id": "ssKH_tbCUj7r"
      },
      "source": [
        ""
      ],
      "execution_count": null,
      "outputs": []
    }
  ]
}