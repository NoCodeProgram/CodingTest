{
  "nbformat": 4,
  "nbformat_minor": 0,
  "metadata": {
    "colab": {
      "name": "maxUnitTruck.ipynb",
      "provenance": [],
      "collapsed_sections": [],
      "authorship_tag": "ABX9TyOqmkgOELDREb0OtJfd9pSv",
      "include_colab_link": true
    },
    "kernelspec": {
      "name": "python3",
      "display_name": "Python 3"
    },
    "language_info": {
      "name": "python"
    }
  },
  "cells": [
    {
      "cell_type": "markdown",
      "metadata": {
        "id": "view-in-github",
        "colab_type": "text"
      },
      "source": [
        "<a href=\"https://colab.research.google.com/github/NoCodeProgram/CodingTest/blob/main/greedy/maxUnitTruck.ipynb\" target=\"_parent\"><img src=\"https://colab.research.google.com/assets/colab-badge.svg\" alt=\"Open In Colab\"/></a>"
      ]
    },
    {
      "cell_type": "markdown",
      "metadata": {
        "id": "oSFaY7cHgdbY"
      },
      "source": [
        "Title : Maximum Units on a Truck\n",
        "\n",
        "Chapter : Greedy\n",
        "\n",
        "Link :\n",
        "\n",
        "ChapterLink :\n",
        "\n",
        "문제 : 한개의 truck에 실을수 있는 최대 장난감의 갯수는 몇개인가? truck에는 k개의 box를 실을수 있고, box 정보는 2D array로 주어진다. boxTypes[i] = [해당 박스의 갯수, 해당 박스안에들어있는 장난감의 갯수]\n"
      ]
    },
    {
      "cell_type": "code",
      "metadata": {
        "id": "XPusrWD7gcwk"
      },
      "source": [
        "from typing import List\n",
        "\n",
        "def maximumUnits(boxTypes: List[List[int]], truckSize: int) -> int:\n",
        "  boxTypes.sort(key=lambda boxtypes: boxtypes[1] , reverse=True)\n",
        "  \n",
        "  total_unit = 0\n",
        "  left_boxes = truckSize\n",
        "  for box_count, unit in boxTypes:\n",
        "    if box_count<=left_boxes:\n",
        "      total_unit += (unit*box_count)\n",
        "      left_boxes -= box_count\n",
        "      \n",
        "    else:\n",
        "      total_unit += (unit*left_boxes)\n",
        "      left_boxes -= left_boxes\n",
        "      \n",
        "    if left_boxes == 0:\n",
        "      return total_unit\n",
        "  \n",
        "  return total_unit\n",
        "    \n",
        "        "
      ],
      "execution_count": 1,
      "outputs": []
    },
    {
      "cell_type": "code",
      "metadata": {
        "colab": {
          "base_uri": "https://localhost:8080/"
        },
        "id": "v0puIaUjhGZD",
        "outputId": "bfbc837b-cffc-4f79-dba1-b2df8a874e4a"
      },
      "source": [
        "boxInfo = [[3,1],[2,2],[1,4],[2,3]]\n",
        "\n",
        "print(maximumUnits( boxTypes=boxInfo, truckSize=4))"
      ],
      "execution_count": 2,
      "outputs": [
        {
          "output_type": "stream",
          "text": [
            "12\n"
          ],
          "name": "stdout"
        }
      ]
    }
  ]
}