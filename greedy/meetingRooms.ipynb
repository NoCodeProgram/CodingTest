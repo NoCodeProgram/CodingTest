{
  "nbformat": 4,
  "nbformat_minor": 0,
  "metadata": {
    "colab": {
      "name": "meetingRooms.ipynb",
      "provenance": [],
      "authorship_tag": "ABX9TyOJjyKGFdsNLpJQf0LRnuQs",
      "include_colab_link": true
    },
    "kernelspec": {
      "name": "python3",
      "display_name": "Python 3"
    },
    "language_info": {
      "name": "python"
    }
  },
  "cells": [
    {
      "cell_type": "markdown",
      "metadata": {
        "id": "view-in-github",
        "colab_type": "text"
      },
      "source": [
        "<a href=\"https://colab.research.google.com/github/NoCodeProgram/CodingTest/blob/main/greedy/meetingRooms.ipynb\" target=\"_parent\"><img src=\"https://colab.research.google.com/assets/colab-badge.svg\" alt=\"Open In Colab\"/></a>"
      ]
    },
    {
      "cell_type": "markdown",
      "metadata": {
        "id": "p31Po55WZMCT"
      },
      "source": [
        "\n",
        "Title : Meeting Rooms ii\n",
        "\n",
        "Chapter : greedy\n",
        "\n",
        "Link :\n",
        "\n",
        "ChapterLink :\n",
        "\n",
        "문제 : 미팅 스케쥴들이 intervals[i] = [start, end ] 로 주어졌다. 이때 필요한 최소 미팅룸의 갯수를 구하여라"
      ]
    },
    {
      "cell_type": "code",
      "metadata": {
        "id": "dXoi7wcYZJwy"
      },
      "source": [
        "import heapq\n",
        "from typing import List\n",
        "\n",
        "def minMeetingRooms(intervals: List[List[int]]) -> int:\n",
        "  if len(intervals) == 0:\n",
        "    return 0\n",
        "  \n",
        "  intervals.sort(key = lambda interval: interval[0])    \n",
        "  \n",
        "  lasts = []    #min heap    \n",
        "  heapq.heappush(lasts,intervals[0][1])\n",
        "  \n",
        "  room_count = 1\n",
        "  \n",
        "  for interval in intervals[1:]:\n",
        "    start = interval[0]\n",
        "    end = interval[1]      \n",
        "    last_end = lasts[0]\n",
        "    \n",
        "    if last_end<=start:\n",
        "      heapq.heappop(lasts)\n",
        "      heapq.heappush(lasts,end)\n",
        "    else:\n",
        "      heapq.heappush(lasts,end)\n",
        "      room_count += 1    \n",
        "  \n",
        "  return room_count\n",
        "    "
      ],
      "execution_count": 3,
      "outputs": []
    },
    {
      "cell_type": "code",
      "metadata": {
        "colab": {
          "base_uri": "https://localhost:8080/"
        },
        "id": "LZIlbK-lcMx7",
        "outputId": "03440427-6eb0-480e-dde9-88f4e02ebf1b"
      },
      "source": [
        "intervals = [[9,11],[9,12],[10,14],[12,16],[13,16],[15,17]]\n",
        "print('min rooms : ', minMeetingRooms(intervals))"
      ],
      "execution_count": 4,
      "outputs": [
        {
          "output_type": "stream",
          "text": [
            "min rooms :  3\n"
          ],
          "name": "stdout"
        }
      ]
    }
  ]
}