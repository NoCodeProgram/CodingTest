{
  "nbformat": 4,
  "nbformat_minor": 0,
  "metadata": {
    "colab": {
      "name": "minDeletion.ipynb",
      "provenance": [],
      "authorship_tag": "ABX9TyOP3mocVHxfQiPnXfCGAY0s",
      "include_colab_link": true
    },
    "kernelspec": {
      "name": "python3",
      "display_name": "Python 3"
    },
    "language_info": {
      "name": "python"
    }
  },
  "cells": [
    {
      "cell_type": "markdown",
      "metadata": {
        "id": "view-in-github",
        "colab_type": "text"
      },
      "source": [
        "<a href=\"https://colab.research.google.com/github/NoCodeProgram/CodingTest/blob/main/greedy/minDeletion.ipynb\" target=\"_parent\"><img src=\"https://colab.research.google.com/assets/colab-badge.svg\" alt=\"Open In Colab\"/></a>"
      ]
    },
    {
      "cell_type": "markdown",
      "metadata": {
        "id": "btbn-zhUhQUI"
      },
      "source": [
        "Title : Minimum Deletion Cost to Avoid Repeating Letters\n",
        "\n",
        "Chapter : Greedy\n",
        "\n",
        "Link :\n",
        "\n",
        "ChapterLink :\n",
        "\n",
        "문제 : string s와 i번째 문자를 지우기 위한 cost[i]가 주어진다. 연속되는 알파벳을 지우기 위한 최소비용은 몇인가?"
      ]
    },
    {
      "cell_type": "code",
      "metadata": {
        "id": "0kCagu0dhO9b"
      },
      "source": [
        "from typing import List\n",
        "\n",
        "def minCost(s: str, cost: List[int]) -> int:\n",
        "  if len(cost) <= 1:\n",
        "    return 0\n",
        "  \n",
        "  last_char = \"\"\n",
        "  max_cost = 0\n",
        "  total_cost = 0\n",
        "  \n",
        "  for idx,nth_cost in enumerate(cost):\n",
        "    nth_char = s[idx]      \n",
        "    if nth_char != last_char:\n",
        "      last_char = nth_char\n",
        "      max_cost = nth_cost\n",
        "    \n",
        "    else: #nth_char != s[idx]\n",
        "      if nth_cost <= max_cost:\n",
        "        total_cost += nth_cost             \n",
        "      else: #max_cost < nth_cost\n",
        "        total_cost += max_cost\n",
        "        max_cost = nth_cost\n",
        "        \n",
        "  return total_cost\n",
        "          "
      ],
      "execution_count": 2,
      "outputs": []
    },
    {
      "cell_type": "code",
      "metadata": {
        "colab": {
          "base_uri": "https://localhost:8080/"
        },
        "id": "gLYd5igIh7wO",
        "outputId": "741f4869-d69f-442a-908d-d2ac590e8513"
      },
      "source": [
        "s= \"abaac\"\n",
        "cost = [1,2,3,4,5]\n",
        "\n",
        "print(minCost(s=s,cost=cost))\n"
      ],
      "execution_count": 3,
      "outputs": [
        {
          "output_type": "stream",
          "text": [
            "3\n"
          ],
          "name": "stdout"
        }
      ]
    },
    {
      "cell_type": "code",
      "metadata": {
        "id": "dzegkgaqiCtb",
        "colab": {
          "base_uri": "https://localhost:8080/"
        },
        "outputId": "3cebfa0d-c471-4689-be2b-a174ac3bfe03"
      },
      "source": [
        "s= \"bbbaaac\"\n",
        "cost = [3,1,2,1,5,3,2]\n",
        "\n",
        "print(minCost(s=s,cost=cost))\n"
      ],
      "execution_count": 4,
      "outputs": [
        {
          "output_type": "stream",
          "text": [
            "7\n"
          ],
          "name": "stdout"
        }
      ]
    }
  ]
}