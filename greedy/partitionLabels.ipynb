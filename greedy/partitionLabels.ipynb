{
  "nbformat": 4,
  "nbformat_minor": 0,
  "metadata": {
    "colab": {
      "name": "partitionLabels.ipynb",
      "provenance": [],
      "authorship_tag": "ABX9TyMW6jJQv3KZlBwDiwH5ED3b",
      "include_colab_link": true
    },
    "kernelspec": {
      "name": "python3",
      "display_name": "Python 3"
    },
    "language_info": {
      "name": "python"
    }
  },
  "cells": [
    {
      "cell_type": "markdown",
      "metadata": {
        "id": "view-in-github",
        "colab_type": "text"
      },
      "source": [
        "<a href=\"https://colab.research.google.com/github/NoCodeProgram/CodingTest/blob/main/greedy/partitionLabels.ipynb\" target=\"_parent\"><img src=\"https://colab.research.google.com/assets/colab-badge.svg\" alt=\"Open In Colab\"/></a>"
      ]
    },
    {
      "cell_type": "markdown",
      "metadata": {
        "id": "iUDopYYkwNBI"
      },
      "source": [
        "Title : Partition Labels\n",
        "\n",
        "Chapter : Greedy\n",
        "\n",
        "Link : \n",
        "\n",
        "ChapterLink : \n",
        "\n",
        "문제: 주어진 문자열을 최대한 많은 partition으로 나누어라. 이때 각 알파벳은 하나의 파티션에만 포함되어야 한다."
      ]
    },
    {
      "cell_type": "code",
      "metadata": {
        "id": "tXRFu7Q6v3e5"
      },
      "source": [
        "from typing import List  \n",
        "\n",
        "def partitionLabels(S: str) -> List[int]:\n",
        "  last_idxs = {}\n",
        "  for idx, c in enumerate(S):\n",
        "    last_idxs[c] = idx\n",
        "      \n",
        "  tmp_idx = 0\n",
        "  part_begin = 0\n",
        "  partitions = []\n",
        "  \n",
        "  for idx, c in enumerate(S):\n",
        "    last_idx = last_idxs[c]\n",
        "    tmp_idx = max(tmp_idx, last_idx)\n",
        "    if idx == tmp_idx:\n",
        "      partitions.append(S[part_begin:idx+1])\n",
        "      part_begin = idx + 1                  \n",
        "    \n",
        "  return partitions"
      ],
      "execution_count": 12,
      "outputs": []
    },
    {
      "cell_type": "code",
      "metadata": {
        "colab": {
          "base_uri": "https://localhost:8080/"
        },
        "id": "IlEqhrviwgns",
        "outputId": "ade83153-f645-4f0a-e902-87e1a57332bb"
      },
      "source": [
        "partitionLabels(S=\"acacdfehdehjkj\")"
      ],
      "execution_count": 13,
      "outputs": [
        {
          "output_type": "execute_result",
          "data": {
            "text/plain": [
              "['acac', 'dfehdeh', 'jkj']"
            ]
          },
          "metadata": {
            "tags": []
          },
          "execution_count": 13
        }
      ]
    },
    {
      "cell_type": "code",
      "metadata": {
        "id": "5-2t3Az8wo47"
      },
      "source": [
        ""
      ],
      "execution_count": null,
      "outputs": []
    }
  ]
}