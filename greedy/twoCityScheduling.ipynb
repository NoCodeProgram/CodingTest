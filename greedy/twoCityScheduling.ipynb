{
  "nbformat": 4,
  "nbformat_minor": 0,
  "metadata": {
    "colab": {
      "name": "twoCityScheduling.ipynb",
      "provenance": [],
      "authorship_tag": "ABX9TyM+0UpIWPIlNDsKoYxn0oRb",
      "include_colab_link": true
    },
    "kernelspec": {
      "name": "python3",
      "display_name": "Python 3"
    },
    "language_info": {
      "name": "python"
    }
  },
  "cells": [
    {
      "cell_type": "markdown",
      "metadata": {
        "id": "view-in-github",
        "colab_type": "text"
      },
      "source": [
        "<a href=\"https://colab.research.google.com/github/NoCodeProgram/CodingTest/blob/main/greedy/twoCityScheduling.ipynb\" target=\"_parent\"><img src=\"https://colab.research.google.com/assets/colab-badge.svg\" alt=\"Open In Colab\"/></a>"
      ]
    },
    {
      "cell_type": "markdown",
      "metadata": {
        "id": "oDO_Xo-fE4di"
      },
      "source": [
        "Title : Two City Scheduling\n",
        "\n",
        "Chapter : Greedy\n",
        "\n",
        "Link :\n",
        "\n",
        "ChapterLink :\n",
        "\n",
        "문제 : 2n 명의 인터뷰 후보자가 있다. 모든 후보자를 A와 B도시에 각각 n 명씩 할당해야한다. 모든 후보자들을 도시 A와 도시 B로 보내기 위한 비용은 2D array로 주어진다. 그 Array의 첫번째 column은 도시 A로 가기 위한 비용, 두번째 column은 도시 B로 가기 위한 비용이라고 하였을때, 인터뷰를 진행하기 위한 최소 비용은 얼마인가?"
      ]
    },
    {
      "cell_type": "code",
      "metadata": {
        "id": "PSOzlmpsE3MM"
      },
      "source": [
        "from typing import List\n",
        "\n",
        "def twoCitySchedCost(costs: List[List[int]]) -> int:\n",
        "  costs.sort(key=lambda cost: cost[1]-cost[0], reverse=True)\n",
        "  \n",
        "  min_cost = 0\n",
        "  costs_count = len(costs)\n",
        "  half_count = int(costs_count/2)\n",
        "  \n",
        "  for idx in range(0,half_count):\n",
        "    min_cost += costs[idx][0]\n",
        "    \n",
        "  for idx in range(half_count,costs_count):\n",
        "    min_cost += costs[idx][1]\n",
        "      \n",
        "  return min_cost\n",
        "        "
      ],
      "execution_count": 3,
      "outputs": []
    },
    {
      "cell_type": "code",
      "metadata": {
        "colab": {
          "base_uri": "https://localhost:8080/"
        },
        "id": "vxffzdkEG5aj",
        "outputId": "26d95743-3f18-4369-8af2-b886c3761622"
      },
      "source": [
        "costs = [[1,2],[100,200],[30,10],[10,100],[1,1],[1000,1000]]\n",
        "\n",
        "print('min cost:',twoCitySchedCost(costs=costs))"
      ],
      "execution_count": 4,
      "outputs": [
        {
          "output_type": "stream",
          "text": [
            "min cost: 1122\n"
          ],
          "name": "stdout"
        }
      ]
    },
    {
      "cell_type": "code",
      "metadata": {
        "id": "3NI6nQJ5HGJB"
      },
      "source": [
        ""
      ],
      "execution_count": null,
      "outputs": []
    }
  ]
}