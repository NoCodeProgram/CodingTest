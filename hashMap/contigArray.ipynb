{
  "nbformat": 4,
  "nbformat_minor": 0,
  "metadata": {
    "colab": {
      "name": "contigArray.ipynb",
      "provenance": [],
      "authorship_tag": "ABX9TyMB5AY3r9CojAKJSMhpAdPR",
      "include_colab_link": true
    },
    "kernelspec": {
      "name": "python3",
      "display_name": "Python 3"
    },
    "language_info": {
      "name": "python"
    }
  },
  "cells": [
    {
      "cell_type": "markdown",
      "metadata": {
        "id": "view-in-github",
        "colab_type": "text"
      },
      "source": [
        "<a href=\"https://colab.research.google.com/github/NoCodeProgram/CodingTest/blob/main/hashMap/contigArray.ipynb\" target=\"_parent\"><img src=\"https://colab.research.google.com/assets/colab-badge.svg\" alt=\"Open In Colab\"/></a>"
      ]
    },
    {
      "cell_type": "markdown",
      "metadata": {
        "id": "Cz7Wsu-UlNRx"
      },
      "source": [
        "Title : Contiguous Array\n",
        "\n",
        "Chapter : Hash Map\n",
        "\n",
        "Link : [YouTube](https://youtu.be/yDwH1QwiaWQ)\n",
        "\n",
        "ChapterLink : [PlayList](https://www.youtube.com/playlist?list=PLDV-cCQnUlIYjwJ_b-f8Z0OQlIqKpMkDr)\n",
        "\n",
        "문제: 1과 0으로 이루어진 array에서 1과 0의 갯수가 같은 subarray의 최대길이는 몇 인가?"
      ]
    },
    {
      "cell_type": "code",
      "metadata": {
        "id": "zviLSTsnlJgn"
      },
      "source": [
        "from typing import List  \n",
        "\n",
        "def findMaxLength(nums: List[int]) -> int:\n",
        "    \n",
        "    for idx in range(len(nums)):\n",
        "      if nums[idx] == 0 :\n",
        "        nums[idx] = -1\n",
        "        \n",
        "    cml_sums = []\n",
        "    tmp_sum = 0\n",
        "    for num in nums:\n",
        "      tmp_sum += num\n",
        "      cml_sums.append(tmp_sum)\n",
        "    \n",
        "    table = {}\n",
        "    max_length = 0\n",
        "    table[0] = [-1]\n",
        "    \n",
        "    for idx, cml_sum in enumerate(cml_sums):\n",
        "      if cml_sum not in table:\n",
        "        table[cml_sum] = [idx]\n",
        "      else:\n",
        "        table[cml_sum].append(idx)\n",
        "        \n",
        "      indices = table[cml_sum]\n",
        "      first_idx = indices[0]\n",
        "      last_idx = indices[-1]\n",
        "      length = last_idx - first_idx\n",
        "      max_length = max(max_length,length)\n",
        "      \n",
        "    return max_length"
      ],
      "execution_count": 2,
      "outputs": []
    },
    {
      "cell_type": "code",
      "metadata": {
        "colab": {
          "base_uri": "https://localhost:8080/"
        },
        "id": "xNx6K85Xlijw",
        "outputId": "10719982-450d-4db1-e595-77655cbb9f36"
      },
      "source": [
        "findMaxLength(nums=[1,0,1,1,1,0,0,1,1])"
      ],
      "execution_count": 3,
      "outputs": [
        {
          "output_type": "execute_result",
          "data": {
            "text/plain": [
              "6"
            ]
          },
          "metadata": {
            "tags": []
          },
          "execution_count": 3
        }
      ]
    }
  ]
}