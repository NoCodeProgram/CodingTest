{
  "nbformat": 4,
  "nbformat_minor": 0,
  "metadata": {
    "colab": {
      "name": "firstUniqueChar.ipynb",
      "provenance": [],
      "authorship_tag": "ABX9TyPP2pQnaPzky6GiLccWPAEu",
      "include_colab_link": true
    },
    "kernelspec": {
      "name": "python3",
      "display_name": "Python 3"
    },
    "language_info": {
      "name": "python"
    }
  },
  "cells": [
    {
      "cell_type": "markdown",
      "metadata": {
        "id": "view-in-github",
        "colab_type": "text"
      },
      "source": [
        "<a href=\"https://colab.research.google.com/github/NoCodeProgram/CodingTest/blob/main/hashMap/firstUniqueChar.ipynb\" target=\"_parent\"><img src=\"https://colab.research.google.com/assets/colab-badge.svg\" alt=\"Open In Colab\"/></a>"
      ]
    },
    {
      "cell_type": "markdown",
      "metadata": {
        "id": "i1be3-74KBTE"
      },
      "source": [
        "Title : First Unique Character in a String\n",
        "\n",
        "Chapter : Hash Map\n",
        "\n",
        "Link : [YouTube](https://youtu.be/Z_-hZm-4WfA)\n",
        "\n",
        "ChapterLink : [PlayList](https://www.youtube.com/playlist?list=PLDV-cCQnUlIYjwJ_b-f8Z0OQlIqKpMkDr)\n",
        "\n",
        "문제: 주어진 String s에서 반복되지 않는 첫번째 character의 index를 return하여라"
      ]
    },
    {
      "cell_type": "code",
      "metadata": {
        "colab": {
          "base_uri": "https://localhost:8080/"
        },
        "id": "WV21ylvUJ-qS",
        "outputId": "bcdda98b-24af-4088-9693-0761c922e39b"
      },
      "source": [
        "  def firstUniqueChar(s: str) -> int:\n",
        "    count = {}\n",
        "    for c in s:\n",
        "      crnt_count = count.get(c)\n",
        "      if crnt_count is None:\n",
        "        count[c] = 1\n",
        "        continue      \n",
        "      count[c] += 1\n",
        "      \n",
        "    for idx,c in enumerate(s):\n",
        "      if count[c] == 1:\n",
        "        return idx\n",
        "      \n",
        "    return -1\n",
        "\n",
        "\n",
        "firstUniqueChar(s=\"nownocodeprogram\")\n",
        "      "
      ],
      "execution_count": 2,
      "outputs": [
        {
          "output_type": "execute_result",
          "data": {
            "text/plain": [
              "2"
            ]
          },
          "metadata": {
            "tags": []
          },
          "execution_count": 2
        }
      ]
    },
    {
      "cell_type": "markdown",
      "metadata": {
        "id": "_nRbOxA2KKFy"
      },
      "source": [
        "Title : Isomorphic Strings\n",
        "\n",
        "Chapter : Hash Map\n",
        "\n",
        "Link : [YouTube](https://youtu.be/Z_-hZm-4WfA)\n",
        "\n",
        "ChapterLink : [PlayList](https://www.youtube.com/playlist?list=PLDV-cCQnUlIYjwJ_b-f8Z0OQlIqKpMkDr)\n",
        "\n",
        "문제: 주어진 두 string s와 t가 isomorphic 관계인지 찾아서 return하여라"
      ]
    },
    {
      "cell_type": "code",
      "metadata": {
        "id": "PF_rQ2szQtJa"
      },
      "source": [
        "def isIsomorphic(s: str, t: str) -> bool:\n",
        "    if len(s) != len(t):\n",
        "      return False\n",
        "    str_length = len(s)\n",
        "    \n",
        "    table1 = {}\n",
        "    table2 = {}\n",
        "    for idx in range(0,str_length):\n",
        "      match1 = table1.get(s[idx])\n",
        "      match2 = table2.get(t[idx])\n",
        "      if match1 is None and match2 is None:\n",
        "        table1[s[idx]] = t[idx]\n",
        "        table2[t[idx]] = s[idx]\n",
        "        continue\n",
        "        \n",
        "      elif match1 == t[idx] and match2 == s[idx]:\n",
        "        continue\n",
        "        \n",
        "      return False\n",
        "    \n",
        "    return True"
      ],
      "execution_count": 3,
      "outputs": []
    },
    {
      "cell_type": "code",
      "metadata": {
        "colab": {
          "base_uri": "https://localhost:8080/"
        },
        "id": "MImEL5B9Q-9z",
        "outputId": "c2fc5d1f-1685-4b10-f33f-fb560dcc03f5"
      },
      "source": [
        "isIsomorphic(s=\"aaaccd\", t=\"xxxyyz\")"
      ],
      "execution_count": 4,
      "outputs": [
        {
          "output_type": "execute_result",
          "data": {
            "text/plain": [
              "True"
            ]
          },
          "metadata": {
            "tags": []
          },
          "execution_count": 4
        }
      ]
    },
    {
      "cell_type": "code",
      "metadata": {
        "id": "0M0YjyOmRFiE"
      },
      "source": [
        ""
      ],
      "execution_count": null,
      "outputs": []
    }
  ]
}