{
  "nbformat": 4,
  "nbformat_minor": 0,
  "metadata": {
    "colab": {
      "name": "minAreaRect.ipynb",
      "provenance": [],
      "authorship_tag": "ABX9TyPCpKbMSHw6aqqo0oOC1dT3",
      "include_colab_link": true
    },
    "kernelspec": {
      "name": "python3",
      "display_name": "Python 3"
    },
    "language_info": {
      "name": "python"
    }
  },
  "cells": [
    {
      "cell_type": "markdown",
      "metadata": {
        "id": "view-in-github",
        "colab_type": "text"
      },
      "source": [
        "<a href=\"https://colab.research.google.com/github/NoCodeProgram/CodingTest/blob/main/hashMap/minAreaRect.ipynb\" target=\"_parent\"><img src=\"https://colab.research.google.com/assets/colab-badge.svg\" alt=\"Open In Colab\"/></a>"
      ]
    },
    {
      "cell_type": "markdown",
      "metadata": {
        "id": "AVL0QqpAu-8n"
      },
      "source": [
        "Title : Minimum Area Rectangle\n",
        "\n",
        "Chapter : Hash Map\n",
        "\n",
        "Link : [YouTube](https://youtu.be/xvuuENPhEH4)\n",
        "\n",
        "ChapterLink : [PlayList](https://www.youtube.com/playlist?list=PLDV-cCQnUlIYjwJ_b-f8Z0OQlIqKpMkDr)\n",
        "\n",
        "문제: 주어진 point들로 만들수 있는 직사각형중 최소 size는 몇인가?"
      ]
    },
    {
      "cell_type": "code",
      "metadata": {
        "id": "kStLhPSWu7q7"
      },
      "source": [
        "from typing import List  \n",
        "import sys\n",
        "\n",
        "def minAreaRect(points: List[List[int]]) -> int:\n",
        "  table = {}\n",
        "  for point in points:\n",
        "    x = point[0]\n",
        "    y = point[1]\n",
        "    if x not in table:\n",
        "      table[x] = set()        \n",
        "    table[x].add(y)\n",
        "    \n",
        "  min_area = sys.maxsize\n",
        "  \n",
        "  for first_idx in range(len(points)):\n",
        "    first_pt = points[first_idx]\n",
        "    px0 = first_pt[0]\n",
        "    py0 = first_pt[1]\n",
        "    for second_idx in range(first_idx+1,len(points)):\n",
        "      second_pt = points[second_idx]\n",
        "      px1 = second_pt[0]\n",
        "      py1 = second_pt[1]\n",
        "      \n",
        "      expected_area = abs(px0-px1) * abs(py0-py1)\n",
        "      if expected_area == 0:\n",
        "        continue\n",
        "      \n",
        "      pt2 = (px0,py1)\n",
        "      pt3 = (px1,py0)\n",
        "      \n",
        "      set2 = table[pt2[0]]\n",
        "      if pt2[1] not in set2:\n",
        "        continue\n",
        "        \n",
        "      set3 = table[pt3[0]]\n",
        "      if pt3[1] not in set3:\n",
        "        continue\n",
        "      \n",
        "      min_area = min(min_area, expected_area)\n",
        "  \n",
        "  if min_area==sys.maxsize:\n",
        "    min_area = 0\n",
        "    \n",
        "  return min_area\n",
        "      "
      ],
      "execution_count": 4,
      "outputs": []
    },
    {
      "cell_type": "code",
      "metadata": {
        "colab": {
          "base_uri": "https://localhost:8080/"
        },
        "id": "6YKs6xUtvWGz",
        "outputId": "17fc29da-29f7-4191-c62a-3aa0171c21f3"
      },
      "source": [
        "minAreaRect(points=[(1,1),(1,2),(1,3),(2,1),(2,2),(2,3),(3,1)])"
      ],
      "execution_count": 5,
      "outputs": [
        {
          "output_type": "execute_result",
          "data": {
            "text/plain": [
              "1"
            ]
          },
          "metadata": {
            "tags": []
          },
          "execution_count": 5
        }
      ]
    },
    {
      "cell_type": "code",
      "metadata": {
        "id": "IcW6YyDWviFo"
      },
      "source": [
        ""
      ],
      "execution_count": null,
      "outputs": []
    }
  ]
}