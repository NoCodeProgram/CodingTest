{
  "nbformat": 4,
  "nbformat_minor": 0,
  "metadata": {
    "colab": {
      "name": "randomHashSet.ipynb",
      "provenance": [],
      "authorship_tag": "ABX9TyMdwdHcbdqAjxK+EtEU8kDa",
      "include_colab_link": true
    },
    "kernelspec": {
      "name": "python3",
      "display_name": "Python 3"
    },
    "language_info": {
      "name": "python"
    }
  },
  "cells": [
    {
      "cell_type": "markdown",
      "metadata": {
        "id": "view-in-github",
        "colab_type": "text"
      },
      "source": [
        "<a href=\"https://colab.research.google.com/github/NoCodeProgram/CodingTest/blob/main/hashMap/randomHashSet.ipynb\" target=\"_parent\"><img src=\"https://colab.research.google.com/assets/colab-badge.svg\" alt=\"Open In Colab\"/></a>"
      ]
    },
    {
      "cell_type": "markdown",
      "metadata": {
        "id": "Qrb82uFXJjsU"
      },
      "source": [
        "Title : Insert Delete GetRandom O(1)\n",
        "\n",
        "Chapter : Hash Map\n",
        "\n",
        "Link : [YouTube](https://youtu.be/MtqOsklw6yk)\n",
        "\n",
        "ChapterLink : [PlayList](https://www.youtube.com/playlist?list=PLDV-cCQnUlIYjwJ_b-f8Z0OQlIqKpMkDr)\n",
        "\n",
        "문제: O(1) random Return을 지원하는 hash Set을 구현하여라"
      ]
    },
    {
      "cell_type": "code",
      "metadata": {
        "id": "GxZk2zYZEiY5"
      },
      "source": [
        "import random\n",
        "from typing import List  \n",
        "\n",
        "class RandomizedSet:\n",
        "  def __init__(self):\n",
        "    self._table = {}\n",
        "    self._arry = []\n",
        "\n",
        "  def insert(self, val: int) -> bool:\n",
        "    idx = self._table.get(val)\n",
        "    if idx is not None:\n",
        "      return False\n",
        "\n",
        "    idx = len(self._arry)\n",
        "    self._arry.append(val)        \n",
        "    self._table[val] = idx\n",
        "    return True\n",
        "\n",
        "  def remove(self, val: int) -> bool:\n",
        "    idx = self._table.get(val)\n",
        "    if idx is None:\n",
        "      return False\n",
        "\n",
        "    last_val = self._arry[-1]\n",
        "    self._arry[idx] = last_val\n",
        "    self._table[last_val] = idx\n",
        "    self._arry.pop()\n",
        "    self._table.pop(val)\n",
        "    \n",
        "    return True\n",
        "    \n",
        "  def getRandom(self) -> int:\n",
        "    return random.choice(self._arry)\n"
      ],
      "execution_count": 1,
      "outputs": []
    },
    {
      "cell_type": "code",
      "metadata": {
        "colab": {
          "base_uri": "https://localhost:8080/"
        },
        "id": "jz3SPJ9lKChe",
        "outputId": "642bf467-8027-4d50-a6d4-afa8d5575517"
      },
      "source": [
        "randomSet = RandomizedSet()\n",
        "print(randomSet.insert(3), end=' ')\n",
        "print(randomSet.insert(5), end=' ')\n",
        "print(randomSet.insert(7), end=' ')\n",
        "print(randomSet.insert(8), end=' ')\n",
        "print(randomSet.insert(7), end=' ')\n",
        "print(randomSet.getRandom(), end=' ')\n",
        "print(randomSet.remove(5), end=' ')\n",
        "print(randomSet.remove(3), end=' ')\n",
        "print(randomSet.getRandom(), end=' ')\n"
      ],
      "execution_count": 9,
      "outputs": [
        {
          "output_type": "stream",
          "text": [
            "True True True True False 5 True True 7 "
          ],
          "name": "stdout"
        }
      ]
    }
  ]
}