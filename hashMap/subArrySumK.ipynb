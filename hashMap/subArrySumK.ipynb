{
  "nbformat": 4,
  "nbformat_minor": 0,
  "metadata": {
    "colab": {
      "name": "subArrySumK.ipynb",
      "provenance": [],
      "authorship_tag": "ABX9TyO+fTW9Q2z3DBLyCvmkFlfr",
      "include_colab_link": true
    },
    "kernelspec": {
      "name": "python3",
      "display_name": "Python 3"
    },
    "language_info": {
      "name": "python"
    }
  },
  "cells": [
    {
      "cell_type": "markdown",
      "metadata": {
        "id": "view-in-github",
        "colab_type": "text"
      },
      "source": [
        "<a href=\"https://colab.research.google.com/github/NoCodeProgram/CodingTest/blob/main/hashMap/subArrySumK.ipynb\" target=\"_parent\"><img src=\"https://colab.research.google.com/assets/colab-badge.svg\" alt=\"Open In Colab\"/></a>"
      ]
    },
    {
      "cell_type": "markdown",
      "metadata": {
        "id": "Ds6mkGK8hg9D"
      },
      "source": [
        "Title : Subarray Sum Equals K\n",
        "\n",
        "Chapter : Hash Map\n",
        "\n",
        "Link : [YouTube](https://youtu.be/mEeK-SB7hEk)\n",
        "\n",
        "ChapterLink : [PlayList](https://www.youtube.com/playlist?list=PLDV-cCQnUlIYjwJ_b-f8Z0OQlIqKpMkDr)\n",
        "\n",
        "문제: 주어진 nums에서 subarray의 합이 k가 되는 모든 경우의 수를 구하여라\n"
      ]
    },
    {
      "cell_type": "code",
      "metadata": {
        "id": "LYJod-07haL5"
      },
      "source": [
        "from typing import List  \n",
        "\n",
        "\n",
        "def subarraySum(nums: List[int], k: int) -> int:        \n",
        "    cml_sums = []\n",
        "    tmp_sum = 0\n",
        "    for num in nums:\n",
        "      tmp_sum += num\n",
        "      cml_sums.append(tmp_sum)\n",
        "      \n",
        "    table = {}\n",
        "    count = 0\n",
        "    table[0] = [1]\n",
        "    for idx, cml_sum in enumerate(cml_sums):\n",
        "      target = cml_sum - k\n",
        "      if target in table:\n",
        "        count += len(table[target])\n",
        "        \n",
        "      if cml_sum not in table:\n",
        "        table[cml_sum] = [idx]\n",
        "      else:\n",
        "        table[cml_sum].append(idx)\n",
        "  \n",
        "    return count"
      ],
      "execution_count": 1,
      "outputs": []
    },
    {
      "cell_type": "code",
      "metadata": {
        "colab": {
          "base_uri": "https://localhost:8080/"
        },
        "id": "JGupm173hzs0",
        "outputId": "3ed0ef1c-4af3-44a6-aecf-7c8774ee39d7"
      },
      "source": [
        "subarraySum(nums=[6,3,2,5,3,-3],k=10)"
      ],
      "execution_count": 2,
      "outputs": [
        {
          "output_type": "execute_result",
          "data": {
            "text/plain": [
              "3"
            ]
          },
          "metadata": {
            "tags": []
          },
          "execution_count": 2
        }
      ]
    },
    {
      "cell_type": "code",
      "metadata": {
        "id": "vQrYK_Kwh9DF"
      },
      "source": [
        ""
      ],
      "execution_count": null,
      "outputs": []
    }
  ]
}