{
  "nbformat": 4,
  "nbformat_minor": 0,
  "metadata": {
    "colab": {
      "name": "topKFreqElem.ipynb",
      "provenance": [],
      "authorship_tag": "ABX9TyPyy1ekvdynAOZFxq8egmUE",
      "include_colab_link": true
    },
    "kernelspec": {
      "name": "python3",
      "display_name": "Python 3"
    },
    "language_info": {
      "name": "python"
    }
  },
  "cells": [
    {
      "cell_type": "markdown",
      "metadata": {
        "id": "view-in-github",
        "colab_type": "text"
      },
      "source": [
        "<a href=\"https://colab.research.google.com/github/NoCodeProgram/CodingTest/blob/main/hashMap/topKFreqElem.ipynb\" target=\"_parent\"><img src=\"https://colab.research.google.com/assets/colab-badge.svg\" alt=\"Open In Colab\"/></a>"
      ]
    },
    {
      "cell_type": "markdown",
      "metadata": {
        "id": "TUh_osAJDl8u"
      },
      "source": [
        "Title : Top K Frequent Elements\n",
        "\n",
        "Chapter : Hash Map\n",
        "\n",
        "Link : [YouTube](https://youtu.be/6CD5EzjCZPA)\n",
        "\n",
        "ChapterLink : [PlayList](https://www.youtube.com/playlist?list=PLDV-cCQnUlIYjwJ_b-f8Z0OQlIqKpMkDr)\n",
        "\n",
        "문제: 주어진 두 string s와 t가 Anagram관계를 가지는지 판별하여라"
      ]
    },
    {
      "cell_type": "code",
      "metadata": {
        "id": "THl3wBE4Djee"
      },
      "source": [
        "from typing import List  \n",
        "import heapq\n",
        "\n",
        "def topKFrequent(nums: List[int], k: int) -> List[int]:\n",
        "    table = {}    \n",
        "    for num in nums:\n",
        "      count = table.get(num)\n",
        "      if count is None:\n",
        "        table[num] = 0      \n",
        "      table[num] += 1\n",
        "           \n",
        "    #heap \n",
        "    freq_heap = []\n",
        "    for num, count in table.items():\n",
        "      heapq.heappush(freq_heap,(count, num))\n",
        "      if k < len(freq_heap):\n",
        "        heapq.heappop(freq_heap)\n",
        "    \n",
        "    k_freq = []\n",
        "    while freq_heap:\n",
        "      count , num = freq_heap[0]\n",
        "      heapq.heappop(freq_heap)\n",
        "      k_freq.append(num)\n",
        "    k_freq.reverse()\n",
        "    \n",
        "    return k_freq"
      ],
      "execution_count": 1,
      "outputs": []
    },
    {
      "cell_type": "code",
      "metadata": {
        "colab": {
          "base_uri": "https://localhost:8080/"
        },
        "id": "HKv15fiMD2go",
        "outputId": "af8b6fa8-0907-4b4a-a655-3d0a29086d45"
      },
      "source": [
        "topKFrequent(nums=[1,1,1,1,3,3,3,5,5,2,2,4,6], k=2)"
      ],
      "execution_count": 2,
      "outputs": [
        {
          "output_type": "execute_result",
          "data": {
            "text/plain": [
              "[1, 3]"
            ]
          },
          "metadata": {
            "tags": []
          },
          "execution_count": 2
        }
      ]
    },
    {
      "cell_type": "code",
      "metadata": {
        "id": "jhCk6toREDyF"
      },
      "source": [
        ""
      ],
      "execution_count": null,
      "outputs": []
    }
  ]
}