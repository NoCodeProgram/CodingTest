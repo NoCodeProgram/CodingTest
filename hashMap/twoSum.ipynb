{
  "nbformat": 4,
  "nbformat_minor": 0,
  "metadata": {
    "colab": {
      "name": "twoSum.ipynb",
      "provenance": [],
      "authorship_tag": "ABX9TyPzGxGdqo7wJX07peFuJYMU",
      "include_colab_link": true
    },
    "kernelspec": {
      "name": "python3",
      "display_name": "Python 3"
    },
    "language_info": {
      "name": "python"
    }
  },
  "cells": [
    {
      "cell_type": "markdown",
      "metadata": {
        "id": "view-in-github",
        "colab_type": "text"
      },
      "source": [
        "<a href=\"https://colab.research.google.com/github/NoCodeProgram/CodingTest/blob/main/hashMap/twoSum.ipynb\" target=\"_parent\"><img src=\"https://colab.research.google.com/assets/colab-badge.svg\" alt=\"Open In Colab\"/></a>"
      ]
    },
    {
      "cell_type": "markdown",
      "metadata": {
        "id": "2hpWauqQCwG6"
      },
      "source": [
        "Title : Two Sum\n",
        "\n",
        "Chapter : Hash Map\n",
        "\n",
        "Link : [YouTube](https://youtu.be/y-0DZ1MFN1g)\n",
        "\n",
        "ChapterLink : [PlayList](https://www.youtube.com/playlist?list=PLDV-cCQnUlIYjwJ_b-f8Z0OQlIqKpMkDr)\n",
        "\n",
        "문제: 양수로 주어진 nums중에서 두 수의 합이 target이 되는 index들을 return하여라"
      ]
    },
    {
      "cell_type": "code",
      "metadata": {
        "id": "nW61sndICvZ0"
      },
      "source": [
        "from typing import List  \n",
        "\n",
        "def twoSum(nums: List[int], target: int) -> List[int]:\n",
        "  hash_table = {}  \n",
        "  \n",
        "  for idx,num in enumerate(nums):\n",
        "    match_num = target - num\n",
        "    match_idx = hash_table.get(match_num)\n",
        "    \n",
        "    if match_idx is not None:\n",
        "      return [idx,match_idx]     \n",
        "    \n",
        "    hash_table[num] = idx"
      ],
      "execution_count": 1,
      "outputs": []
    },
    {
      "cell_type": "code",
      "metadata": {
        "colab": {
          "base_uri": "https://localhost:8080/"
        },
        "id": "zMa3SZdlDson",
        "outputId": "1dbc5234-adcc-4007-af69-d445f4a00555"
      },
      "source": [
        "indices = twoSum(nums = [13,7,5,1,3,2],target=10)\n",
        "print(indices)"
      ],
      "execution_count": 2,
      "outputs": [
        {
          "output_type": "stream",
          "text": [
            "[4, 1]\n"
          ],
          "name": "stdout"
        }
      ]
    },
    {
      "cell_type": "code",
      "metadata": {
        "id": "HOr4KbDVD9ln"
      },
      "source": [
        ""
      ],
      "execution_count": null,
      "outputs": []
    }
  ]
}