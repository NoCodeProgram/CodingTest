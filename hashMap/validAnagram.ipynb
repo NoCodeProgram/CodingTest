{
  "nbformat": 4,
  "nbformat_minor": 0,
  "metadata": {
    "colab": {
      "name": "validAnagram.ipynb",
      "provenance": [],
      "authorship_tag": "ABX9TyNs48FhlwbIwo/9Hs+v9RvL",
      "include_colab_link": true
    },
    "kernelspec": {
      "name": "python3",
      "display_name": "Python 3"
    },
    "language_info": {
      "name": "python"
    }
  },
  "cells": [
    {
      "cell_type": "markdown",
      "metadata": {
        "id": "view-in-github",
        "colab_type": "text"
      },
      "source": [
        "<a href=\"https://colab.research.google.com/github/NoCodeProgram/CodingTest/blob/main/hashMap/validAnagram.ipynb\" target=\"_parent\"><img src=\"https://colab.research.google.com/assets/colab-badge.svg\" alt=\"Open In Colab\"/></a>"
      ]
    },
    {
      "cell_type": "markdown",
      "metadata": {
        "id": "xh6slekZXQYx"
      },
      "source": [
        "Title : Valid Anagram\n",
        "\n",
        "Chapter : Hash Map\n",
        "\n",
        "Link : [YouTube](https://youtu.be/YnNjM-PVtwg)\n",
        "\n",
        "ChapterLink : [PlayList](https://www.youtube.com/playlist?list=PLDV-cCQnUlIYjwJ_b-f8Z0OQlIqKpMkDr)\n",
        "\n",
        "문제: 주어진 두 string s와 t가 Anagram관계를 가지는지 판별하여라"
      ]
    },
    {
      "cell_type": "code",
      "metadata": {
        "id": "BK8qhLyBXO-Y"
      },
      "source": [
        "def isAnagram(s: str, t: str) -> bool:\n",
        "  table = {}\n",
        "  \n",
        "  for c in s:\n",
        "    count = table.get(c)\n",
        "    if count is None:\n",
        "      table[c] = 1\n",
        "      continue\n",
        "      \n",
        "    table[c] += 1\n",
        "  \n",
        "  for c in t:\n",
        "    count = table.get(c)\n",
        "    if count is None:\n",
        "      return False\n",
        "    table[c] -= 1\n",
        "    \n",
        "  for key,value in table.items():\n",
        "    if value != 0:\n",
        "      return False\n",
        "    \n",
        "  return True"
      ],
      "execution_count": 5,
      "outputs": []
    },
    {
      "cell_type": "code",
      "metadata": {
        "colab": {
          "base_uri": "https://localhost:8080/"
        },
        "id": "KZ7FJLalXjn8",
        "outputId": "34939c78-9823-4170-f5c9-c86aea58f4a3"
      },
      "source": [
        "isAnagram(s=\"nocodeprogram\",t=\"promodernacog\")"
      ],
      "execution_count": 6,
      "outputs": [
        {
          "output_type": "execute_result",
          "data": {
            "text/plain": [
              "True"
            ]
          },
          "metadata": {
            "tags": []
          },
          "execution_count": 6
        }
      ]
    },
    {
      "cell_type": "markdown",
      "metadata": {
        "id": "XJHOXOMMXsPY"
      },
      "source": [
        "Title : Word Pattern\n",
        "\n",
        "Chapter : Hash Map\n",
        "\n",
        "Link : [YouTube](https://youtu.be/YnNjM-PVtwg)\n",
        "\n",
        "ChapterLink : [PlayList](https://www.youtube.com/playlist?list=PLDV-cCQnUlIYjwJ_b-f8Z0OQlIqKpMkDr)\n",
        "\n",
        "문제: s가 pattern에서의 패턴을 가지는지 판별하여라"
      ]
    },
    {
      "cell_type": "code",
      "metadata": {
        "id": "5LvfrFGOd6EI"
      },
      "source": [
        "def wordPattern(pattern: str, s: str) -> bool:\n",
        "    char_map = {}\n",
        "    word_map = {}\n",
        "\n",
        "    words = s.split(' ')\n",
        "    if len(words) != len(pattern):\n",
        "        return False          \n",
        "\n",
        "    for idx, c in enumerate(pattern):\n",
        "      word = words[idx]\n",
        "      if c not in char_map:\n",
        "        if word in word_map:\n",
        "          return False\n",
        "\n",
        "        else:\n",
        "          char_map[c] = word\n",
        "          word_map[word] = c\n",
        "\n",
        "      else:\n",
        "        if char_map[c] != word:\n",
        "          return False\n",
        "\n",
        "    return True\n",
        "            "
      ],
      "execution_count": 8,
      "outputs": []
    },
    {
      "cell_type": "code",
      "metadata": {
        "colab": {
          "base_uri": "https://localhost:8080/"
        },
        "id": "0L6mRRzmd7VO",
        "outputId": "0c395717-0f9c-4b48-e7b3-02cb03192585"
      },
      "source": [
        "wordPattern(pattern=\"abba\",s=\"banana apple apple banana\")"
      ],
      "execution_count": 9,
      "outputs": [
        {
          "output_type": "execute_result",
          "data": {
            "text/plain": [
              "True"
            ]
          },
          "metadata": {
            "tags": []
          },
          "execution_count": 9
        }
      ]
    },
    {
      "cell_type": "code",
      "metadata": {
        "id": "7t7-IBVIeTEv"
      },
      "source": [
        ""
      ],
      "execution_count": null,
      "outputs": []
    }
  ]
}