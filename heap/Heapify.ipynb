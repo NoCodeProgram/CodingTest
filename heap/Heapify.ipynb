{
  "nbformat": 4,
  "nbformat_minor": 0,
  "metadata": {
    "colab": {
      "name": "Heapify.ipynb",
      "provenance": [],
      "collapsed_sections": [],
      "authorship_tag": "ABX9TyPrkB59EijeZiWfGav2zTzz",
      "include_colab_link": true
    },
    "kernelspec": {
      "name": "python3",
      "display_name": "Python 3"
    },
    "language_info": {
      "name": "python"
    }
  },
  "cells": [
    {
      "cell_type": "markdown",
      "metadata": {
        "id": "view-in-github",
        "colab_type": "text"
      },
      "source": [
        "<a href=\"https://colab.research.google.com/github/NoCodeProgram/CodingTest/blob/main/heap/Heapify.ipynb\" target=\"_parent\"><img src=\"https://colab.research.google.com/assets/colab-badge.svg\" alt=\"Open In Colab\"/></a>"
      ]
    },
    {
      "cell_type": "markdown",
      "metadata": {
        "id": "EWShPDbbOYOG"
      },
      "source": [
        "Title : Heapify\n",
        "\n",
        "Chapter : Heap\n",
        "\n",
        "Link : \n",
        "\n",
        "ChapterLink :\n",
        "\n",
        "문제: 주어진 array를 max Heapify 하여라"
      ]
    },
    {
      "cell_type": "code",
      "metadata": {
        "colab": {
          "base_uri": "https://localhost:8080/"
        },
        "id": "E4su74fEvz1E",
        "outputId": "245dbb5a-12fe-4fd6-91fd-b75b0af8a383"
      },
      "source": [
        "from typing import List\n",
        "\n",
        "#make parent node largest\n",
        "def swap(arr:List[int], rootIdx:int):\n",
        "  largeIdx = rootIdx \n",
        "  leftChild = 2 * rootIdx + 1   \n",
        "  rightChild = 2 * rootIdx + 2\n",
        "\n",
        "  if leftChild < len(arr) and arr[largeIdx] < arr[leftChild]:\n",
        "    largeIdx = leftChild\n",
        "\n",
        "  if rightChild < len(arr) and arr[largeIdx] < arr[rightChild]:\n",
        "    largeIdx = rightChild\n",
        "\n",
        "  if largeIdx != rootIdx:\n",
        "    arr[rootIdx], arr[largeIdx] = arr[largeIdx], arr[rootIdx]\n",
        "\n",
        "    # recursive call to child\n",
        "    swap(arr,largeIdx)\n",
        "\n",
        "def heapify(arr:List[int]):\n",
        "  for idx in range(len(arr)//2,-1,-1):\n",
        "    swap(arr=arr,rootIdx=idx)\n",
        "\n",
        "arr = [1,3,5,7,9,4,6]\n",
        "heapify(arr)\n",
        "print(arr)"
      ],
      "execution_count": 15,
      "outputs": [
        {
          "output_type": "stream",
          "text": [
            "[9, 7, 6, 1, 3, 4, 5]\n"
          ],
          "name": "stdout"
        }
      ]
    },
    {
      "cell_type": "code",
      "metadata": {
        "colab": {
          "base_uri": "https://localhost:8080/"
        },
        "id": "59VHA9Qfy16n",
        "outputId": "e8b889c8-69db-4f23-e382-3f04b8657e53"
      },
      "source": [
        "arr = [1,3,5,2,4,8,6,7,9]\n",
        "heapify(arr)\n",
        "print(arr)"
      ],
      "execution_count": 16,
      "outputs": [
        {
          "output_type": "stream",
          "text": [
            "[9, 7, 8, 3, 4, 5, 6, 1, 2]\n"
          ],
          "name": "stdout"
        }
      ]
    },
    {
      "cell_type": "code",
      "metadata": {
        "id": "HQz9YnMbRNfl"
      },
      "source": [
        ""
      ],
      "execution_count": null,
      "outputs": []
    }
  ]
}