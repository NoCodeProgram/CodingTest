{
  "nbformat": 4,
  "nbformat_minor": 0,
  "metadata": {
    "colab": {
      "name": "TopKFreqNums.ipynb",
      "provenance": [],
      "authorship_tag": "ABX9TyNBMQK/11/gOfKyEV4nTimQ",
      "include_colab_link": true
    },
    "kernelspec": {
      "name": "python3",
      "display_name": "Python 3"
    },
    "language_info": {
      "name": "python"
    }
  },
  "cells": [
    {
      "cell_type": "markdown",
      "metadata": {
        "id": "view-in-github",
        "colab_type": "text"
      },
      "source": [
        "<a href=\"https://colab.research.google.com/github/NoCodeProgram/CodingTest/blob/main/heap/TopKFreqNums.ipynb\" target=\"_parent\"><img src=\"https://colab.research.google.com/assets/colab-badge.svg\" alt=\"Open In Colab\"/></a>"
      ]
    },
    {
      "cell_type": "markdown",
      "metadata": {
        "id": "EdnX23ezq7gH"
      },
      "source": [
        "Title : Top K Frequent Numbers\n",
        "\n",
        "Chapter : Heap\n",
        "\n",
        "Link :\n",
        "\n",
        "ChapterLink :\n",
        "\n",
        "문제 : 주어진 array에서 가장 많이 나타나는 숫자 K개를 찾아라. K = 2"
      ]
    },
    {
      "cell_type": "code",
      "metadata": {
        "colab": {
          "base_uri": "https://localhost:8080/"
        },
        "id": "DBak7y_UqPlh",
        "outputId": "145e902b-65c9-4651-e830-ae230ed9a62f"
      },
      "source": [
        "from typing import List\n",
        "from collections import defaultdict\n",
        "import heapq\n",
        "\n",
        "def topKFrequent(nums: List[int], k: int) -> List[int]:\n",
        "  if k == 0:\n",
        "    return []\n",
        "  \n",
        "  #hash map\n",
        "  count_map = defaultdict(int)\n",
        "  \n",
        "  #count over nums\n",
        "  for num in nums:\n",
        "    count_map[num] += 1\n",
        "  \n",
        "  #fixed size heap\n",
        "  topK_heap = []\n",
        "  for num in count_map:\n",
        "    heapq.heappush(topK_heap,(count_map[num],num))  #use hashmap count as comp\n",
        "    if k < len(topK_heap):\n",
        "      heapq.heappop(topK_heap)\n",
        "      \n",
        "  #return list\n",
        "  topK = []\n",
        "  for count,num in topK_heap:\n",
        "    topK.append(num)\n",
        "    \n",
        "  return topK\n",
        "\n",
        "\n",
        "topK = topKFrequent(nums=[1,3,5,3,9,3,7,5], k = 2 )\n",
        "print(topK)\n",
        "  "
      ],
      "execution_count": 1,
      "outputs": [
        {
          "output_type": "stream",
          "text": [
            "[5, 3]\n"
          ],
          "name": "stdout"
        }
      ]
    },
    {
      "cell_type": "code",
      "metadata": {
        "id": "TYuNep9qzwIw"
      },
      "source": [
        ""
      ],
      "execution_count": null,
      "outputs": []
    }
  ]
}