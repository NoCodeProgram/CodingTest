{
  "nbformat": 4,
  "nbformat_minor": 0,
  "metadata": {
    "colab": {
      "name": "findMedianStream.ipynb",
      "provenance": [],
      "authorship_tag": "ABX9TyPlxqE16jDE9mC6EOjFeBR2",
      "include_colab_link": true
    },
    "kernelspec": {
      "name": "python3",
      "display_name": "Python 3"
    },
    "language_info": {
      "name": "python"
    }
  },
  "cells": [
    {
      "cell_type": "markdown",
      "metadata": {
        "id": "view-in-github",
        "colab_type": "text"
      },
      "source": [
        "<a href=\"https://colab.research.google.com/github/NoCodeProgram/CodingTest/blob/main/heap/findMedianStream.ipynb\" target=\"_parent\"><img src=\"https://colab.research.google.com/assets/colab-badge.svg\" alt=\"Open In Colab\"/></a>"
      ]
    },
    {
      "cell_type": "markdown",
      "metadata": {
        "id": "UcoH6ZgSE4SR"
      },
      "source": [
        "Title : Find Median from Data Stream\n",
        "\n",
        "Chapter : Heap\n",
        "\n",
        "Link :\n",
        "\n",
        "ChapterLink :\n",
        "\n",
        "문제 : Data Stream에서 median 을 찾는 class를 만들어라"
      ]
    },
    {
      "cell_type": "code",
      "metadata": {
        "id": "RuHjOlxME3IW"
      },
      "source": [
        "import heapq\n",
        "\n",
        "class MedianFinder:\n",
        "  def __init__(self):\n",
        "    self._maxHeap = []\n",
        "    self._minHeap = []\n",
        "\n",
        "\n",
        "  def addNum(self, num: int) -> None:\n",
        "    if len(self._minHeap) == 0 and len(self._maxHeap) == 0:\n",
        "      heapq.heappush(self._minHeap,num)\n",
        "      return\n",
        "\n",
        "    median = self.findMedian()\n",
        "    if median < num:\n",
        "      heapq.heappush(self._minHeap,num)\n",
        "    else:\n",
        "       heapq.heappush(self._maxHeap,-1 * num)\n",
        "\n",
        "    if len(self._maxHeap) + 1 < len(self._minHeap):\n",
        "      pop_num = heapq.heappop(self._minHeap)\n",
        "      heapq.heappush(self._maxHeap,-1 * pop_num)  #python does not support max heap\n",
        "      \n",
        "    elif len(self._minHeap) + 1 <  len(self._maxHeap):\n",
        "      pop_num = -1 * heapq.heappop(self._maxHeap)\n",
        "      heapq.heappush(self._minHeap,pop_num)\n",
        "    \n",
        "  def findMedian(self) -> float:    \n",
        "    if  len(self._minHeap)<len(self._maxHeap):\n",
        "      small_med = -1 * self._maxHeap[0]\n",
        "      return small_med\n",
        "    elif len(self._maxHeap)<len(self._minHeap):\n",
        "      large_med = self._minHeap[0]\n",
        "      return large_med\n",
        "    else:\n",
        "      small_med = -1 * self._maxHeap[0]\n",
        "      large_med = self._minHeap[0]\n",
        "      med = (small_med + large_med)/2\n",
        "      return med\n",
        "\n",
        "  def clear(self) -> None:\n",
        "    self._maxHeap.clear()\n",
        "    self._minHeap.clear()\n",
        "\n",
        "  \n",
        "median_finder = MedianFinder()"
      ],
      "execution_count": 5,
      "outputs": []
    },
    {
      "cell_type": "code",
      "metadata": {
        "colab": {
          "base_uri": "https://localhost:8080/"
        },
        "id": "eMKGqzB0FKNG",
        "outputId": "fec99bcf-afaa-4561-d5f8-05987eba635c"
      },
      "source": [
        "median_finder.clear()\n",
        "median_finder.addNum(1)\n",
        "print(\"[1]\", \"median: \", median_finder.findMedian())\n",
        "median_finder.addNum(3)\n",
        "print(\"[1,3]\", \"median: \", median_finder.findMedian())\n",
        "median_finder.addNum(5)\n",
        "print(\"[1,3,5]\", \"median: \", median_finder.findMedian())\n",
        "median_finder.addNum(5)\n",
        "print(\"[1,3,5,5]\", \"median: \", median_finder.findMedian())\n",
        "median_finder.addNum(4)\n",
        "print(\"[1,3,5,5,4]\", \"median: \", median_finder.findMedian())\n",
        "median_finder.addNum(8)\n",
        "print(\"[1,3,5,5,4,8]\", \"median: \", median_finder.findMedian())\n",
        "median_finder.addNum(5)\n",
        "print(\"[1,3,5,5,4,8,5]\", \"median: \", median_finder.findMedian())\n",
        "median_finder.addNum(1)\n",
        "print(\"[1,3,5,5,4,8,5,1]\", \"median: \", median_finder.findMedian())\n",
        "median_finder.addNum(2)\n",
        "print(\"[1,3,5,5,4,8,5,1,2]\", \"median: \", median_finder.findMedian())"
      ],
      "execution_count": 10,
      "outputs": [
        {
          "output_type": "stream",
          "text": [
            "[1] median:  1\n",
            "[1,3] median:  2.0\n",
            "[1,3,5] median:  3\n",
            "[1,3,5,5] median:  4.0\n",
            "[1,3,5,5,4] median:  4\n",
            "[1,3,5,5,4,8] median:  4.5\n",
            "[1,3,5,5,4,8,5] median:  5\n",
            "[1,3,5,5,4,8,5,1] median:  4.5\n",
            "[1,3,5,5,4,8,5,1,2] median:  4\n"
          ],
          "name": "stdout"
        }
      ]
    },
    {
      "cell_type": "code",
      "metadata": {
        "id": "dhqdWXhIFZ62"
      },
      "source": [
        ""
      ],
      "execution_count": null,
      "outputs": []
    }
  ]
}