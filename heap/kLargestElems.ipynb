{
  "nbformat": 4,
  "nbformat_minor": 0,
  "metadata": {
    "colab": {
      "name": "kLargestElems.ipynb",
      "provenance": [],
      "authorship_tag": "ABX9TyMJzDjtdEYZSqEtvCDGGGq3",
      "include_colab_link": true
    },
    "kernelspec": {
      "name": "python3",
      "display_name": "Python 3"
    },
    "language_info": {
      "name": "python"
    }
  },
  "cells": [
    {
      "cell_type": "markdown",
      "metadata": {
        "id": "view-in-github",
        "colab_type": "text"
      },
      "source": [
        "<a href=\"https://colab.research.google.com/github/NoCodeProgram/CodingTest/blob/main/heap/kLargestElems.ipynb\" target=\"_parent\"><img src=\"https://colab.research.google.com/assets/colab-badge.svg\" alt=\"Open In Colab\"/></a>"
      ]
    },
    {
      "cell_type": "markdown",
      "metadata": {
        "id": "3HXkKg1HVSiy"
      },
      "source": [
        "Title : Find k largest numbers\n",
        "\n",
        "Chapter : Heap\n",
        "\n",
        "Link :\n",
        "\n",
        "ChapterLink :\n",
        "\n",
        "문제 : 주어진 숫자들 중 가장 큰 숫자 k개를 찾아라"
      ]
    },
    {
      "cell_type": "code",
      "metadata": {
        "colab": {
          "base_uri": "https://localhost:8080/"
        },
        "id": "vgyG20e-PsWF",
        "outputId": "563ff498-38ee-416f-957d-50606379f5b6"
      },
      "source": [
        "import heapq\n",
        "\n",
        "nums = [1,3,5,7,9,11]\n",
        "print(nums)\n",
        "\n",
        "large_nums = []\n",
        "\n",
        "for num in nums:\n",
        "  heapq.heappush(large_nums,num)\n",
        "  if 3 < len(large_nums):\n",
        "    heapq.heappop(large_nums)\n",
        "\n",
        "print(large_nums)"
      ],
      "execution_count": 4,
      "outputs": [
        {
          "output_type": "stream",
          "text": [
            "[1, 3, 5, 7, 9, 11]\n",
            "[7, 11, 9]\n"
          ],
          "name": "stdout"
        }
      ]
    },
    {
      "cell_type": "code",
      "metadata": {
        "id": "xHMPb_7wPvn3"
      },
      "source": [
        ""
      ],
      "execution_count": null,
      "outputs": []
    }
  ]
}