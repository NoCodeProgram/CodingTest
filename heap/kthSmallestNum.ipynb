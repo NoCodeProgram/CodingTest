{
  "nbformat": 4,
  "nbformat_minor": 0,
  "metadata": {
    "colab": {
      "name": "kthSmallestNum.ipynb",
      "provenance": [],
      "authorship_tag": "ABX9TyPDGRtt+J7d+PXPkDrzoCmm",
      "include_colab_link": true
    },
    "kernelspec": {
      "name": "python3",
      "display_name": "Python 3"
    },
    "language_info": {
      "name": "python"
    }
  },
  "cells": [
    {
      "cell_type": "markdown",
      "metadata": {
        "id": "view-in-github",
        "colab_type": "text"
      },
      "source": [
        "<a href=\"https://colab.research.google.com/github/NoCodeProgram/CodingTest/blob/main/heap/kthSmallestNum.ipynb\" target=\"_parent\"><img src=\"https://colab.research.google.com/assets/colab-badge.svg\" alt=\"Open In Colab\"/></a>"
      ]
    },
    {
      "cell_type": "markdown",
      "metadata": {
        "id": "XoqLXSqgqXol"
      },
      "source": [
        "Title : Find kth smallest number\n",
        "\n",
        "Chapter : Heap\n",
        "\n",
        "Link :\n",
        "\n",
        "ChapterLink :\n",
        "\n",
        "문제 : 주어진 숫자들 중 k 번째로 작은 수를 구하여라"
      ]
    },
    {
      "cell_type": "code",
      "metadata": {
        "colab": {
          "base_uri": "https://localhost:8080/"
        },
        "id": "v19baTgcqVAZ",
        "outputId": "70cfad17-aaf1-474a-958f-f0f558593fe6"
      },
      "source": [
        "import heapq\n",
        "\n",
        "nums = [9,7,5,3,1]\n",
        "\n",
        "print(nums)\n",
        "\n",
        "# using heapify to convert list into heap\n",
        "heapq.heapify(nums)\n",
        "print(nums)\n",
        "\n",
        "heapq.heappop(nums)\n",
        "print(nums)\n",
        "\n",
        "heapq.heappop(nums)\n",
        "print(nums)\n",
        "\n",
        "print(nums[0])\n"
      ],
      "execution_count": 5,
      "outputs": [
        {
          "output_type": "stream",
          "text": [
            "[9, 7, 5, 3, 1]\n",
            "[1, 3, 5, 9, 7]\n",
            "[3, 7, 5, 9]\n",
            "[5, 7, 9]\n",
            "5\n"
          ],
          "name": "stdout"
        }
      ]
    },
    {
      "cell_type": "code",
      "metadata": {
        "id": "-BXeIyqntecL"
      },
      "source": [
        ""
      ],
      "execution_count": null,
      "outputs": []
    }
  ]
}