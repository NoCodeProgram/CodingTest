{
  "nbformat": 4,
  "nbformat_minor": 0,
  "metadata": {
    "colab": {
      "name": "mergeKsortedLists.ipynb",
      "provenance": [],
      "authorship_tag": "ABX9TyNh0o0Tn74uroIgk3T/awbr",
      "include_colab_link": true
    },
    "kernelspec": {
      "name": "python3",
      "display_name": "Python 3"
    },
    "language_info": {
      "name": "python"
    }
  },
  "cells": [
    {
      "cell_type": "markdown",
      "metadata": {
        "id": "view-in-github",
        "colab_type": "text"
      },
      "source": [
        "<a href=\"https://colab.research.google.com/github/NoCodeProgram/CodingTest/blob/main/heap/mergeKsortedLists.ipynb\" target=\"_parent\"><img src=\"https://colab.research.google.com/assets/colab-badge.svg\" alt=\"Open In Colab\"/></a>"
      ]
    },
    {
      "cell_type": "markdown",
      "metadata": {
        "id": "0v3u2i9d92nY"
      },
      "source": [
        "Title : Merge K sorted Lists\n",
        "\n",
        "Chapter : Heap\n",
        "\n",
        "Link :\n",
        "\n",
        "ChapterLink :\n",
        "\n",
        "문제 : k개의 정렬된 list들을 병합하여라"
      ]
    },
    {
      "cell_type": "code",
      "metadata": {
        "colab": {
          "base_uri": "https://localhost:8080/"
        },
        "id": "X69qVSHN91zp",
        "outputId": "dedceef0-2b79-4498-f6ec-dd9c0f3529e3"
      },
      "source": [
        "from typing import List\n",
        "import heapq\n",
        "\n",
        "def mergeKsortedLists(lists: List[List[int]]):\n",
        "  merged_list = []\n",
        "  heap = []\n",
        "\n",
        "  for nth_list in lists:\n",
        "    if len(nth_list) == 0:\n",
        "      continue\n",
        "    \n",
        "    #heap push ( num, idx, list)\n",
        "    heapq.heappush(heap,(nth_list[0],0,nth_list))\n",
        "\n",
        "  while heap:\n",
        "    num, idx, nth_list = heapq.heappop(heap)\n",
        "    merged_list.append(num)\n",
        "    idx += 1\n",
        "    if idx < len(nth_list):\n",
        "      heapq.heappush(heap,(nth_list[idx], idx, nth_list))\n",
        "\n",
        "  return merged_list\n",
        "\n",
        "\n",
        "lists = [[1,5,7,9],[2,6,8],[3,4,10]]\n",
        "\n",
        "print(mergeKsortedLists(lists))\n"
      ],
      "execution_count": 8,
      "outputs": [
        {
          "output_type": "stream",
          "text": [
            "[1, 2, 3, 4, 5, 6, 7, 8, 9, 10]\n"
          ],
          "name": "stdout"
        }
      ]
    },
    {
      "cell_type": "code",
      "metadata": {
        "id": "26Gv-3SnEAh0"
      },
      "source": [
        ""
      ],
      "execution_count": null,
      "outputs": []
    }
  ]
}