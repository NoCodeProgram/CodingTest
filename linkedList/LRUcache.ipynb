{
  "nbformat": 4,
  "nbformat_minor": 0,
  "metadata": {
    "colab": {
      "name": "LRUcache.ipynb",
      "provenance": [],
      "authorship_tag": "ABX9TyNCPh/05solxmfmBreckY/e",
      "include_colab_link": true
    },
    "kernelspec": {
      "name": "python3",
      "display_name": "Python 3"
    }
  },
  "cells": [
    {
      "cell_type": "markdown",
      "metadata": {
        "id": "view-in-github",
        "colab_type": "text"
      },
      "source": [
        "<a href=\"https://colab.research.google.com/github/NoCodeProgram/CodingTest/blob/main/linkedList/LRUcache.ipynb\" target=\"_parent\"><img src=\"https://colab.research.google.com/assets/colab-badge.svg\" alt=\"Open In Colab\"/></a>"
      ]
    },
    {
      "cell_type": "markdown",
      "metadata": {
        "id": "iO9nVVjXvT0T"
      },
      "source": [
        "Title : LRU cache 구현하기\n",
        "\n",
        "Chapter : Linked List\n",
        "\n",
        "Link :\n",
        "\n",
        "ChapterLink :\n",
        "\n",
        "문제 :   Least Recently Used (LRU) cache를 구현하여라\n"
      ]
    },
    {
      "cell_type": "code",
      "metadata": {
        "id": "OE9tS1_HvKiN"
      },
      "source": [
        "class ListNode:\n",
        "  def __init__(self, key:int, val: int):\n",
        "    self.key = key\n",
        "    self.val = val\n",
        "    self.left = None\n",
        "    self.right = None\n"
      ],
      "execution_count": 1,
      "outputs": []
    },
    {
      "cell_type": "code",
      "metadata": {
        "id": "_Z5wXb_wwb2M"
      },
      "source": [
        "class LRUCache:\n",
        "  def __init__(self, capacity: int):\n",
        "    self._max_cap = capacity\n",
        "    self._hashmap = {}\n",
        "    self._list_head = ListNode(-1,-1)\n",
        "    self._list_tail = ListNode(-1,-1)\n",
        "    self._list_head.right = self._list_tail\n",
        "    self._list_tail.left = self._list_head\n",
        "\n",
        "  def get(self, key: int) -> int:\n",
        "    value_node = self._hashmap.get(key)\n",
        "    if value_node:\n",
        "      self._removeFromList(value_node)\n",
        "      self._addBack(value_node)\n",
        "      val = value_node.val\n",
        "      return val\n",
        "\n",
        "    else:\n",
        "      return -1\n",
        "\n",
        "  def put(self, key: int, value: int) -> None:\n",
        "    value_node = self._hashmap.get(key)\n",
        "    if value_node:\n",
        "      value_node.val = value\n",
        "      self._removeFromList(value_node)\n",
        "      self._addBack(value_node)\n",
        "      return\n",
        "    value_node = ListNode(key,value)\n",
        "    self._addBack(value_node)\n",
        "    self._hashmap[key] = value_node\n",
        "    \n",
        "    if self._max_cap<len(self._hashmap):\n",
        "      lru_node = self._list_head.right\n",
        "      lru_key = lru_node.key\n",
        "      self._removeFromList(lru_node)\n",
        "      self._hashmap.pop(lru_key)\n",
        "\n",
        "  \n",
        "  def _addBack(self, node:ListNode):\n",
        "    tail_left = self._list_tail.left\n",
        "    \n",
        "    tail_left.right = node\n",
        "    node.left = tail_left\n",
        "    \n",
        "    self._list_tail.left = node\n",
        "    node.right = self._list_tail\n",
        "    \n",
        "    \n",
        "  def _removeFromList(self,node:ListNode):\n",
        "    left_node = node.left\n",
        "    right_node = node.right\n",
        "\n",
        "    left_node.right = right_node\n",
        "    right_node.left = left_node"
      ],
      "execution_count": 2,
      "outputs": []
    },
    {
      "cell_type": "code",
      "metadata": {
        "colab": {
          "base_uri": "https://localhost:8080/"
        },
        "id": "nw6NlLeeweID",
        "outputId": "8b82b141-d5f9-46bc-a45d-a3e4370ff179"
      },
      "source": [
        "lru_cache = LRUCache(4)\n",
        "lru_cache.put(1,10)\n",
        "lru_cache.put(2,20)\n",
        "lru_cache.put(3,30)\n",
        "lru_cache.put(4,40)\n",
        "print(1,lru_cache.get(1)) #key 1 renew\n",
        "\n",
        "lru_cache.put(5,50)\n",
        "print(1,lru_cache.get(1))\n",
        "print(2,lru_cache.get(2))\n",
        "print(3,lru_cache.get(3))\n",
        "print(4,lru_cache.get(4))\n",
        "print(5,lru_cache.get(5))"
      ],
      "execution_count": 3,
      "outputs": [
        {
          "output_type": "stream",
          "text": [
            "1 10\n",
            "1 10\n",
            "2 -1\n",
            "3 30\n",
            "4 40\n",
            "5 50\n"
          ],
          "name": "stdout"
        }
      ]
    },
    {
      "cell_type": "code",
      "metadata": {
        "id": "P-VIBYQixBEb"
      },
      "source": [
        ""
      ],
      "execution_count": 3,
      "outputs": []
    }
  ]
}