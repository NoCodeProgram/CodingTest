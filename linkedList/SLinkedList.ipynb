{
  "nbformat": 4,
  "nbformat_minor": 0,
  "metadata": {
    "colab": {
      "name": "SLinkedList.ipynb",
      "provenance": [],
      "collapsed_sections": [],
      "authorship_tag": "ABX9TyOACfqhmXXdvhg9SG9fFwem",
      "include_colab_link": true
    },
    "kernelspec": {
      "name": "python3",
      "display_name": "Python 3"
    }
  },
  "cells": [
    {
      "cell_type": "markdown",
      "metadata": {
        "id": "view-in-github",
        "colab_type": "text"
      },
      "source": [
        "<a href=\"https://colab.research.google.com/github/NoCodeProgram/CodingTest/blob/main/linkedList/SLinkedList.ipynb\" target=\"_parent\"><img src=\"https://colab.research.google.com/assets/colab-badge.svg\" alt=\"Open In Colab\"/></a>"
      ]
    },
    {
      "cell_type": "markdown",
      "metadata": {
        "id": "6VBoAz3OFlwH"
      },
      "source": [
        "Title : S linked list"
      ]
    },
    {
      "cell_type": "code",
      "metadata": {
        "id": "V2vU1w-RGOI_"
      },
      "source": [
        "class ListNode:\n",
        "  def __init__(self, val):\n",
        "    self.val = val\n",
        "    self.next = None\n",
        "\n",
        "def printNodes(node:ListNode):\n",
        "  crnt_node = node\n",
        "  while crnt_node is not None:\n",
        "    print(crnt_node.val, end=' ')\n",
        "    crnt_node = crnt_node.next\n"
      ],
      "execution_count": 1,
      "outputs": []
    },
    {
      "cell_type": "code",
      "metadata": {
        "id": "nQftfdf76uaw"
      },
      "source": [
        "class SLinkedList:\n",
        "  def __init__(self):\n",
        "    self.head = None\n",
        "\n",
        "  def addAtHead(self, val): #O(1)\n",
        "    node = ListNode(val)\n",
        "    node.next = self.head\n",
        "    self.head = node\n",
        "\n",
        "  #but when the list\n",
        "  def addBack(self, val): #O(n)\n",
        "    node = ListNode(val)\n",
        "    crnt_node = self.head\n",
        "    while crnt_node.next:\n",
        "      crnt_node = crnt_node.next\n",
        "    crnt_node.next = node\n",
        "\n",
        "  def findNode(self, val): #O(n)\n",
        "    crnt_node = self.head\n",
        "    while crnt_node is not None:\n",
        "      if crnt_node.val == val:\n",
        "        return crnt_node\n",
        "      crnt_node = crnt_node.next\n",
        "    raise RuntimeError('Node not found')\n",
        "\n",
        "  def addAfter(self, node, val): #O(1)\n",
        "    new_node = ListNode(val)\n",
        "    new_node.next = node.next\n",
        "    node.next = new_node\n",
        "\n",
        "  def deleteAfter(self, prev_node): #O(1)\n",
        "    if prev_node.next is not None:\n",
        "      prev_node.next = prev_node.next.next"
      ],
      "execution_count": 14,
      "outputs": []
    },
    {
      "cell_type": "code",
      "metadata": {
        "colab": {
          "base_uri": "https://localhost:8080/"
        },
        "id": "QcwDGS_d86Op",
        "outputId": "01a026ce-fcb3-40c8-fd8d-8c31fc95fe41"
      },
      "source": [
        "slist = SLinkedList()\n",
        "slist.addAtHead(1)\n",
        "slist.addAtHead(2)\n",
        "slist.addBack(3)\n",
        "\n",
        "node1 = slist.findNode(1)\n",
        "slist.addAfter(node1,4)\n",
        "slist.deleteAfter(node1)\n",
        "printNodes(slist.head)\n",
        "\n"
      ],
      "execution_count": 15,
      "outputs": [
        {
          "output_type": "stream",
          "text": [
            "2 1 3 "
          ],
          "name": "stdout"
        }
      ]
    },
    {
      "cell_type": "code",
      "metadata": {
        "id": "NPPDhVXt9FJa"
      },
      "source": [
        ""
      ],
      "execution_count": null,
      "outputs": []
    }
  ]
}