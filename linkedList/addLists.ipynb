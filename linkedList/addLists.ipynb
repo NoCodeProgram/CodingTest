{
  "nbformat": 4,
  "nbformat_minor": 0,
  "metadata": {
    "colab": {
      "name": "addLists.ipynb",
      "provenance": [],
      "authorship_tag": "ABX9TyMhtk2MZl97NWd3jWcn6ANT",
      "include_colab_link": true
    },
    "kernelspec": {
      "name": "python3",
      "display_name": "Python 3"
    }
  },
  "cells": [
    {
      "cell_type": "markdown",
      "metadata": {
        "id": "view-in-github",
        "colab_type": "text"
      },
      "source": [
        "<a href=\"https://colab.research.google.com/github/NoCodeProgram/CodingTest/blob/main/linkedList/addLists.ipynb\" target=\"_parent\"><img src=\"https://colab.research.google.com/assets/colab-badge.svg\" alt=\"Open In Colab\"/></a>"
      ]
    },
    {
      "cell_type": "markdown",
      "metadata": {
        "id": "9fOy0PPIGKpK"
      },
      "source": [
        "Title : Linked Lists의 합 구하기\n",
        "\n",
        "Chapter : Linked List\n",
        "\n",
        "Link :\n",
        "\n",
        "ChapterLink :\n",
        "\n",
        "문제 : 주어진 LinkedLists의 역방향 합과 정방향 합을 구하여라\n",
        "\n",
        "list1 : 7→5→3\n",
        "\n",
        "list2 : 4→8→2\n",
        "\n",
        "역방향답 : 1→4→6\n",
        "\n",
        "정방향답 :  1→2→3→5"
      ]
    },
    {
      "cell_type": "code",
      "metadata": {
        "id": "gzavp75iF00u"
      },
      "source": [
        "from typing import List\n",
        "\n",
        "class ListNode:\n",
        "  def __init__(self, x):\n",
        "    self.val = x\n",
        "    self.next = None\n",
        "\n",
        "def createList(in_list:List[int]) -> ListNode:\n",
        "  if len(in_list) == 0:\n",
        "    raise RuntimeError(\"in_list must have data\")        \n",
        "  head_node = ListNode(in_list[0])\n",
        "  last_node = head_node\n",
        "  for idx in range(1,len(in_list)):\n",
        "    node = ListNode(in_list[idx])\n",
        "    last_node.next = node\n",
        "    last_node = node\n",
        "  return head_node\n",
        "\n",
        "def printNodes(node:ListNode):\n",
        "  crnt_node = node\n",
        "  while crnt_node is not None:\n",
        "    print(crnt_node.val, end=' ')\n",
        "    crnt_node = crnt_node.next\n",
        "  print()"
      ],
      "execution_count": 1,
      "outputs": []
    },
    {
      "cell_type": "code",
      "metadata": {
        "id": "4H0PqAA9HZ4g"
      },
      "source": [
        "class ListAdder:\n",
        "  def addReverse(self, l1: ListNode, l2: ListNode) -> ListNode:\n",
        "    dummy_node = ListNode(-1)\n",
        "    crnt_node = dummy_node\n",
        "    node_a = l1\n",
        "    node_b = l2\n",
        "    carry = 0\n",
        "    \n",
        "    while node_a or node_b:\n",
        "      num_a = node_a.val if node_a else 0\n",
        "      num_b = node_b.val if node_b else 0\n",
        "      sum_ab = num_a + num_b + carry\n",
        "      carry = int(sum_ab / 10)\n",
        "      val = int(sum_ab % 10)\n",
        "      \n",
        "      new_node = ListNode(val)\n",
        "      crnt_node.next = new_node\n",
        "      crnt_node = crnt_node.next\n",
        "      node_a = node_a.next if node_a else None\n",
        "      node_b = node_b.next if node_b else None   \n",
        "    \n",
        "    if 1 == carry:\n",
        "      new_node = ListNode(carry)\n",
        "      crnt_node.next = new_node\n",
        "\n",
        "    return dummy_node.next\n",
        "\n",
        "adder = ListAdder()"
      ],
      "execution_count": 3,
      "outputs": []
    },
    {
      "cell_type": "code",
      "metadata": {
        "colab": {
          "base_uri": "https://localhost:8080/"
        },
        "id": "572IO52NHhTm",
        "outputId": "39ab8b38-30a4-4e18-fbd4-fafa5f169d05"
      },
      "source": [
        "list1 = createList([7,5,3])\n",
        "list2 = createList([4,8,2])\n",
        "reverseAdd = adder.addReverse(list1,list2)\n",
        "printNodes(reverseAdd)"
      ],
      "execution_count": 4,
      "outputs": [
        {
          "output_type": "stream",
          "text": [
            "1 4 6 \n"
          ],
          "name": "stdout"
        }
      ]
    },
    {
      "cell_type": "code",
      "metadata": {
        "id": "2yyxYh_FH1cc"
      },
      "source": [
        ""
      ],
      "execution_count": null,
      "outputs": []
    }
  ]
}