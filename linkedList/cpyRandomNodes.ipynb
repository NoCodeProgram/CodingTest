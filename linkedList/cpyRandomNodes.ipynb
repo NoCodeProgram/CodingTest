{
  "nbformat": 4,
  "nbformat_minor": 0,
  "metadata": {
    "colab": {
      "name": "cpyRandomNodes.ipynb",
      "provenance": [],
      "authorship_tag": "ABX9TyN0dLNPRW+lUxUVSgsmMWEV",
      "include_colab_link": true
    },
    "kernelspec": {
      "name": "python3",
      "display_name": "Python 3"
    }
  },
  "cells": [
    {
      "cell_type": "markdown",
      "metadata": {
        "id": "view-in-github",
        "colab_type": "text"
      },
      "source": [
        "<a href=\"https://colab.research.google.com/github/NoCodeProgram/CodingTest/blob/main/linkedList/cpyRandomNodes.ipynb\" target=\"_parent\"><img src=\"https://colab.research.google.com/assets/colab-badge.svg\" alt=\"Open In Colab\"/></a>"
      ]
    },
    {
      "cell_type": "markdown",
      "metadata": {
        "id": "a1zAY9TjxA38"
      },
      "source": [
        "Title : List with Random 복사하기\n",
        "\n",
        "Chapter : Linked List\n",
        "\n",
        "Link :\n",
        "\n",
        "ChapterLink :\n",
        "\n",
        "문제 : random node가 포함된 linked list를 deep copy 하여라.\n"
      ]
    },
    {
      "cell_type": "code",
      "metadata": {
        "id": "EqGb_5wew8WB"
      },
      "source": [
        "from typing import List\n",
        "import random\n",
        "\n",
        "class RanListNode:\n",
        "  def __init__(self, x):\n",
        "    self.val = x\n",
        "    self.random = None\n",
        "    self.next = None\n",
        "\n",
        "def createList(in_list:List[int]) -> RanListNode:\n",
        "  if len(in_list) == 0:\n",
        "    raise RuntimeError(\"in_list must have data\")        \n",
        "  head_node = RanListNode(in_list[0])\n",
        "  last_node = head_node\n",
        "  for idx in range(1,len(in_list)):\n",
        "    node = RanListNode(in_list[idx])\n",
        "    last_node.next = node\n",
        "    last_node = node\n",
        "  return head_node\n",
        "\n",
        "def printNodes(node:RanListNode):\n",
        "  crnt_node = node\n",
        "  while crnt_node is not None:\n",
        "    print(crnt_node.val, end='-')\n",
        "    random_node = crnt_node.random\n",
        "    if random_node:\n",
        "      print(random_node.val, end=' ')\n",
        "    else:\n",
        "      print(random_node, end=' ')\n",
        "    crnt_node = crnt_node.next\n",
        "  print()\n",
        "\n",
        "def addRandom(head:RanListNode):\n",
        "  node_arry = []\n",
        "  crnt_node = head\n",
        "  while crnt_node:\n",
        "    node_arry.append(crnt_node)\n",
        "    crnt_node = crnt_node.next\n",
        "  node_count = len(node_arry)\n",
        "  crnt_node = head\n",
        "  while crnt_node:\n",
        "    random_idx = random.randint(0, node_count-1)\n",
        "    crnt_node.random = node_arry[random_idx]\n",
        "    crnt_node = crnt_node.next\n",
        "\n",
        "\n"
      ],
      "execution_count": 1,
      "outputs": []
    },
    {
      "cell_type": "code",
      "metadata": {
        "id": "J-vzPQhzxsQB"
      },
      "source": [
        "class RandomDeepCopy:\n",
        "  def hashWay(self, head: 'Node') -> 'Node':\n",
        "    dummy_node = RanListNode(-1)\n",
        "    \n",
        "    node_map = {}\n",
        "    \n",
        "    crnt_rnode = head\n",
        "    crnt_wnode = dummy_node\n",
        "    while crnt_rnode:\n",
        "      val = crnt_rnode.val;\n",
        "      tmp_node = RanListNode(val)\n",
        "      \n",
        "      node_map[crnt_rnode] = tmp_node\n",
        "      crnt_wnode.next = tmp_node\n",
        "      crnt_wnode = crnt_wnode.next\n",
        "      crnt_rnode = crnt_rnode.next\n",
        "    \n",
        "    crnt_rnode = head\n",
        "    while crnt_rnode:\n",
        "      from_node = node_map[crnt_rnode]\n",
        "      random_node = crnt_rnode.random\n",
        "      if random_node is not None:\n",
        "        to_node = node_map[random_node]\n",
        "        from_node.random = to_node\n",
        "      else:\n",
        "        from_node.random = None\n",
        "      crnt_rnode = crnt_rnode.next\n",
        "      \n",
        "    return dummy_node.next\n",
        "\n",
        "  def nodeMatch(self, head: 'Node') -> 'Node':\n",
        "    if head is None:\n",
        "      return None\n",
        "   \n",
        "    crnt_node = head\n",
        "    while crnt_node:\n",
        "      val = crnt_node.val;\n",
        "      tmp_node = RanListNode(val)\n",
        "      tmp_node.next = crnt_node.next\n",
        "      crnt_node.next = tmp_node\n",
        "      crnt_node = tmp_node.next\n",
        "    \n",
        "    crnt_node = head\n",
        "    while crnt_node:\n",
        "      m_from_node = crnt_node.next\n",
        "      m_to_node = None\n",
        "      if crnt_node.random:\n",
        "        m_to_node = crnt_node.random.next\n",
        "      \n",
        "      m_from_node.random = m_to_node\n",
        "      crnt_node = crnt_node.next.next\n",
        "    \n",
        "    \n",
        "    crnt_node = head\n",
        "    dummy_node = RanListNode(-1)\n",
        "    dummy_node.next = crnt_node.next\n",
        "    \n",
        "    while crnt_node and crnt_node.next:\n",
        "      tmp_node = crnt_node.next\n",
        "      crnt_node.next = crnt_node.next.next\n",
        "      crnt_node = tmp_node\n",
        "    \n",
        "    return dummy_node.next\n",
        "      \n",
        "    \n",
        "rdc = RandomDeepCopy()"
      ],
      "execution_count": 2,
      "outputs": []
    },
    {
      "cell_type": "code",
      "metadata": {
        "id": "nW_YOuqwx0Th",
        "colab": {
          "base_uri": "https://localhost:8080/"
        },
        "outputId": "69a1b284-d625-4cac-a9ec-2b3ff738c4e0"
      },
      "source": [
        "head = createList([1,3,5,7,9])\n",
        "addRandom(head)\n",
        "printNodes(head)\n",
        "\n",
        "deepCpy = rdc.hashWay(head)\n",
        "printNodes(deepCpy)"
      ],
      "execution_count": 3,
      "outputs": [
        {
          "output_type": "stream",
          "text": [
            "1-7 3-9 5-9 7-9 9-7 \n",
            "1-7 3-9 5-9 7-9 9-7 \n"
          ],
          "name": "stdout"
        }
      ]
    },
    {
      "cell_type": "code",
      "metadata": {
        "colab": {
          "base_uri": "https://localhost:8080/"
        },
        "id": "EKT2pKua-02E",
        "outputId": "8a08b5df-b19c-466e-a0a7-ca351148207f"
      },
      "source": [
        "printNodes(head)\n",
        "\n",
        "deepCpy = rdc.nodeMatch(head)\n",
        "printNodes(deepCpy)"
      ],
      "execution_count": 4,
      "outputs": [
        {
          "output_type": "stream",
          "text": [
            "1-7 3-9 5-9 7-9 9-7 \n",
            "1-7 3-9 5-9 7-9 9-7 \n"
          ],
          "name": "stdout"
        }
      ]
    },
    {
      "cell_type": "code",
      "metadata": {
        "id": "IpIRQYcXCQKw"
      },
      "source": [
        ""
      ],
      "execution_count": 4,
      "outputs": []
    }
  ]
}