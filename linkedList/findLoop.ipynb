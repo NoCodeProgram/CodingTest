{
  "nbformat": 4,
  "nbformat_minor": 0,
  "metadata": {
    "colab": {
      "name": "findLoop.ipynb",
      "provenance": [],
      "authorship_tag": "ABX9TyM1QWayuHf74sBVb/oEnN4H",
      "include_colab_link": true
    },
    "kernelspec": {
      "name": "python3",
      "display_name": "Python 3"
    }
  },
  "cells": [
    {
      "cell_type": "markdown",
      "metadata": {
        "id": "view-in-github",
        "colab_type": "text"
      },
      "source": [
        "<a href=\"https://colab.research.google.com/github/NoCodeProgram/CodingTest/blob/main/linkedList/findLoop.ipynb\" target=\"_parent\"><img src=\"https://colab.research.google.com/assets/colab-badge.svg\" alt=\"Open In Colab\"/></a>"
      ]
    },
    {
      "cell_type": "markdown",
      "metadata": {
        "id": "uB4U9PSD7tE5"
      },
      "source": [
        "Title : Linked List의 Cycle 찾기\n",
        "\n",
        "Chapter : Linked List\n",
        "\n",
        "Link :\n",
        "\n",
        "ChapterLink :\n",
        "\n",
        "문제 : 주어진 LinkedList에 cycle이 있는지 확인하여라\n"
      ]
    },
    {
      "cell_type": "code",
      "metadata": {
        "id": "Aczccpj57rwj"
      },
      "source": [
        "from typing import List\n",
        "\n",
        "class ListNode:\n",
        "  def __init__(self, x):\n",
        "    self.val = x\n",
        "    self.next = None\n",
        "\n",
        "def createList(in_list:List[int]) -> ListNode:\n",
        "  if len(in_list) == 0:\n",
        "    raise RuntimeError(\"in_list must have data\")        \n",
        "  head_node = ListNode(in_list[0])\n",
        "  last_node = head_node\n",
        "  for idx in range(1,len(in_list)):\n",
        "    node = ListNode(in_list[idx])\n",
        "    last_node.next = node\n",
        "    last_node = node\n",
        "  return head_node\n",
        "\n",
        "def makeLoop(head:ListNode, node_idx:int):\n",
        "  end_node = head\n",
        "  while end_node.next:\n",
        "    end_node = end_node.next\n",
        "\n",
        "  idx = 0\n",
        "  crnt_node = head\n",
        "  for idx in range(1,node_idx):\n",
        "    crnt_node = crnt_node.next\n",
        "  end_node.next = crnt_node\n",
        "\n",
        "list_in = createList([1,3,5,7,9])\n",
        "makeLoop(list_in,2)"
      ],
      "execution_count": 12,
      "outputs": []
    },
    {
      "cell_type": "code",
      "metadata": {
        "colab": {
          "base_uri": "https://localhost:8080/"
        },
        "id": "YrppCoL1B79B",
        "outputId": "6f6505a2-5f0e-4f76-87a7-c2325658e9fe"
      },
      "source": [
        "class HasLoop:\n",
        "  def hashWay(self, head: ListNode) -> bool:\n",
        "    if head is None:\n",
        "      return False\n",
        "\n",
        "    node_set = set()\n",
        "    crnt_node = head\n",
        "    while crnt_node:\n",
        "      if crnt_node in node_set:\n",
        "        return True\n",
        "      node_set.add(crnt_node)\n",
        "      crnt_node = crnt_node.next\n",
        "        \n",
        "    return False\n",
        "\n",
        "  def fastSlow(self, head: ListNode)-> bool:\n",
        "    if head is None:\n",
        "      return False\n",
        "    \n",
        "    slow_node = head\n",
        "    fast_node = head\n",
        "    while fast_node:\n",
        "      if fast_node.next:\n",
        "        slow_node = slow_node.next\n",
        "        fast_node = fast_node.next.next\n",
        "      else:\n",
        "        break\n",
        "        \n",
        "      if fast_node == slow_node:\n",
        "        return True\n",
        "      \n",
        "    return False\n",
        "\n",
        "\n",
        "hasLoop = HasLoop()\n",
        "hasLoop.hashWay(list_in)"
      ],
      "execution_count": 13,
      "outputs": [
        {
          "output_type": "execute_result",
          "data": {
            "text/plain": [
              "True"
            ]
          },
          "metadata": {
            "tags": []
          },
          "execution_count": 13
        }
      ]
    },
    {
      "cell_type": "code",
      "metadata": {
        "colab": {
          "base_uri": "https://localhost:8080/"
        },
        "id": "lBBCaPGiDPUJ",
        "outputId": "77ea3175-e7e2-4b3e-db8f-212841b825e8"
      },
      "source": [
        "hasLoop.fastSlow(list_in)"
      ],
      "execution_count": 14,
      "outputs": [
        {
          "output_type": "execute_result",
          "data": {
            "text/plain": [
              "True"
            ]
          },
          "metadata": {
            "tags": []
          },
          "execution_count": 14
        }
      ]
    },
    {
      "cell_type": "code",
      "metadata": {
        "id": "1eEOZAFAJVkT"
      },
      "source": [
        ""
      ],
      "execution_count": null,
      "outputs": []
    }
  ]
}