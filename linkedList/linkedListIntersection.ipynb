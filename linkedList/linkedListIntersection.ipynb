{
  "nbformat": 4,
  "nbformat_minor": 0,
  "metadata": {
    "colab": {
      "name": "linkedListIntersection.ipynb",
      "provenance": [],
      "collapsed_sections": [],
      "authorship_tag": "ABX9TyPeDrb7CmOOijMUzDP6Ftfw",
      "include_colab_link": true
    },
    "kernelspec": {
      "name": "python3",
      "display_name": "Python 3"
    }
  },
  "cells": [
    {
      "cell_type": "markdown",
      "metadata": {
        "id": "view-in-github",
        "colab_type": "text"
      },
      "source": [
        "<a href=\"https://colab.research.google.com/github/NoCodeProgram/CodingTest/blob/main/linkedList/linkedListIntersection.ipynb\" target=\"_parent\"><img src=\"https://colab.research.google.com/assets/colab-badge.svg\" alt=\"Open In Colab\"/></a>"
      ]
    },
    {
      "cell_type": "markdown",
      "metadata": {
        "id": "vFP_H7PD2kU-"
      },
      "source": [
        "Title : Linked List의 교차점 찾기\n",
        "\n",
        "Chapter : Linked List\n",
        "\n",
        "Link :\n",
        "\n",
        "ChapterLink :\n",
        "\n",
        "문제 : 주어진 LinkedList의 교차점을 return하여라"
      ]
    },
    {
      "cell_type": "code",
      "metadata": {
        "id": "idOP1Gzp2jME"
      },
      "source": [
        "from typing import List\n",
        "\n",
        "class ListNode:\n",
        "  def __init__(self, x):\n",
        "    self.val = x\n",
        "    self.next = None\n",
        "\n",
        "def createList(in_list:List[int]) -> ListNode:\n",
        "  if len(in_list) == 0:\n",
        "    raise RuntimeError(\"in_list must have data\")        \n",
        "  head_node = ListNode(in_list[0])\n",
        "  last_node = head_node\n",
        "  for idx in range(1,len(in_list)):\n",
        "    node = ListNode(in_list[idx])\n",
        "    last_node.next = node\n",
        "    last_node = node\n",
        "  return head_node\n",
        "\n",
        "def getIdxNode(head:ListNode, idx:int):\n",
        "  nth_node = head\n",
        "  for idx in range (0,idx):\n",
        "    nth_node = nth_node.next\n",
        "  return nth_node\n",
        "\n",
        "list_a = createList([1,3,5,7,9])\n",
        "list_b = ListNode(2)\n",
        "intersection = getIdxNode(list_a,3)\n",
        "list_b.next = intersection\n",
        "\n",
        "#list a 1-3-5 \\\n",
        "#              7 - 9\n",
        "#list b     2 /\n",
        "#intersection is seven"
      ],
      "execution_count": 1,
      "outputs": []
    },
    {
      "cell_type": "code",
      "metadata": {
        "id": "pd-ch4Es3CiM"
      },
      "source": [
        "class IntersectionFinder:\n",
        "  def twoNodesWay(self, headA: ListNode, headB: ListNode) -> ListNode:\n",
        "    node_a = headA\n",
        "    node_b = headB    \n",
        "    while node_a != node_b:\n",
        "      if node_a:\n",
        "        node_a = node_a.next\n",
        "      else:\n",
        "        node_a = headB\n",
        "        \n",
        "      if node_b:\n",
        "        node_b = node_b.next\n",
        "      else:\n",
        "        node_b = headA\n",
        "        \n",
        "    return node_a\n",
        "\n",
        "  def hashWay(self, headA:ListNode, headB:ListNode) -> ListNode:\n",
        "    node_set = set()\n",
        "    \n",
        "    crnt_node = headA\n",
        "    while crnt_node:\n",
        "      node_set.add(crnt_node)\n",
        "      crnt_node = crnt_node.next\n",
        "      \n",
        "    crnt_node = headB\n",
        "    while crnt_node:\n",
        "      if crnt_node in node_set:\n",
        "        return crnt_node\n",
        "      crnt_node = crnt_node.next\n",
        "      \n",
        "    return None\n",
        "      \n",
        "finder = IntersectionFinder()     "
      ],
      "execution_count": 2,
      "outputs": []
    },
    {
      "cell_type": "code",
      "metadata": {
        "colab": {
          "base_uri": "https://localhost:8080/"
        },
        "id": "hGgI0jpd5LOQ",
        "outputId": "f8d552fa-88c0-4d76-8679-247be146d97a"
      },
      "source": [
        "print(finder.twoNodesWay(list_a,list_b).val)\n",
        "print(finder.hashWay(list_a,list_b).val)"
      ],
      "execution_count": 3,
      "outputs": [
        {
          "output_type": "stream",
          "text": [
            "7\n",
            "7\n"
          ],
          "name": "stdout"
        }
      ]
    },
    {
      "cell_type": "code",
      "metadata": {
        "id": "5y-ayYYA5KxE"
      },
      "source": [
        ""
      ],
      "execution_count": 3,
      "outputs": []
    }
  ]
}