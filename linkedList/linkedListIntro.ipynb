{
  "nbformat": 4,
  "nbformat_minor": 0,
  "metadata": {
    "colab": {
      "name": "linkedListIntro.ipynb",
      "provenance": [],
      "collapsed_sections": [],
      "authorship_tag": "ABX9TyOiRshDB+kH+RsuHf410V2w",
      "include_colab_link": true
    },
    "kernelspec": {
      "name": "python3",
      "display_name": "Python 3"
    }
  },
  "cells": [
    {
      "cell_type": "markdown",
      "metadata": {
        "id": "view-in-github",
        "colab_type": "text"
      },
      "source": [
        "<a href=\"https://colab.research.google.com/github/NoCodeProgram/CodingTest/blob/main/linkedList/linkedListIntro.ipynb\" target=\"_parent\"><img src=\"https://colab.research.google.com/assets/colab-badge.svg\" alt=\"Open In Colab\"/></a>"
      ]
    },
    {
      "cell_type": "markdown",
      "metadata": {
        "id": "AAPF4riQ9LwC"
      },
      "source": [
        "Title : Linked List Intro\n",
        "\n",
        "\n",
        "1.   ListNode 생성\n",
        "2.   1,2,3,4 리스트 노드 연결\n",
        "3.   Iterative Print Function\n",
        "4.   Recursive Print Function\n",
        "\n"
      ]
    },
    {
      "cell_type": "code",
      "metadata": {
        "id": "ySg0TtCV-_80"
      },
      "source": [
        "class ListNode:\n",
        "  def __init__(self,val):\n",
        "    self.val = val\n",
        "    self.next = None\n"
      ],
      "execution_count": null,
      "outputs": []
    },
    {
      "cell_type": "code",
      "metadata": {
        "id": "dypTkMdEPWiy"
      },
      "source": [
        "head_node = ListNode(1)\n",
        "head_node.next = ListNode(2)\n",
        "head_node.next.next = ListNode(3)\n",
        "head_node.next.next.next = ListNode(4)"
      ],
      "execution_count": null,
      "outputs": []
    },
    {
      "cell_type": "code",
      "metadata": {
        "colab": {
          "base_uri": "https://localhost:8080/"
        },
        "id": "fTyWIIIYQRbI",
        "outputId": "b234c0f3-4d3b-4951-cf11-4d9bbf95a736"
      },
      "source": [
        "def printNodes(node:ListNode):\n",
        "  crnt_node = node\n",
        "  while crnt_node is not None:\n",
        "    print(crnt_node.val , end= ' ')\n",
        "    crnt_node = crnt_node.next\n",
        "\n",
        "printNodes(head_node)"
      ],
      "execution_count": null,
      "outputs": [
        {
          "output_type": "stream",
          "text": [
            "1 2 3 4 "
          ],
          "name": "stdout"
        }
      ]
    },
    {
      "cell_type": "code",
      "metadata": {
        "colab": {
          "base_uri": "https://localhost:8080/"
        },
        "id": "xFZB_YQZQ7rN",
        "outputId": "c359dc21-ac3b-4318-93d6-0789bd9dffb6"
      },
      "source": [
        "def printNodesRecur(node:ListNode):\n",
        "  print(node.val, end=' ')\n",
        "  if node.next is not None:\n",
        "    printNodesRecur(node.next)\n",
        "\n",
        "printNodesRecur(head_node)"
      ],
      "execution_count": null,
      "outputs": [
        {
          "output_type": "stream",
          "text": [
            "1 2 3 4 "
          ],
          "name": "stdout"
        }
      ]
    },
    {
      "cell_type": "code",
      "metadata": {
        "id": "p__NyRl-R2pd"
      },
      "source": [
        ""
      ],
      "execution_count": null,
      "outputs": []
    }
  ]
}