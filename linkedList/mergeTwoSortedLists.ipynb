{
  "nbformat": 4,
  "nbformat_minor": 0,
  "metadata": {
    "colab": {
      "name": "mergeTwoSortedLists.ipynb",
      "provenance": [],
      "authorship_tag": "ABX9TyMmvPZb9nlV5H7awDTDEN+g",
      "include_colab_link": true
    },
    "kernelspec": {
      "name": "python3",
      "display_name": "Python 3"
    }
  },
  "cells": [
    {
      "cell_type": "markdown",
      "metadata": {
        "id": "view-in-github",
        "colab_type": "text"
      },
      "source": [
        "<a href=\"https://colab.research.google.com/github/NoCodeProgram/CodingTest/blob/main/linkedList/mergeTwoSortedLists.ipynb\" target=\"_parent\"><img src=\"https://colab.research.google.com/assets/colab-badge.svg\" alt=\"Open In Colab\"/></a>"
      ]
    },
    {
      "cell_type": "markdown",
      "metadata": {
        "id": "59e5DTdcxCT_"
      },
      "source": [
        "\n",
        "Title : 두개의 정렬된 linked Lists 합치기\n",
        "\n",
        "Chapter : Linked List\n",
        "\n",
        "Link :\n",
        "\n",
        "ChapterLink :\n",
        "\n",
        "문제 : 주어진 두개의 정렬된 LinkedList를 정렬이 된 상태로 합쳐라 \\\n",
        "L1 :    1→3→5→7 \\\n",
        "L2 :    1→2→3→4\n",
        "\n",
        "\n",
        "L1+L2 : 1→1→2→3→3→4→5→7\n"
      ]
    },
    {
      "cell_type": "code",
      "metadata": {
        "id": "QFsqJqH6wpS_"
      },
      "source": [
        "from typing import List\n",
        "\n",
        "class ListNode:\n",
        "  def __init__(self, x):\n",
        "    self.val = x\n",
        "    self.next = None\n",
        "\n",
        "def createList(in_list:List[int]) -> ListNode:\n",
        "  if len(in_list) == 0:\n",
        "    raise RuntimeError(\"in_list must have data\")        \n",
        "  head_node = ListNode(in_list[0])\n",
        "  last_node = head_node\n",
        "  for idx in range(1,len(in_list)):\n",
        "    node = ListNode(in_list[idx])\n",
        "    last_node.next = node\n",
        "    last_node = node\n",
        "  return head_node\n",
        "\n",
        "def printNodes(node:ListNode):\n",
        "  crnt_node = node\n",
        "  while crnt_node is not None:\n",
        "    print(crnt_node.val, end=' ')\n",
        "    crnt_node = crnt_node.next\n",
        "  print()"
      ],
      "execution_count": 1,
      "outputs": []
    },
    {
      "cell_type": "code",
      "metadata": {
        "id": "7AU0_ZI_yJCr"
      },
      "source": [
        "class MergeTwoLists:\n",
        "  def iterativeWay(self, l1: ListNode, l2: ListNode) -> ListNode:\n",
        "    dummy_node = ListNode(0)\n",
        "    crnt_node = dummy_node\n",
        "    \n",
        "    node1 = l1\n",
        "    node2 = l2\n",
        "    \n",
        "    while node1 and node2:\n",
        "      val1 = node1.val\n",
        "      val2 = node2.val      \n",
        "      if val1<=val2:\n",
        "        crnt_node.next = node1\n",
        "        node1 = node1.next\n",
        "        crnt_node = crnt_node.next\n",
        "      else:\n",
        "        crnt_node.next = node2\n",
        "        node2 = node2.next\n",
        "        crnt_node = crnt_node.next\n",
        "    \n",
        "    if node1:\n",
        "      crnt_node.next = node1\n",
        "    else:\n",
        "      crnt_node.next = node2\n",
        "        \n",
        "    return dummy_node.next\n",
        "      \n",
        "    \n",
        "    \n",
        "    "
      ],
      "execution_count": 2,
      "outputs": []
    },
    {
      "cell_type": "code",
      "metadata": {
        "colab": {
          "base_uri": "https://localhost:8080/"
        },
        "id": "ZDBt56hcyRec",
        "outputId": "8684d191-b98d-463a-f5c4-fea44a24b556"
      },
      "source": [
        "list1 = createList([1,3,5,7])\n",
        "list2 = createList([1,2,3,4])\n",
        "\n",
        "merger = MergeTwoLists()\n",
        "merged_head = merger.iterativeWay(list1,list2)\n",
        "printNodes(merged_head)\n"
      ],
      "execution_count": 3,
      "outputs": [
        {
          "output_type": "stream",
          "text": [
            "1 1 2 3 3 4 5 7 \n"
          ],
          "name": "stdout"
        }
      ]
    },
    {
      "cell_type": "code",
      "metadata": {
        "id": "2Rpmpdtyymoa"
      },
      "source": [
        ""
      ],
      "execution_count": null,
      "outputs": []
    }
  ]
}