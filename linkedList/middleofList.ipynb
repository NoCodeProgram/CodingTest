{
  "nbformat": 4,
  "nbformat_minor": 0,
  "metadata": {
    "colab": {
      "name": "middleofList.ipynb",
      "provenance": [],
      "authorship_tag": "ABX9TyN0CsR2HGKUpgNrv0q4w7S6",
      "include_colab_link": true
    },
    "kernelspec": {
      "name": "python3",
      "display_name": "Python 3"
    }
  },
  "cells": [
    {
      "cell_type": "markdown",
      "metadata": {
        "id": "view-in-github",
        "colab_type": "text"
      },
      "source": [
        "<a href=\"https://colab.research.google.com/github/NoCodeProgram/CodingTest/blob/main/linkedList/middleofList.ipynb\" target=\"_parent\"><img src=\"https://colab.research.google.com/assets/colab-badge.svg\" alt=\"Open In Colab\"/></a>"
      ]
    },
    {
      "cell_type": "markdown",
      "metadata": {
        "id": "mf78mLqd_AgK"
      },
      "source": [
        "Title : Linked List의 중간 node를 찾기\n",
        "\n",
        "Chapter : Linked List\n",
        "\n",
        "Link :\n",
        "\n",
        "ChapterLink :\n",
        "\n",
        "문제 : 주어진 LinkedList의 중간 node를 찾아서 return하여라 \\\n",
        "예제1 : 1→3→5→7→9 \\\n",
        "output : 5→7→9 \\\n",
        "\n",
        "예제2 : 1→2→3→4 \\\n",
        "output : 3→4\n"
      ]
    },
    {
      "cell_type": "code",
      "metadata": {
        "id": "4mqCObq_-_3L"
      },
      "source": [
        "from typing import List\n",
        "\n",
        "class ListNode:\n",
        "  def __init__(self, x):\n",
        "    self.val = x\n",
        "    self.next = None\n",
        "\n",
        "def createList(in_list:List[int]) -> ListNode:\n",
        "  if len(in_list) == 0:\n",
        "    raise RuntimeError(\"in_list must have data\")        \n",
        "  head_node = ListNode(in_list[0])\n",
        "  last_node = head_node\n",
        "  for idx in range(1,len(in_list)):\n",
        "    node = ListNode(in_list[idx])\n",
        "    last_node.next = node\n",
        "    last_node = node\n",
        "  return head_node\n",
        "\n",
        "def printNodes(node:ListNode):\n",
        "  crnt_node = node\n",
        "  while crnt_node is not None:\n",
        "    print(crnt_node.val, end=' ')\n",
        "    crnt_node = crnt_node.next\n",
        "  print()"
      ],
      "execution_count": 2,
      "outputs": []
    },
    {
      "cell_type": "code",
      "metadata": {
        "id": "nAHAntsj_jXL"
      },
      "source": [
        "class MiddleNode:\n",
        "  def indexWay(self, head:ListNode) -> ListNode:\n",
        "    total_count = 0\n",
        "    crnt_node = head\n",
        "    while crnt_node:\n",
        "      total_count += 1\n",
        "      crnt_node = crnt_node.next\n",
        "    \n",
        "    half_count = int(total_count/2)\n",
        "    \n",
        "    crnt_node = head\n",
        "    for idx in range (0,half_count):\n",
        "      crnt_node = crnt_node.next\n",
        "      \n",
        "    return crnt_node\n",
        "\n",
        "  def arrayWay(self, head:ListNode) -> ListNode:\n",
        "    node_array = []\n",
        "    crnt_node = head\n",
        "    while crnt_node:\n",
        "      node_array.append(crnt_node)\n",
        "      crnt_node = crnt_node.next       \n",
        "    half_count = int(len(node_array)/2)    \n",
        "    return node_array[half_count]\n",
        "\n",
        "\n",
        "  def fastSlow(self, head:ListNode) -> ListNode:\n",
        "    slow_node = head\n",
        "    fast_node = head\n",
        "    \n",
        "    while fast_node:\n",
        "      if fast_node.next:\n",
        "        slow_node = slow_node.next\n",
        "        fast_node = fast_node.next.next\n",
        "      else:\n",
        "        break\n",
        "        \n",
        "    return slow_node\n"
      ],
      "execution_count": 3,
      "outputs": []
    },
    {
      "cell_type": "code",
      "metadata": {
        "colab": {
          "base_uri": "https://localhost:8080/"
        },
        "id": "3XLAg2Zd_sfm",
        "outputId": "58b701a2-11fd-4797-879f-e5c46636d15f"
      },
      "source": [
        "#index way\n",
        "list_in = createList([1,3,5,7,9])\n",
        "middle_node = MiddleNode()\n",
        "middle_node = middle_node.indexWay(list_in)\n",
        "printNodes(middle_node)"
      ],
      "execution_count": 4,
      "outputs": [
        {
          "output_type": "stream",
          "text": [
            "5 7 9 \n"
          ],
          "name": "stdout"
        }
      ]
    },
    {
      "cell_type": "code",
      "metadata": {
        "colab": {
          "base_uri": "https://localhost:8080/"
        },
        "id": "KOcQG6Hl_5eX",
        "outputId": "af77cb92-a4b1-4f45-99e6-803592037986"
      },
      "source": [
        "#array way\n",
        "list_in = createList([1,3,5,7,9])\n",
        "middle_node = MiddleNode()\n",
        "middle_node = middle_node.indexWay(list_in)\n",
        "printNodes(middle_node)"
      ],
      "execution_count": 5,
      "outputs": [
        {
          "output_type": "stream",
          "text": [
            "5 7 9 \n"
          ],
          "name": "stdout"
        }
      ]
    },
    {
      "cell_type": "code",
      "metadata": {
        "colab": {
          "base_uri": "https://localhost:8080/"
        },
        "id": "DkKPYwkLAAR4",
        "outputId": "0a4d9863-19eb-4a71-c6f1-06b109d52439"
      },
      "source": [
        "#index way\n",
        "list_in = createList([1,3,5,7,9])\n",
        "middle_node = MiddleNode()\n",
        "middle_node = middle_node.indexWay(list_in)\n",
        "printNodes(middle_node)"
      ],
      "execution_count": 6,
      "outputs": [
        {
          "output_type": "stream",
          "text": [
            "5 7 9 \n"
          ],
          "name": "stdout"
        }
      ]
    },
    {
      "cell_type": "code",
      "metadata": {
        "id": "NQy_Fghyjhvt"
      },
      "source": [
        ""
      ],
      "execution_count": null,
      "outputs": []
    }
  ]
}