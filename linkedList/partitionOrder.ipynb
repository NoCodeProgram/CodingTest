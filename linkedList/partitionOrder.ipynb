{
  "nbformat": 4,
  "nbformat_minor": 0,
  "metadata": {
    "colab": {
      "name": "partitionOrder.ipynb",
      "provenance": [],
      "authorship_tag": "ABX9TyMQdJyl+Ij+67TeOaVS9OLb",
      "include_colab_link": true
    },
    "kernelspec": {
      "name": "python3",
      "display_name": "Python 3"
    }
  },
  "cells": [
    {
      "cell_type": "markdown",
      "metadata": {
        "id": "view-in-github",
        "colab_type": "text"
      },
      "source": [
        "<a href=\"https://colab.research.google.com/github/NoCodeProgram/CodingTest/blob/main/linkedList/partitionOrder.ipynb\" target=\"_parent\"><img src=\"https://colab.research.google.com/assets/colab-badge.svg\" alt=\"Open In Colab\"/></a>"
      ]
    },
    {
      "cell_type": "markdown",
      "metadata": {
        "id": "mW8hwOLoz9OO"
      },
      "source": [
        "Title : List partition하기\n",
        "\n",
        "Chapter : Linked List\n",
        "\n",
        "Link :\n",
        "\n",
        "ChapterLink :\n",
        "\n",
        "문제 : 주어진 List를 x보다 작은수를 먼저, x보다 큰수를 나중에 나오도록 partition하여라. 이때 순서가 list안 node의 순서가 바뀌면 안된다\n",
        "\n",
        "input : 1→3→7→5→3→6→3, x=5 \\\n",
        "답 :  1→3→3→7→5→6"
      ]
    },
    {
      "cell_type": "code",
      "metadata": {
        "id": "l3QyKPp7z6fE"
      },
      "source": [
        "from typing import List\n",
        "\n",
        "class ListNode:\n",
        "  def __init__(self, x):\n",
        "    self.val = x\n",
        "    self.next = None\n",
        "\n",
        "def createList(in_list:List[int]) -> ListNode:\n",
        "  if len(in_list) == 0:\n",
        "    raise RuntimeError(\"in_list must have data\")        \n",
        "  head_node = ListNode(in_list[0])\n",
        "  last_node = head_node\n",
        "  for idx in range(1,len(in_list)):\n",
        "    node = ListNode(in_list[idx])\n",
        "    last_node.next = node\n",
        "    last_node = node\n",
        "  return head_node\n",
        "\n",
        "def printNodes(node:ListNode):\n",
        "  crnt_node = node\n",
        "  while crnt_node is not None:\n",
        "    print(crnt_node.val, end=' ')\n",
        "    crnt_node = crnt_node.next\n",
        "  print()"
      ],
      "execution_count": 1,
      "outputs": []
    },
    {
      "cell_type": "code",
      "metadata": {
        "id": "hiC77rzn0biD"
      },
      "source": [
        "\n",
        "class Partitioner:\n",
        "  def partition(self, head: ListNode, x: int) -> ListNode:\n",
        "    dummy_a = ListNode(-1)\n",
        "    dummy_b = ListNode(-1)\n",
        "    \n",
        "    node_a = dummy_a\n",
        "    node_b = dummy_b\n",
        "    \n",
        "    crnt_node = head\n",
        "    while crnt_node:\n",
        "      val = crnt_node.val\n",
        "      if x <= val:\n",
        "        node_b.next = crnt_node\n",
        "        node_b = node_b.next\n",
        "        crnt_node = crnt_node.next\n",
        "      else:\n",
        "        node_a.next = crnt_node\n",
        "        node_a = node_a.next\n",
        "        crnt_node = crnt_node.next\n",
        "        \n",
        "    node_b.next = None\n",
        "    node_a.next = dummy_b.next\n",
        "    \n",
        "    return dummy_a.next\n",
        "\n",
        "partitioner = Partitioner()"
      ],
      "execution_count": 2,
      "outputs": []
    },
    {
      "cell_type": "code",
      "metadata": {
        "colab": {
          "base_uri": "https://localhost:8080/"
        },
        "id": "pFnLS2iD4OCz",
        "outputId": "a27b1953-6ce0-4b23-b887-de9798f2ffe9"
      },
      "source": [
        "head = createList([1,3,7,5,3,6])\n",
        "partition_head = partitioner.partition(head,5)\n",
        "printNodes(partition_head)"
      ],
      "execution_count": 3,
      "outputs": [
        {
          "output_type": "stream",
          "text": [
            "1 3 3 7 5 6 \n"
          ],
          "name": "stdout"
        }
      ]
    },
    {
      "cell_type": "code",
      "metadata": {
        "id": "Zs0A2VT44a_i"
      },
      "source": [
        ""
      ],
      "execution_count": 3,
      "outputs": []
    }
  ]
}