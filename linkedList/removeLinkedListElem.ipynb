{
  "nbformat": 4,
  "nbformat_minor": 0,
  "metadata": {
    "colab": {
      "name": "removeLinkedListElem.ipynb",
      "provenance": [],
      "collapsed_sections": [],
      "include_colab_link": true
    },
    "kernelspec": {
      "name": "python3",
      "display_name": "Python 3"
    }
  },
  "cells": [
    {
      "cell_type": "markdown",
      "metadata": {
        "id": "view-in-github",
        "colab_type": "text"
      },
      "source": [
        "<a href=\"https://colab.research.google.com/github/NoCodeProgram/CodingTest/blob/main/linkedList/removeLinkedListElem.ipynb\" target=\"_parent\"><img src=\"https://colab.research.google.com/assets/colab-badge.svg\" alt=\"Open In Colab\"/></a>"
      ]
    },
    {
      "cell_type": "markdown",
      "metadata": {
        "id": "k9aPeQQCxfEF"
      },
      "source": [
        "\n",
        "Title : LinkedList에서 Elements 삭제하기\n",
        "\n",
        "Chapter : Linked List\n",
        "\n",
        "Link : [YouTube](https://youtu.be/UDzObr6WxYE)\n",
        "\n",
        "ChapterLink :\n",
        "\n",
        "문제: 주어진 링크드리스트에서 val와 같은 element들을 삭제하여라.\n",
        "\n",
        "예제 : 1→3→5→7→3→1 , val = 3 \\\n",
        "답 : 1→5→7→1 \n"
      ]
    },
    {
      "cell_type": "code",
      "metadata": {
        "id": "YAZyU_ONPyFD"
      },
      "source": [
        "from typing import List\n",
        "\n",
        "class ListNode:\n",
        "  def __init__(self, x):\n",
        "    self.val = x\n",
        "    self.next = None\n",
        "\n",
        "def createList(in_list:List[int]) -> ListNode:\n",
        "  if len(in_list) == 0:\n",
        "    raise RuntimeError(\"in_list must have data\")        \n",
        "  head_node = ListNode(in_list[0])\n",
        "  last_node = head_node\n",
        "  for idx in range(1,len(in_list)):\n",
        "    node = ListNode(in_list[idx])\n",
        "    last_node.next = node\n",
        "    last_node = node\n",
        "  return head_node\n",
        "\n",
        "def printNodes(node:ListNode):\n",
        "  crnt_node = node\n",
        "  while crnt_node is not None:\n",
        "    print(crnt_node.val, end=' ')\n",
        "    crnt_node = crnt_node.next\n",
        "  print()\n",
        "    \n"
      ],
      "execution_count": null,
      "outputs": []
    },
    {
      "cell_type": "code",
      "metadata": {
        "id": "hcBeuhRAQPqv"
      },
      "source": [
        "class ElementRemover:\n",
        "  def __init__(self,val):\n",
        "    self.__val = val\n",
        "\n",
        "  #arg_node data is not kept\n",
        "  def recursive(self, node: ListNode) -> ListNode:\n",
        "    if not node:\n",
        "      return None\n",
        "    next_node = self.recursive(node.next)\n",
        "    if node.val == self.__val:\n",
        "      return next_node\n",
        "    else:\n",
        "      node.next = next_node\n",
        "      return node\n",
        "  \n",
        "  #arg_node data is not kept\n",
        "  def iterative(self, node: ListNode) -> ListNode:    \n",
        "    dummy_node = ListNode(0)\n",
        "    dummy_node.next = head\n",
        "    \n",
        "    crnt_node = head\n",
        "    prev_node = dummy_node\n",
        "    while crnt_node:\n",
        "      if crnt_node.val == self.__val:\n",
        "        prev_node.next = crnt_node.next\n",
        "        crnt_node = crnt_node.next\n",
        "      else:\n",
        "        crnt_node = crnt_node.next\n",
        "        prev_node = prev_node.next\n",
        "    return dummy_node.next\n",
        "  \n",
        "\n"
      ],
      "execution_count": null,
      "outputs": []
    },
    {
      "cell_type": "code",
      "metadata": {
        "colab": {
          "base_uri": "https://localhost:8080/"
        },
        "id": "jq6J5jA9R_bJ",
        "outputId": "a3513534-f24f-49dc-88cf-a47ed0f7f835"
      },
      "source": [
        "head = createList([1,3,5,7,3,1])\n",
        "printNodes(head)\n",
        "\n",
        "remover = ElementRemover(1)\n",
        "# ret = remover.iterative(head)\n",
        "ret = remover.recursive(head)\n",
        "printNodes(ret)\n"
      ],
      "execution_count": null,
      "outputs": [
        {
          "output_type": "stream",
          "text": [
            "1 3 5 7 3 1 \n",
            "3 5 7 3 \n"
          ],
          "name": "stdout"
        }
      ]
    },
    {
      "cell_type": "code",
      "metadata": {
        "id": "s61YW7PWTEHW"
      },
      "source": [
        ""
      ],
      "execution_count": null,
      "outputs": []
    }
  ]
}