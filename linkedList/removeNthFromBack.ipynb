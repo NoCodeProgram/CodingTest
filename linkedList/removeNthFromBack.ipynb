{
  "nbformat": 4,
  "nbformat_minor": 0,
  "metadata": {
    "colab": {
      "name": "removeNthFromBack.ipynb",
      "provenance": [],
      "collapsed_sections": [],
      "authorship_tag": "ABX9TyMSuxg4PyP2KyNhaBsbgdX1",
      "include_colab_link": true
    },
    "kernelspec": {
      "name": "python3",
      "display_name": "Python 3"
    }
  },
  "cells": [
    {
      "cell_type": "markdown",
      "metadata": {
        "id": "view-in-github",
        "colab_type": "text"
      },
      "source": [
        "<a href=\"https://colab.research.google.com/github/NoCodeProgram/CodingTest/blob/main/linkedList/removeNthFromBack.ipynb\" target=\"_parent\"><img src=\"https://colab.research.google.com/assets/colab-badge.svg\" alt=\"Open In Colab\"/></a>"
      ]
    },
    {
      "cell_type": "markdown",
      "metadata": {
        "id": "zaMKZP91ix9f"
      },
      "source": [
        "Title : 뒤에서 n번째 node 삭제하기\n",
        "\n",
        "Chapter : Linked List\n",
        "\n",
        "Link :\n",
        "\n",
        "ChapterLink :\n",
        "\n",
        "문제 : 뒤에서 n번째 node를 삭제하여라\n",
        "\n",
        "input : 1→3→5→7→9, n=2 \\\n",
        "답 :  1→3→5→9"
      ]
    },
    {
      "cell_type": "code",
      "metadata": {
        "id": "7FiDWaMTjXbR"
      },
      "source": [
        "from typing import List\n",
        "\n",
        "class ListNode:\n",
        "  def __init__(self, x):\n",
        "    self.val = x\n",
        "    self.next = None\n",
        "\n",
        "def createList(in_list:List[int]) -> ListNode:\n",
        "  if len(in_list) == 0:\n",
        "    raise RuntimeError(\"in_list must have data\")        \n",
        "  head_node = ListNode(in_list[0])\n",
        "  last_node = head_node\n",
        "  for idx in range(1,len(in_list)):\n",
        "    node = ListNode(in_list[idx])\n",
        "    last_node.next = node\n",
        "    last_node = node\n",
        "  return head_node\n",
        "\n",
        "def printNodes(node:ListNode):\n",
        "  crnt_node = node\n",
        "  while crnt_node is not None:\n",
        "    print(crnt_node.val, end=' ')\n",
        "    crnt_node = crnt_node.next\n",
        "  print()"
      ],
      "execution_count": 1,
      "outputs": []
    },
    {
      "cell_type": "code",
      "metadata": {
        "id": "2qmtWlXzixYv"
      },
      "source": [
        "class RemoveNthBack:\n",
        "  def countBase(self, head: ListNode, n: int) -> ListNode:\n",
        "    if n==0:\n",
        "      return head\n",
        "    \n",
        "    list_count = 0\n",
        "    crnt_node = head\n",
        "    while crnt_node:\n",
        "      crnt_node = crnt_node.next \n",
        "      list_count += 1\n",
        "    \n",
        "    count_togo = list_count - n\n",
        "    dummy_node = ListNode(0)\n",
        "    dummy_node.next = head\n",
        "    crnt_node = dummy_node\n",
        "    for _ in range(0, count_togo):\n",
        "      crnt_node = crnt_node.next\n",
        "    \n",
        "    crnt_node.next = crnt_node.next.next\n",
        "    return dummy_node.next\n",
        "\n",
        "  def arrayApproach(self, head: ListNode, n: int) -> ListNode:\n",
        "    if n==0:\n",
        "      return head\n",
        "    \n",
        "    dummy_node = ListNode(-1)\n",
        "    dummy_node.next = head    \n",
        "    crnt_node = dummy_node\n",
        "    node_list = []\n",
        "    while crnt_node:\n",
        "      node_list.append(crnt_node)\n",
        "      crnt_node = crnt_node.next\n",
        "      \n",
        "    delete_idx = len(node_list)-n\n",
        "    prev_idx = delete_idx -1\n",
        "    prev_node = node_list[prev_idx]\n",
        "    prev_node.next = prev_node.next.next\n",
        "    \n",
        "    return dummy_node.next\n",
        "\n",
        "  def twoPointers(self, head: ListNode, n: int) -> ListNode:\n",
        "    if n==0:\n",
        "      return head\n",
        "    \n",
        "    dummy_node = ListNode(-1)\n",
        "    dummy_node.next = head    \n",
        "    first_node = dummy_node\n",
        "\n",
        "    for _ in range(0,n+1):\n",
        "      first_node = first_node.next\n",
        "      \n",
        "    second_node = dummy_node\n",
        "    while first_node:\n",
        "      first_node = first_node.next\n",
        "      second_node = second_node.next\n",
        "    \n",
        "    second_node.next = second_node.next.next    \n",
        "    return dummy_node.next\n",
        "        \n",
        "remover = RemoveNthBack()"
      ],
      "execution_count": 2,
      "outputs": []
    },
    {
      "cell_type": "code",
      "metadata": {
        "colab": {
          "base_uri": "https://localhost:8080/"
        },
        "id": "ZyrnseYzjR91",
        "outputId": "50c40ce3-8ffe-41d8-9c0b-9295ad97e13b"
      },
      "source": [
        "in_list = createList([1,3,5,7,9])\n",
        "out_list = remover.countBase(in_list,2)\n",
        "printNodes(out_list)"
      ],
      "execution_count": 3,
      "outputs": [
        {
          "output_type": "stream",
          "text": [
            "1 3 5 9 \n"
          ],
          "name": "stdout"
        }
      ]
    },
    {
      "cell_type": "code",
      "metadata": {
        "colab": {
          "base_uri": "https://localhost:8080/"
        },
        "id": "GuJ-sv2IjjPv",
        "outputId": "d1eca33d-97cc-45a6-9ef5-74496d6a445c"
      },
      "source": [
        "in_list = createList([1,3,5,7,9])\n",
        "out_list = remover.arrayApproach(in_list,2)\n",
        "printNodes(out_list)"
      ],
      "execution_count": 4,
      "outputs": [
        {
          "output_type": "stream",
          "text": [
            "1 3 5 9 \n"
          ],
          "name": "stdout"
        }
      ]
    },
    {
      "cell_type": "code",
      "metadata": {
        "colab": {
          "base_uri": "https://localhost:8080/"
        },
        "id": "DXRfYw5al8-p",
        "outputId": "255cc455-fdd3-45f7-e38c-a016afbb8fbf"
      },
      "source": [
        "in_list = createList([1,3,5,7,9])\n",
        "out_list = remover.twoPointers(in_list,2)\n",
        "printNodes(out_list)"
      ],
      "execution_count": 5,
      "outputs": [
        {
          "output_type": "stream",
          "text": [
            "1 3 5 9 \n"
          ],
          "name": "stdout"
        }
      ]
    },
    {
      "cell_type": "code",
      "metadata": {
        "id": "RP1RU02wnDCo"
      },
      "source": [
        ""
      ],
      "execution_count": 5,
      "outputs": []
    }
  ]
}