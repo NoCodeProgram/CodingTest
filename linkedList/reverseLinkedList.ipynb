{
  "nbformat": 4,
  "nbformat_minor": 0,
  "metadata": {
    "colab": {
      "name": "reverseLinkedList.ipynb",
      "provenance": [],
      "collapsed_sections": [],
      "authorship_tag": "ABX9TyNM6rOXN9Sg2O42boOQELPL",
      "include_colab_link": true
    },
    "kernelspec": {
      "name": "python3",
      "display_name": "Python 3"
    }
  },
  "cells": [
    {
      "cell_type": "markdown",
      "metadata": {
        "id": "view-in-github",
        "colab_type": "text"
      },
      "source": [
        "<a href=\"https://colab.research.google.com/github/NoCodeProgram/CodingTest/blob/main/linkedList/reverseLinkedList.ipynb\" target=\"_parent\"><img src=\"https://colab.research.google.com/assets/colab-badge.svg\" alt=\"Open In Colab\"/></a>"
      ]
    },
    {
      "cell_type": "markdown",
      "metadata": {
        "id": "phnz7FvDVidH"
      },
      "source": [
        "Title : 링크드 리스트 뒤집기\n",
        "\n",
        "Chapter : Linked List\n",
        "\n",
        "Link :\n",
        "\n",
        "ChapterLink :\n",
        "\n",
        "문제 : 주어진 LinkedList를 뒤집어라\\\n",
        "예제 : 1→3→5→7→9\\\n",
        "답 : 9→7→5→3→1\n"
      ]
    },
    {
      "cell_type": "code",
      "metadata": {
        "id": "1PL7Lg_ZVbap"
      },
      "source": [
        "from typing import List\n",
        "\n",
        "class ListNode:\n",
        "  def __init__(self, x):\n",
        "    self.val = x\n",
        "    self.next = None\n",
        "\n",
        "def createList(in_list:List[int]) -> ListNode:\n",
        "  if len(in_list) == 0:\n",
        "    raise RuntimeError(\"in_list must have data\")        \n",
        "  head_node = ListNode(in_list[0])\n",
        "  last_node = head_node\n",
        "  for idx in range(1,len(in_list)):\n",
        "    node = ListNode(in_list[idx])\n",
        "    last_node.next = node\n",
        "    last_node = node\n",
        "  return head_node\n",
        "\n",
        "def printNodes(node:ListNode):\n",
        "  crnt_node = node\n",
        "  while crnt_node is not None:\n",
        "    print(crnt_node.val, end=' ')\n",
        "    crnt_node = crnt_node.next\n",
        "  print()"
      ],
      "execution_count": 1,
      "outputs": []
    },
    {
      "cell_type": "code",
      "metadata": {
        "id": "LsPfmc_ZXNxt"
      },
      "source": [
        "class ReverseList:\n",
        "  def iterativeWay(self, head: ListNode) -> ListNode:\n",
        "    if head is None:\n",
        "      return head\n",
        "    elif head.next is None:\n",
        "      return head    \n",
        "    \n",
        "    crnt_node = head.next\n",
        "    prev_node = head\n",
        "    head.next = None\n",
        "    \n",
        "    while crnt_node:\n",
        "      tmp_next_node = crnt_node.next\n",
        "      crnt_node.next = prev_node\n",
        "      prev_node = crnt_node\n",
        "      crnt_node = tmp_next_node\n",
        "      \n",
        "    return prev_node\n",
        "\n",
        "  def recursiveWay(self, head: ListNode) -> ListNode:\n",
        "    #exit condition\n",
        "    if head is None:\n",
        "      return head\n",
        "    elif head.next is None:\n",
        "      return head    \n",
        "    \n",
        "    back_head = self.recursiveWay(head.next)\n",
        "    head.next.next = head\n",
        "    head.next = None\n",
        "    \n",
        "    return back_head\n",
        "\n",
        "rvs_list = ReverseList()\n"
      ],
      "execution_count": 2,
      "outputs": []
    },
    {
      "cell_type": "code",
      "metadata": {
        "colab": {
          "base_uri": "https://localhost:8080/"
        },
        "id": "vBcWoz0kXRM6",
        "outputId": "a93dd4f0-b8ab-4604-f8c5-469ea9456963"
      },
      "source": [
        "head = createList([1,3,5,7,9])\n",
        "rvs_head = rvs_list.iterativeWay(head)\n",
        "printNodes(rvs_head)\n"
      ],
      "execution_count": 3,
      "outputs": [
        {
          "output_type": "stream",
          "text": [
            "9 7 5 3 1 \n"
          ],
          "name": "stdout"
        }
      ]
    },
    {
      "cell_type": "code",
      "metadata": {
        "id": "I80KoGpIXgFu",
        "colab": {
          "base_uri": "https://localhost:8080/"
        },
        "outputId": "b9bd397c-2993-4c01-bd4f-64a3f2c7ad2a"
      },
      "source": [
        "head = createList([1,3,5,7,9])\n",
        "rvs_head = rvs_list.recursiveWay(head)\n",
        "printNodes(rvs_head)"
      ],
      "execution_count": 4,
      "outputs": [
        {
          "output_type": "stream",
          "text": [
            "9 7 5 3 1 \n"
          ],
          "name": "stdout"
        }
      ]
    },
    {
      "cell_type": "code",
      "metadata": {
        "id": "YzsdsB9-dwCc"
      },
      "source": [
        ""
      ],
      "execution_count": 4,
      "outputs": []
    }
  ]
}