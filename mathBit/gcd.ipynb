{
  "nbformat": 4,
  "nbformat_minor": 0,
  "metadata": {
    "colab": {
      "name": "gcd.ipynb",
      "provenance": [],
      "collapsed_sections": [],
      "authorship_tag": "ABX9TyNHz31ypUZnF0Qk5OmayZGk",
      "include_colab_link": true
    },
    "kernelspec": {
      "name": "python3",
      "display_name": "Python 3"
    },
    "language_info": {
      "name": "python"
    }
  },
  "cells": [
    {
      "cell_type": "markdown",
      "metadata": {
        "id": "view-in-github",
        "colab_type": "text"
      },
      "source": [
        "<a href=\"https://colab.research.google.com/github/NoCodeProgram/CodingTest/blob/main/mathBit/gcd.ipynb\" target=\"_parent\"><img src=\"https://colab.research.google.com/assets/colab-badge.svg\" alt=\"Open In Colab\"/></a>"
      ]
    },
    {
      "cell_type": "markdown",
      "metadata": {
        "id": "lM7G97XYQKzg"
      },
      "source": [
        "Title : Greatest Common Divisor\n",
        "\n",
        "Chapter : Math, Bit\n",
        "\n",
        "Link : \n",
        "\n",
        "ChapterLink : \n",
        "\n",
        "문제: 주어진 두 숫자의 최대공약수를 구하여라"
      ]
    },
    {
      "cell_type": "code",
      "metadata": {
        "colab": {
          "base_uri": "https://localhost:8080/"
        },
        "id": "Sa04gI_aQDqS",
        "outputId": "b9e7194b-f5ad-422f-a26b-f28e282ba946"
      },
      "source": [
        "#Brute Force\n",
        "def gcdBruteForce(m: int, n: int) -> int:\n",
        "  \n",
        "  def getDivisors(n: int):\n",
        "    divisors = []\n",
        "    for num in range(1,n+1):\n",
        "      if n%num == 0:\n",
        "        divisors.append(num)\n",
        "    return divisors\n",
        "\n",
        "  m_d = getDivisors(m)\n",
        "  n_d = getDivisors(n)\n",
        "\n",
        "  idx_m = 0\n",
        "  idx_n = 0\n",
        "  gcd = 1\n",
        "  while True:\n",
        "    if len(m_d) <=idx_m or len(n_d) <= idx_n:\n",
        "      break\n",
        "    if m_d[idx_m] == n_d[idx_n]:\n",
        "      gcd = m_d[idx_m]\n",
        "      idx_m += 1\n",
        "      idx_n += 1\n",
        "      continue\n",
        "    elif m_d[idx_m] < n_d[idx_n]:\n",
        "      idx_m += 1\n",
        "      continue\n",
        "    else:\n",
        "      idx_n += 1\n",
        "      continue\n",
        "  return gcd\n",
        "\n",
        "gcdBruteForce(24,54)\n",
        "\n"
      ],
      "execution_count": null,
      "outputs": [
        {
          "output_type": "execute_result",
          "data": {
            "text/plain": [
              "6"
            ]
          },
          "metadata": {
            "tags": []
          },
          "execution_count": 5
        }
      ]
    },
    {
      "cell_type": "code",
      "metadata": {
        "colab": {
          "base_uri": "https://localhost:8080/"
        },
        "id": "_B5yCsntRCM7",
        "outputId": "1fd5760e-8a65-4251-b560-c241b265087b"
      },
      "source": [
        "#Euclidean Algorithm\n",
        "def gcdEuclidean(a,b):\n",
        "  if (b == 0):\n",
        "    return a\n",
        "  return gcdEuclidean(b, a%b)\n",
        "\n",
        "print(gcdEuclidean(24,54))"
      ],
      "execution_count": null,
      "outputs": [
        {
          "output_type": "stream",
          "text": [
            "6\n"
          ],
          "name": "stdout"
        }
      ]
    }
  ]
}