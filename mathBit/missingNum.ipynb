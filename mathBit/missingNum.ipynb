{
  "nbformat": 4,
  "nbformat_minor": 0,
  "metadata": {
    "colab": {
      "name": "missingNum.ipynb",
      "provenance": [],
      "authorship_tag": "ABX9TyOdEOGD9aiIimPFMBRx0Jy+",
      "include_colab_link": true
    },
    "kernelspec": {
      "name": "python3",
      "display_name": "Python 3"
    },
    "language_info": {
      "name": "python"
    }
  },
  "cells": [
    {
      "cell_type": "markdown",
      "metadata": {
        "id": "view-in-github",
        "colab_type": "text"
      },
      "source": [
        "<a href=\"https://colab.research.google.com/github/NoCodeProgram/CodingTest/blob/main/mathBit/missingNum.ipynb\" target=\"_parent\"><img src=\"https://colab.research.google.com/assets/colab-badge.svg\" alt=\"Open In Colab\"/></a>"
      ]
    },
    {
      "cell_type": "markdown",
      "metadata": {
        "id": "XOAdHbJ48wMB"
      },
      "source": [
        "Title : Missing Number\n",
        "\n",
        "Chapter : Math, Bit\n",
        "\n",
        "Link : \n",
        "\n",
        "ChapterLink : \n",
        "\n",
        "문제: n개의 숫자가 들어있는 array, nums가 주어진다. nums에는 0부터 n까지의 숫자가 하나를 제외하고 한번씩 들어있다. 해당 array에서 제외된 하나의 숫자를 찾아라"
      ]
    },
    {
      "cell_type": "code",
      "metadata": {
        "id": "_f8jaOaq8rUk",
        "colab": {
          "base_uri": "https://localhost:8080/"
        },
        "outputId": "55dff147-df5f-4376-95d4-3e002e0dbaa3"
      },
      "source": [
        "from typing import List  \n",
        "def missingNumHash(nums: List[int]) -> int:\n",
        "  num_set = set()\n",
        "  num_count = len(nums)\n",
        "  for num in range(num_count+1):\n",
        "    num_set.add(num)\n",
        "    \n",
        "  for num in nums:\n",
        "    num_set.remove(num)\n",
        "    \n",
        "  missing_num = num_set.pop()\n",
        "  return missing_num\n",
        "\n",
        "print(missingNumHash(nums=[1,2,0,5,4,6]))"
      ],
      "execution_count": 1,
      "outputs": [
        {
          "output_type": "stream",
          "text": [
            "3\n"
          ],
          "name": "stdout"
        }
      ]
    },
    {
      "cell_type": "code",
      "metadata": {
        "colab": {
          "base_uri": "https://localhost:8080/"
        },
        "id": "bq0TbaH4-es6",
        "outputId": "7a65a63a-67e3-4e8b-d59a-b76fe5729aab"
      },
      "source": [
        "def missingNumMath(nums: List[int]) -> int:\n",
        "    num_count = len(nums)\n",
        "    num_sum = int(num_count*(num_count+1)/2)\n",
        "    \n",
        "    for num in nums:\n",
        "      num_sum -= num\n",
        "      \n",
        "    return num_sum\n",
        "print(missingNumMath(nums=[1,2,0,5,4,6]))"
      ],
      "execution_count": 2,
      "outputs": [
        {
          "output_type": "stream",
          "text": [
            "3\n"
          ],
          "name": "stdout"
        }
      ]
    },
    {
      "cell_type": "code",
      "metadata": {
        "colab": {
          "base_uri": "https://localhost:8080/"
        },
        "id": "lEGr0-In_YH-",
        "outputId": "36c075b0-8d9f-4feb-90bb-a65b7ae3d6c5"
      },
      "source": [
        "def missingNumXOR(nums: List[int]) -> int:\n",
        "    num_count = len(nums)\n",
        "    total_xor = 0\n",
        "    for num in range(num_count+1):\n",
        "      total_xor ^= num\n",
        "      \n",
        "    for num in nums:\n",
        "      total_xor ^= num\n",
        "    \n",
        "    return total_xor\n",
        "print(missingNumXOR(nums=[1,2,0,5,4,6]))"
      ],
      "execution_count": 3,
      "outputs": [
        {
          "output_type": "stream",
          "text": [
            "3\n"
          ],
          "name": "stdout"
        }
      ]
    },
    {
      "cell_type": "code",
      "metadata": {
        "id": "Ux8eBEMfAU4X"
      },
      "source": [
        ""
      ],
      "execution_count": null,
      "outputs": []
    }
  ]
}