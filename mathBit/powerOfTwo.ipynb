{
  "nbformat": 4,
  "nbformat_minor": 0,
  "metadata": {
    "colab": {
      "name": "powerOfTwo.ipynb",
      "provenance": [],
      "authorship_tag": "ABX9TyMrIaNRPy930W8SE3NokwFu",
      "include_colab_link": true
    },
    "kernelspec": {
      "name": "python3",
      "display_name": "Python 3"
    },
    "language_info": {
      "name": "python"
    }
  },
  "cells": [
    {
      "cell_type": "markdown",
      "metadata": {
        "id": "view-in-github",
        "colab_type": "text"
      },
      "source": [
        "<a href=\"https://colab.research.google.com/github/NoCodeProgram/CodingTest/blob/main/mathBit/powerOfTwo.ipynb\" target=\"_parent\"><img src=\"https://colab.research.google.com/assets/colab-badge.svg\" alt=\"Open In Colab\"/></a>"
      ]
    },
    {
      "cell_type": "markdown",
      "metadata": {
        "id": "1h-aKmHHyS5l"
      },
      "source": [
        "Title : Power of Two\n",
        "\n",
        "Chapter : Math, Bit\n",
        "\n",
        "Link : \n",
        "\n",
        "ChapterLink : \n",
        "\n",
        "문제: 주어진 숫자가 2의 제곱수인지 판별하여라"
      ]
    },
    {
      "cell_type": "code",
      "metadata": {
        "id": "wYxcpiAMyPK5"
      },
      "source": [
        "#O(lg n) time complexity\n",
        "\n",
        "def isPowerOfTwo(n):\n",
        "  if n == 0:\n",
        "    return False\n",
        "  while n%2 == 0:\n",
        "    n = n/2\n",
        "  \n",
        "  if n==1:\n",
        "    return True\n",
        "  else:\n",
        "    return False\n"
      ],
      "execution_count": 1,
      "outputs": []
    },
    {
      "cell_type": "code",
      "metadata": {
        "colab": {
          "base_uri": "https://localhost:8080/"
        },
        "id": "rSZsPU2jzrFw",
        "outputId": "ac82af47-a869-4a77-e995-0422ca2be7e8"
      },
      "source": [
        "print(isPowerOfTwo(4))\n",
        "print(isPowerOfTwo(8))\n",
        "print(isPowerOfTwo(5))"
      ],
      "execution_count": 2,
      "outputs": [
        {
          "output_type": "stream",
          "text": [
            "True\n",
            "True\n",
            "False\n"
          ],
          "name": "stdout"
        }
      ]
    },
    {
      "cell_type": "code",
      "metadata": {
        "id": "4RBmdj4xzvDM"
      },
      "source": [
        "#O(1) time complexity\n",
        "def isPowerOfTwo(n):\n",
        "  if n == 0:\n",
        "    return False\n",
        "\n",
        "  diff_bits = n & (n-1)\n",
        "  if diff_bits == 0:\n",
        "    return True\n",
        "  else:\n",
        "    return False"
      ],
      "execution_count": 3,
      "outputs": []
    },
    {
      "cell_type": "code",
      "metadata": {
        "colab": {
          "base_uri": "https://localhost:8080/"
        },
        "id": "tUGWLzAC0PG9",
        "outputId": "44952ec1-68b1-4ef0-8615-0dfd03bd80ae"
      },
      "source": [
        "print(isPowerOfTwo(4))\n",
        "print(isPowerOfTwo(8))\n",
        "print(isPowerOfTwo(5))"
      ],
      "execution_count": 4,
      "outputs": [
        {
          "output_type": "stream",
          "text": [
            "True\n",
            "True\n",
            "False\n"
          ],
          "name": "stdout"
        }
      ]
    },
    {
      "cell_type": "code",
      "metadata": {
        "id": "mgl0LJlH0Qc5"
      },
      "source": [
        ""
      ],
      "execution_count": null,
      "outputs": []
    }
  ]
}