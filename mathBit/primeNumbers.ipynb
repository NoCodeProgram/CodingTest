{
  "nbformat": 4,
  "nbformat_minor": 0,
  "metadata": {
    "colab": {
      "name": "primeNumbers.ipynb",
      "provenance": [],
      "collapsed_sections": [],
      "authorship_tag": "ABX9TyPmVH6608oUsx3x1WMsD62I",
      "include_colab_link": true
    },
    "kernelspec": {
      "name": "python3",
      "display_name": "Python 3"
    },
    "language_info": {
      "name": "python"
    }
  },
  "cells": [
    {
      "cell_type": "markdown",
      "metadata": {
        "id": "view-in-github",
        "colab_type": "text"
      },
      "source": [
        "<a href=\"https://colab.research.google.com/github/NoCodeProgram/CodingTest/blob/main/mathBit/primeNumbers.ipynb\" target=\"_parent\"><img src=\"https://colab.research.google.com/assets/colab-badge.svg\" alt=\"Open In Colab\"/></a>"
      ]
    },
    {
      "cell_type": "markdown",
      "metadata": {
        "id": "djO9BHEGqjqM"
      },
      "source": [
        "Title : Prime Numbers\n",
        "\n",
        "Chapter : Math, Bit\n",
        "\n",
        "Link : \n",
        "\n",
        "ChapterLink : \n",
        "\n",
        "문제: 주어진 숫자 n 보다 작은 모든 소수를 구하여라"
      ]
    },
    {
      "cell_type": "code",
      "metadata": {
        "colab": {
          "base_uri": "https://localhost:8080/"
        },
        "id": "LBt9VQQWqilX",
        "outputId": "00f510fd-23d1-4850-d657-4604a199bf17"
      },
      "source": [
        "def primeNumbers(n: int) -> int:\n",
        "  if n<=2:\n",
        "    return []\n",
        "\n",
        "  primes = []  \n",
        "  for i in range (2,n):\n",
        "    prime = True\n",
        "    for j in range(2,i):\n",
        "      if i % j == 0:\n",
        "        prime = False\n",
        "        continue\n",
        "        \n",
        "    if prime:\n",
        "      primes.append(i)\n",
        "      \n",
        "  return primes\n",
        "\n",
        "print(primeNumbers(50))\n",
        "        "
      ],
      "execution_count": 19,
      "outputs": [
        {
          "output_type": "stream",
          "text": [
            "[2, 3, 5, 7, 11, 13, 17, 19, 23, 29, 31, 37, 41, 43, 47]\n"
          ],
          "name": "stdout"
        }
      ]
    },
    {
      "cell_type": "code",
      "metadata": {
        "colab": {
          "base_uri": "https://localhost:8080/"
        },
        "id": "U6RHRcVKNlUa",
        "outputId": "736aeca3-08c9-488c-abe5-866ff6cb1328"
      },
      "source": [
        "%timeit primeNumbers(10000)"
      ],
      "execution_count": 20,
      "outputs": [
        {
          "output_type": "stream",
          "text": [
            "1 loop, best of 5: 4.2 s per loop\n"
          ],
          "name": "stdout"
        }
      ]
    },
    {
      "cell_type": "code",
      "metadata": {
        "colab": {
          "base_uri": "https://localhost:8080/"
        },
        "id": "004uox2Uq7ah",
        "outputId": "ecb16ae9-f164-4bf8-efd3-89da8f7ef083"
      },
      "source": [
        "import math\n",
        "\n",
        "def primeNumbers2(n: int) -> int:\n",
        "  if n <= 2:\n",
        "      return []\n",
        "  \n",
        "  numbers = [True]*n\n",
        "  numbers[0] = False\n",
        "  numbers[1] = False\n",
        "  for idx in range(2, int(math.sqrt(n)) + 1):\n",
        "    if numbers[idx] == True:\n",
        "      for i in range(idx*idx, n, idx):\n",
        "        numbers[i] = False\n",
        "\n",
        "  primes = []\n",
        "  for idx,prime in enumerate(numbers):\n",
        "    if prime==True:\n",
        "      primes.append(idx)\n",
        "\n",
        "  return primes\n",
        "\n",
        "print(primeNumbers2(50))"
      ],
      "execution_count": 21,
      "outputs": [
        {
          "output_type": "stream",
          "text": [
            "[2, 3, 5, 7, 11, 13, 17, 19, 23, 29, 31, 37, 41, 43, 47]\n"
          ],
          "name": "stdout"
        }
      ]
    },
    {
      "cell_type": "code",
      "metadata": {
        "id": "q4Cm5co80I4z",
        "colab": {
          "base_uri": "https://localhost:8080/"
        },
        "outputId": "7df9f6f9-32dc-4af7-eed4-fbafd1232d04"
      },
      "source": [
        "%timeit primeNumbers2(10000)"
      ],
      "execution_count": 22,
      "outputs": [
        {
          "output_type": "stream",
          "text": [
            "1000 loops, best of 5: 1.79 ms per loop\n"
          ],
          "name": "stdout"
        }
      ]
    }
  ]
}