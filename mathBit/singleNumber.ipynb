{
  "nbformat": 4,
  "nbformat_minor": 0,
  "metadata": {
    "colab": {
      "name": "singleNumber.ipynb",
      "provenance": [],
      "authorship_tag": "ABX9TyPnymWyBSZCVMDEAh/ZUCRA",
      "include_colab_link": true
    },
    "kernelspec": {
      "name": "python3",
      "display_name": "Python 3"
    },
    "language_info": {
      "name": "python"
    }
  },
  "cells": [
    {
      "cell_type": "markdown",
      "metadata": {
        "id": "view-in-github",
        "colab_type": "text"
      },
      "source": [
        "<a href=\"https://colab.research.google.com/github/NoCodeProgram/CodingTest/blob/main/mathBit/singleNumber.ipynb\" target=\"_parent\"><img src=\"https://colab.research.google.com/assets/colab-badge.svg\" alt=\"Open In Colab\"/></a>"
      ]
    },
    {
      "cell_type": "markdown",
      "metadata": {
        "id": "KPAvXPuzxydY"
      },
      "source": [
        "Title : Single Number\n",
        "\n",
        "Chapter : Math, Bit\n",
        "\n",
        "Link : \n",
        "\n",
        "ChapterLink : \n",
        "\n",
        "문제: 주어진 Array에는 한 숫자를 제외하고 모든 숫자들이 두개씩 들어있다. 하나만 들어있는 숫자를 찾아라"
      ]
    },
    {
      "cell_type": "code",
      "metadata": {
        "colab": {
          "base_uri": "https://localhost:8080/"
        },
        "id": "CeHqYE9pvD2I",
        "outputId": "c7d12dce-37c2-4c3d-9657-b0352a356b33"
      },
      "source": [
        "from typing import List  \n",
        "#hashMap Approach\n",
        "\n",
        "def singleNumberHash(nums: List[int]) -> int:\n",
        "  num_set = set()\n",
        "  for num in nums:\n",
        "    if num in num_set:\n",
        "      num_set.remove(num)\n",
        "    \n",
        "    else:\n",
        "      num_set.add(num)        \n",
        "  \n",
        "  single_num = num_set.pop()\n",
        "  return single_num\n",
        "\n",
        "singleNumberHash(nums=[5,1,3,1,3,2,2])       "
      ],
      "execution_count": 2,
      "outputs": [
        {
          "output_type": "execute_result",
          "data": {
            "text/plain": [
              "5"
            ]
          },
          "metadata": {
            "tags": []
          },
          "execution_count": 2
        }
      ]
    },
    {
      "cell_type": "code",
      "metadata": {
        "colab": {
          "base_uri": "https://localhost:8080/"
        },
        "id": "dgdAKEWkyuX9",
        "outputId": "398f3975-152e-4128-eb93-f9d446361075"
      },
      "source": [
        "def singleNumber(nums):\n",
        "\n",
        "  single_num = 0\n",
        "  for num in nums:\n",
        "      single_num ^= num\n",
        "  return single_num\n",
        "\n",
        "singleNumber(nums=[5,1,3,1,3,2,2]) "
      ],
      "execution_count": 4,
      "outputs": [
        {
          "output_type": "execute_result",
          "data": {
            "text/plain": [
              "5"
            ]
          },
          "metadata": {
            "tags": []
          },
          "execution_count": 4
        }
      ]
    }
  ]
}