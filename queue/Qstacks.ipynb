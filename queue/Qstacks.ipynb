{
  "nbformat": 4,
  "nbformat_minor": 0,
  "metadata": {
    "colab": {
      "name": "Qstacks.ipynb",
      "provenance": [],
      "authorship_tag": "ABX9TyOYVPGrpchHUQgwPiVaEgPZ",
      "include_colab_link": true
    },
    "kernelspec": {
      "name": "python3",
      "display_name": "Python 3"
    }
  },
  "cells": [
    {
      "cell_type": "markdown",
      "metadata": {
        "id": "view-in-github",
        "colab_type": "text"
      },
      "source": [
        "<a href=\"https://colab.research.google.com/github/NoCodeProgram/CodingTest/blob/main/queue/Qstacks.ipynb\" target=\"_parent\"><img src=\"https://colab.research.google.com/assets/colab-badge.svg\" alt=\"Open In Colab\"/></a>"
      ]
    },
    {
      "cell_type": "markdown",
      "metadata": {
        "id": "J1jKwIq8caBN"
      },
      "source": [
        "Title : Queue using 2 stacks\n",
        "\n",
        "Chapter : Queue\n",
        "\n",
        "Link :\n",
        "\n",
        "ChapterLink : \n",
        "\n",
        "문제 :  Stack 2개를 이용하여 Queue를 구현하여라"
      ]
    },
    {
      "cell_type": "code",
      "metadata": {
        "id": "-dHKPLdscWq9"
      },
      "source": [
        "class Queue:\n",
        "  def __init__(self):\n",
        "    self._push_stack = []\n",
        "    self._pop_stack = []      \n",
        "\n",
        "  def enqueue(self, x: int) -> None:\n",
        "    self._push_stack.append(x)\n",
        "      \n",
        "  def dequeue(self) -> int:\n",
        "    if 0<len(self._pop_stack):\n",
        "      return self._pop_stack.pop()\n",
        "    self._moveToPopStack();\n",
        "    return self._pop_stack.pop()      \n",
        "      \n",
        "  def _moveToPopStack(self):\n",
        "    while len(self._push_stack):\n",
        "      tmpVal = self._push_stack.pop()\n",
        "      self._pop_stack.append(tmpVal)"
      ],
      "execution_count": 2,
      "outputs": []
    },
    {
      "cell_type": "code",
      "metadata": {
        "colab": {
          "base_uri": "https://localhost:8080/"
        },
        "id": "4FeK2VNUc3VM",
        "outputId": "6f33d3e9-c4bf-4708-f613-103d721d0a6f"
      },
      "source": [
        "queue = Queue()\n",
        "queue.enqueue(1)\n",
        "queue.enqueue(3)\n",
        "queue.enqueue(5)\n",
        "queue.enqueue(7)\n",
        "print(queue.dequeue(), end= ' ')\n",
        "print(queue.dequeue(), end= ' ')\n",
        "queue.enqueue(2)\n",
        "queue.enqueue(4)\n",
        "queue.enqueue(6)\n",
        "print(queue.dequeue(), end= ' ')\n",
        "print(queue.dequeue(), end= ' ')\n",
        "print(queue.dequeue(), end= ' ')\n",
        "print(queue.dequeue(), end= ' ')\n",
        "print(queue.dequeue(), end= ' ')"
      ],
      "execution_count": 8,
      "outputs": [
        {
          "output_type": "stream",
          "text": [
            "1 3 5 7 2 4 6 "
          ],
          "name": "stdout"
        }
      ]
    },
    {
      "cell_type": "code",
      "metadata": {
        "id": "zzEmwyz0dL5y"
      },
      "source": [
        ""
      ],
      "execution_count": null,
      "outputs": []
    }
  ]
}