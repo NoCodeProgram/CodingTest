{
  "nbformat": 4,
  "nbformat_minor": 0,
  "metadata": {
    "colab": {
      "name": "QueueIntro.ipynb",
      "provenance": [],
      "authorship_tag": "ABX9TyNK2Mn0KS7uC7cGWcmS88kJ",
      "include_colab_link": true
    },
    "kernelspec": {
      "name": "python3",
      "display_name": "Python 3"
    }
  },
  "cells": [
    {
      "cell_type": "markdown",
      "metadata": {
        "id": "view-in-github",
        "colab_type": "text"
      },
      "source": [
        "<a href=\"https://colab.research.google.com/github/NoCodeProgram/CodingTest/blob/main/queue/QueueIntro.ipynb\" target=\"_parent\"><img src=\"https://colab.research.google.com/assets/colab-badge.svg\" alt=\"Open In Colab\"/></a>"
      ]
    },
    {
      "cell_type": "markdown",
      "metadata": {
        "id": "zNVdOnIqhRfj"
      },
      "source": [
        "FIFO policy Queue를 implementation 하여라\n",
        "\n",
        "함수 : enqueue()\n",
        "      dequeue()"
      ]
    },
    {
      "cell_type": "code",
      "metadata": {
        "id": "iipcaJZ6hGWf"
      },
      "source": [
        "class QueueNode:\n",
        "  def __init__(self,val: int):\n",
        "    self.val = val\n",
        "    self.left = None\n",
        "    self.right = None\n"
      ],
      "execution_count": 1,
      "outputs": []
    },
    {
      "cell_type": "code",
      "metadata": {
        "id": "sBKEwsKdhP2S"
      },
      "source": [
        "class Queue:\n",
        "  def __init__(self):\n",
        "    self._head = QueueNode(0)\n",
        "    self._tail = QueueNode(0)\n",
        "    self._head.right = self._tail\n",
        "    self._tail.left = self._head\n",
        "\n",
        "  def enqueue(self,val:int):\n",
        "    new_node = QueueNode(val)    \n",
        "    last_node = self._tail.left\n",
        "    \n",
        "    last_node.right = new_node\n",
        "    new_node.left = last_node\n",
        "\n",
        "    self._tail.left = new_node\n",
        "    new_node.right = self._tail\n",
        "\n",
        "  def dequeue(self) -> int:\n",
        "    first_node = self._head.right\n",
        "    if first_node == self._tail:\n",
        "      raise RuntimeError('No Elem')\n",
        "\n",
        "    value = first_node.val\n",
        "    second_node = first_node.right\n",
        "    self._head.right = second_node\n",
        "    second_node.left = self._head\n",
        "\n",
        "    return value\n",
        "\n"
      ],
      "execution_count": 4,
      "outputs": []
    },
    {
      "cell_type": "code",
      "metadata": {
        "colab": {
          "base_uri": "https://localhost:8080/"
        },
        "id": "GzuLW4StjP3f",
        "outputId": "749a0408-de58-4d5f-8736-0b5f4d9e9064"
      },
      "source": [
        "queue = Queue()\n",
        "queue.enqueue(1)\n",
        "queue.enqueue(3)\n",
        "queue.enqueue(5)\n",
        "queue.enqueue(7)\n",
        "queue.enqueue(9)\n",
        "\n",
        "print(queue.dequeue())\n",
        "print(queue.dequeue())\n",
        "print(queue.dequeue())\n",
        "print(queue.dequeue())\n",
        "print(queue.dequeue())\n"
      ],
      "execution_count": 7,
      "outputs": [
        {
          "output_type": "stream",
          "text": [
            "1\n",
            "3\n",
            "5\n",
            "7\n",
            "9\n"
          ],
          "name": "stdout"
        }
      ]
    },
    {
      "cell_type": "code",
      "metadata": {
        "id": "Dtc4DozmjZ4X"
      },
      "source": [
        ""
      ],
      "execution_count": null,
      "outputs": []
    }
  ]
}