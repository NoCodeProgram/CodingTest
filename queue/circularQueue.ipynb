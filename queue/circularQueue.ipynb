{
  "nbformat": 4,
  "nbformat_minor": 0,
  "metadata": {
    "colab": {
      "name": "circularQueue.ipynb",
      "provenance": [],
      "authorship_tag": "ABX9TyPU2bTR88bxH3EC2hHJJRZl",
      "include_colab_link": true
    },
    "kernelspec": {
      "name": "python3",
      "display_name": "Python 3"
    }
  },
  "cells": [
    {
      "cell_type": "markdown",
      "metadata": {
        "id": "view-in-github",
        "colab_type": "text"
      },
      "source": [
        "<a href=\"https://colab.research.google.com/github/NoCodeProgram/CodingTest/blob/main/queue/circularQueue.ipynb\" target=\"_parent\"><img src=\"https://colab.research.google.com/assets/colab-badge.svg\" alt=\"Open In Colab\"/></a>"
      ]
    },
    {
      "cell_type": "markdown",
      "metadata": {
        "id": "xVRVPPe1y724"
      },
      "source": [
        "Title : Circular Queue\n",
        "\n",
        "Chapter : Queue\n",
        "\n",
        "Link :\n",
        "\n",
        "ChapterLink :\n",
        "\n",
        "문제 :   Least Recently Used (LRU) cache를 구현하여라"
      ]
    },
    {
      "cell_type": "code",
      "metadata": {
        "id": "NGJjbDDXPHx8"
      },
      "source": [
        "class CircularQueue:  \n",
        "  def __init__(self, k: int):\n",
        "    self._data = [None] * k\n",
        "    self._rearIdx = -1\n",
        "    self._frntIdx = 0\n",
        "    self._size = 0\n",
        "\n",
        "  def enQueue(self, value: int):\n",
        "    self._fullCheck()\n",
        "  \n",
        "    self._rearIdx += 1\n",
        "    self._rearIdx = self._rearIdx % len(self._data)\n",
        "    self._data[self._rearIdx] = value\n",
        "    self._size += 1\n",
        "\n",
        "\n",
        "  def deQueue(self):\n",
        "    self._emptyCheck()\n",
        "\n",
        "    self._frntIdx +=1\n",
        "    self._frntIdx = self._frntIdx % len(self._data)\n",
        "    self._size -= 1 \n",
        "  \n",
        "\n",
        "  def Rear(self) -> int:\n",
        "    self._emptyCheck()\n",
        "\n",
        "    tmpIdx = (self._rearIdx)% len(self._data)\n",
        "    return self._data[tmpIdx]\n",
        "    \n",
        "\n",
        "  def Front(self) -> int:\n",
        "    self._emptyCheck()\n",
        "\n",
        "    return self._data[self._frntIdx]\n",
        "  \n",
        "  def _emptyCheck(self):\n",
        "    if self._size == 0:\n",
        "      raise RuntimeError('Queue is Empty')\n",
        "\n",
        "\n",
        "  def _fullCheck(self):\n",
        "    cap = len(self._data)\n",
        "    if self._size == cap:\n",
        "       raise RuntimeError('Queue is full')\n",
        "\n",
        "        \n"
      ],
      "execution_count": 7,
      "outputs": []
    },
    {
      "cell_type": "code",
      "metadata": {
        "colab": {
          "base_uri": "https://localhost:8080/"
        },
        "id": "b88M0UzYtR1U",
        "outputId": "009b838e-2d99-4b8a-a465-e5d8d01748fb"
      },
      "source": [
        "circularQ = CircularQueue(4)\n",
        "circularQ.enQueue(1)\n",
        "circularQ.enQueue(3)\n",
        "circularQ.enQueue(5)\n",
        "circularQ.deQueue()\n",
        "print(circularQ.Front(),circularQ.Rear())"
      ],
      "execution_count": 10,
      "outputs": [
        {
          "output_type": "stream",
          "text": [
            "3 5\n"
          ],
          "name": "stdout"
        }
      ]
    },
    {
      "cell_type": "code",
      "metadata": {
        "id": "g557vKgr09xW"
      },
      "source": [
        ""
      ],
      "execution_count": null,
      "outputs": []
    }
  ]
}