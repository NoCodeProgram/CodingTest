{
  "nbformat": 4,
  "nbformat_minor": 0,
  "metadata": {
    "colab": {
      "name": "maxQueue.ipynb",
      "provenance": [],
      "authorship_tag": "ABX9TyO7J2Dj6hOyQmHXBzMqc2z4",
      "include_colab_link": true
    },
    "kernelspec": {
      "name": "python3",
      "display_name": "Python 3"
    }
  },
  "cells": [
    {
      "cell_type": "markdown",
      "metadata": {
        "id": "view-in-github",
        "colab_type": "text"
      },
      "source": [
        "<a href=\"https://colab.research.google.com/github/NoCodeProgram/CodingTest/blob/main/queue/maxQueue.ipynb\" target=\"_parent\"><img src=\"https://colab.research.google.com/assets/colab-badge.svg\" alt=\"Open In Colab\"/></a>"
      ]
    },
    {
      "cell_type": "markdown",
      "metadata": {
        "id": "kw9YmrNatrja"
      },
      "source": [
        "Title : max Queue\n",
        "\n",
        "Chapter : Queue\n",
        "\n",
        "Link :\n",
        "\n",
        "ChapterLink : \n",
        "\n",
        "문제 :  Max Queue를 구현하여라"
      ]
    },
    {
      "cell_type": "code",
      "metadata": {
        "colab": {
          "base_uri": "https://localhost:8080/"
        },
        "id": "TdoMJqchtpHT",
        "outputId": "baa2ca18-893a-411c-f4b8-77c04c2c238f"
      },
      "source": [
        "import queue\n",
        "from collections import deque\n",
        "\n",
        "class MaxQueue:\n",
        "  def __init__(self):\n",
        "    self._data = queue.SimpleQueue()\n",
        "    self._max = deque()\n",
        "\n",
        "  def max(self):\n",
        "    return self._max[0]\n",
        "\n",
        "  def enqueue(self,val:int):\n",
        "    self._data.put(val)\n",
        "    while 0 < len(self._max) and self._max[-1] < val:\n",
        "      self._max.pop()\n",
        "    self._max.append(val)\n",
        "\n",
        "  def dequeue(self):\n",
        "    val = self._data.get()\n",
        "    if val == self._max[0]:\n",
        "      self._max.popleft()\n",
        "    return val\n"
      ],
      "execution_count": 23,
      "outputs": [
        {
          "output_type": "stream",
          "text": [
            "1 5 5 5 3 7 "
          ],
          "name": "stdout"
        }
      ]
    },
    {
      "cell_type": "code",
      "metadata": {
        "colab": {
          "base_uri": "https://localhost:8080/"
        },
        "id": "_IgH1Allt_kr",
        "outputId": "a8cb105f-e389-4991-ad4a-c6dc180ebcea"
      },
      "source": [
        "      \n",
        "maxQ = MaxQueue()\n",
        "maxQ.enqueue(1)\n",
        "print('[1]','max:',maxQ.max())\n",
        "maxQ.enqueue(5)\n",
        "print('[1,5]','max:',maxQ.max())\n",
        "maxQ.enqueue(3)\n",
        "print('[1,5,3]','max:',maxQ.max())\n",
        "val = maxQ.dequeue()\n",
        "print('[5,3]','max:',maxQ.max(),',dequeue=',val)\n",
        "val = maxQ.dequeue()\n",
        "print('[3]','max:',maxQ.max(),',dequeue=',val)\n",
        "maxQ.enqueue(7)\n",
        "print('[3,7]','max:',maxQ.max())\n",
        "maxQ.enqueue(7)\n",
        "print('[3,7,7]','max:',maxQ.max())\n",
        "val = maxQ.dequeue()\n",
        "print('[7,7]','max:',maxQ.max(),',dequeue=',val)\n",
        "val = maxQ.dequeue()\n",
        "print('[7]','max:',maxQ.max(),',dequeue=',val)"
      ],
      "execution_count": 33,
      "outputs": [
        {
          "output_type": "stream",
          "text": [
            "[1] max: 1\n",
            "[1,5] max: 5\n",
            "[1,5,3] max: 5\n",
            "[5,3] max: 5 ,dequeue= 1\n",
            "[3] max: 3 ,dequeue= 5\n",
            "[3,7] max: 7\n",
            "[3,7,7] max: 7\n",
            "[7,7] max: 7 ,dequeue= 3\n",
            "[7] max: 7 ,dequeue= 7\n"
          ],
          "name": "stdout"
        }
      ]
    },
    {
      "cell_type": "code",
      "metadata": {
        "id": "RLIIufY8yEOj"
      },
      "source": [
        ""
      ],
      "execution_count": null,
      "outputs": []
    }
  ]
}