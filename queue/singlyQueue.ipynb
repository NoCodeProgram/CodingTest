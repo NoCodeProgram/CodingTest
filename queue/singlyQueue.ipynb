{
  "nbformat": 4,
  "nbformat_minor": 0,
  "metadata": {
    "colab": {
      "name": "singlyQueue.ipynb",
      "provenance": [],
      "authorship_tag": "ABX9TyP50bgz2su984HfK7c6l0Dt",
      "include_colab_link": true
    },
    "kernelspec": {
      "name": "python3",
      "display_name": "Python 3"
    }
  },
  "cells": [
    {
      "cell_type": "markdown",
      "metadata": {
        "id": "view-in-github",
        "colab_type": "text"
      },
      "source": [
        "<a href=\"https://colab.research.google.com/github/NoCodeProgram/CodingTest/blob/main/queue/singlyQueue.ipynb\" target=\"_parent\"><img src=\"https://colab.research.google.com/assets/colab-badge.svg\" alt=\"Open In Colab\"/></a>"
      ]
    },
    {
      "cell_type": "markdown",
      "metadata": {
        "id": "5zcIIvMVFKke"
      },
      "source": [
        "Singly Linked List를 이용하여 Queue를 implementation 하여라\n",
        "\n",
        "함수 : enqueue()\n",
        "      dequeue()"
      ]
    },
    {
      "cell_type": "code",
      "metadata": {
        "id": "QGlvQe7rFQiv"
      },
      "source": [
        "class Node:\n",
        "  def __init__(self,val: int):\n",
        "    self.val = val\n",
        "    self.next = None"
      ],
      "execution_count": 4,
      "outputs": []
    },
    {
      "cell_type": "code",
      "metadata": {
        "id": "QTvTZatdFUpI"
      },
      "source": [
        "class Queue:\n",
        "  def __init__(self):\n",
        "    self._head = Node(0)\n",
        "    self._last = self._head\n",
        "\n",
        "  def enqueue(self,val:int):\n",
        "    new_node = Node(val)    \n",
        "    self._last.next = new_node\n",
        "    self._last = new_node\n",
        "\n",
        "  def dequeue(self) -> int:\n",
        "    if self._head == self._last:\n",
        "      raise RuntimeError('No Elem')\n",
        "\n",
        "    first_node = self._head.next\n",
        "    value = first_node.val\n",
        "    if first_node == self._last:\n",
        "      self._last = self._head\n",
        "      return value    \n",
        "    \n",
        "    self._head.next = first_node.next\n",
        "    return value"
      ],
      "execution_count": 7,
      "outputs": []
    },
    {
      "cell_type": "code",
      "metadata": {
        "colab": {
          "base_uri": "https://localhost:8080/"
        },
        "id": "pr2bZcECGkRk",
        "outputId": "3ffe970b-7e0e-49d3-cfa6-99a520aec215"
      },
      "source": [
        "queue = Queue()\n",
        "queue.enqueue(1)\n",
        "queue.enqueue(3)\n",
        "queue.enqueue(5)\n",
        "queue.enqueue(7)\n",
        "queue.enqueue(9)\n",
        "\n",
        "print(queue.dequeue(), end=' ')\n",
        "print(queue.dequeue(), end=' ')\n",
        "print(queue.dequeue(), end=' ')\n",
        "print(queue.dequeue(), end=' ')\n",
        "print(queue.dequeue(), end=' ')"
      ],
      "execution_count": 11,
      "outputs": [
        {
          "output_type": "stream",
          "text": [
            "1 3 5 7 9 "
          ],
          "name": "stdout"
        }
      ]
    },
    {
      "cell_type": "code",
      "metadata": {
        "id": "NKm4qFT_GmPj"
      },
      "source": [
        ""
      ],
      "execution_count": null,
      "outputs": []
    }
  ]
}