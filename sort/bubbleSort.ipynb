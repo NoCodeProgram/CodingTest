{
  "nbformat": 4,
  "nbformat_minor": 0,
  "metadata": {
    "colab": {
      "name": "bubbleSort.ipynb",
      "provenance": [],
      "collapsed_sections": [],
      "authorship_tag": "ABX9TyNg2Q1zMQXSrHID4+JShX3b",
      "include_colab_link": true
    },
    "kernelspec": {
      "name": "python3",
      "display_name": "Python 3"
    },
    "language_info": {
      "name": "python"
    }
  },
  "cells": [
    {
      "cell_type": "markdown",
      "metadata": {
        "id": "view-in-github",
        "colab_type": "text"
      },
      "source": [
        "<a href=\"https://colab.research.google.com/github/NoCodeProgram/CodingTest/blob/main/sort/bubbleSort.ipynb\" target=\"_parent\"><img src=\"https://colab.research.google.com/assets/colab-badge.svg\" alt=\"Open In Colab\"/></a>"
      ]
    },
    {
      "cell_type": "markdown",
      "metadata": {
        "id": "NITloWGAWiFJ"
      },
      "source": [
        "Title : Bubble Sorting\n",
        "\n",
        "Chapter : Sorting\n",
        "\n",
        "Link : \n",
        "\n",
        "ChapterLink :\n",
        "\n",
        "문제: 주어진 array를 bubble sorting 하여라"
      ]
    },
    {
      "cell_type": "code",
      "metadata": {
        "colab": {
          "base_uri": "https://localhost:8080/"
        },
        "id": "SbjjyQxRUc1q",
        "outputId": "a99178d5-41a9-49f8-907a-35b3e2fe7c62"
      },
      "source": [
        "from typing import List   \n",
        "\n",
        "\n",
        "def sort(nums: List[int]) -> List[int]:\n",
        "  for idx in range(0,len(nums)-1):\n",
        "    for i in range(0,len(nums) - idx - 1):\n",
        "      if nums[i] > nums[i+1]:\n",
        "        nums[i],nums[i+1] = nums[i+1],nums[i] #swap\n",
        "  return nums\n",
        "\n",
        "\n",
        "print(sort(nums=[9,3,5,7,1]))"
      ],
      "execution_count": 13,
      "outputs": [
        {
          "output_type": "stream",
          "text": [
            "[1, 3, 5, 7, 9]\n"
          ],
          "name": "stdout"
        }
      ]
    },
    {
      "cell_type": "code",
      "metadata": {
        "colab": {
          "base_uri": "https://localhost:8080/"
        },
        "id": "2c5lrD1MYDY5",
        "outputId": "4398a417-155a-40e7-e889-24d46a03c51e"
      },
      "source": [
        "def sort(num_strs):\n",
        "  for idx in range(0,len(num_strs)-1):\n",
        "    for i in range(0,len(num_strs) - idx - 1):\n",
        "      if num_strs[i][0] > num_strs[i+1][0]:\n",
        "        num_strs[i],num_strs[i+1] = num_strs[i+1],num_strs[i] #swap\n",
        "  return num_strs\n",
        "\n",
        "print(sort(num_strs=[(7,'a'),(5,'a'),(5,'b'),(7,'b'),(3,'c')]))"
      ],
      "execution_count": 24,
      "outputs": [
        {
          "output_type": "stream",
          "text": [
            "[(3, 'c'), (5, 'a'), (5, 'b'), (7, 'a'), (7, 'b')]\n"
          ],
          "name": "stdout"
        }
      ]
    },
    {
      "cell_type": "code",
      "metadata": {
        "id": "cTgluAXJaOfW"
      },
      "source": [
        ""
      ],
      "execution_count": null,
      "outputs": []
    }
  ]
}