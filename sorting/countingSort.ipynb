{
  "nbformat": 4,
  "nbformat_minor": 0,
  "metadata": {
    "colab": {
      "name": "countingSort.ipynb",
      "provenance": [],
      "collapsed_sections": [],
      "authorship_tag": "ABX9TyMDzvra9s/e0mjVjuUws4C7",
      "include_colab_link": true
    },
    "kernelspec": {
      "name": "python3",
      "display_name": "Python 3"
    },
    "language_info": {
      "name": "python"
    }
  },
  "cells": [
    {
      "cell_type": "markdown",
      "metadata": {
        "id": "view-in-github",
        "colab_type": "text"
      },
      "source": [
        "<a href=\"https://colab.research.google.com/github/NoCodeProgram/CodingTest/blob/main/sorting/countingSort.ipynb\" target=\"_parent\"><img src=\"https://colab.research.google.com/assets/colab-badge.svg\" alt=\"Open In Colab\"/></a>"
      ]
    },
    {
      "cell_type": "markdown",
      "metadata": {
        "id": "bV43KiJML_md"
      },
      "source": [
        "Title : Counting Sort\n",
        "\n",
        "Chapter : sort\n",
        "\n",
        "Link : \n",
        "\n",
        "ChapterLink :\n",
        "\n",
        "문제: 주어진 array를 countingSort 하여라"
      ]
    },
    {
      "cell_type": "code",
      "metadata": {
        "colab": {
          "base_uri": "https://localhost:8080/"
        },
        "id": "FUvWAIKeL3bg",
        "outputId": "c970e175-6878-4a2e-df90-afd7ce62e51d"
      },
      "source": [
        "from typing import List\n",
        "\n",
        "def countingSort(nums:List[int])->List[int]:  \n",
        "  length = len(nums)\n",
        "  min_num = min(nums)  #offset\n",
        "  max_num = max(nums)\n",
        "\n",
        "  range = max_num - min_num + 1\n",
        "  counts = [0]*range\n",
        "\n",
        "  for num in nums:\n",
        "    count_idx = num - min_num\n",
        "    counts[count_idx] += 1\n",
        "\n",
        "  acc_counts = []\n",
        "  acc_count = 0\n",
        "  for count in counts:\n",
        "    acc_count += count\n",
        "    acc_counts.append(acc_count)\n",
        "\n",
        "  end_locs = [ c-1 for c in acc_counts]\n",
        "\n",
        "  sorted = [0] * length\n",
        "  for num in reversed(nums):\n",
        "    count_idx = num - min_num\n",
        "    end_loc = end_locs[count_idx]\n",
        "    sorted[end_loc] = num\n",
        "    end_locs[count_idx] -= 1\n",
        "\n",
        "  return sorted\n",
        "\n",
        "print(countingSort(nums=[3,4,0,1,2]))\n",
        "print(countingSort(nums=[3,0,5,1,0,5]))"
      ],
      "execution_count": 18,
      "outputs": [
        {
          "output_type": "stream",
          "text": [
            "[0, 1, 2, 3, 4]\n",
            "[0, 0, 1, 3, 5, 5]\n"
          ],
          "name": "stdout"
        }
      ]
    },
    {
      "cell_type": "code",
      "metadata": {
        "id": "DFprq7ngNwkx"
      },
      "source": [
        ""
      ],
      "execution_count": null,
      "outputs": []
    }
  ]
}