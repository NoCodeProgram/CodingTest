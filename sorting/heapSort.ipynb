{
  "nbformat": 4,
  "nbformat_minor": 0,
  "metadata": {
    "colab": {
      "name": "heapSort.ipynb",
      "provenance": [],
      "collapsed_sections": [],
      "authorship_tag": "ABX9TyNQGwNRstiD2XCLDccGZxxl",
      "include_colab_link": true
    },
    "kernelspec": {
      "name": "python3",
      "display_name": "Python 3"
    },
    "language_info": {
      "name": "python"
    }
  },
  "cells": [
    {
      "cell_type": "markdown",
      "metadata": {
        "id": "view-in-github",
        "colab_type": "text"
      },
      "source": [
        "<a href=\"https://colab.research.google.com/github/NoCodeProgram/CodingTest/blob/main/sorting/heapSort.ipynb\" target=\"_parent\"><img src=\"https://colab.research.google.com/assets/colab-badge.svg\" alt=\"Open In Colab\"/></a>"
      ]
    },
    {
      "cell_type": "markdown",
      "metadata": {
        "id": "ZRv6MhTA-af9"
      },
      "source": [
        "Title : Heap Sort\n",
        "\n",
        "Chapter : sort\n",
        "\n",
        "Link : \n",
        "\n",
        "ChapterLink :\n",
        "\n",
        "문제: 주어진 array를 heapSort 하여라"
      ]
    },
    {
      "cell_type": "code",
      "metadata": {
        "id": "5fw6pVSD-YrI",
        "colab": {
          "base_uri": "https://localhost:8080/"
        },
        "outputId": "389a78b2-1098-4f4f-ae7d-1721467d25be"
      },
      "source": [
        "from typing import List\n",
        "import heapq\n",
        "\n",
        "\n",
        "#in place memory sorting\n",
        "def heapSort(nums:List[int])->List[int]:\n",
        "  #python does not have maxHeap. multiply by -1\n",
        "  nums = [-1*n for n in nums]\n",
        "  heapq.heapify(nums)\n",
        "\n",
        "  sorted = [0] * len(nums)\n",
        "  \n",
        "  for i in range(len(nums)-1,-1,-1):\n",
        "    largest = -1 * heapq.heappop(nums)\n",
        "    sorted[i] = largest\n",
        "  return sorted\n",
        "\n",
        "print(heapSort(nums=[3, 5, 7, 9, 4, 2]))\n"
      ],
      "execution_count": 18,
      "outputs": [
        {
          "output_type": "stream",
          "text": [
            "[2, 3, 4, 5, 7, 9]\n"
          ],
          "name": "stdout"
        }
      ]
    },
    {
      "cell_type": "code",
      "metadata": {
        "id": "ERHYvbm7OxeZ"
      },
      "source": [
        ""
      ],
      "execution_count": null,
      "outputs": []
    }
  ]
}