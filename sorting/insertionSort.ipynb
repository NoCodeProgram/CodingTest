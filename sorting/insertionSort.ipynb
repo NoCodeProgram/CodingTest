{
  "nbformat": 4,
  "nbformat_minor": 0,
  "metadata": {
    "colab": {
      "name": "insertionSort.ipynb",
      "provenance": [],
      "collapsed_sections": [],
      "authorship_tag": "ABX9TyMH80rY84SAVS072OJCf/C1",
      "include_colab_link": true
    },
    "kernelspec": {
      "name": "python3",
      "display_name": "Python 3"
    },
    "language_info": {
      "name": "python"
    }
  },
  "cells": [
    {
      "cell_type": "markdown",
      "metadata": {
        "id": "view-in-github",
        "colab_type": "text"
      },
      "source": [
        "<a href=\"https://colab.research.google.com/github/NoCodeProgram/CodingTest/blob/main/sorting/insertionSort.ipynb\" target=\"_parent\"><img src=\"https://colab.research.google.com/assets/colab-badge.svg\" alt=\"Open In Colab\"/></a>"
      ]
    },
    {
      "cell_type": "markdown",
      "metadata": {
        "id": "c4w_VLw-qMdr"
      },
      "source": [
        "Title : Insertion Sorting\n",
        "\n",
        "Chapter : Sorting\n",
        "\n",
        "Link : \n",
        "\n",
        "ChapterLink :\n",
        "\n",
        "문제: 주어진 array를 insertion sorting 하여라"
      ]
    },
    {
      "cell_type": "code",
      "metadata": {
        "colab": {
          "base_uri": "https://localhost:8080/"
        },
        "id": "_kpisb0IqK2b",
        "outputId": "431ddc38-ba05-401c-c21d-63cc92a4f9e6"
      },
      "source": [
        "from typing import List   \n",
        "\n",
        "def insertionSort(nums: List[int]) -> List[int]:\n",
        "  for pIdx in range(1, len(nums)):\n",
        "    tmp = nums[pIdx]\n",
        "    idx = pIdx-1      \n",
        "    while 0 <= idx and tmp < nums[idx]:\n",
        "        nums[idx+1] = nums[idx]\n",
        "        idx = idx-1\n",
        "    nums[idx+1] = tmp\n",
        "  return nums\n",
        "\n",
        "\n",
        "print(insertionSort(nums=[9,3,5,7,1]))"
      ],
      "execution_count": 11,
      "outputs": [
        {
          "output_type": "stream",
          "text": [
            "[1, 3, 5, 7, 9]\n"
          ],
          "name": "stdout"
        }
      ]
    }
  ]
}