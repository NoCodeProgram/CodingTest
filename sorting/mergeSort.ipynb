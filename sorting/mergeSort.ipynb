{
  "nbformat": 4,
  "nbformat_minor": 0,
  "metadata": {
    "colab": {
      "name": "mergeSort.ipynb",
      "provenance": [],
      "collapsed_sections": [],
      "authorship_tag": "ABX9TyNvy/Evo7UJkg7SJs9UEtK1",
      "include_colab_link": true
    },
    "kernelspec": {
      "name": "python3",
      "display_name": "Python 3"
    },
    "language_info": {
      "name": "python"
    }
  },
  "cells": [
    {
      "cell_type": "markdown",
      "metadata": {
        "id": "view-in-github",
        "colab_type": "text"
      },
      "source": [
        "<a href=\"https://colab.research.google.com/github/NoCodeProgram/CodingTest/blob/main/sorting/mergeSort.ipynb\" target=\"_parent\"><img src=\"https://colab.research.google.com/assets/colab-badge.svg\" alt=\"Open In Colab\"/></a>"
      ]
    },
    {
      "cell_type": "markdown",
      "metadata": {
        "id": "OpXZrXbSTLrv"
      },
      "source": [
        "Title : Merge Sort\n",
        "\n",
        "Chapter : Sorting\n",
        "\n",
        "Link : \n",
        "\n",
        "ChapterLink :\n",
        "\n",
        "문제: 주어진 array를 Merge sort 하여라"
      ]
    },
    {
      "cell_type": "code",
      "metadata": {
        "colab": {
          "base_uri": "https://localhost:8080/"
        },
        "id": "iagwYilkG5ou",
        "outputId": "e320c149-3ed3-41cc-b6d5-93810d7cdf60"
      },
      "source": [
        "from typing import List\n",
        "\n",
        "def mergeSort(nums:List[int]) -> List[int]:\n",
        "\n",
        "  #split\n",
        "  length = len(nums)\n",
        "  if length == 1:\n",
        "    return nums\n",
        "\n",
        "  mid = length//2\n",
        "\n",
        "  left_nums = nums[:mid]\n",
        "  right_nums = nums[mid:]\n",
        "\n",
        "  sorted_left = mergeSort(nums=left_nums)\n",
        "  sorted_right = mergeSort(nums=right_nums)\n",
        "\n",
        "\n",
        "  #merge,  Swap approach is memory friendly. But..\n",
        "  #For the easy code, new array sorted_nums is created \n",
        "  sorted_nums = []   \n",
        "  idx_l = 0\n",
        "  idx_r = 0\n",
        "  while idx_l<len(sorted_left) or idx_r < len(sorted_right):\n",
        "    if idx_l == len(sorted_left):\n",
        "      sorted_nums.append(sorted_right[idx_r])\n",
        "      idx_r += 1\n",
        "      continue\n",
        "\n",
        "    if idx_r == len(sorted_right):\n",
        "      sorted_nums.append(sorted_left[idx_l])\n",
        "      idx_l += 1\n",
        "      continue\n",
        "\n",
        "    if sorted_right[idx_r] <= sorted_left[idx_l]:\n",
        "      sorted_nums.append(sorted_right[idx_r])\n",
        "      idx_r += 1\n",
        "    else:\n",
        "      sorted_nums.append(sorted_left[idx_l])\n",
        "      idx_l += 1\n",
        "\n",
        "  return sorted_nums\n",
        "\n",
        "  \n",
        "mergeSort(nums=[5,7,9,3,1,2,4])\n"
      ],
      "execution_count": 13,
      "outputs": [
        {
          "output_type": "execute_result",
          "data": {
            "text/plain": [
              "[1, 2, 3, 4, 5, 7, 9]"
            ]
          },
          "metadata": {
            "tags": []
          },
          "execution_count": 13
        }
      ]
    },
    {
      "cell_type": "code",
      "metadata": {
        "id": "jd9sRwjMHA9w"
      },
      "source": [
        ""
      ],
      "execution_count": null,
      "outputs": []
    }
  ]
}