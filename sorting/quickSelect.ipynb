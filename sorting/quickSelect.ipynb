{
  "nbformat": 4,
  "nbformat_minor": 0,
  "metadata": {
    "colab": {
      "name": "quickSelect.ipynb",
      "provenance": [],
      "authorship_tag": "ABX9TyOcEpoCbsv68Fiu1TPJBbby",
      "include_colab_link": true
    },
    "kernelspec": {
      "name": "python3",
      "display_name": "Python 3"
    },
    "language_info": {
      "name": "python"
    }
  },
  "cells": [
    {
      "cell_type": "markdown",
      "metadata": {
        "id": "view-in-github",
        "colab_type": "text"
      },
      "source": [
        "<a href=\"https://colab.research.google.com/github/NoCodeProgram/CodingTest/blob/main/sorting/quickSelect.ipynb\" target=\"_parent\"><img src=\"https://colab.research.google.com/assets/colab-badge.svg\" alt=\"Open In Colab\"/></a>"
      ]
    },
    {
      "cell_type": "markdown",
      "metadata": {
        "id": "iyEzT651Y3w5"
      },
      "source": [
        "Title : Quick Select\n",
        "\n",
        "Chapter : Sorting\n",
        "\n",
        "Link : \n",
        "\n",
        "ChapterLink :\n",
        "\n",
        "문제: 주어진 array에서 k 번째로 큰 숫자를 찾아라"
      ]
    },
    {
      "cell_type": "code",
      "metadata": {
        "colab": {
          "base_uri": "https://localhost:8080/"
        },
        "id": "OyHFJJvOY1pn",
        "outputId": "5e295647-64a3-4c0d-ba9c-e4551e81193a"
      },
      "source": [
        "from typing import List\n",
        "import random\n",
        "\n",
        "#return kth largest number\n",
        "def quickSelect(nums:List[int],k:int) -> int:\n",
        "  length = len(nums)\n",
        "  if length == 1:\n",
        "    return nums[0]\n",
        "\n",
        "  pivotIdx = random.randrange(length)\n",
        "  lastIdx = length-1\n",
        "\n",
        "  nums[pivotIdx],nums[lastIdx] = nums[lastIdx],nums[pivotIdx]\n",
        "  leftIdx = 0\n",
        "  rightIdx = length-2\n",
        "  pivot = nums[-1]\n",
        "  while leftIdx <= rightIdx:\n",
        "    if nums[leftIdx] <= pivot:\n",
        "      leftIdx += 1\n",
        "      continue\n",
        "    \n",
        "    if pivot < nums[rightIdx]:\n",
        "      rightIdx -= 1\n",
        "      continue\n",
        "    \n",
        "    if pivot < nums[leftIdx] and nums[rightIdx] <= pivot:\n",
        "      nums[leftIdx], nums[rightIdx] = nums[rightIdx], nums[leftIdx]\n",
        "      continue\n",
        "\n",
        "  nums[leftIdx],nums[lastIdx] = nums[lastIdx],nums[leftIdx]\n",
        "  if leftIdx == length - k:\n",
        "    return nums[leftIdx]\n",
        "  elif leftIdx < length-k:\n",
        "    return quickSelect(nums=nums[leftIdx+1:],k=k)\n",
        "  elif length-k < leftIdx:\n",
        "    return quickSelect(nums=nums[:leftIdx],k=k-(length-leftIdx)) \n",
        "\n",
        "\n",
        "quickSelect(nums=[5,7,9,3,1,2,4],k=2)\n"
      ],
      "execution_count": 2,
      "outputs": [
        {
          "output_type": "execute_result",
          "data": {
            "text/plain": [
              "7"
            ]
          },
          "metadata": {
            "tags": []
          },
          "execution_count": 2
        }
      ]
    },
    {
      "cell_type": "code",
      "metadata": {
        "id": "2H1D242LY5kr"
      },
      "source": [
        ""
      ],
      "execution_count": null,
      "outputs": []
    }
  ]
}