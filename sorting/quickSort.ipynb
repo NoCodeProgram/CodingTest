{
  "nbformat": 4,
  "nbformat_minor": 0,
  "metadata": {
    "colab": {
      "name": "quickSort.ipynb",
      "provenance": [],
      "collapsed_sections": [],
      "authorship_tag": "ABX9TyOoVzeWZAlm6cADr+aXbDQX",
      "include_colab_link": true
    },
    "kernelspec": {
      "name": "python3",
      "display_name": "Python 3"
    },
    "language_info": {
      "name": "python"
    }
  },
  "cells": [
    {
      "cell_type": "markdown",
      "metadata": {
        "id": "view-in-github",
        "colab_type": "text"
      },
      "source": [
        "<a href=\"https://colab.research.google.com/github/NoCodeProgram/CodingTest/blob/main/sorting/quickSort.ipynb\" target=\"_parent\"><img src=\"https://colab.research.google.com/assets/colab-badge.svg\" alt=\"Open In Colab\"/></a>"
      ]
    },
    {
      "cell_type": "markdown",
      "metadata": {
        "id": "Oe0ycgV_5DBM"
      },
      "source": [
        "Title : Quick Sort\n",
        "\n",
        "Chapter : Sorting\n",
        "\n",
        "Link : \n",
        "\n",
        "ChapterLink :\n",
        "\n",
        "문제: 주어진 array를 Quick Sort 하여라"
      ]
    },
    {
      "cell_type": "code",
      "metadata": {
        "colab": {
          "base_uri": "https://localhost:8080/"
        },
        "id": "0iybrWQF5BlP",
        "outputId": "bfc8b083-a0a1-4a4c-cc37-6f5fdf490418"
      },
      "source": [
        "from typing import List\n",
        "import random\n",
        "\n",
        "#in place memory sorting\n",
        "def quickSort(nums:List[int], beginIdx:int, lastIdx:int)->List[int]:\n",
        "  length = lastIdx-beginIdx+1  \n",
        "  if length <= 1:\n",
        "    return nums\n",
        "\n",
        "  pivotIdx = random.randrange(beginIdx,lastIdx+1)\n",
        "  nums[pivotIdx],nums[lastIdx] = nums[lastIdx],nums[pivotIdx]\n",
        "  leftIdx = beginIdx\n",
        "  rightIdx = lastIdx-1\n",
        "  pivot = nums[lastIdx]\n",
        "  while leftIdx <= rightIdx:\n",
        "    if nums[leftIdx] <= pivot:\n",
        "      leftIdx += 1\n",
        "      continue\n",
        "    \n",
        "    if pivot < nums[rightIdx]:\n",
        "      rightIdx -= 1\n",
        "      continue\n",
        "    \n",
        "    if pivot < nums[leftIdx] and nums[rightIdx] <= pivot:\n",
        "      nums[leftIdx], nums[rightIdx] = nums[rightIdx], nums[leftIdx]\n",
        "      continue\n",
        "  nums[leftIdx],nums[lastIdx] = nums[lastIdx],nums[leftIdx]\n",
        "\n",
        "  quickSort(nums=nums, beginIdx=leftIdx+1,lastIdx = lastIdx)\n",
        "  quickSort(nums=nums, beginIdx=beginIdx, lastIdx = leftIdx-1) \n",
        "\n",
        "  return nums\n",
        "\n",
        "nums = [5,7,9,3,1,5,5,2,4]\n",
        "quickSort(nums=nums,beginIdx=0,lastIdx=len(nums)-1)\n",
        "print(nums)\n"
      ],
      "execution_count": 3,
      "outputs": [
        {
          "output_type": "stream",
          "name": "stdout",
          "text": [
            "[1, 2, 3, 4, 5, 5, 5, 7, 9]\n"
          ]
        }
      ]
    },
    {
      "cell_type": "code",
      "metadata": {
        "id": "0IOqg8tfcyxD"
      },
      "source": [
        ""
      ],
      "execution_count": null,
      "outputs": []
    }
  ]
}