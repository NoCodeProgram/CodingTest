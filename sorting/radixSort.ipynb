{
  "nbformat": 4,
  "nbformat_minor": 0,
  "metadata": {
    "colab": {
      "name": "radixSort.ipynb",
      "provenance": [],
      "collapsed_sections": [],
      "authorship_tag": "ABX9TyP7w/hyJfTufBZGI1ztykAD",
      "include_colab_link": true
    },
    "kernelspec": {
      "name": "python3",
      "display_name": "Python 3"
    },
    "language_info": {
      "name": "python"
    }
  },
  "cells": [
    {
      "cell_type": "markdown",
      "metadata": {
        "id": "view-in-github",
        "colab_type": "text"
      },
      "source": [
        "<a href=\"https://colab.research.google.com/github/NoCodeProgram/CodingTest/blob/main/sorting/radixSort.ipynb\" target=\"_parent\"><img src=\"https://colab.research.google.com/assets/colab-badge.svg\" alt=\"Open In Colab\"/></a>"
      ]
    },
    {
      "cell_type": "markdown",
      "metadata": {
        "id": "Qdd4yVuZm9HL"
      },
      "source": [
        "Title : radix Sort\n",
        "\n",
        "Chapter : sort\n",
        "\n",
        "Link : \n",
        "\n",
        "ChapterLink :\n",
        "\n",
        "문제: 주어진 array를 radixSort 하여라"
      ]
    },
    {
      "cell_type": "code",
      "metadata": {
        "id": "WdcfeIpwm4es",
        "colab": {
          "base_uri": "https://localhost:8080/"
        },
        "outputId": "5922cfdb-80c8-4974-d43c-6bc924f00257"
      },
      "source": [
        "from typing import List\n",
        "import math\n",
        "\n",
        "def countingSortByDigit(nums:List[int],digit:int)->List[int]:  \n",
        "  counts = [0]*10\n",
        "  for num in nums:\n",
        "    count_idx = num//pow(10,digit)%10\n",
        "    counts[count_idx] += 1\n",
        "\n",
        "  acc_counts = []\n",
        "  acc_count = 0\n",
        "  for count in counts:\n",
        "    acc_count += count\n",
        "    acc_counts.append(acc_count)\n",
        "  end_locs = [ c-1 for c in acc_counts]\n",
        "\n",
        "  sorted = [0] * len(nums)\n",
        "  for num in reversed(nums):\n",
        "    count_idx = num//pow(10,digit)%10\n",
        "    end_loc = end_locs[count_idx]\n",
        "    sorted[end_loc] = num\n",
        "    end_locs[count_idx] -= 1\n",
        "\n",
        "  return sorted\n",
        "\n",
        "\n",
        "def radixSort(nums:List[int])->List[int]:\n",
        "  largest_num = max(nums)\n",
        "  digits = int(math.log10(largest_num))+1\n",
        "  sorted = nums\n",
        "  for digit in range(digits):\n",
        "    sorted = countingSortByDigit(nums=sorted,digit=digit)\n",
        "  return sorted\n",
        "\n",
        "print(radixSort(nums=[391,582,50,924,8,192]))\n",
        "\n"
      ],
      "execution_count": 10,
      "outputs": [
        {
          "output_type": "stream",
          "text": [
            "[8, 50, 192, 391, 582, 924]\n"
          ],
          "name": "stdout"
        }
      ]
    },
    {
      "cell_type": "code",
      "metadata": {
        "id": "nDrEm5r4J1dd"
      },
      "source": [
        ""
      ],
      "execution_count": null,
      "outputs": []
    }
  ]
}