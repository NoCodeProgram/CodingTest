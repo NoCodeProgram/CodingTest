{
  "nbformat": 4,
  "nbformat_minor": 0,
  "metadata": {
    "colab": {
      "name": "selectionSort.ipynb",
      "provenance": [],
      "collapsed_sections": [],
      "authorship_tag": "ABX9TyPvGzYlgEGqUR7I3nNyngZ5",
      "include_colab_link": true
    },
    "kernelspec": {
      "name": "python3",
      "display_name": "Python 3"
    },
    "language_info": {
      "name": "python"
    }
  },
  "cells": [
    {
      "cell_type": "markdown",
      "metadata": {
        "id": "view-in-github",
        "colab_type": "text"
      },
      "source": [
        "<a href=\"https://colab.research.google.com/github/NoCodeProgram/CodingTest/blob/main/sorting/selectionSort.ipynb\" target=\"_parent\"><img src=\"https://colab.research.google.com/assets/colab-badge.svg\" alt=\"Open In Colab\"/></a>"
      ]
    },
    {
      "cell_type": "markdown",
      "metadata": {
        "id": "199d_pmtNOny"
      },
      "source": [
        "Title : Selection Sorting\n",
        "\n",
        "Chapter : Sorting\n",
        "\n",
        "Link : \n",
        "\n",
        "ChapterLink :\n",
        "\n",
        "문제: 주어진 array를 Selection sorting 하여라"
      ]
    },
    {
      "cell_type": "code",
      "metadata": {
        "colab": {
          "base_uri": "https://localhost:8080/"
        },
        "id": "e1gGPzLPNNJU",
        "outputId": "864486a3-9ffb-4502-b7e5-c154da9af951"
      },
      "source": [
        "import sys\n",
        "from typing import List   \n",
        "\n",
        "\n",
        "def sort(nums: List[int]) -> List[int]:\n",
        "  for idx in range(0,len(nums)):\n",
        "    minNum = nums[idx]\n",
        "    minIdx = idx\n",
        "    for i in range(idx,len(nums)):\n",
        "      if nums[i] < minNum:\n",
        "        minNum = nums[i]\n",
        "        minIdx = i\n",
        "    nums[idx],nums[minIdx] = nums[minIdx],nums[idx] #swap\n",
        "  return nums\n",
        "\n",
        "\n",
        "print(sort(nums=[9,3,5,7,1]))"
      ],
      "execution_count": 5,
      "outputs": [
        {
          "output_type": "stream",
          "text": [
            "[1, 3, 5, 7, 9]\n"
          ],
          "name": "stdout"
        }
      ]
    },
    {
      "cell_type": "code",
      "metadata": {
        "colab": {
          "base_uri": "https://localhost:8080/"
        },
        "id": "4MU-R0PJNS2t",
        "outputId": "d2e8b600-5caa-4678-8c82-523b242b5d63"
      },
      "source": [
        "#selection sort is not stable\n",
        "\n",
        "def sort(num_strs):\n",
        "  for idx in range(0,len(num_strs)):\n",
        "    minNum = num_strs[idx][0]\n",
        "    minIdx = idx\n",
        "    for i in range(idx,len(num_strs)):\n",
        "      if num_strs[i][0] < minNum:\n",
        "        minNum = num_strs[i][0]\n",
        "        minIdx = i\n",
        "    num_strs[idx],num_strs[minIdx] = num_strs[minIdx],num_strs[idx] #swap\n",
        "  return num_strs\n",
        "\n",
        "print(sort(num_strs=[(7,'a'),(7,'b'),(5,'a'),(5,'b'),(3,'c')]))"
      ],
      "execution_count": 11,
      "outputs": [
        {
          "output_type": "stream",
          "text": [
            "[(3, 'c'), (5, 'a'), (5, 'b'), (7, 'b'), (7, 'a')]\n"
          ],
          "name": "stdout"
        }
      ]
    },
    {
      "cell_type": "code",
      "metadata": {
        "id": "H1XTbVJcNTgZ"
      },
      "source": [
        ""
      ],
      "execution_count": null,
      "outputs": []
    }
  ]
}