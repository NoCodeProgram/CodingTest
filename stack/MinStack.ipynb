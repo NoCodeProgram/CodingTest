{
  "nbformat": 4,
  "nbformat_minor": 0,
  "metadata": {
    "colab": {
      "name": "MinStack.ipynb",
      "provenance": [],
      "authorship_tag": "ABX9TyPRv5JCMIkCsx6W9NjWFeYv",
      "include_colab_link": true
    },
    "kernelspec": {
      "name": "python3",
      "display_name": "Python 3"
    },
    "language_info": {
      "name": "python"
    }
  },
  "cells": [
    {
      "cell_type": "markdown",
      "metadata": {
        "id": "view-in-github",
        "colab_type": "text"
      },
      "source": [
        "<a href=\"https://colab.research.google.com/github/NoCodeProgram/CodingTest/blob/main/stack/MinStack.ipynb\" target=\"_parent\"><img src=\"https://colab.research.google.com/assets/colab-badge.svg\" alt=\"Open In Colab\"/></a>"
      ]
    },
    {
      "cell_type": "markdown",
      "metadata": {
        "id": "zmr_1pbVy9lS"
      },
      "source": [
        "Title : Min Stack\n",
        "\n",
        "Chapter : Stack\n",
        "\n",
        "Link : [YouTube](https://youtu.be/gKTi-gbyjXk)\n",
        "\n",
        "ChapterLink : [PlayList](https://youtube.com/playlist?list=PLDV-cCQnUlIYQOb8_n-d-VPhl_X6cECjg)\n",
        "\n",
        "문제: minimum값을 O(1) time complexity로 return이 가능한 Stack을 Design 하여라\n"
      ]
    },
    {
      "cell_type": "code",
      "metadata": {
        "id": "Pa1SCVgcysnT"
      },
      "source": [
        "from typing import List  \n",
        "\n",
        "class MinStack:\n",
        "  def __init__(self):\n",
        "    self._stack = []\n",
        "    self._min_stack = []\n",
        "\n",
        "  def push(self, val: int) -> None:\n",
        "    if len(self._stack) == 0:\n",
        "      self._stack.append(val)\n",
        "      self._min_stack.append(val)\n",
        "      return\n",
        "    \n",
        "    min_num = self._min_stack[-1]\n",
        "    if val < min_num:\n",
        "      self._stack.append(val)\n",
        "      self._min_stack.append(val)\n",
        "      \n",
        "    else:\n",
        "      self._stack.append(val)\n",
        "      self._min_stack.append(min_num)    \n",
        "\n",
        "\n",
        "  def pop(self) -> None:\n",
        "    if len(self._stack) != 0:\n",
        "      self._stack.pop()\n",
        "      self._min_stack.pop()\n",
        "    \n",
        "\n",
        "  def top(self) -> int:\n",
        "    return self._stack[-1]\n",
        "\n",
        "  def getMin(self) -> int:\n",
        "    return self._min_stack[-1]\n",
        "        "
      ],
      "execution_count": 2,
      "outputs": []
    },
    {
      "cell_type": "code",
      "metadata": {
        "colab": {
          "base_uri": "https://localhost:8080/"
        },
        "id": "WVBfYpeKz10X",
        "outputId": "c479fa93-2394-46e9-9671-cf15423e1c72"
      },
      "source": [
        "minStack = MinStack()\n",
        "minStack.push(5)\n",
        "print(minStack.getMin(),end=' ')\n",
        "minStack.push(3)\n",
        "print(minStack.getMin(),end=' ')\n",
        "minStack.push(2)\n",
        "print(minStack.getMin(),end=' ')\n",
        "minStack.push(4)\n",
        "print(minStack.getMin(),end=' ')\n",
        "minStack.pop()\n",
        "minStack.pop()\n",
        "print(minStack.getMin(),end=' ')"
      ],
      "execution_count": 6,
      "outputs": [
        {
          "output_type": "stream",
          "text": [
            "5 3 2 2 3 "
          ],
          "name": "stdout"
        }
      ]
    },
    {
      "cell_type": "code",
      "metadata": {
        "id": "aDsZNWzF0B_r"
      },
      "source": [
        ""
      ],
      "execution_count": null,
      "outputs": []
    }
  ]
}