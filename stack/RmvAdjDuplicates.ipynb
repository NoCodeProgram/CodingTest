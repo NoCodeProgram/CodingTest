{
  "nbformat": 4,
  "nbformat_minor": 0,
  "metadata": {
    "colab": {
      "name": "RmvAdjDuplicates.ipynb",
      "provenance": [],
      "authorship_tag": "ABX9TyOqFUrBLW/1FyzhbKNH3QTF",
      "include_colab_link": true
    },
    "kernelspec": {
      "name": "python3",
      "display_name": "Python 3"
    },
    "language_info": {
      "name": "python"
    }
  },
  "cells": [
    {
      "cell_type": "markdown",
      "metadata": {
        "id": "view-in-github",
        "colab_type": "text"
      },
      "source": [
        "<a href=\"https://colab.research.google.com/github/NoCodeProgram/CodingTest/blob/main/stack/RmvAdjDuplicates.ipynb\" target=\"_parent\"><img src=\"https://colab.research.google.com/assets/colab-badge.svg\" alt=\"Open In Colab\"/></a>"
      ]
    },
    {
      "cell_type": "markdown",
      "metadata": {
        "id": "iRctBvJR_Ltz"
      },
      "source": [
        "Title : Remove All Adjacent Duplicates In String\n",
        "\n",
        "Chapter : Stack\n",
        "\n",
        "Link : [YouTube](https://youtu.be/EU7ISz76xjw)\n",
        "\n",
        "ChapterLink : [PlayList](https://youtube.com/playlist?list=PLDV-cCQnUlIYQOb8_n-d-VPhl_X6cECjg)\n",
        "\n",
        "문제: string 에서 같은 두개의 연속된 알파벳들을 제거하여라 "
      ]
    },
    {
      "cell_type": "code",
      "metadata": {
        "id": "bVhynSa7_Giq"
      },
      "source": [
        "def removeDuplicates(s: str) -> str:\n",
        "  stack = []\n",
        "  for c in s:\n",
        "    if len(stack) == 0:\n",
        "      stack.append(c)          \n",
        "    elif stack[-1] == c:\n",
        "      stack.pop()      \n",
        "    else:\n",
        "      stack.append(c)\n",
        "  \n",
        "  return ''.join(stack)"
      ],
      "execution_count": 2,
      "outputs": []
    },
    {
      "cell_type": "code",
      "metadata": {
        "colab": {
          "base_uri": "https://localhost:8080/"
        },
        "id": "B9uFDknt_opB",
        "outputId": "49a40aab-a6a3-4c79-aa1c-3159a6f65ad9"
      },
      "source": [
        "print(removeDuplicates(s='abbcbbcdef'))"
      ],
      "execution_count": 3,
      "outputs": [
        {
          "output_type": "stream",
          "text": [
            "adef\n"
          ],
          "name": "stdout"
        }
      ]
    },
    {
      "cell_type": "markdown",
      "metadata": {
        "id": "49Sf4w9DADHr"
      },
      "source": [
        "Title : Remove All Adjacent Duplicates In String II\n",
        "\n",
        "Chapter : Stack\n",
        "\n",
        "Link : [YouTube](https://youtu.be/EU7ISz76xjw)\n",
        "\n",
        "ChapterLink : [PlayList](https://youtube.com/playlist?list=PLDV-cCQnUlIYQOb8_n-d-VPhl_X6cECjg)\n",
        "\n",
        "문제: string 에서 같은 k 개의 연속된 알파벳들을 제거하여라 "
      ]
    },
    {
      "cell_type": "code",
      "metadata": {
        "id": "pRX6q6iVACLG"
      },
      "source": [
        "def removeDuplicates2(s: str, k: int) -> str:\n",
        "  stack = []\n",
        "  count_stack = []\n",
        "  \n",
        "  for c in s:\n",
        "    if len(stack) == 0:\n",
        "      stack.append(c)\n",
        "      count_stack.append(1)\n",
        "          \n",
        "    elif stack[-1] == c:\n",
        "      dup_count = count_stack[-1]\n",
        "      if dup_count < k-1:\n",
        "        stack.append(c)\n",
        "        count_stack.append(dup_count+1)\n",
        "      elif dup_count == k-1:\n",
        "        for _ in range(k-1):\n",
        "          stack.pop()\n",
        "          count_stack.pop()\n",
        "      \n",
        "    else:\n",
        "      stack.append(c)\n",
        "      count_stack.append(1)\n",
        "\n",
        "  return ''.join(stack)"
      ],
      "execution_count": 4,
      "outputs": []
    },
    {
      "cell_type": "code",
      "metadata": {
        "colab": {
          "base_uri": "https://localhost:8080/"
        },
        "id": "pXGGJLRCDBrF",
        "outputId": "8d4d983b-f677-4925-aa31-b763b567ddbd"
      },
      "source": [
        "print(removeDuplicates2(s='abbcddde',k=3))"
      ],
      "execution_count": 5,
      "outputs": [
        {
          "output_type": "stream",
          "text": [
            "abbce\n"
          ],
          "name": "stdout"
        }
      ]
    },
    {
      "cell_type": "code",
      "metadata": {
        "id": "eF3bwzJTDIko"
      },
      "source": [
        ""
      ],
      "execution_count": null,
      "outputs": []
    }
  ]
}