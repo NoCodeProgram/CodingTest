{
  "nbformat": 4,
  "nbformat_minor": 0,
  "metadata": {
    "colab": {
      "name": "ValidParentheses.ipynb",
      "provenance": [],
      "collapsed_sections": [],
      "authorship_tag": "ABX9TyNfPRFO6i1DuewtBPvpFnnn",
      "include_colab_link": true
    },
    "kernelspec": {
      "name": "python3",
      "display_name": "Python 3"
    },
    "language_info": {
      "name": "python"
    }
  },
  "cells": [
    {
      "cell_type": "markdown",
      "metadata": {
        "id": "view-in-github",
        "colab_type": "text"
      },
      "source": [
        "<a href=\"https://colab.research.google.com/github/NoCodeProgram/CodingTest/blob/main/stack/ValidParentheses.ipynb\" target=\"_parent\"><img src=\"https://colab.research.google.com/assets/colab-badge.svg\" alt=\"Open In Colab\"/></a>"
      ]
    },
    {
      "cell_type": "markdown",
      "metadata": {
        "id": "WJ7PtrwHpKO1"
      },
      "source": [
        "Title : Valid Parentheses\n",
        "\n",
        "Chapter : Stack\n",
        "\n",
        "Link : [YouTube](https://youtu.be/eu9ttD-psU4)\n",
        "\n",
        "ChapterLink : [PlayList](https://youtube.com/playlist?list=PLDV-cCQnUlIYQOb8_n-d-VPhl_X6cECjg)\n",
        "\n",
        "문제: '(  )  { } [ ]' 로 이루어진 괄호쌍들이 valid한지 판별하여라"
      ]
    },
    {
      "cell_type": "code",
      "metadata": {
        "id": "AbVC7tFwpJNF"
      },
      "source": [
        "from typing import List  \n",
        "\n",
        "class ValidParentheses:  \n",
        "  def _matchCh(self, c: str) -> str:\n",
        "    if c == ')':\n",
        "      return '('\n",
        "    elif c == '}':\n",
        "      return '{'\n",
        "    elif c == ']':\n",
        "      return '['\n",
        "      \n",
        "  def isValid(self, s: str) -> bool:    \n",
        "    stack = []    \n",
        "    for ch in s:\n",
        "      if len(stack) == 0:\n",
        "        stack.append(ch)\n",
        "      elif ch == '(' or ch == '{' or ch == '[':\n",
        "        stack.append(ch)\n",
        "      else: \n",
        "        match_ch = self._matchCh(ch)\n",
        "        last_ch = stack[-1]\n",
        "        if match_ch == last_ch:\n",
        "          stack.pop()\n",
        "        else:\n",
        "          return False      \n",
        "      \n",
        "    if len(stack) == 0:\n",
        "      return True\n",
        "    else:\n",
        "      return False"
      ],
      "execution_count": 1,
      "outputs": []
    },
    {
      "cell_type": "code",
      "metadata": {
        "colab": {
          "base_uri": "https://localhost:8080/"
        },
        "id": "5UC8lS_Hptqr",
        "outputId": "b7a10674-0719-4583-b6d8-a33130b55b3d"
      },
      "source": [
        "vp = ValidParentheses()\n",
        "vp.isValid(s='{([{}]())}')"
      ],
      "execution_count": 2,
      "outputs": [
        {
          "output_type": "execute_result",
          "data": {
            "text/plain": [
              "True"
            ]
          },
          "metadata": {
            "tags": []
          },
          "execution_count": 2
        }
      ]
    },
    {
      "cell_type": "code",
      "metadata": {
        "id": "wl_F9xOHpwC7"
      },
      "source": [
        ""
      ],
      "execution_count": 2,
      "outputs": []
    }
  ]
}