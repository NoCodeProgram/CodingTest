{
  "nbformat": 4,
  "nbformat_minor": 0,
  "metadata": {
    "colab": {
      "name": "dailyTemps.ipynb",
      "provenance": [],
      "authorship_tag": "ABX9TyNlYUcEnacPOvWWCt7IkPKX",
      "include_colab_link": true
    },
    "kernelspec": {
      "name": "python3",
      "display_name": "Python 3"
    },
    "language_info": {
      "name": "python"
    }
  },
  "cells": [
    {
      "cell_type": "markdown",
      "metadata": {
        "id": "view-in-github",
        "colab_type": "text"
      },
      "source": [
        "<a href=\"https://colab.research.google.com/github/NoCodeProgram/CodingTest/blob/main/stack/dailyTemps.ipynb\" target=\"_parent\"><img src=\"https://colab.research.google.com/assets/colab-badge.svg\" alt=\"Open In Colab\"/></a>"
      ]
    },
    {
      "cell_type": "markdown",
      "metadata": {
        "id": "vnEMr1gq3Q-S"
      },
      "source": [
        "Title : Daily Temperatures\n",
        "\n",
        "Chapter : Stack\n",
        "\n",
        "Link : [YouTube](https://youtu.be/e3UUU018sZE)\n",
        "\n",
        "ChapterLink : [PlayList](https://youtube.com/playlist?list=PLDV-cCQnUlIYQOb8_n-d-VPhl_X6cECjg)\n",
        "\n",
        "문제: 날자에 따른 온도가 temperatures 리스트로 주어진다. 이 때 해당 날짜에서부터 다음 따뜻한날까지의 차이를 가진 list를 return하여라\n"
      ]
    },
    {
      "cell_type": "code",
      "metadata": {
        "id": "bplq6dgU3PRv"
      },
      "source": [
        "from typing import List  \n",
        "\n",
        "def dailyTemperatures(temperatures: List[int]) -> List[int]:\n",
        "    temp_count = len(temperatures)\n",
        "    ans = [0]*temp_count\n",
        "    \n",
        "    stack = []\n",
        "    idx_stack = []\n",
        "    \n",
        "    for idx in range(temp_count-1,-1,-1):\n",
        "      temperature = temperatures[idx]\n",
        "      \n",
        "      last_temp_idx = 0\n",
        "      while stack:\n",
        "        last_temp = stack[-1]\n",
        "        last_temp_idx = idx_stack[-1]\n",
        "        if last_temp <= temperature:\n",
        "          stack.pop()\n",
        "          idx_stack.pop()\n",
        "        else:\n",
        "          break\n",
        "      \n",
        "      if len(stack) == 0:\n",
        "        stack.append(temperature)\n",
        "        idx_stack.append(idx)\n",
        "        ans[idx] = 0\n",
        "        continue\n",
        "        \n",
        "      stack.append(temperature)\n",
        "      idx_stack.append(idx)\n",
        "      ans[idx] = last_temp_idx-idx\n",
        "    \n",
        "    return ans"
      ],
      "execution_count": 1,
      "outputs": []
    },
    {
      "cell_type": "code",
      "metadata": {
        "colab": {
          "base_uri": "https://localhost:8080/"
        },
        "id": "Jnv3XcKX3oPu",
        "outputId": "64972bc3-d503-4db5-89a6-d99edc982815"
      },
      "source": [
        "dailyTemperatures(temperatures=[39, 20, 70, 36, 30, 60, 80, 1])"
      ],
      "execution_count": 2,
      "outputs": [
        {
          "output_type": "execute_result",
          "data": {
            "text/plain": [
              "[2, 1, 4, 2, 1, 1, 0, 0]"
            ]
          },
          "metadata": {
            "tags": []
          },
          "execution_count": 2
        }
      ]
    }
  ]
}