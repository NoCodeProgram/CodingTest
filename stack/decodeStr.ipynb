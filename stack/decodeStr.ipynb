{
  "nbformat": 4,
  "nbformat_minor": 0,
  "metadata": {
    "colab": {
      "name": "decodeStr.ipynb",
      "provenance": [],
      "authorship_tag": "ABX9TyP9vDzwZP22nrfCNYu1Cfmt",
      "include_colab_link": true
    },
    "kernelspec": {
      "name": "python3",
      "display_name": "Python 3"
    },
    "language_info": {
      "name": "python"
    }
  },
  "cells": [
    {
      "cell_type": "markdown",
      "metadata": {
        "id": "view-in-github",
        "colab_type": "text"
      },
      "source": [
        "<a href=\"https://colab.research.google.com/github/NoCodeProgram/CodingTest/blob/main/stack/decodeStr.ipynb\" target=\"_parent\"><img src=\"https://colab.research.google.com/assets/colab-badge.svg\" alt=\"Open In Colab\"/></a>"
      ]
    },
    {
      "cell_type": "markdown",
      "metadata": {
        "id": "zw2dJUEFoCsW"
      },
      "source": [
        "Title : String Calculator\n",
        "\n",
        "Chapter : Stack\n",
        "\n",
        "Link : [YouTube](https://youtu.be/7Hf55tQR_O0)\n",
        "\n",
        "ChapterLink : [PlayList](https://youtube.com/playlist?list=PLDV-cCQnUlIYQOb8_n-d-VPhl_X6cECjg)\n",
        "\n",
        "문제: s 로 주어진 계산식을 계산하여라"
      ]
    },
    {
      "cell_type": "code",
      "metadata": {
        "id": "awgtrejbn_pP"
      },
      "source": [
        "def decodeString(s: str) -> str:\n",
        "    stack = []\n",
        "    num_stack = []\n",
        "    \n",
        "    cur_num = 0\n",
        "    cur_str = ''\n",
        "    for c in s:\n",
        "      if c == '[':\n",
        "        stack.append(cur_str)\n",
        "        num_stack.append(cur_num)\n",
        "        cur_str = ''\n",
        "        cur_num = 0\n",
        "        continue\n",
        "          \n",
        "      elif c == ']':          \n",
        "        prev_str = stack.pop()\n",
        "        num = num_stack.pop()\n",
        "        cur_str = prev_str + num*cur_str\n",
        "        continue\n",
        "          \n",
        "      if c.isdigit():\n",
        "        cur_num = cur_num*10 + int(c)\n",
        "      else:\n",
        "        cur_str += c\n",
        "\n",
        "    return cur_str"
      ],
      "execution_count": 1,
      "outputs": []
    },
    {
      "cell_type": "code",
      "metadata": {
        "colab": {
          "base_uri": "https://localhost:8080/",
          "height": 35
        },
        "id": "hfqh41OOoeo8",
        "outputId": "d1d38332-d24e-4ca0-d48f-eab89461e4d8"
      },
      "source": [
        "decodeString(s='a2[b2[ak]]')"
      ],
      "execution_count": 2,
      "outputs": [
        {
          "output_type": "execute_result",
          "data": {
            "application/vnd.google.colaboratory.intrinsic+json": {
              "type": "string"
            },
            "text/plain": [
              "'abakakbakak'"
            ]
          },
          "metadata": {},
          "execution_count": 2
        }
      ]
    },
    {
      "cell_type": "code",
      "metadata": {
        "colab": {
          "base_uri": "https://localhost:8080/",
          "height": 70
        },
        "id": "mwzvtS3doRar",
        "outputId": "1ff19507-819d-42ad-f44a-5f19a108265b"
      },
      "source": [
        "decodeString(s='23[a]100[def]42[b]')"
      ],
      "execution_count": 4,
      "outputs": [
        {
          "output_type": "execute_result",
          "data": {
            "application/vnd.google.colaboratory.intrinsic+json": {
              "type": "string"
            },
            "text/plain": [
              "'aaaaaaaaaaaaaaaaaaaaaaadefdefdefdefdefdefdefdefdefdefdefdefdefdefdefdefdefdefdefdefdefdefdefdefdefdefdefdefdefdefdefdefdefdefdefdefdefdefdefdefdefdefdefdefdefdefdefdefdefdefdefdefdefdefdefdefdefdefdefdefdefdefdefdefdefdefdefdefdefdefdefdefdefdefdefdefdefdefdefdefdefdefdefdefdefdefdefdefdefdefdefdefdefdefdefdefdefdefdefdefbbbbbbbbbbbbbbbbbbbbbbbbbbbbbbbbbbbbbbbbbb'"
            ]
          },
          "metadata": {},
          "execution_count": 4
        }
      ]
    },
    {
      "cell_type": "code",
      "metadata": {
        "id": "2Etx2hKJOBKB"
      },
      "source": [
        ""
      ],
      "execution_count": null,
      "outputs": []
    }
  ]
}