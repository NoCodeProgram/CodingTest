{
  "nbformat": 4,
  "nbformat_minor": 0,
  "metadata": {
    "colab": {
      "name": "decodeStr.ipynb",
      "provenance": [],
      "authorship_tag": "ABX9TyPVaU74RdGWGK4+De53Ezqa",
      "include_colab_link": true
    },
    "kernelspec": {
      "name": "python3",
      "display_name": "Python 3"
    },
    "language_info": {
      "name": "python"
    }
  },
  "cells": [
    {
      "cell_type": "markdown",
      "metadata": {
        "id": "view-in-github",
        "colab_type": "text"
      },
      "source": [
        "<a href=\"https://colab.research.google.com/github/NoCodeProgram/CodingTest/blob/main/stack/decodeStr.ipynb\" target=\"_parent\"><img src=\"https://colab.research.google.com/assets/colab-badge.svg\" alt=\"Open In Colab\"/></a>"
      ]
    },
    {
      "cell_type": "markdown",
      "metadata": {
        "id": "zw2dJUEFoCsW"
      },
      "source": [
        "Title : Decode String\n",
        "\n",
        "Chapter : Stack\n",
        "\n",
        "Link : [YouTube](https://youtu.be/kEOIOoJ2keo)\n",
        "\n",
        "ChapterLink : [PlayList](https://youtube.com/playlist?list=PLDV-cCQnUlIYQOb8_n-d-VPhl_X6cECjg)\n",
        "\n",
        "문제: s 로 주어진 str을 decoding 해서 return 하여라"
      ]
    },
    {
      "cell_type": "code",
      "metadata": {
        "id": "awgtrejbn_pP"
      },
      "source": [
        "def decodeString(s: str) -> str:\n",
        "    stack = []\n",
        "    num_stack = []\n",
        "    \n",
        "    cur_num = 0\n",
        "    cur_str = ''\n",
        "    for c in s:\n",
        "      if c == '[':\n",
        "        stack.append(cur_str)\n",
        "        num_stack.append(cur_num)\n",
        "        cur_str = ''\n",
        "        cur_num = 0\n",
        "        continue\n",
        "          \n",
        "      elif c == ']':          \n",
        "        prev_str = stack.pop()\n",
        "        num = num_stack.pop()\n",
        "        cur_str = prev_str + num*cur_str\n",
        "        continue\n",
        "          \n",
        "      if c.isdigit():\n",
        "        cur_num = cur_num*10 + int(c)\n",
        "      else:\n",
        "        cur_str += c\n",
        "\n",
        "    return cur_str"
      ],
      "execution_count": 4,
      "outputs": []
    },
    {
      "cell_type": "code",
      "metadata": {
        "id": "hfqh41OOoeo8",
        "outputId": "b8e8641c-dc1c-455f-b74a-9792dfe0d5f6",
        "colab": {
          "base_uri": "https://localhost:8080/",
          "height": 35
        }
      },
      "source": [
        "decodeString(s='a2[b2[ak]]')"
      ],
      "execution_count": 6,
      "outputs": [
        {
          "output_type": "execute_result",
          "data": {
            "application/vnd.google.colaboratory.intrinsic+json": {
              "type": "string"
            },
            "text/plain": [
              "'abakakbakak'"
            ]
          },
          "metadata": {
            "tags": []
          },
          "execution_count": 6
        }
      ]
    },
    {
      "cell_type": "code",
      "metadata": {
        "colab": {
          "base_uri": "https://localhost:8080/",
          "height": 52
        },
        "id": "mwzvtS3doRar",
        "outputId": "4ada759f-d9ef-4136-e060-3dbb59a76efd"
      },
      "source": [
        "decodeString(s='23[a100[def]42[b]')"
      ],
      "execution_count": 5,
      "outputs": [
        {
          "output_type": "execute_result",
          "data": {
            "application/vnd.google.colaboratory.intrinsic+json": {
              "type": "string"
            },
            "text/plain": [
              "'adefdefdefdefdefdefdefdefdefdefdefdefdefdefdefdefdefdefdefdefdefdefdefdefdefdefdefdefdefdefdefdefdefdefdefdefdefdefdefdefdefdefdefdefdefdefdefdefdefdefdefdefdefdefdefdefdefdefdefdefdefdefdefdefdefdefdefdefdefdefdefdefdefdefdefdefdefdefdefdefdefdefdefdefdefdefdefdefdefdefdefdefdefdefdefdefdefdefdefdefbbbbbbbbbbbbbbbbbbbbbbbbbbbbbbbbbbbbbbbbbb'"
            ]
          },
          "metadata": {
            "tags": []
          },
          "execution_count": 5
        }
      ]
    }
  ]
}