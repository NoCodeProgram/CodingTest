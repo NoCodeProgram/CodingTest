{
  "nbformat": 4,
  "nbformat_minor": 0,
  "metadata": {
    "colab": {
      "name": "strCal.ipynb",
      "provenance": [],
      "authorship_tag": "ABX9TyO5L1FFcZURyxfdPb2RTUdU",
      "include_colab_link": true
    },
    "kernelspec": {
      "name": "python3",
      "display_name": "Python 3"
    },
    "language_info": {
      "name": "python"
    }
  },
  "cells": [
    {
      "cell_type": "markdown",
      "metadata": {
        "id": "view-in-github",
        "colab_type": "text"
      },
      "source": [
        "<a href=\"https://colab.research.google.com/github/NoCodeProgram/CodingTest/blob/main/stack/strCal.ipynb\" target=\"_parent\"><img src=\"https://colab.research.google.com/assets/colab-badge.svg\" alt=\"Open In Colab\"/></a>"
      ]
    },
    {
      "cell_type": "markdown",
      "metadata": {
        "id": "HEwYl8MV8ery"
      },
      "source": [
        "Title : Decode String\n",
        "\n",
        "Chapter : Stack\n",
        "\n",
        "Link : [YouTube](https://youtu.be/kEOIOoJ2keo)\n",
        "\n",
        "ChapterLink : [PlayList](https://youtube.com/playlist?list=PLDV-cCQnUlIYQOb8_n-d-VPhl_X6cECjg)\n",
        "\n",
        "문제: s 로 주어진 str을 decoding 해서 return 하여라"
      ]
    },
    {
      "cell_type": "code",
      "metadata": {
        "id": "ew1BlBnX8W-8"
      },
      "source": [
        "def calculate(s: str) -> int:\n",
        "    s+='+' #additional last op\n",
        "    stack = []\n",
        "    \n",
        "    cur_num = 0\n",
        "    prev_op = '+'\n",
        "    for c in s:\n",
        "      if c.isdigit():\n",
        "        cur_num = cur_num*10 + int(c)\n",
        "        \n",
        "      elif c == ' ':\n",
        "        continue     \n",
        "              \n",
        "      else: #ops\n",
        "        if prev_op == '+':\n",
        "          stack.append(cur_num)\n",
        "\n",
        "        elif prev_op == '-':\n",
        "          stack.append(-cur_num)\n",
        "          \n",
        "        elif prev_op == '*':\n",
        "          stack[-1] = stack[-1]*cur_num      \n",
        "\n",
        "        elif prev_op == '/':\n",
        "          stack[-1] = int(stack[-1]/cur_num)\n",
        "\n",
        "        cur_num = 0\n",
        "        prev_op = c\n",
        "        \n",
        "    return sum(stack)"
      ],
      "execution_count": 1,
      "outputs": []
    },
    {
      "cell_type": "code",
      "metadata": {
        "colab": {
          "base_uri": "https://localhost:8080/"
        },
        "id": "nizV4Hho80rZ",
        "outputId": "73492695-2967-4724-9e47-0daaa23bb926"
      },
      "source": [
        "calculate(s='7 - 6 / 3 + 3 * 2 + 4')"
      ],
      "execution_count": 2,
      "outputs": [
        {
          "output_type": "execute_result",
          "data": {
            "text/plain": [
              "15"
            ]
          },
          "metadata": {
            "tags": []
          },
          "execution_count": 2
        }
      ]
    },
    {
      "cell_type": "code",
      "metadata": {
        "id": "4NRH60uY85wF"
      },
      "source": [
        ""
      ],
      "execution_count": null,
      "outputs": []
    }
  ]
}