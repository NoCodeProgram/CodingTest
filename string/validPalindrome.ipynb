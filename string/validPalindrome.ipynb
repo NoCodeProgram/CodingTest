{
  "nbformat": 4,
  "nbformat_minor": 0,
  "metadata": {
    "colab": {
      "name": "validPalindrome.ipynb",
      "provenance": [],
      "collapsed_sections": [],
      "authorship_tag": "ABX9TyPT0fpw3EnvuPjn1yq2Z4MI",
      "include_colab_link": true
    },
    "kernelspec": {
      "name": "python3",
      "display_name": "Python 3"
    },
    "language_info": {
      "name": "python"
    }
  },
  "cells": [
    {
      "cell_type": "markdown",
      "metadata": {
        "id": "view-in-github",
        "colab_type": "text"
      },
      "source": [
        "<a href=\"https://colab.research.google.com/github/NoCodeProgram/CodingTest/blob/main/string/validPalindrome.ipynb\" target=\"_parent\"><img src=\"https://colab.research.google.com/assets/colab-badge.svg\" alt=\"Open In Colab\"/></a>"
      ]
    },
    {
      "cell_type": "markdown",
      "source": [
        "Title : valid Palindrome\n",
        "\n",
        "Chapter : String\n",
        "\n",
        "Link : [YouTube](https://youtu.be/Yjgmw3rMof4)\n",
        "\n",
        "문제: 주어진 s 가 palindrome인지 체크하여라. (대문자는 소문자로 바꾸고, 알파벳이 아닌 문자는 무시한다)\n"
      ],
      "metadata": {
        "id": "w0hLZQQ_aAOY"
      }
    },
    {
      "cell_type": "code",
      "execution_count": 6,
      "metadata": {
        "id": "YyPu0GaeZ7Bt"
      },
      "outputs": [],
      "source": [
        "def isPalindrome(s: str) -> bool:\n",
        "    leftIdx = 0\n",
        "    rightIdx = len(s)-1\n",
        "    \n",
        "    while leftIdx < rightIdx:\n",
        "      leftChar = s[leftIdx]\n",
        "      if leftChar.isalnum() is False:\n",
        "        leftIdx += 1\n",
        "        continue\n",
        "      rightChar = s[rightIdx]\n",
        "      if rightChar.isalnum() is False:\n",
        "        rightIdx -= 1\n",
        "        continue\n",
        "      leftChar = leftChar.lower()\n",
        "      rightChar = rightChar.lower()\n",
        "      if leftChar == rightChar:\n",
        "        leftIdx += 1\n",
        "        rightIdx -= 1\n",
        "        continue      \n",
        "      return False\n",
        "    return True\n",
        "      "
      ]
    },
    {
      "cell_type": "code",
      "source": [
        "s = \"A man, a plan, a canal: Panama\"\n",
        "isPalindrome(s)"
      ],
      "metadata": {
        "colab": {
          "base_uri": "https://localhost:8080/"
        },
        "id": "XbrX-rroaa4w",
        "outputId": "ad2a7e5f-76ef-439c-ce15-f26f6eea3197"
      },
      "execution_count": 7,
      "outputs": [
        {
          "output_type": "execute_result",
          "data": {
            "text/plain": [
              "True"
            ]
          },
          "metadata": {},
          "execution_count": 7
        }
      ]
    },
    {
      "cell_type": "markdown",
      "source": [
        ""
      ],
      "metadata": {
        "id": "pKMvxLj2Z_VW"
      }
    }
  ]
}