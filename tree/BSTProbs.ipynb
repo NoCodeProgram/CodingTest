{
  "nbformat": 4,
  "nbformat_minor": 0,
  "metadata": {
    "colab": {
      "name": "BSTProbs.ipynb",
      "provenance": [],
      "authorship_tag": "ABX9TyOEqOGEhEf1uKacstT+uBWr",
      "include_colab_link": true
    },
    "kernelspec": {
      "name": "python3",
      "display_name": "Python 3"
    }
  },
  "cells": [
    {
      "cell_type": "markdown",
      "metadata": {
        "id": "view-in-github",
        "colab_type": "text"
      },
      "source": [
        "<a href=\"https://colab.research.google.com/github/NoCodeProgram/CodingTest/blob/main/tree/BSTProbs.ipynb\" target=\"_parent\"><img src=\"https://colab.research.google.com/assets/colab-badge.svg\" alt=\"Open In Colab\"/></a>"
      ]
    },
    {
      "cell_type": "markdown",
      "metadata": {
        "id": "fcJK69j8R2GT"
      },
      "source": [
        "문제1) sorted Array에서 height balanced BST를 만들어라"
      ]
    },
    {
      "cell_type": "code",
      "metadata": {
        "id": "A3YBrBBhRzMI"
      },
      "source": [
        "from collections import deque\n",
        "\n",
        "class TreeNode:\n",
        "  def __init__(self, val):\n",
        "    self.val = val\n",
        "    self.left = None\n",
        "    self.right = None\n",
        "\n",
        "def treeLevelPrint(node):\n",
        "  if node is None:\n",
        "    return\n",
        "  q = deque()\n",
        "  q.append(node)\n",
        "  while 0<len(q):\n",
        "    level_count = len(q)\n",
        "    for _ in range(level_count):\n",
        "      crnt_node = q.popleft()\n",
        "      print(crnt_node.val, end = ' ')\n",
        "      if crnt_node.left:\n",
        "        q.append(crnt_node.left)\n",
        "      if crnt_node.right:\n",
        "        q.append(crnt_node.right)\n",
        "    print('')\n"
      ],
      "execution_count": 2,
      "outputs": []
    },
    {
      "cell_type": "code",
      "metadata": {
        "colab": {
          "base_uri": "https://localhost:8080/"
        },
        "id": "IZCv6is3R__e",
        "outputId": "0a8ab964-49be-41b4-e2fc-1499dd03cf34"
      },
      "source": [
        "from typing import List\n",
        "\n",
        "def sortedArrayToBST(nums: List[int]) -> TreeNode:\n",
        "  length = len(nums)\n",
        "  if length == 0:\n",
        "    return None\n",
        "\n",
        "  center_idx = length//2\n",
        "  left_nums = nums[0:center_idx]    #slicing, no deep copy\n",
        "  right_nums = nums[center_idx+1:length]\n",
        "\n",
        "  value = nums[center_idx]\n",
        "  node = TreeNode(value)\n",
        "\n",
        "  left = sortedArrayToBST(left_nums)\n",
        "  right = sortedArrayToBST(right_nums)\n",
        "\n",
        "  node.left = left\n",
        "  node.right = right\n",
        "\n",
        "  return node\n",
        "    \n",
        "root = sortedArrayToBST([1,2,3,4,5,6,7,8,9,10])\n",
        "treeLevelPrint(root)"
      ],
      "execution_count": 8,
      "outputs": [
        {
          "output_type": "stream",
          "text": [
            "6 \n",
            "3 9 \n",
            "2 5 8 10 \n",
            "1 4 7 \n"
          ],
          "name": "stdout"
        }
      ]
    },
    {
      "cell_type": "markdown",
      "metadata": {
        "id": "C_UY-fupZosQ"
      },
      "source": [
        "문제2, 주어진 BST의 LCA를 찾아라"
      ]
    },
    {
      "cell_type": "code",
      "metadata": {
        "colab": {
          "base_uri": "https://localhost:8080/"
        },
        "id": "B5gc3OqHZaod",
        "outputId": "03cceb44-c99a-4b25-b196-d486bc09e3d5"
      },
      "source": [
        "def LCA_BST(node: TreeNode, p: int, q: int) -> TreeNode:\n",
        "  value = node.val\n",
        "  \n",
        "  if value <p and value < q:\n",
        "    ret_node = LCA_BST(node.right,p,q)\n",
        "    return ret_node\n",
        "  \n",
        "  if p <value and q < value:\n",
        "    ret_node = LCA_BST(node.left,p,q)\n",
        "    return ret_node\n",
        "  \n",
        "  return node\n",
        "    \n",
        "\n",
        "lca_node = LCA_BST(root, 7, 10 )\n",
        "print(lca_node.val) \n",
        "    "
      ],
      "execution_count": 14,
      "outputs": [
        {
          "output_type": "stream",
          "text": [
            "9\n"
          ],
          "name": "stdout"
        }
      ]
    },
    {
      "cell_type": "code",
      "metadata": {
        "id": "5Z9KXDwmcPFy"
      },
      "source": [
        ""
      ],
      "execution_count": null,
      "outputs": []
    }
  ]
}