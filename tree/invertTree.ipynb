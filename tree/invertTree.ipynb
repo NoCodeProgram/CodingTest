{
  "nbformat": 4,
  "nbformat_minor": 0,
  "metadata": {
    "colab": {
      "name": "invertTree.ipynb",
      "provenance": [],
      "collapsed_sections": [],
      "include_colab_link": true
    },
    "kernelspec": {
      "name": "python3",
      "display_name": "Python 3"
    }
  },
  "cells": [
    {
      "cell_type": "markdown",
      "metadata": {
        "id": "view-in-github",
        "colab_type": "text"
      },
      "source": [
        "<a href=\"https://colab.research.google.com/github/NoCodeProgram/CodingTest/blob/main/tree/invertTree.ipynb\" target=\"_parent\"><img src=\"https://colab.research.google.com/assets/colab-badge.svg\" alt=\"Open In Colab\"/></a>"
      ]
    },
    {
      "cell_type": "markdown",
      "metadata": {
        "id": "V2kDpzNBp39V"
      },
      "source": [
        "Tree 를 좌우로 invert 하여라"
      ]
    },
    {
      "cell_type": "code",
      "metadata": {
        "colab": {
          "base_uri": "https://localhost:8080/"
        },
        "id": "DNfO9ilnp03i",
        "outputId": "802ead62-8549-4a76-c614-eb0915e9e2a2"
      },
      "source": [
        "class TreeNode:\n",
        "  def __init__(self, val):\n",
        "    self.val = val\n",
        "    self.left = None\n",
        "    self.right = None\n",
        "\n",
        "from collections import deque\n",
        "\n",
        "def treeLevelPrint(node):\n",
        "  if node is None:\n",
        "    return\n",
        "  q = deque()\n",
        "  q.append(node)\n",
        "  while 0<len(q):\n",
        "    level_count = len(q)\n",
        "    for _ in range(level_count):\n",
        "      crnt_node = q.popleft()\n",
        "      print(crnt_node.val, end = ' ')\n",
        "      if crnt_node.left:\n",
        "        q.append(crnt_node.left)\n",
        "      if crnt_node.right:\n",
        "        q.append(crnt_node.right)\n",
        "    print('')\n",
        "\n",
        "\n",
        "root = TreeNode(1)\n",
        "node3 = TreeNode(3)\n",
        "node5 = TreeNode(5)\n",
        "node7 = TreeNode(7)\n",
        "node2 = TreeNode(2)\n",
        "node4 = TreeNode(4)\n",
        "node6 = TreeNode(6)\n",
        "\n",
        "root.left = node3\n",
        "root.right = node5\n",
        "node3.left = node7\n",
        "node3.right = node2\n",
        "node5.left = node4\n",
        "node5.right = node6\n",
        "\n",
        "treeLevelPrint(root)"
      ],
      "execution_count": 1,
      "outputs": [
        {
          "output_type": "stream",
          "text": [
            "1 \n",
            "3 5 \n",
            "7 2 4 6 \n"
          ],
          "name": "stdout"
        }
      ]
    },
    {
      "cell_type": "code",
      "metadata": {
        "colab": {
          "base_uri": "https://localhost:8080/"
        },
        "id": "ix_4ce7eqT3x",
        "outputId": "a9a9af08-045c-4e1e-fea2-5d7ce666e8c2"
      },
      "source": [
        "def recurInvertTree(node: TreeNode) -> TreeNode:\n",
        "    if node is None:\n",
        "      return\n",
        "    \n",
        "    tmp_node = node.left\n",
        "    node.left = node.right\n",
        "    node.right = tmp_node\n",
        "    \n",
        "    recurInvertTree(node.left)\n",
        "    recurInvertTree(node.right)\n",
        "    \n",
        "    return node\n",
        "\n",
        "root = recurInvertTree(root)\n",
        "treeLevelPrint(root)"
      ],
      "execution_count": 2,
      "outputs": [
        {
          "output_type": "stream",
          "text": [
            "1 \n",
            "5 3 \n",
            "6 4 2 7 \n"
          ],
          "name": "stdout"
        }
      ]
    },
    {
      "cell_type": "code",
      "metadata": {
        "colab": {
          "base_uri": "https://localhost:8080/"
        },
        "id": "TzTAs7kCqj3d",
        "outputId": "297fec99-2ba5-41d8-8b91-e9a63a689295"
      },
      "source": [
        "  def iterInvertTree(node: TreeNode) -> TreeNode:\n",
        "    if node is None:\n",
        "      return\n",
        "    \n",
        "    stack = []\n",
        "    stack.append(node)\n",
        "    \n",
        "    while 0<len(stack):\n",
        "      crnt_node = stack.pop()\n",
        "      if crnt_node is None:\n",
        "        continue\n",
        "      tmp_node = crnt_node.left\n",
        "      crnt_node.left = crnt_node.right\n",
        "      crnt_node.right = tmp_node\n",
        "    \n",
        "      stack.append(crnt_node.right)\n",
        "      stack.append(crnt_node.left)\n",
        "      \n",
        "    \n",
        "    return root\n",
        "  \n",
        "root = iterInvertTree(root)  #re-invert to original \n",
        "treeLevelPrint(root)"
      ],
      "execution_count": 3,
      "outputs": [
        {
          "output_type": "stream",
          "text": [
            "1 \n",
            "3 5 \n",
            "7 2 4 6 \n"
          ],
          "name": "stdout"
        }
      ]
    },
    {
      "cell_type": "code",
      "metadata": {
        "id": "gMHtDYyWr9HA"
      },
      "source": [
        ""
      ],
      "execution_count": 3,
      "outputs": []
    }
  ]
}