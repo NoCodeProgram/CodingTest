{
  "nbformat": 4,
  "nbformat_minor": 0,
  "metadata": {
    "colab": {
      "name": "isBST.ipynb",
      "provenance": [],
      "authorship_tag": "ABX9TyP3mpydJrjYeJkW6XwL80FE",
      "include_colab_link": true
    },
    "kernelspec": {
      "name": "python3",
      "display_name": "Python 3"
    }
  },
  "cells": [
    {
      "cell_type": "markdown",
      "metadata": {
        "id": "view-in-github",
        "colab_type": "text"
      },
      "source": [
        "<a href=\"https://colab.research.google.com/github/NoCodeProgram/CodingTest/blob/main/tree/isBST.ipynb\" target=\"_parent\"><img src=\"https://colab.research.google.com/assets/colab-badge.svg\" alt=\"Open In Colab\"/></a>"
      ]
    },
    {
      "cell_type": "markdown",
      "metadata": {
        "id": "xCSC6FTRSrwK"
      },
      "source": [
        "주어진 Binary Tree가 BST인지 체크하여라\n"
      ]
    },
    {
      "cell_type": "code",
      "metadata": {
        "colab": {
          "base_uri": "https://localhost:8080/"
        },
        "id": "BLxZ7Uhcy3iE",
        "outputId": "38eb1c0c-ef19-4617-ed89-c10464e6f44c"
      },
      "source": [
        "from collections import deque\n",
        "\n",
        "class TreeNode:\n",
        "  def __init__(self, val):\n",
        "    self.val = val\n",
        "    self.left = None\n",
        "    self.right = None\n",
        "\n",
        "root = TreeNode(8)\n",
        "node3 = TreeNode(3)\n",
        "node10 = TreeNode(10)\n",
        "node1 = TreeNode(1)\n",
        "node6 = TreeNode(6)\n",
        "node14 = TreeNode(14)\n",
        "node4 = TreeNode(4)\n",
        "node7 = TreeNode(7)\n",
        "node13 = TreeNode(13)\n",
        "\n",
        "root.left = node3\n",
        "root.right = node10\n",
        "\n",
        "node3.left = node1\n",
        "node3.right = node6\n",
        "\n",
        "node10.right = node14\n",
        "\n",
        "node6.left = node4\n",
        "node6.right = node7\n",
        "\n",
        "def treeLevelPrint(node):\n",
        "  if node is None:\n",
        "    return\n",
        "  q = deque()\n",
        "  q.append(node)\n",
        "  while 0<len(q):\n",
        "    level_count = len(q)\n",
        "    for _ in range(level_count):\n",
        "      crnt_node = q.popleft()\n",
        "      print(crnt_node.val, end = ' ')\n",
        "      if crnt_node.left:\n",
        "        q.append(crnt_node.left)\n",
        "      if crnt_node.right:\n",
        "        q.append(crnt_node.right)\n",
        "    print('')\n",
        "\n",
        "treeLevelPrint(root)"
      ],
      "execution_count": 1,
      "outputs": [
        {
          "output_type": "stream",
          "text": [
            "8 \n",
            "3 10 \n",
            "1 6 14 \n",
            "4 7 \n"
          ],
          "name": "stdout"
        }
      ]
    },
    {
      "cell_type": "code",
      "metadata": {
        "id": "RavcoMX5y5mp"
      },
      "source": [
        "import math\n",
        "\n",
        "def isBST(root: TreeNode) -> bool:\n",
        "\n",
        "  def recurIsBST(node, min: int, max: int) -> bool:\n",
        "    if node is None:\n",
        "      return True\n",
        "\n",
        "    value = node.val\n",
        "    if value <= min:\n",
        "      return False\n",
        "\n",
        "    if max <= value:\n",
        "      return False\n",
        "\n",
        "    left_ret = recurIsBST(node.left, min, value)\n",
        "    right_ret = recurIsBST(node.right, value, max)\n",
        "\n",
        "    return left_ret and right_ret\n",
        "\n",
        "\n",
        "  ret = recurIsBST(root, -math.inf, math.inf)\n",
        "  return ret"
      ],
      "execution_count": 2,
      "outputs": []
    },
    {
      "cell_type": "code",
      "metadata": {
        "colab": {
          "base_uri": "https://localhost:8080/"
        },
        "id": "FRCXurQmzCR_",
        "outputId": "7a3f6d13-2e63-49ed-8b17-df4c1cc7029d"
      },
      "source": [
        "print(isBST(root))"
      ],
      "execution_count": 3,
      "outputs": [
        {
          "output_type": "stream",
          "text": [
            "True\n"
          ],
          "name": "stdout"
        }
      ]
    }
  ]
}