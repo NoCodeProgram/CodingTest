{
  "nbformat": 4,
  "nbformat_minor": 0,
  "metadata": {
    "colab": {
      "name": "iterativeTree.ipynb",
      "provenance": [],
      "collapsed_sections": [],
      "authorship_tag": "ABX9TyPgA98YDePufZqwXu4NRkCj",
      "include_colab_link": true
    },
    "kernelspec": {
      "name": "python3",
      "display_name": "Python 3"
    }
  },
  "cells": [
    {
      "cell_type": "markdown",
      "metadata": {
        "id": "view-in-github",
        "colab_type": "text"
      },
      "source": [
        "<a href=\"https://colab.research.google.com/github/NoCodeProgram/CodingTest/blob/main/tree/iterativeTree.ipynb\" target=\"_parent\"><img src=\"https://colab.research.google.com/assets/colab-badge.svg\" alt=\"Open In Colab\"/></a>"
      ]
    },
    {
      "cell_type": "markdown",
      "metadata": {
        "id": "hkDlvV7LVKSw"
      },
      "source": [
        "Tree를 iterative방법으로 traverse하여라\n",
        "\n",
        "\n",
        "함수 : preOrder()\\\n",
        "      inOrder()\\\n",
        "      postOrder()"
      ]
    },
    {
      "cell_type": "code",
      "metadata": {
        "id": "DHE0awGd77mi"
      },
      "source": [
        "class TreeNode:\n",
        "  def __init__(self, val):\n",
        "    self.val = val\n",
        "    self.left = None\n",
        "    self.right = None\n",
        "\n",
        "node1 = TreeNode(1)\n",
        "node2 = TreeNode(2)\n",
        "node3 = TreeNode(3)\n",
        "node4 = TreeNode(4)\n",
        "node5 = TreeNode(5)\n",
        "node6 = TreeNode(6)\n",
        "node7 = TreeNode(7)\n",
        "\n",
        "node1.left = node2\n",
        "node1.right = node3\n",
        "node2.left = node4\n",
        "node2.right = node5\n",
        "node3.left = node6\n",
        "node3.right = node7"
      ],
      "execution_count": null,
      "outputs": []
    },
    {
      "cell_type": "code",
      "metadata": {
        "colab": {
          "base_uri": "https://localhost:8080/"
        },
        "id": "ba0wNoXgapha",
        "outputId": "b1ae6af4-5fa8-47df-e5ad-0253a28ea653"
      },
      "source": [
        "def recursivePreorder(node): \n",
        "  if node is None:\n",
        "    return \n",
        "  print(node.val, end=' ')\n",
        "  recursivePreorder(node.left) \n",
        "  recursivePreorder(node.right)\n",
        "\n",
        "def iterativePreorder(node):\n",
        "  if node is None:\n",
        "    return\n",
        "  stack = []\n",
        "  stack.append(node)\n",
        "  while 0<len(stack):\n",
        "    pop_node = stack.pop()\n",
        "    print(pop_node.val, end=' ')\n",
        "    if pop_node.right:\n",
        "      stack.append(pop_node.right)\n",
        "    if pop_node.left:\n",
        "      stack.append(pop_node.left)\n",
        "\n",
        "\n",
        "recursivePreorder(node1)\n",
        "print(' ')\n",
        "iterativePreorder(node1)"
      ],
      "execution_count": null,
      "outputs": [
        {
          "output_type": "stream",
          "text": [
            "1 2 4 5 3 6 7  \n",
            "1 2 4 5 3 6 7 "
          ],
          "name": "stdout"
        }
      ]
    },
    {
      "cell_type": "code",
      "metadata": {
        "colab": {
          "base_uri": "https://localhost:8080/"
        },
        "id": "7-JBVQEHbY65",
        "outputId": "8e4c6e99-e130-4a1f-d332-1c2a9f6a2803"
      },
      "source": [
        "def recursiveInorder(node): \n",
        "  if node is None:\n",
        "    return \n",
        "  recursiveInorder(node.left) \n",
        "  print(node.val, end=' ')\n",
        "  recursiveInorder(node.right)\n",
        "\n",
        "def iterativeInorder(node):\n",
        "  crnt_node = node\n",
        "  stack = []\n",
        "  while True:\n",
        "    if crnt_node is not None:\n",
        "      stack.append(crnt_node)\n",
        "      crnt_node = crnt_node.left\n",
        "    \n",
        "    elif 0<len(stack):\n",
        "      crnt_node = stack.pop()\n",
        "      print(crnt_node.val, end=' ')\n",
        "      crnt_node = crnt_node.right\n",
        "    \n",
        "    else:\n",
        "      break;\n",
        "\n",
        "recursiveInorder(node1)\n",
        "print(' ')\n",
        "iterativeInorder(node1)"
      ],
      "execution_count": null,
      "outputs": [
        {
          "output_type": "stream",
          "text": [
            "4 2 5 1 6 3 7  \n",
            "4 2 5 1 6 3 7 "
          ],
          "name": "stdout"
        }
      ]
    },
    {
      "cell_type": "code",
      "metadata": {
        "colab": {
          "base_uri": "https://localhost:8080/"
        },
        "id": "cjnvdzEAb1Tp",
        "outputId": "3dfd7391-f737-4585-cde1-fd3629d4276a"
      },
      "source": [
        "def recursivePostorder(node): \n",
        "  if node is None:\n",
        "    return \n",
        "  recursivePostorder(node.left) \n",
        "  recursivePostorder(node.right)\n",
        "  print(node.val, end=' ')\n",
        "\n",
        "def iterativePostorder(node):\n",
        "  stack = []\n",
        "  last_visit_node = None\n",
        "  crnt_node = node\n",
        "  while True:\n",
        "    if crnt_node is not None:\n",
        "      stack.append(crnt_node)\n",
        "      crnt_node = crnt_node.left\n",
        "    \n",
        "    elif 0<len(stack):\n",
        "      peek_node = stack[-1]\n",
        "      if peek_node.right and last_visit_node != peek_node.right:\n",
        "        crnt_node = peek_node.right\n",
        "      else:\n",
        "        print(peek_node.val, end=' ')\n",
        "        last_visit_node = stack.pop()\n",
        "        \n",
        "    else:\n",
        "      break\n",
        "\n",
        "\n",
        "\n",
        "\n",
        "recursivePostorder(node1)\n",
        "print(' ')\n",
        "iterativePostorder(node1)"
      ],
      "execution_count": null,
      "outputs": [
        {
          "output_type": "stream",
          "text": [
            "4 5 2 6 7 3 1  \n",
            "4 5 2 6 7 3 1 "
          ],
          "name": "stdout"
        }
      ]
    },
    {
      "cell_type": "code",
      "metadata": {
        "id": "pMQBXG4BcKRe"
      },
      "source": [
        ""
      ],
      "execution_count": null,
      "outputs": []
    }
  ]
}