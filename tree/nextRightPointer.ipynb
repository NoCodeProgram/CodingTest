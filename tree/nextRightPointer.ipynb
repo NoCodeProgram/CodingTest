{
  "nbformat": 4,
  "nbformat_minor": 0,
  "metadata": {
    "colab": {
      "name": "nextRightPointer.ipynb",
      "provenance": [],
      "collapsed_sections": [],
      "authorship_tag": "ABX9TyNfDN7xngS/sUnUSJ8oFhof",
      "include_colab_link": true
    },
    "kernelspec": {
      "name": "python3",
      "display_name": "Python 3"
    }
  },
  "cells": [
    {
      "cell_type": "markdown",
      "metadata": {
        "id": "view-in-github",
        "colab_type": "text"
      },
      "source": [
        "<a href=\"https://colab.research.google.com/github/NoCodeProgram/CodingTest/blob/main/tree/nextRightPointer.ipynb\" target=\"_parent\"><img src=\"https://colab.research.google.com/assets/colab-badge.svg\" alt=\"Open In Colab\"/></a>"
      ]
    },
    {
      "cell_type": "markdown",
      "metadata": {
        "id": "5-0gCnx2nc3z"
      },
      "source": [
        "Level 단위로 next 포인터를 지정하여라"
      ]
    },
    {
      "cell_type": "code",
      "metadata": {
        "colab": {
          "base_uri": "https://localhost:8080/"
        },
        "id": "MnhoHYc6nKf6",
        "outputId": "401a5648-fd60-47f7-9007-52f5632f3763"
      },
      "source": [
        "from collections import deque\n",
        "\n",
        "class TreeNode:\n",
        "  def __init__(self, val):\n",
        "    self.val = val\n",
        "    self.left = None\n",
        "    self.right = None\n",
        "    self.next = None\n",
        "\n",
        "def treeLevelPrint(node):\n",
        "  if node is None:\n",
        "    return\n",
        "  q = deque()\n",
        "  q.append(node)\n",
        "  while 0<len(q):\n",
        "    level_count = len(q)\n",
        "    for _ in range(level_count):\n",
        "      crnt_node = q.popleft()\n",
        "      print(crnt_node.val, end = ' ')\n",
        "      if crnt_node.left:\n",
        "        q.append(crnt_node.left)\n",
        "      if crnt_node.right:\n",
        "        q.append(crnt_node.right)\n",
        "    print('')\n",
        "\n",
        "\n",
        "root = TreeNode(1)\n",
        "node3 = TreeNode(3)\n",
        "node5 = TreeNode(5)\n",
        "node7 = TreeNode(7)\n",
        "node9 = TreeNode(9)\n",
        "node2 = TreeNode(2)\n",
        "\n",
        "root.left = node3\n",
        "root.right = node5\n",
        "node3.left = node7\n",
        "node3.right = node9\n",
        "node5.right = node2\n",
        "\n",
        "treeLevelPrint(root)\n"
      ],
      "execution_count": 2,
      "outputs": [
        {
          "output_type": "stream",
          "text": [
            "1 \n",
            "3 5 \n",
            "7 9 2 \n"
          ],
          "name": "stdout"
        }
      ]
    },
    {
      "cell_type": "code",
      "metadata": {
        "id": "HW4r8_78njQb"
      },
      "source": [
        "class MakeNext:\n",
        "  def _connect(self, prev_node, next_node):\n",
        "    if prev_node:\n",
        "      prev_node.next = next_node     \n",
        "  \n",
        "  def connect(self, root):\n",
        "    if root is None:\n",
        "      return None    \n",
        "    level_node = root\n",
        "    \n",
        "    while level_node:\n",
        "      crnt_node = level_node\n",
        "      next_level = None\n",
        "      prev_child = None\n",
        "      \n",
        "      while crnt_node:        \n",
        "        if crnt_node.left:\n",
        "          self._connect(prev_child,crnt_node.left)          \n",
        "          prev_child = crnt_node.left\n",
        "          if next_level is None:\n",
        "            next_level = crnt_node.left\n",
        "\n",
        "        if crnt_node.right:\n",
        "          self._connect(prev_child,crnt_node.right)\n",
        "          prev_child = crnt_node.right\n",
        "          if next_level is None:\n",
        "            next_level = crnt_node.right\n",
        "        crnt_node = crnt_node.next      \n",
        "      level_node = next_level    \n",
        "    return root\n",
        "\n",
        "makeNext = MakeNext()      "
      ],
      "execution_count": 4,
      "outputs": []
    },
    {
      "cell_type": "code",
      "metadata": {
        "id": "m1a4Txhorat5"
      },
      "source": [
        "root = makeNext.connect(root)"
      ],
      "execution_count": 6,
      "outputs": []
    }
  ]
}