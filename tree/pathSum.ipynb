{
  "nbformat": 4,
  "nbformat_minor": 0,
  "metadata": {
    "colab": {
      "name": "pathSum.ipynb",
      "provenance": [],
      "authorship_tag": "ABX9TyPp0dQu+zcO5QX3q5677dhY",
      "include_colab_link": true
    },
    "kernelspec": {
      "name": "python3",
      "display_name": "Python 3"
    }
  },
  "cells": [
    {
      "cell_type": "markdown",
      "metadata": {
        "id": "view-in-github",
        "colab_type": "text"
      },
      "source": [
        "<a href=\"https://colab.research.google.com/github/NoCodeProgram/CodingTest/blob/main/tree/pathSum.ipynb\" target=\"_parent\"><img src=\"https://colab.research.google.com/assets/colab-badge.svg\" alt=\"Open In Colab\"/></a>"
      ]
    },
    {
      "cell_type": "markdown",
      "metadata": {
        "id": "qP00EZaKsxuX"
      },
      "source": [
        "\n",
        "Tree 의 root로 부터 leaf까지의 sum이 targetSum이 되는 모든 path를 찾아서 return하여라\n"
      ]
    },
    {
      "cell_type": "code",
      "metadata": {
        "colab": {
          "base_uri": "https://localhost:8080/"
        },
        "id": "CPs9SyJDySVs",
        "outputId": "3b19f485-0459-4152-983a-3be03030db92"
      },
      "source": [
        "from collections import deque\n",
        "\n",
        "class TreeNode:\n",
        "  def __init__(self, val):\n",
        "    self.val = val\n",
        "    self.left = None\n",
        "    self.right = None\n",
        "\n",
        "root = TreeNode(7)\n",
        "node2n = TreeNode(-2)\n",
        "node5 = TreeNode(5)\n",
        "node3 = TreeNode(3)\n",
        "node15 = TreeNode(15)\n",
        "node8 = TreeNode(8)\n",
        "node5n = TreeNode(-1)\n",
        "\n",
        "root.left = node2n\n",
        "root.right = node5\n",
        "node2n.left = node3\n",
        "node2n.right = node15\n",
        "node5.left = node8\n",
        "node5.right = node5n\n",
        "\n",
        "def treeLevelPrint(node):\n",
        "  if node is None:\n",
        "    return\n",
        "  q = deque()\n",
        "  q.append(node)\n",
        "  while 0<len(q):\n",
        "    level_count = len(q)\n",
        "    for _ in range(level_count):\n",
        "      crnt_node = q.popleft()\n",
        "      print(crnt_node.val, end = ' ')\n",
        "      if crnt_node.left:\n",
        "        q.append(crnt_node.left)\n",
        "      if crnt_node.right:\n",
        "        q.append(crnt_node.right)\n",
        "    print('')\n",
        "\n",
        "treeLevelPrint(root)"
      ],
      "execution_count": 9,
      "outputs": [
        {
          "output_type": "stream",
          "text": [
            "7 \n",
            "-2 5 \n",
            "3 15 8 -1 \n"
          ],
          "name": "stdout"
        }
      ]
    },
    {
      "cell_type": "code",
      "metadata": {
        "id": "Eb43Rm2YypX7"
      },
      "source": [
        "from typing import List\n",
        "\n",
        "class pathSum:\n",
        "  def getPathes(self, root: TreeNode, targetSum: int) -> List[List[int]]:\n",
        "    if root is None:\n",
        "      return []\n",
        "    \n",
        "    self._retList = []\n",
        "    self._recurPathSum(root,targetSum,[]) \n",
        "  \n",
        "    return self._retList\n",
        "  \n",
        "  def _recurPathSum(self, node:TreeNode, targetSum: int, crntList: List[int]):\n",
        "    if node.left is None and node.right is None:\n",
        "      if node.val == targetSum:\n",
        "        crntList.append(node.val)\n",
        "        self._retList.append(crntList.copy())\n",
        "        crntList.pop()\n",
        "      return\n",
        "    \n",
        "    \n",
        "    newTargetSum = targetSum - node.val\n",
        "    if node.left:\n",
        "      crntList.append(node.val)\n",
        "      self._recurPathSum(node.left,newTargetSum,crntList)\n",
        "      crntList.pop()\n",
        "    if node.right:\n",
        "      crntList.append(node.val)\n",
        "      self._recurPathSum(node.right,newTargetSum,crntList)\n",
        "      crntList.pop()    \n",
        "    return\n",
        "\n",
        "pathSum = pathSum()"
      ],
      "execution_count": 10,
      "outputs": []
    },
    {
      "cell_type": "code",
      "metadata": {
        "colab": {
          "base_uri": "https://localhost:8080/"
        },
        "id": "7kuj0C9Ayy4L",
        "outputId": "8c9bb5de-d407-4c22-c07e-4164f65e56f2"
      },
      "source": [
        "pathSum.getPathes(root,20)"
      ],
      "execution_count": 11,
      "outputs": [
        {
          "output_type": "execute_result",
          "data": {
            "text/plain": [
              "[[7, -2, 15], [7, 5, 8]]"
            ]
          },
          "metadata": {
            "tags": []
          },
          "execution_count": 11
        }
      ]
    },
    {
      "cell_type": "code",
      "metadata": {
        "id": "23_6u6GKzAvq"
      },
      "source": [
        ""
      ],
      "execution_count": null,
      "outputs": []
    }
  ]
}