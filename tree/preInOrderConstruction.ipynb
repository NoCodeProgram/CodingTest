{
  "nbformat": 4,
  "nbformat_minor": 0,
  "metadata": {
    "colab": {
      "name": "preInOrderConstruction.ipynb",
      "provenance": [],
      "collapsed_sections": [],
      "authorship_tag": "ABX9TyOZaiMCD3RcH4LytLf+Wiic",
      "include_colab_link": true
    },
    "kernelspec": {
      "name": "python3",
      "display_name": "Python 3"
    }
  },
  "cells": [
    {
      "cell_type": "markdown",
      "metadata": {
        "id": "view-in-github",
        "colab_type": "text"
      },
      "source": [
        "<a href=\"https://colab.research.google.com/github/NoCodeProgram/CodingTest/blob/main/tree/preInOrderConstruction.ipynb\" target=\"_parent\"><img src=\"https://colab.research.google.com/assets/colab-badge.svg\" alt=\"Open In Colab\"/></a>"
      ]
    },
    {
      "cell_type": "markdown",
      "metadata": {
        "id": "9lHjDmMz1Em-"
      },
      "source": [
        "문제:  preOrder list와 inOrder List가 주어졌을때 두개의 Lists를 기반으로 Tree를 구성하여라\n",
        "\n",
        "preorder = [1,3,7,5,2,4]\n",
        "inorder = [7,3,1,2,5,4]\n"
      ]
    },
    {
      "cell_type": "code",
      "metadata": {
        "id": "9o0rapiW07ey"
      },
      "source": [
        "from collections import deque\n",
        "\n",
        "class TreeNode:\n",
        "  def __init__(self, val):\n",
        "    self.val = val\n",
        "    self.left = None\n",
        "    self.right = None\n",
        "\n",
        "def treeLevelPrint(node):\n",
        "  if node is None:\n",
        "    return\n",
        "  q = deque()\n",
        "  q.append(node)\n",
        "  while 0<len(q):\n",
        "    level_count = len(q)\n",
        "    for _ in range(level_count):\n",
        "      crnt_node = q.popleft()\n",
        "      print(crnt_node.val, end = ' ')\n",
        "      if crnt_node.left:\n",
        "        q.append(crnt_node.left)\n",
        "      if crnt_node.right:\n",
        "        q.append(crnt_node.right)\n",
        "    print('')\n",
        "\n"
      ],
      "execution_count": 1,
      "outputs": []
    },
    {
      "cell_type": "code",
      "metadata": {
        "id": "EhgNcRon1Zmi"
      },
      "source": [
        "from typing import List\n",
        "\n",
        "class BuildTree:\n",
        "  def build(self, preorder: List[int], inorder: List[int]) -> TreeNode:\n",
        "    if len(preorder)== 0:\n",
        "      return None\n",
        "    \n",
        "    root = self._recurTree(preorder,inorder)\n",
        "    return root   \n",
        "    \n",
        "    \n",
        "  def _recurTree(self, preorder: List[int], inorder: List[int]) -> TreeNode:\n",
        "    if len(preorder) == 0:\n",
        "      return None\n",
        "    \n",
        "    val = preorder[0]\n",
        "    idx_center = inorder.index(val)    \n",
        "    \n",
        "    left_inorder = inorder[0:idx_center]\n",
        "    left_count = len(left_inorder)\n",
        "    left_preorder = preorder[1:left_count+1]\n",
        "    \n",
        "    right_inorder = inorder[idx_center+1:]\n",
        "    right_preorder = preorder[left_count+1:]\n",
        "    \n",
        "    crnt_node = TreeNode(val)\n",
        "    \n",
        "    left_tree = self._recurTree(left_preorder,left_inorder)\n",
        "    right_tree = self._recurTree(right_preorder,right_inorder)\n",
        "    \n",
        "    crnt_node.left = left_tree\n",
        "    crnt_node.right = right_tree   \n",
        "    \n",
        "    \n",
        "    return crnt_node\n",
        "\n",
        "buildTree = BuildTree()"
      ],
      "execution_count": 2,
      "outputs": []
    },
    {
      "cell_type": "code",
      "metadata": {
        "colab": {
          "base_uri": "https://localhost:8080/"
        },
        "id": "blgvfxmD1jRa",
        "outputId": "45ca5e70-d705-4e3c-bd92-b61044507bc8"
      },
      "source": [
        "preorder = [1,3,7,5,2,4]\n",
        "inorder = [7,3,1,2,5,4]\n",
        "\n",
        "root = buildTree.build(preorder, inorder)\n",
        "treeLevelPrint(root)"
      ],
      "execution_count": 3,
      "outputs": [
        {
          "output_type": "stream",
          "text": [
            "1 \n",
            "3 5 \n",
            "7 2 4 \n"
          ],
          "name": "stdout"
        }
      ]
    },
    {
      "cell_type": "code",
      "metadata": {
        "id": "ITTRxxyk2wAo"
      },
      "source": [
        "class BuildTreeHash:\n",
        "  def build(self, preorder: List[int], inorder: List[int]) -> TreeNode:\n",
        "    if len(preorder)== 0:\n",
        "      return None\n",
        "    self._inorder = inorder\n",
        "    self._preorder = preorder\n",
        "    self._inorder_map = {}\n",
        "    for idx, val in enumerate(inorder):\n",
        "      self._inorder_map[val] = idx\n",
        "    self._preorderIdx = 0\n",
        "    \n",
        "    tree = self._recurTree(0,len(preorder)-1)\n",
        "    return tree\n",
        "    \n",
        "    \n",
        "    \n",
        "  def _recurTree(self, leftIdx:int, rightIdx:int) -> TreeNode:\n",
        "\n",
        "    if leftIdx > rightIdx:\n",
        "      return None\n",
        "    \n",
        "    val = self._preorder[self._preorderIdx]\n",
        "    self._preorderIdx = self._preorderIdx+1\n",
        "    idx_center = self._inorder_map[val]\n",
        "   \n",
        "    \n",
        "    crnt_node = TreeNode(val) \n",
        "    left_tree = self._recurTree(leftIdx,idx_center-1)\n",
        "    right_tree = self._recurTree(idx_center+1,rightIdx)\n",
        "    crnt_node.left = left_tree\n",
        "    crnt_node.right = right_tree   \n",
        "    \n",
        "    \n",
        "    return crnt_node\n",
        "  \n"
      ],
      "execution_count": 4,
      "outputs": []
    },
    {
      "cell_type": "code",
      "metadata": {
        "colab": {
          "base_uri": "https://localhost:8080/"
        },
        "id": "RclWhpH-dUSx",
        "outputId": "b5acb90d-ff48-44fd-8e2e-e59f09c04dc7"
      },
      "source": [
        "buildTreeHash = BuildTreeHash()\n",
        "preorder = [1,3,7,5,2,4]\n",
        "inorder = [7,3,1,2,5,4]\n",
        "\n",
        "root = buildTreeHash.build(preorder, inorder)\n",
        "treeLevelPrint(root)"
      ],
      "execution_count": 5,
      "outputs": [
        {
          "output_type": "stream",
          "text": [
            "1 \n",
            "3 5 \n",
            "7 2 4 \n"
          ],
          "name": "stdout"
        }
      ]
    },
    {
      "cell_type": "code",
      "metadata": {
        "id": "oM8qiIZcdYpl"
      },
      "source": [
        ""
      ],
      "execution_count": 5,
      "outputs": []
    }
  ]
}