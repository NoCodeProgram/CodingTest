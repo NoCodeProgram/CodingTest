{
  "nbformat": 4,
  "nbformat_minor": 0,
  "metadata": {
    "colab": {
      "name": "symmetricTree.ipynb",
      "provenance": [],
      "authorship_tag": "ABX9TyOS+XdmnyO5YaAOq6swCX8b",
      "include_colab_link": true
    },
    "kernelspec": {
      "name": "python3",
      "display_name": "Python 3"
    }
  },
  "cells": [
    {
      "cell_type": "markdown",
      "metadata": {
        "id": "view-in-github",
        "colab_type": "text"
      },
      "source": [
        "<a href=\"https://colab.research.google.com/github/NoCodeProgram/CodingTest/blob/main/tree/symmetricTree.ipynb\" target=\"_parent\"><img src=\"https://colab.research.google.com/assets/colab-badge.svg\" alt=\"Open In Colab\"/></a>"
      ]
    },
    {
      "cell_type": "markdown",
      "metadata": {
        "id": "KA36nh6ffl17"
      },
      "source": [
        "문제 : 주어진 Tree가 symmetric한지 판별하여라\n"
      ]
    },
    {
      "cell_type": "code",
      "metadata": {
        "colab": {
          "base_uri": "https://localhost:8080/"
        },
        "id": "V7vRDA2xkzr7",
        "outputId": "92ea2aa5-3c92-4107-c0d2-9ad6b5f97a25"
      },
      "source": [
        "class TreeNode:\n",
        "  def __init__(self, val):\n",
        "    self.val = val\n",
        "    self.left = None\n",
        "    self.right = None\n",
        "\n",
        "from collections import deque\n",
        "\n",
        "def treeLevelPrint(node):\n",
        "  if node is None:\n",
        "    return\n",
        "  q = deque()\n",
        "  q.append(node)\n",
        "  while 0<len(q):\n",
        "    level_count = len(q)\n",
        "    for _ in range(level_count):\n",
        "      crnt_node = q.popleft()\n",
        "      print(crnt_node.val, end = ' ')\n",
        "      if crnt_node.left:\n",
        "        q.append(crnt_node.left)\n",
        "      if crnt_node.right:\n",
        "        q.append(crnt_node.right)\n",
        "    print('')\n",
        "\n",
        "\n",
        "root = TreeNode(1)\n",
        "node2l = TreeNode(2)\n",
        "node2r = TreeNode(2)\n",
        "node3l = TreeNode(3)\n",
        "node3o = TreeNode(3)\n",
        "node4l = TreeNode(4)\n",
        "node4o = TreeNode(4)\n",
        "\n",
        "root.left = node2l\n",
        "root.right = node2r\n",
        "node2l.left = node3l\n",
        "node2l.right = node4l\n",
        "node2r.left = node4o\n",
        "node2r.right = node3o\n",
        "\n",
        "treeLevelPrint(root)"
      ],
      "execution_count": 1,
      "outputs": [
        {
          "output_type": "stream",
          "text": [
            "1 \n",
            "2 2 \n",
            "3 4 4 3 \n"
          ],
          "name": "stdout"
        }
      ]
    },
    {
      "cell_type": "code",
      "metadata": {
        "id": "qbvxGZ1ifgv-"
      },
      "source": [
        "class IsSymmetricTree:\n",
        "\n",
        "  def iterativeWay(self, root: TreeNode) -> bool:\n",
        "    if root is None:\n",
        "      return false\n",
        "    \n",
        "\n",
        "    stack = []\n",
        "    mirror_stack = []\n",
        "    stack.append(root.left)\n",
        "    mirror_stack.append(root.right)\n",
        "    \n",
        "    while 0<len(stack):\n",
        "      crnt_node = stack.pop()\n",
        "      mirror_node = mirror_stack.pop()\n",
        "      \n",
        "      if crnt_node is None and mirror_node is None:\n",
        "        continue\n",
        "        \n",
        "      elif crnt_node and mirror_node:\n",
        "        if crnt_node.val != mirror_node.val:\n",
        "          return False\n",
        "\n",
        "        stack.append(crnt_node.left)\n",
        "        mirror_stack.append(mirror_node.right)\n",
        "\n",
        "        stack.append(crnt_node.right)\n",
        "        mirror_stack.append(mirror_node.left)\n",
        "        continue\n",
        "      else:\n",
        "        return False\n",
        "      \n",
        "    return True\n",
        "      \n",
        "    \n",
        "\n",
        "\n",
        "\n",
        "  def recursiveWay(self, root: TreeNode) -> bool:\n",
        "    if root is None:\n",
        "      return false\n",
        "    \n",
        "    return self._recurSymmetric(root.left,root.right)  \n",
        "  \n",
        "  def _recurSymmetric(self,node1: TreeNode,node2: TreeNode) -> bool:    \n",
        "    if node1 is None and node2 is None:\n",
        "      return True\n",
        "    \n",
        "    elif node1 and node2:      \n",
        "      if node1.val != node2.val:\n",
        "        return False\n",
        "      ret1 = self._recurSymmetric(node1.left, node2.right)\n",
        "      ret2 = self._recurSymmetric(node2.left, node1.right)\n",
        "      ret = ret1 and ret2\n",
        "      return ret\n",
        "    \n",
        "    return False\n",
        "    \n",
        "isSymmetric = IsSymmetricTree()"
      ],
      "execution_count": 2,
      "outputs": []
    },
    {
      "cell_type": "code",
      "metadata": {
        "colab": {
          "base_uri": "https://localhost:8080/"
        },
        "id": "zwFf1IZsmb5i",
        "outputId": "a0b21218-a473-4034-8fc6-56a5a1710169"
      },
      "source": [
        "print(isSymmetric.iterativeWay(root))\n",
        "print(isSymmetric.recursiveWay(root))"
      ],
      "execution_count": 3,
      "outputs": [
        {
          "output_type": "stream",
          "text": [
            "True\n",
            "True\n"
          ],
          "name": "stdout"
        }
      ]
    },
    {
      "cell_type": "code",
      "metadata": {
        "id": "39g8isTgmqzM"
      },
      "source": [
        ""
      ],
      "execution_count": 3,
      "outputs": []
    }
  ]
}