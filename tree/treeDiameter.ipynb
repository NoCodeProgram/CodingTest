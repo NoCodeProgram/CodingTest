{
  "nbformat": 4,
  "nbformat_minor": 0,
  "metadata": {
    "colab": {
      "name": "treeDiameter.ipynb",
      "provenance": [],
      "authorship_tag": "ABX9TyMCEttsOjzhOxj6eaVrv8il",
      "include_colab_link": true
    },
    "kernelspec": {
      "name": "python3",
      "display_name": "Python 3"
    }
  },
  "cells": [
    {
      "cell_type": "markdown",
      "metadata": {
        "id": "view-in-github",
        "colab_type": "text"
      },
      "source": [
        "<a href=\"https://colab.research.google.com/github/NoCodeProgram/CodingTest/blob/main/tree/treeDiameter.ipynb\" target=\"_parent\"><img src=\"https://colab.research.google.com/assets/colab-badge.svg\" alt=\"Open In Colab\"/></a>"
      ]
    },
    {
      "cell_type": "markdown",
      "metadata": {
        "id": "Lh-qDwYCOaxs"
      },
      "source": [
        "주어진 tree의 Diameter를 구하여라\n"
      ]
    },
    {
      "cell_type": "code",
      "metadata": {
        "colab": {
          "base_uri": "https://localhost:8080/"
        },
        "id": "jVM4mGRnOW1-",
        "outputId": "f7d05b4c-49e0-47de-f52f-7b1ee3098567"
      },
      "source": [
        "from collections import deque\n",
        "\n",
        "class TreeNode:\n",
        "  def __init__(self, val):\n",
        "    self.val = val\n",
        "    self.left = None\n",
        "    self.right = None\n",
        "\n",
        "root = TreeNode(1)\n",
        "node2 = TreeNode(2)\n",
        "node3 = TreeNode(3)\n",
        "node4 = TreeNode(4)\n",
        "node5 = TreeNode(5)\n",
        "node6 = TreeNode(6)\n",
        "node7 = TreeNode(7)\n",
        "node8 = TreeNode(8)\n",
        "node9 = TreeNode(9)\n",
        "\n",
        "root.left = node2\n",
        "root.right = node3\n",
        "node2.left = node4\n",
        "node2.right = node5\n",
        "node4.right = node6\n",
        "node6.left = node8\n",
        "node5.right = node7\n",
        "node7.right = node9\n",
        "\n",
        "def treeLevelPrint(node):\n",
        "  if node is None:\n",
        "    return\n",
        "  q = deque()\n",
        "  q.append(node)\n",
        "  while 0<len(q):\n",
        "    level_count = len(q)\n",
        "    for _ in range(level_count):\n",
        "      crnt_node = q.popleft()\n",
        "      print(crnt_node.val, end = ' ')\n",
        "      if crnt_node.left:\n",
        "        q.append(crnt_node.left)\n",
        "      if crnt_node.right:\n",
        "        q.append(crnt_node.right)\n",
        "    print('')\n",
        "\n",
        "treeLevelPrint(root)"
      ],
      "execution_count": 1,
      "outputs": [
        {
          "output_type": "stream",
          "text": [
            "1 \n",
            "2 3 \n",
            "4 5 \n",
            "6 7 \n",
            "8 9 \n"
          ],
          "name": "stdout"
        }
      ]
    },
    {
      "cell_type": "code",
      "metadata": {
        "id": "PXpMuz_RO7nd"
      },
      "source": [
        "from typing import List\n",
        "\n",
        "class TreeDiameter:\n",
        "  def solution(self, root: TreeNode) -> int:\n",
        "    if root is None:\n",
        "      return 0\n",
        "    \n",
        "    self._diameter = 0    \n",
        "    self._recursiveDepth(root)\n",
        "    \n",
        "    return self._diameter\n",
        "  \n",
        "  def _recursiveDepth(self, node: TreeNode) -> int:   \n",
        "    \n",
        "    left_depth = 0\n",
        "    right_depth = 0\n",
        "    if node.left:\n",
        "      left_depth = self._recursiveDepth(node.left)\n",
        "    if node.right:\n",
        "      right_depth = self._recursiveDepth(node.right)\n",
        "    \n",
        "    node_diameter = left_depth+right_depth\n",
        "    self._diameter = max(self._diameter,node_diameter)\n",
        "    \n",
        "    node_depth = max(left_depth,right_depth)\n",
        "    return node_depth+1\n",
        "    \n",
        "td = TreeDiameter()"
      ],
      "execution_count": 4,
      "outputs": []
    },
    {
      "cell_type": "code",
      "metadata": {
        "colab": {
          "base_uri": "https://localhost:8080/"
        },
        "id": "mfGvJl60POgp",
        "outputId": "c6867bcb-8b01-45e1-a716-083dbdef1ce9"
      },
      "source": [
        "td.solution(root)"
      ],
      "execution_count": 5,
      "outputs": [
        {
          "output_type": "execute_result",
          "data": {
            "text/plain": [
              "6"
            ]
          },
          "metadata": {
            "tags": []
          },
          "execution_count": 5
        }
      ]
    },
    {
      "cell_type": "code",
      "metadata": {
        "id": "-nrHn4gqPUhs"
      },
      "source": [
        ""
      ],
      "execution_count": null,
      "outputs": []
    }
  ]
}