{
  "nbformat": 4,
  "nbformat_minor": 0,
  "metadata": {
    "colab": {
      "name": "treeIntro.ipynb",
      "provenance": [],
      "collapsed_sections": [],
      "authorship_tag": "ABX9TyMPRocMDJ53nx+qHZDMZjTZ",
      "include_colab_link": true
    },
    "kernelspec": {
      "name": "python3",
      "display_name": "Python 3"
    }
  },
  "cells": [
    {
      "cell_type": "markdown",
      "metadata": {
        "id": "view-in-github",
        "colab_type": "text"
      },
      "source": [
        "<a href=\"https://colab.research.google.com/github/NoCodeProgram/CodingTest/blob/main/tree/treeIntro.ipynb\" target=\"_parent\"><img src=\"https://colab.research.google.com/assets/colab-badge.svg\" alt=\"Open In Colab\"/></a>"
      ]
    },
    {
      "cell_type": "markdown",
      "metadata": {
        "id": "hkDlvV7LVKSw"
      },
      "source": [
        "Tree를 recursive방법으로 traverse하여라\n",
        "\n",
        "\n",
        "함수 : preOrder()\\\n",
        "      inOrder()\\\n",
        "      postOrder()"
      ]
    },
    {
      "cell_type": "code",
      "metadata": {
        "id": "7yGWvP1kQ_9l"
      },
      "source": [
        "class TreeNode:\n",
        "  def __init__(self, val=0):\n",
        "    self.val = val\n",
        "    self.left = None\n",
        "    self.right = None\n",
        "\n",
        "node1 = TreeNode(1)\n",
        "node2 = TreeNode(2)\n",
        "node3 = TreeNode(3)\n",
        "node4 = TreeNode(4)\n",
        "node5 = TreeNode(5)\n",
        "node6 = TreeNode(6)\n",
        "node7 = TreeNode(7)\n",
        "\n",
        "node1.left = node2\n",
        "node1.right = node3\n",
        "node2.left = node4\n",
        "node2.right = node5\n",
        "node3.left = node6\n",
        "node3.right = node7"
      ],
      "execution_count": 1,
      "outputs": []
    },
    {
      "cell_type": "code",
      "metadata": {
        "id": "Jiv_4jy2RElQ",
        "colab": {
          "base_uri": "https://localhost:8080/"
        },
        "outputId": "eb976e1e-25c2-4d8b-8c05-9ae5ae2b09e1"
      },
      "source": [
        "def recursivePreorder(node): \n",
        "  if node is None:\n",
        "    return \n",
        "  print(node.val, end=' ')\n",
        "  recursivePreorder(node.left) \n",
        "  recursivePreorder(node.right) \n",
        "\n",
        "recursivePreorder(node1)\n"
      ],
      "execution_count": 2,
      "outputs": [
        {
          "output_type": "stream",
          "text": [
            "1 2 4 5 3 6 7 "
          ],
          "name": "stdout"
        }
      ]
    },
    {
      "cell_type": "code",
      "metadata": {
        "colab": {
          "base_uri": "https://localhost:8080/"
        },
        "id": "qwYUjTwiUvRu",
        "outputId": "4f16a411-cac5-42b4-a22d-1c61229e891e"
      },
      "source": [
        "def recursiveInorder(node): \n",
        "  if node is None:\n",
        "    return \n",
        "  recursiveInorder(node.left) \n",
        "  print(node.val, end=' ')\n",
        "  recursiveInorder(node.right) \n",
        "\n",
        "recursiveInorder(node1)\n"
      ],
      "execution_count": 3,
      "outputs": [
        {
          "output_type": "stream",
          "text": [
            "4 2 5 1 6 3 7 "
          ],
          "name": "stdout"
        }
      ]
    },
    {
      "cell_type": "code",
      "metadata": {
        "colab": {
          "base_uri": "https://localhost:8080/"
        },
        "id": "Ijsto8irVEID",
        "outputId": "a4910aa7-3b51-421a-b3e2-2fe6d13bc9fa"
      },
      "source": [
        "def recursivePostorder(node): \n",
        "  if node is None:\n",
        "    return \n",
        "  recursivePostorder(node.left) \n",
        "  recursivePostorder(node.right)\n",
        "  print(node.val, end=' ')\n",
        "\n",
        "recursivePostorder(node1)"
      ],
      "execution_count": 4,
      "outputs": [
        {
          "output_type": "stream",
          "text": [
            "4 5 2 6 7 3 1 "
          ],
          "name": "stdout"
        }
      ]
    },
    {
      "cell_type": "code",
      "metadata": {
        "id": "DHE0awGd77mi"
      },
      "source": [
        ""
      ],
      "execution_count": 4,
      "outputs": []
    }
  ]
}