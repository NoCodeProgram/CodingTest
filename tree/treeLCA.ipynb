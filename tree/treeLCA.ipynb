{
  "nbformat": 4,
  "nbformat_minor": 0,
  "metadata": {
    "colab": {
      "name": "treeLCA.ipynb",
      "provenance": [],
      "include_colab_link": true
    },
    "kernelspec": {
      "name": "python3",
      "display_name": "Python 3"
    }
  },
  "cells": [
    {
      "cell_type": "markdown",
      "metadata": {
        "id": "view-in-github",
        "colab_type": "text"
      },
      "source": [
        "<a href=\"https://colab.research.google.com/github/NoCodeProgram/CodingTest/blob/main/tree/treeLCA.ipynb\" target=\"_parent\"><img src=\"https://colab.research.google.com/assets/colab-badge.svg\" alt=\"Open In Colab\"/></a>"
      ]
    },
    {
      "cell_type": "markdown",
      "metadata": {
        "id": "LyjNX11fO0On"
      },
      "source": [
        "주어진 tree의 Lowest Common Ancester를 찾아라\n"
      ]
    },
    {
      "cell_type": "code",
      "metadata": {
        "colab": {
          "base_uri": "https://localhost:8080/"
        },
        "id": "Q5_ANkW4OyZL",
        "outputId": "11da1a94-729b-4087-95c9-6ff67da659ba"
      },
      "source": [
        "from collections import deque\n",
        "\n",
        "class TreeNode:\n",
        "  def __init__(self, val):\n",
        "    self.val = val\n",
        "    self.left = None\n",
        "    self.right = None\n",
        "\n",
        "root = TreeNode(1)\n",
        "node2 = TreeNode(2)\n",
        "node3 = TreeNode(3)\n",
        "node4 = TreeNode(4)\n",
        "node5 = TreeNode(5)\n",
        "node6 = TreeNode(6)\n",
        "node7 = TreeNode(7)\n",
        "\n",
        "root.left = node2\n",
        "root.right = node3\n",
        "node2.left = node4\n",
        "node2.right = node5\n",
        "node5.left = node6\n",
        "node5.right = node7\n",
        "\n",
        "\n",
        "def treeLevelPrint(node):\n",
        "  if node is None:\n",
        "    return\n",
        "  q = deque()\n",
        "  q.append(node)\n",
        "  while 0<len(q):\n",
        "    level_count = len(q)\n",
        "    for _ in range(level_count):\n",
        "      crnt_node = q.popleft()\n",
        "      print(crnt_node.val, end = ' ')\n",
        "      if crnt_node.left:\n",
        "        q.append(crnt_node.left)\n",
        "      if crnt_node.right:\n",
        "        q.append(crnt_node.right)\n",
        "    print('')\n",
        "\n",
        "treeLevelPrint(root)"
      ],
      "execution_count": null,
      "outputs": [
        {
          "output_type": "stream",
          "text": [
            "1 \n",
            "2 3 \n",
            "4 5 \n",
            "6 7 \n"
          ],
          "name": "stdout"
        }
      ]
    },
    {
      "cell_type": "code",
      "metadata": {
        "id": "XI5qToJPO7HY"
      },
      "source": [
        "class LCA:\n",
        "  def find(self, node: TreeNode, p: TreeNode, q: TreeNode) -> TreeNode:\n",
        "    if node is None:\n",
        "      return None\n",
        "    \n",
        "    self._p = p\n",
        "    self._q = q\n",
        "    \n",
        "    self._found = None\n",
        "    self._recurFind(node)\n",
        "    \n",
        "    return self._found\n",
        "    \n",
        "  def _recurFind(self, node):\n",
        "    found = 0        #default False\n",
        "    left_found = 0   #default False\n",
        "    right_found = 0  #default False\n",
        "    \n",
        "    if node == self._p:\n",
        "      found = 1    \n",
        "    if node == self._q:\n",
        "      found = 1\n",
        "      \n",
        "    \n",
        "    if node.left:\n",
        "      left_found = self._recurFind(node.left)    \n",
        "    if node.right:\n",
        "      right_found = self._recurFind(node.right)\n",
        "      \n",
        "    found_count = found+left_found+right_found\n",
        "    if found_count == 2:  #When two of three cases are True\n",
        "      self._found = node\n",
        "    \n",
        "    if 0<found_count:\n",
        "      return 1\n",
        "    else:\n",
        "      return 0\n",
        "  \n",
        "lca = LCA()"
      ],
      "execution_count": null,
      "outputs": []
    },
    {
      "cell_type": "code",
      "metadata": {
        "colab": {
          "base_uri": "https://localhost:8080/"
        },
        "id": "hqyKVjTvPGWd",
        "outputId": "99ca9480-de48-49b5-f84b-6de9f11ddae7"
      },
      "source": [
        "lca_node = lca.find(root,node4,node6)\n",
        "print(lca_node.val)"
      ],
      "execution_count": null,
      "outputs": [
        {
          "output_type": "stream",
          "text": [
            "2\n"
          ],
          "name": "stdout"
        }
      ]
    },
    {
      "cell_type": "code",
      "metadata": {
        "id": "Kx1TPqxKPOif"
      },
      "source": [
        ""
      ],
      "execution_count": null,
      "outputs": []
    }
  ]
}