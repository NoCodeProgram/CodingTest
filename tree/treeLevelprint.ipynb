{
  "nbformat": 4,
  "nbformat_minor": 0,
  "metadata": {
    "colab": {
      "name": "treeLevelprint.ipynb",
      "provenance": [],
      "collapsed_sections": [],
      "authorship_tag": "ABX9TyO+BBJ4WWS9c6d7Z6snx3De",
      "include_colab_link": true
    },
    "kernelspec": {
      "name": "python3",
      "display_name": "Python 3"
    }
  },
  "cells": [
    {
      "cell_type": "markdown",
      "metadata": {
        "id": "view-in-github",
        "colab_type": "text"
      },
      "source": [
        "<a href=\"https://colab.research.google.com/github/NoCodeProgram/CodingTest/blob/main/tree/treeLevelprint.ipynb\" target=\"_parent\"><img src=\"https://colab.research.google.com/assets/colab-badge.svg\" alt=\"Open In Colab\"/></a>"
      ]
    },
    {
      "cell_type": "markdown",
      "metadata": {
        "id": "FazAww0yATfu"
      },
      "source": [
        "Tree level 순서로 print 하여라"
      ]
    },
    {
      "cell_type": "code",
      "metadata": {
        "id": "OSJ87jqLASZL"
      },
      "source": [
        "class TreeNode:\n",
        "  def __init__(self, val):\n",
        "    self.val = val\n",
        "    self.left = None\n",
        "    self.right = None\n",
        "\n",
        "node1 = TreeNode(1)\n",
        "node2 = TreeNode(2)\n",
        "node3 = TreeNode(3)\n",
        "node4 = TreeNode(4)\n",
        "node5 = TreeNode(5)\n",
        "node6 = TreeNode(6)\n",
        "node7 = TreeNode(7)\n",
        "\n",
        "node1.left = node2\n",
        "node1.right = node3\n",
        "node2.left = node4\n",
        "node2.right = node5\n",
        "node3.left = node6\n",
        "node3.right = node7"
      ],
      "execution_count": null,
      "outputs": []
    },
    {
      "cell_type": "code",
      "metadata": {
        "colab": {
          "base_uri": "https://localhost:8080/"
        },
        "id": "6bsvvgI4AXzk",
        "outputId": "b60bedaf-2539-4c47-ccce-1fb24a3c8a7d"
      },
      "source": [
        "from collections import deque\n",
        "\n",
        "def treeLevelPrint(node):\n",
        "  if node is None:\n",
        "    return\n",
        "  q = deque()\n",
        "  q.append(node)\n",
        "  while 0<len(q):\n",
        "    crnt_node = q.popleft()\n",
        "    print(crnt_node.val, end = ' ')\n",
        "    if crnt_node.left:\n",
        "      q.append(crnt_node.left)\n",
        "    if crnt_node.right:\n",
        "      q.append(crnt_node.right)\n",
        "    \n",
        "\n",
        "treeLevelPrint(node1)\n"
      ],
      "execution_count": null,
      "outputs": [
        {
          "output_type": "stream",
          "text": [
            "1 2 3 4 5 6 7 "
          ],
          "name": "stdout"
        }
      ]
    },
    {
      "cell_type": "code",
      "metadata": {
        "colab": {
          "base_uri": "https://localhost:8080/"
        },
        "id": "6jEGf0CYDztQ",
        "outputId": "93d2a42e-bea8-4e50-89dc-b4d5cd961e98"
      },
      "source": [
        "def treeLevelPrint2(node):\n",
        "  if node is None:\n",
        "    return\n",
        "  q = deque()\n",
        "  q.append(node)\n",
        "  while 0<len(q):\n",
        "    level_count = len(q)\n",
        "    for _ in range(level_count):\n",
        "      crnt_node = q.popleft()\n",
        "      print(crnt_node.val, end = ' ')\n",
        "      if crnt_node.left:\n",
        "        q.append(crnt_node.left)\n",
        "      if crnt_node.right:\n",
        "        q.append(crnt_node.right)\n",
        "    print('')\n",
        "treeLevelPrint2(node1)"
      ],
      "execution_count": null,
      "outputs": [
        {
          "output_type": "stream",
          "text": [
            "1 \n",
            "2 3 \n",
            "4 5 6 7 \n"
          ],
          "name": "stdout"
        }
      ]
    },
    {
      "cell_type": "code",
      "metadata": {
        "id": "Uq3nH03TXhbA"
      },
      "source": [
        ""
      ],
      "execution_count": null,
      "outputs": []
    }
  ]
}