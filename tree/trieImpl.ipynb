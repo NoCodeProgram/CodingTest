{
  "nbformat": 4,
  "nbformat_minor": 0,
  "metadata": {
    "colab": {
      "name": "trieImpl.ipynb",
      "provenance": [],
      "authorship_tag": "ABX9TyOKVafcTprrsYDXE4cQMfH+",
      "include_colab_link": true
    },
    "kernelspec": {
      "name": "python3",
      "display_name": "Python 3"
    },
    "language_info": {
      "name": "python"
    }
  },
  "cells": [
    {
      "cell_type": "markdown",
      "metadata": {
        "id": "view-in-github",
        "colab_type": "text"
      },
      "source": [
        "<a href=\"https://colab.research.google.com/github/NoCodeProgram/CodingTest/blob/main/tree/trieImpl.ipynb\" target=\"_parent\"><img src=\"https://colab.research.google.com/assets/colab-badge.svg\" alt=\"Open In Colab\"/></a>"
      ]
    },
    {
      "cell_type": "markdown",
      "metadata": {
        "id": "CiwQq7tBRpJF"
      },
      "source": [
        "Trie를 구현하여라\n",
        "\n",
        "*   add( word: string)\n",
        "*   search( word: string) -> bool :\n",
        "\n",
        "단어가 존재하면 True, 없으면  False를 Return하여라. 여기서 word안의 . 은 모든 letter와 대응 된다.\n",
        "\n",
        "\n"
      ]
    },
    {
      "cell_type": "code",
      "metadata": {
        "id": "cfymu9jfRhOZ"
      },
      "source": [
        "class TrieNode:\n",
        "  def __init__(self):\n",
        "    self.isEnd = False\n",
        "    self.links = {}"
      ],
      "execution_count": 1,
      "outputs": []
    },
    {
      "cell_type": "code",
      "metadata": {
        "id": "_gxTPzyLSard"
      },
      "source": [
        "class Trie:\n",
        "  def __init__(self):\n",
        "    self._root = TrieNode()   \n",
        "    \n",
        "  def _recurAdd(self,node:TrieNode, word:str) -> None:\n",
        "    if len(word) == 0:\n",
        "      node.isEnd = True\n",
        "      return\n",
        "    \n",
        "    ch = word[0]\n",
        "    next_link = node.links.get(ch)\n",
        "    if next_link is None:      \n",
        "      node.links[ch] = TrieNode()\n",
        "      next_link = node.links[ch]\n",
        "    self._recurAdd(next_link,word[1:])\n",
        "    \n",
        "\n",
        "  def add(self, word: str) -> None:\n",
        "    if len(word) == 0:\n",
        "      return\n",
        "    \n",
        "    self._recurAdd(self._root,word)\n",
        "    \n",
        "    \n",
        "  def _recurSearch(self, node:TrieNode, word: str) -> bool:    \n",
        "    if len(word) == 0:\n",
        "      isEnd = node.isEnd\n",
        "      return isEnd\n",
        "    \n",
        "    ch = word[0]\n",
        "    if ch == '.':\n",
        "      letters = node.links.keys()\n",
        "      for key in letters:\n",
        "        ret = self._recurSearch(node.links[key],word[1:])\n",
        "        if ret is True:\n",
        "          return True\n",
        "      return False       \n",
        "      \n",
        "    else:\n",
        "      next_link = node.links.get(ch)\n",
        "      if next_link:\n",
        "        return self._recurSearch(next_link,word[1:])\n",
        "      return False\n",
        "\n",
        "\n",
        "  def search(self, word: str) -> bool:\n",
        "    if len(word) == 0:\n",
        "      return True\n",
        "    \n",
        "    return self._recurSearch(self._root,word)\n"
      ],
      "execution_count": 2,
      "outputs": []
    },
    {
      "cell_type": "code",
      "metadata": {
        "colab": {
          "base_uri": "https://localhost:8080/"
        },
        "id": "G32trlWuSqWf",
        "outputId": "efe07b3c-819a-49e5-cacd-280cd0c79c4b"
      },
      "source": [
        "trie = Trie()\n",
        "trie.add('baby')\n",
        "trie.add('ball')\n",
        "trie.add('tree')\n",
        "trie.add('trie')\n",
        "\n",
        "print('baby',trie.search('baby'))\n",
        "print('ba..',trie.search('ba..'))\n",
        "print('.ree',trie.search('.ree'))\n",
        "print('nocope',trie.search('nocope'))"
      ],
      "execution_count": 3,
      "outputs": [
        {
          "output_type": "stream",
          "text": [
            "baby True\n",
            "ba.. True\n",
            ".ree True\n",
            "nocope False\n"
          ],
          "name": "stdout"
        }
      ]
    },
    {
      "cell_type": "code",
      "metadata": {
        "id": "ubmbNGOqYW5N"
      },
      "source": [
        ""
      ],
      "execution_count": 3,
      "outputs": []
    }
  ]
}