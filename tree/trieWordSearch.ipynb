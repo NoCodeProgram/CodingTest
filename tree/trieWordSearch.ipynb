{
  "nbformat": 4,
  "nbformat_minor": 0,
  "metadata": {
    "colab": {
      "name": "trieWordSearch.ipynb",
      "provenance": [],
      "collapsed_sections": [],
      "authorship_tag": "ABX9TyOuYZaTGAR9mQkRy9og4VQJ",
      "include_colab_link": true
    },
    "kernelspec": {
      "name": "python3",
      "display_name": "Python 3"
    },
    "language_info": {
      "name": "python"
    }
  },
  "cells": [
    {
      "cell_type": "markdown",
      "metadata": {
        "id": "view-in-github",
        "colab_type": "text"
      },
      "source": [
        "<a href=\"https://colab.research.google.com/github/NoCodeProgram/CodingTest/blob/main/tree/trieWordSearch.ipynb\" target=\"_parent\"><img src=\"https://colab.research.google.com/assets/colab-badge.svg\" alt=\"Open In Colab\"/></a>"
      ]
    },
    {
      "cell_type": "markdown",
      "metadata": {
        "id": "jj1PN-uIeI8T"
      },
      "source": [
        "\n",
        "Title : Word Search\n",
        "\n",
        "Chapter : Tree\n",
        "\n",
        "Link :\n",
        "\n",
        "ChapterLink :\n",
        "\n",
        "문제 : 주어진 words를 alphabet Matrix에서 찾아라\n",
        "\n",
        "예제: word = [baby, ball, tree, trie]\n",
        "\n",
        "[y a l c]\\\n",
        "[b a l a]\\\n",
        "[d b d a]\\\n",
        "[a b c b]\n",
        "\n",
        "답 : [baby, ball]"
      ]
    },
    {
      "cell_type": "code",
      "metadata": {
        "id": "XpyL0f4jeDSY"
      },
      "source": [
        "from typing import List\n",
        "\n",
        "\n",
        "class TrieNode:\n",
        "  def __init__(self):\n",
        "    self.word = None    #store the word when word end node\n",
        "    self.links = {}     #Trie hash link \n",
        "    \n",
        "class WordSearch:\n",
        "  def __init__(self):\n",
        "    self._root = TrieNode()\n",
        "    \n",
        "  def findWords(self, board: List[List[str]], words: List[str]) -> List[str]:    \n",
        "    self._words = []\n",
        "    \n",
        "    rows = len(board)\n",
        "    if rows == 0:\n",
        "      return []    \n",
        "    cols = len(board[0])\n",
        "    if cols == 0:\n",
        "      return []\n",
        "        \n",
        "    for word in words:\n",
        "      self._addWord(self._root, word, word)\n",
        "          \n",
        "    self._board = board\n",
        "    for y in range(rows):\n",
        "      for x in range(cols):\n",
        "        idx_char = self._board[y][x]      \n",
        "        next_node = self._root.links.get(idx_char)\n",
        "        if next_node:\n",
        "          self._bt(y, x, next_node)\n",
        "          \n",
        "    return self._words\n",
        "\n",
        "    \n",
        "  #recursive Trie Add  \n",
        "  def _addWord(self,node:TrieNode, word:str, orgWord:str) -> None:\n",
        "    if len(word) == 0:\n",
        "      node.word = orgWord\n",
        "      return\n",
        "    \n",
        "    ch = word[0]\n",
        "    next_link = node.links.get(ch)\n",
        "    if next_link is None:      \n",
        "      node.links[ch] = TrieNode()\n",
        "      next_link = node.links[ch]\n",
        "    self._addWord(next_link,word[1:],orgWord)\n",
        "  \n",
        "        \n",
        "  def _filter(self, idx2d):\n",
        "    y , x = idx2d\n",
        "    if y<0 or y==len(self._board): #out of range\n",
        "      return False\n",
        "    elif x<0 or x==len(self._board[0]): #out of range\n",
        "      return False\n",
        "    elif self._board[y][x]=='#': #marked elem\n",
        "      return False\n",
        "    else:\n",
        "      return True\n",
        "\n",
        "    \n",
        "  def _bt(self, y:int, x:int, node:TrieNode):\n",
        "    if node.word is not None:\n",
        "      self._words.append(node.word)\n",
        "      node.word=None\n",
        "      \n",
        "    idx_pairs = [[y-1,x],[y,x+1],[y+1,x],[y,x-1]] #index candidates\n",
        "    idx_pairs = list(filter(self._filter, idx_pairs)) #filtering\n",
        "\n",
        "    crntChar = self._board[y][x]\n",
        "    self._board[y][x] = '#'       #mark\n",
        "    \n",
        "    for idx_pair in idx_pairs:  \n",
        "      next_y,next_x = idx_pair\n",
        "      idx_char = self._board[next_y][next_x]      \n",
        "      next_node = node.links.get(idx_char)    #check from Trie      \n",
        "      if next_node:\n",
        "        ret = self._bt(next_y,next_x,next_node)  #backtracking \n",
        "        if ret:\n",
        "          node.links.pop(idx_char)    #remove trie node\n",
        "\n",
        "    self._board[y][x] = crntChar  #unmark\n",
        "        \n",
        "    if not node.links and node.word is None:   #signal to remove trie node\n",
        "      return True\n",
        "\n",
        "wordSearch = WordSearch()    "
      ],
      "execution_count": 5,
      "outputs": []
    },
    {
      "cell_type": "code",
      "metadata": {
        "colab": {
          "base_uri": "https://localhost:8080/"
        },
        "id": "8VKUkv7BgMR_",
        "outputId": "354e64bb-cc63-491f-c366-a18b5116ee3b"
      },
      "source": [
        "matrix = [['y','a','l','c'],['b','a','l','a'],['d','b','d','a'],['a','b','c','b']]\n",
        "words = [\"baby\", \"ball\", \"tree\", \"trie\"]\n",
        "filterd_words = wordSearch.findWords(matrix,words)\n",
        "print(filterd_words)"
      ],
      "execution_count": 6,
      "outputs": [
        {
          "output_type": "stream",
          "text": [
            "['ball', 'baby']\n"
          ],
          "name": "stdout"
        }
      ]
    },
    {
      "cell_type": "code",
      "metadata": {
        "id": "zCbi9QeMgs_p"
      },
      "source": [
        ""
      ],
      "execution_count": null,
      "outputs": []
    }
  ]
}